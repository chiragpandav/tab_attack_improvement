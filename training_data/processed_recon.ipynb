{
 "cells": [
  {
   "cell_type": "code",
   "execution_count": 1,
   "id": "f2774084-99a0-4a32-80c2-b40c84730925",
   "metadata": {},
   "outputs": [],
   "source": [
    "import torch\n",
    "import numpy as np\n",
    "import pandas as pd\n",
    "from torch.utils.data import TensorDataset, DataLoader\n",
    "from torch.utils.data import Dataset, DataLoader\n",
    "import pickle\n",
    "import sys\n",
    "sys.path.append(\"..\")\n",
    "from utils import to_numeric\n",
    "from datasets.base_dataset import BaseDataset\n"
   ]
  },
  {
   "cell_type": "code",
   "execution_count": null,
   "id": "07113a2d",
   "metadata": {},
   "outputs": [],
   "source": []
  },
  {
   "cell_type": "code",
   "execution_count": 4,
   "id": "720d1905-e1e2-493c-9204-a5f7d790fc25",
   "metadata": {},
   "outputs": [],
   "source": [
    "\n",
    "class ADULT(BaseDataset):\n",
    "\n",
    "    def __init__(self, name='ADULT', single_bit_binary=False, device='cpu', random_state=42,name_state=0):\n",
    "        super(ADULT, self).__init__(name=name, device=device, random_state=random_state)\n",
    "\n",
    "        self.features = {\n",
    "            'age': None,\n",
    "            'workclass': ['Private', 'Self-emp-not-inc', 'Self-emp-inc', 'Federal-gov', 'Local-gov', 'State-gov',\n",
    "                          'Without-pay', 'Never-worked'],\n",
    "            'fnlwgt': None,\n",
    "            'education': ['Bachelors', 'Some-college', '11th', 'HS-grad', 'Prof-school', 'Assoc-acdm', 'Assoc-voc',\n",
    "                          '9th', '7th-8th', '12th', 'Masters',\n",
    "                          '1st-4th', '10th', 'Doctorate', '5th-6th', 'Preschool'],\n",
    "            'education-num': None,\n",
    "            'marital-status': ['Married-civ-spouse', 'Divorced', 'Never-married', 'Separated', 'Widowed',\n",
    "                               'Married-spouse-absent', 'Married-AF-spouse'],\n",
    "            'occupation': ['Tech-support', 'Craft-repair', 'Other-service', 'Sales', 'Exec-managerial',\n",
    "                           'Prof-specialty', 'Handlers-cleaners',\n",
    "                           'Machine-op-inspct', 'Adm-clerical', 'Farming-fishing', 'Transport-moving',\n",
    "                           'Priv-house-serv', 'Protective-serv', 'Armed-Forces'],\n",
    "            'relationship': ['Wife', 'Own-child', 'Husband', 'Not-in-family', 'Other-relative', 'Unmarried'],\n",
    "            'race': ['White', 'Asian-Pac-Islander', 'Amer-Indian-Eskimo', 'Other', 'Black'],\n",
    "            'sex': ['Female', 'Male'],\n",
    "            'capital-gain': None,\n",
    "            'capital-loss': None,\n",
    "            'hours-per-week': None,\n",
    "            'native-country': ['United-States', 'Cambodia', 'England', 'Puerto-Rico', 'Canada', 'Germany',\n",
    "                               'Outlying-US(Guam-USVI-etc)', 'India', 'Japan', 'Greece',\n",
    "                               'South', 'China', 'Cuba', 'Iran', 'Honduras', 'Philippines', 'Italy', 'Poland',\n",
    "                               'Jamaica', 'Vietnam', 'Mexico', 'Portugal', 'Ireland',\n",
    "                               'France', 'Dominican-Republic', 'Laos', 'Ecuador', 'Taiwan', 'Haiti', 'Columbia',\n",
    "                               'Hungary', 'Guatemala', 'Nicaragua', 'Scotland',\n",
    "                               'Thailand', 'Yugoslavia', 'El-Salvador', 'Trinadad&Tobago', 'Peru', 'Hong',\n",
    "                               'Holand-Netherlands'],\n",
    "            'income': ['>50K', '<=50K']\n",
    "        }\n",
    "\n",
    "        self.single_bit_binary = single_bit_binary\n",
    "        self.label = 'income'\n",
    "\n",
    "        self.train_features = {key: self.features[key] for key in self.features.keys() if key != self.label}\n",
    "\n",
    "        print(\"WE take Recon. data for processing\")\n",
    "        train_data_df = pd.read_csv(f'../result_analysis/hello.data', delimiter=',', names=list(self.features.keys()), engine='python')        \n",
    "        test_data_df = pd.read_csv(f'../clients_data/raw_data/client_{name_state}.test', delimiter=',', names=list(self.features.keys()), skiprows=1, engine='python')\n",
    "        print(train_data_df.head())\n",
    "        print(f\"training sample:: {name_state}.data and len is {len(train_data_df)}\")\n",
    "        print(f\"testing sample:: {name_state}.test and len is {len(test_data_df)}\")\n",
    "\n",
    "        # train_data_df = pd.read_csv('datasets/ADULT/adult.data', delimiter=', ', names=list(self.features.keys()), engine='python')\n",
    "        # test_data_df = pd.read_csv('datasets/ADULT/adult.test', delimiter=', ', names=list(self.features.keys()), skiprows=1, engine='python')\n",
    "\n",
    "        train_data = train_data_df.to_numpy()\n",
    "        test_data = test_data_df.to_numpy()\n",
    "\n",
    "        # drop missing values\n",
    "        # note that the category never worked always comes with a missing value for the occupation field, hence this\n",
    "        # step effectively removes the never worked category from the dataset\n",
    "        \n",
    "        train_rows_to_keep = [not ('?' in row) for row in train_data]\n",
    "        test_rows_to_keep = [not ('?' in row) for row in test_data]\n",
    "        train_data = train_data[train_rows_to_keep]\n",
    "        test_data = test_data[test_rows_to_keep]\n",
    "\n",
    "        # remove the annoying dot from the test labels\n",
    "        # for row in test_data:\n",
    "        #     row[-1] = row[-1][:-1]\n",
    "\n",
    "        # convert to numeric features\n",
    "        train_data_num = to_numeric(train_data, self.features, label=self.label, single_bit_binary=self.single_bit_binary)\n",
    "        test_data_num = to_numeric(test_data, self.features, label=self.label, single_bit_binary=self.single_bit_binary)\n",
    "\n",
    "        # split features and labels\n",
    "        Xtrain, Xtest = train_data_num[:, :-1].astype(np.float32), test_data_num[:, :-1].astype(np.float32)\n",
    "        ytrain, ytest = train_data_num[:, -1].astype(np.float32), test_data_num[:, -1].astype(np.float32)\n",
    "        self.num_features = Xtrain.shape[1]\n",
    "\n",
    "        print(np.unique(ytrain))\n",
    "        print(np.unique(ytest))\n",
    "\n",
    "        # transfer to torch\n",
    "        self.Xtrain, self.Xtest = torch.tensor(Xtrain).to(self.device), torch.tensor(Xtest).to(self.device)\n",
    "        self.ytrain, self.ytest = torch.tensor(ytrain, dtype=torch.long).to(self.device), torch.tensor(ytest, dtype=torch.long).to(self.device)\n",
    "\n",
    "        # set to train mode as base\n",
    "        self.train()\n",
    "\n",
    "        # calculate the standardization statistics\n",
    "        self._calculate_mean_std()\n",
    "\n",
    "        # calculate the histograms and feature bounds\n",
    "        self._calculate_categorical_feature_distributions_and_continuous_bounds()\n"
   ]
  },
  {
   "cell_type": "code",
   "execution_count": 5,
   "id": "63e55ca0-d483-432c-ba9f-a4b6377a32bf",
   "metadata": {},
   "outputs": [
    {
     "name": "stdout",
     "output_type": "stream",
     "text": [
      "WE take Recon. data for processing\n",
      "   age         workclass  fnlwgt     education  education-num  \\\n",
      "0   36           Private  172974       HS-grad             10   \n",
      "1   37      Self-emp-inc  189901     Bachelors             10   \n",
      "2   86  Self-emp-not-inc  182707   Prof-school             18   \n",
      "3   71           Private  246104  Some-college             14   \n",
      "4   36           Private  174460       HS-grad             10   \n",
      "\n",
      "       marital-status         occupation   relationship                race  \\\n",
      "0       Never-married  Machine-op-inspct      Own-child               White   \n",
      "1  Married-civ-spouse    Exec-managerial  Not-in-family  Amer-Indian-Eskimo   \n",
      "2  Married-civ-spouse     Prof-specialty           Wife               White   \n",
      "3  Married-civ-spouse    Exec-managerial  Not-in-family               White   \n",
      "4       Never-married      Other-service  Not-in-family               White   \n",
      "\n",
      "    sex  capital-gain  capital-loss  hours-per-week native-country income  \n",
      "0  Male             0            24              39  United-States  <=50K  \n",
      "1  Male           631          2414              74  United-States  <=50K  \n",
      "2  Male          1098            59              40  United-States   >50K  \n",
      "3  Male          1101            66              77  United-States  <=50K  \n",
      "4  Male             0            20              39  United-States  <=50K  \n",
      "training sample:: 0.data and len is 1877\n",
      "testing sample:: 0.test and len is 999\n",
      "[0. 1.]\n",
      "[0. 1.]\n"
     ]
    }
   ],
   "source": [
    "adult_dataset = ADULT(name_state=0) # namestate does not matter\n",
    "adult_dataset.standardize()\n",
    "# dataset = TensorDataset(adult_dataset.Xtrain, adult_dataset.ytrain)\n",
    "# dataloader = DataLoader(dataset, batch_size=32, shuffle=True)  \n",
    "\n",
    "# with open('../clients_data/processed_data/hello.pkl', 'wb') as f:\n",
    "#         pickle.dump(dataloader, f)\n",
    "\n",
    "with open('../clients_data/processed_data/directInputX_hello.pkl', 'wb') as f:\n",
    "        pickle.dump(adult_dataset.Xtrain, f)"
   ]
  },
  {
   "cell_type": "code",
   "execution_count": 16,
   "id": "52db7830",
   "metadata": {},
   "outputs": [
    {
     "data": {
      "text/plain": [
       "torch.Size([16, 105])"
      ]
     },
     "execution_count": 16,
     "metadata": {},
     "output_type": "execute_result"
    }
   ],
   "source": [
    "adult_dataset.Xtrain.shape"
   ]
  },
  {
   "cell_type": "code",
   "execution_count": null,
   "id": "37298acb",
   "metadata": {},
   "outputs": [
    {
     "data": {
      "text/plain": [
       "tensor([[ 2.5490, -1.7301, -0.2983,  5.6312, -0.1832, -0.2593, -0.2077, -0.0314,\n",
       "          0.0000, -0.0073, -0.4578, -0.5471, -0.1714,  1.4764, -0.1380, -0.2102,\n",
       "         -0.2077, -0.1046, -0.1224, -0.1093, -0.2461, -0.0771, -0.1488, -0.1093,\n",
       "         -0.1224, -0.0444, -2.0276, -0.9136, -0.4195,  1.4531, -0.2024, -0.1683,\n",
       "         -0.0771, -0.0314, -0.1971, -0.4113, -0.3267,  2.6549, -0.4064, -0.3948,\n",
       "         -0.1944, -0.2323, -0.3898, -0.1744, -0.2102, -0.0444, -0.1652,  0.0000,\n",
       "         -0.2024, -0.4064, -0.8330,  1.7165, -0.1621, -0.3864,  0.3965, -0.1714,\n",
       "         -0.0945, -0.1182, -0.3041, -0.6937,  0.6937,  0.8126,  3.0399, -1.8255,\n",
       "          0.3041,  0.0000, -0.0444, -0.0833, -0.0314, -0.0629,  0.0000, -0.0771,\n",
       "         -0.0703, -0.0314,  0.0000, -0.0314, -0.0444,  0.0000,  0.0000, -0.0703,\n",
       "         -0.0444, -0.0314,  0.0000, -0.0314, -0.1522, -0.0544, -0.0314, -0.0444,\n",
       "         -0.0444,  0.0000,  0.0000, -0.0314, -0.0314,  0.0000, -0.0314, -0.0544,\n",
       "         -0.0314, -0.0444,  0.0000, -0.0314]])"
      ]
     },
     "execution_count": 15,
     "metadata": {},
     "output_type": "execute_result"
    }
   ],
   "source": [
    "adult_dataset.Xtrain[2:3,:100]"
   ]
  },
  {
   "cell_type": "code",
   "execution_count": null,
   "id": "57f50f91",
   "metadata": {},
   "outputs": [],
   "source": [
    "# tensor([[     2.5150,     -2.2710,     -0.5714,      5.3013,     -0.6019,\n",
    "#              -1.4201,     -0.1139,      1.1448,      0.3965,      0.0021,\n",
    "#               2.0328,     -0.8172,     -0.2513,      2.6770,     -2.1119,\n",
    "#               0.0942,     -1.2541,      0.0855,     -0.2165,      0.0419,\n",
    "#              -0.8917,     -0.4869,      0.1530,     -0.1718,     -0.0201,"
   ]
  },
  {
   "cell_type": "code",
   "execution_count": 1,
   "id": "b4aea7a9",
   "metadata": {},
   "outputs": [],
   "source": [
    "# for i in range(0, 8): \n",
    "#     print(f\"Index {i}:\")\n",
    "#     print(adult_dataset.Xtrain[i, :15]) \n",
    "#     print(\"-\" * 50)  # Separator for readability"
   ]
  },
  {
   "cell_type": "code",
   "execution_count": 30,
   "id": "1030559c-81d6-493c-956f-ec07398f7f51",
   "metadata": {},
   "outputs": [],
   "source": [
    "with open('../clients_data/processed_data/directInputX_hello.pkl', 'rb') as f:\n",
    "    loaded_dataloader = pickle.load(f)"
   ]
  },
  {
   "cell_type": "code",
   "execution_count": 31,
   "id": "9a2063ac",
   "metadata": {},
   "outputs": [
    {
     "data": {
      "text/plain": [
       "tensor([[ 0.5827, -1.7439, -0.2916, -0.1781, -0.1840,  3.8690, -0.2085, -0.0315,\n",
       "          0.0000, -0.8007, -0.4600, -0.5453, -0.1721, -0.6744, -0.1386, -0.2111,\n",
       "         -0.2059, -0.1050, -0.1229, -0.1098,  4.0430, -0.0774, -0.1494, -0.1098,\n",
       "         -0.1229, -0.0446,  0.6941, -0.9166, -0.4165, -0.6884,  4.9795, -0.1690,\n",
       "         -0.0774, -0.0315, -0.1979, -0.4066, -0.3245, -0.3746, -0.4132,  2.5512,\n",
       "         -0.1952, -0.2356, -0.3899, -0.1751, -0.2111, -0.0446, -0.1659,  0.0000,\n",
       "         -0.2033, -0.4066, -0.8368,  1.7300, -0.1627, -0.3865,  0.3983, -0.1721,\n",
       "         -0.0949, -0.1187, -0.3054, -0.6931,  0.6931, -0.1515,  2.7169,  0.4917,\n",
       "          0.3054,  0.0000, -0.0446, -0.0836, -0.0315, -0.0631,  0.0000, -0.0774,\n",
       "         -0.0706, -0.0315,  0.0000, -0.0315, -0.0446,  0.0000,  0.0000, -0.0706,\n",
       "         -0.0446, -0.0315,  0.0000, -0.0315, -0.1528, -0.0546, -0.0315, -0.0446,\n",
       "         -0.0446,  0.0000,  0.0000, -0.0315, -0.0315,  0.0000, -0.0315, -0.0546,\n",
       "         -0.0315, -0.0446,  0.0000, -0.0315, -0.0706,  0.0000, -0.0315,  0.0000,\n",
       "         -0.0315],\n",
       "        [ 0.5827, -1.7439, -0.2916,  5.6083, -0.1840, -0.2582, -0.2085, -0.0315,\n",
       "          0.0000, -1.3067,  2.1718, -0.5453, -0.1721, -0.6744, -0.1386, -0.2111,\n",
       "         -0.2059, -0.1050, -0.1229, -0.1098, -0.2471, -0.0774, -0.1494, -0.1098,\n",
       "         -0.1229, -0.0446,  1.0837,  1.0899, -0.4165, -0.6884, -0.2006, -0.1690,\n",
       "         -0.0774, -0.0315, -0.1979, -0.4066, -0.3245, -0.3746,  2.4175, -0.3916,\n",
       "         -0.1952, -0.2356, -0.3899, -0.1751, -0.2111, -0.0446, -0.1659,  0.0000,\n",
       "         -0.2033, -0.4066,  1.1938, -0.5774, -0.1627, -0.3865,  0.3983, -0.1721,\n",
       "         -0.0949, -0.1187, -0.3054, -0.6931,  0.6931, -0.1511,  0.7019, -1.8098,\n",
       "          0.3054,  0.0000, -0.0446, -0.0836, -0.0315, -0.0631,  0.0000, -0.0774,\n",
       "         -0.0706, -0.0315,  0.0000, -0.0315, -0.0446,  0.0000,  0.0000, -0.0706,\n",
       "         -0.0446, -0.0315,  0.0000, -0.0315, -0.1528, -0.0546, -0.0315, -0.0446,\n",
       "         -0.0446,  0.0000,  0.0000, -0.0315, -0.0315,  0.0000, -0.0315, -0.0546,\n",
       "         -0.0315, -0.0446,  0.0000, -0.0315, -0.0706,  0.0000, -0.0315,  0.0000,\n",
       "         -0.0315],\n",
       "        [ 0.6590, -1.7439,  3.4257, -0.1781, -0.1840, -0.2582, -0.2085, -0.0315,\n",
       "          0.0000, -1.0352, -0.4600, -0.5453, -0.1721, -0.6744,  7.2075, -0.2111,\n",
       "         -0.2059, -0.1050, -0.1229, -0.1098, -0.2471, -0.0774, -0.1494, -0.1098,\n",
       "         -0.1229, -0.0446,  1.8628,  1.0899, -0.4165, -0.6884, -0.2006, -0.1690,\n",
       "         -0.0774, -0.0315, -0.1979, -0.4066, -0.3245, -0.3746, -0.4132,  2.5512,\n",
       "         -0.1952, -0.2356, -0.3899, -0.1751, -0.2111, -0.0446, -0.1659,  0.0000,\n",
       "         -0.2033, -0.4066,  1.1938, -0.5774, -0.1627, -0.3865,  0.3983, -0.1721,\n",
       "         -0.0949, -0.1187, -0.3054, -0.6931,  0.6931, -0.1527,  0.8041, -0.5768,\n",
       "          0.3054,  0.0000, -0.0446, -0.0836, -0.0315, -0.0631,  0.0000, -0.0774,\n",
       "         -0.0706, -0.0315,  0.0000, -0.0315, -0.0446,  0.0000,  0.0000, -0.0706,\n",
       "         -0.0446, -0.0315,  0.0000, -0.0315, -0.1528, -0.0546, -0.0315, -0.0446,\n",
       "         -0.0446,  0.0000,  0.0000, -0.0315, -0.0315,  0.0000, -0.0315, -0.0546,\n",
       "         -0.0315, -0.0446,  0.0000, -0.0315, -0.0706,  0.0000, -0.0315,  0.0000,\n",
       "         -0.0315],\n",
       "        [ 2.3380, -1.7439, -0.2916,  5.6083, -0.1840, -0.2582, -0.2085, -0.0315,\n",
       "          0.0000,  0.3798, -0.4600,  1.8319, -0.1721, -0.6744, -0.1386, -0.2111,\n",
       "         -0.2059, -0.1050, -0.1229, -0.1098, -0.2471, -0.0774, -0.1494, -0.1098,\n",
       "         -0.1229, -0.0446, -0.0851,  1.0899, -0.4165, -0.6884, -0.2006, -0.1690,\n",
       "         -0.0774, -0.0315, -0.1979, -0.4066, -0.3245, -0.3746,  2.4175, -0.3916,\n",
       "         -0.1952, -0.2356, -0.3899, -0.1751, -0.2111, -0.0446, -0.1659,  0.0000,\n",
       "         -0.2033, -0.4066,  1.1938, -0.5774, -0.1627, -0.3865,  0.3983, -0.1721,\n",
       "         -0.0949, -0.1187, -0.3054, -0.6931,  0.6931, -0.1522, -0.1051, -0.7412,\n",
       "          0.3054,  0.0000, -0.0446, -0.0836, -0.0315, -0.0631,  0.0000, -0.0774,\n",
       "         -0.0706, -0.0315,  0.0000, -0.0315, -0.0446,  0.0000,  0.0000, -0.0706,\n",
       "         -0.0446, -0.0315,  0.0000, -0.0315, -0.1528, -0.0546, -0.0315, -0.0446,\n",
       "         -0.0446,  0.0000,  0.0000, -0.0315, -0.0315,  0.0000, -0.0315, -0.0546,\n",
       "         -0.0315, -0.0446,  0.0000, -0.0315, -0.0706,  0.0000, -0.0315,  0.0000,\n",
       "         -0.0315],\n",
       "        [-0.1804,  0.5729, -0.2916, -0.1781, -0.1840, -0.2582, -0.2085, -0.0315,\n",
       "          0.0000,  0.1105, -0.4600, -0.5453, -0.1721,  1.4814, -0.1386, -0.2111,\n",
       "         -0.2059, -0.1050, -0.1229, -0.1098, -0.2471, -0.0774, -0.1494, -0.1098,\n",
       "         -0.1229, -0.0446, -0.4747, -0.9166, -0.4165,  1.4512, -0.2006, -0.1690,\n",
       "         -0.0774, -0.0315, -0.1979, -0.4066, -0.3245, -0.3746, -0.4132, -0.3916,\n",
       "         -0.1952,  4.2405, -0.3899, -0.1751, -0.2111, -0.0446, -0.1659,  0.0000,\n",
       "         -0.2033,  2.4568, -0.8368, -0.5774, -0.1627, -0.3865,  0.3983, -0.1721,\n",
       "         -0.0949, -0.1187, -0.3054, -0.6931,  0.6931, -0.1243, -0.2125,  1.5602,\n",
       "          0.3054,  0.0000, -0.0446, -0.0836, -0.0315, -0.0631,  0.0000, -0.0774,\n",
       "         -0.0706, -0.0315,  0.0000, -0.0315, -0.0446,  0.0000,  0.0000, -0.0706,\n",
       "         -0.0446, -0.0315,  0.0000, -0.0315, -0.1528, -0.0546, -0.0315, -0.0446,\n",
       "         -0.0446,  0.0000,  0.0000, -0.0315, -0.0315,  0.0000, -0.0315, -0.0546,\n",
       "         -0.0315, -0.0446,  0.0000, -0.0315, -0.0706,  0.0000, -0.0315,  0.0000,\n",
       "         -0.0315],\n",
       "        [ 1.0406,  0.5729, -0.2916, -0.1781, -0.1840, -0.2582, -0.2085, -0.0315,\n",
       "          0.0000, -0.4770, -0.4600, -0.5453, -0.1721,  1.4814, -0.1386, -0.2111,\n",
       "         -0.2059, -0.1050, -0.1229, -0.1098, -0.2471, -0.0774, -0.1494, -0.1098,\n",
       "         -0.1229, -0.0446, -0.4747, -0.9166, -0.4165,  1.4512, -0.2006, -0.1690,\n",
       "         -0.0774, -0.0315, -0.1979, -0.4066,  3.0790, -0.3746, -0.4132, -0.3916,\n",
       "         -0.1952, -0.2356, -0.3899, -0.1751, -0.2111, -0.0446, -0.1659,  0.0000,\n",
       "         -0.2033, -0.4066, -0.8368,  1.7300, -0.1627, -0.3865,  0.3983, -0.1721,\n",
       "         -0.0949, -0.1187, -0.3054, -0.6931,  0.6931, -0.1527, -0.2047, -2.2207,\n",
       "          0.3054,  0.0000, -0.0446, -0.0836, -0.0315, -0.0631,  0.0000, -0.0774,\n",
       "         -0.0706, -0.0315,  0.0000, -0.0315, -0.0446,  0.0000,  0.0000, -0.0706,\n",
       "         -0.0446, -0.0315,  0.0000, -0.0315, -0.1528, -0.0546, -0.0315, -0.0446,\n",
       "         -0.0446,  0.0000,  0.0000, -0.0315, -0.0315,  0.0000, -0.0315, -0.0546,\n",
       "         -0.0315, -0.0446,  0.0000, -0.0315, -0.0706,  0.0000, -0.0315,  0.0000,\n",
       "         -0.0315],\n",
       "        [ 1.7274, -1.7439,  3.4257, -0.1781, -0.1840, -0.2582, -0.2085, -0.0315,\n",
       "          0.0000, -0.4106, -0.4600, -0.5453, -0.1721, -0.6744,  7.2075, -0.2111,\n",
       "         -0.2059, -0.1050, -0.1229, -0.1098, -0.2471, -0.0774, -0.1494, -0.1098,\n",
       "         -0.1229, -0.0446,  1.0837,  1.0899, -0.4165, -0.6884, -0.2006, -0.1690,\n",
       "         -0.0774, -0.0315, -0.1979, -0.4066, -0.3245, -0.3746, -0.4132,  2.5512,\n",
       "         -0.1952, -0.2356, -0.3899, -0.1751, -0.2111, -0.0446, -0.1659,  0.0000,\n",
       "         -0.2033, -0.4066,  1.1938, -0.5774, -0.1627, -0.3865,  0.3983, -0.1721,\n",
       "         -0.0949, -0.1187, -0.3054, -0.6931,  0.6931, -0.1511, -0.1916, -1.1522,\n",
       "          0.3054,  0.0000, -0.0446, -0.0836, -0.0315, -0.0631,  0.0000, -0.0774,\n",
       "         -0.0706, -0.0315,  0.0000, -0.0315, -0.0446,  0.0000,  0.0000, -0.0706,\n",
       "         -0.0446, -0.0315,  0.0000, -0.0315, -0.1528, -0.0546, -0.0315, -0.0446,\n",
       "         -0.0446,  0.0000,  0.0000, -0.0315, -0.0315,  0.0000, -0.0315, -0.0546,\n",
       "         -0.0315, -0.0446,  0.0000, -0.0315, -0.0706,  0.0000, -0.0315,  0.0000,\n",
       "         -0.0315],\n",
       "        [ 0.2774,  0.5729, -0.2916, -0.1781, -0.1840, -0.2582, -0.2085, -0.0315,\n",
       "          0.0000,  0.4179, -0.4600, -0.5453, -0.1721,  1.4814, -0.1386, -0.2111,\n",
       "         -0.2059, -0.1050, -0.1229, -0.1098, -0.2471, -0.0774, -0.1494, -0.1098,\n",
       "         -0.1229, -0.0446, -0.4747, -0.9166,  2.3985, -0.6884, -0.2006, -0.1690,\n",
       "         -0.0774, -0.0315, -0.1979, -0.4066, -0.3245, -0.3746,  2.4175, -0.3916,\n",
       "         -0.1952, -0.2356, -0.3899, -0.1751, -0.2111, -0.0446, -0.1659,  0.0000,\n",
       "         -0.2033, -0.4066, -0.8368, -0.5774, -0.1627,  2.5846,  0.3983, -0.1721,\n",
       "         -0.0949, -0.1187, -0.3054,  1.4413, -1.4413, -0.1527, -0.0789,  0.0807,\n",
       "          0.3054,  0.0000, -0.0446, -0.0836, -0.0315, -0.0631,  0.0000, -0.0774,\n",
       "         -0.0706, -0.0315,  0.0000, -0.0315, -0.0446,  0.0000,  0.0000, -0.0706,\n",
       "         -0.0446, -0.0315,  0.0000, -0.0315, -0.1528, -0.0546, -0.0315, -0.0446,\n",
       "         -0.0446,  0.0000,  0.0000, -0.0315, -0.0315,  0.0000, -0.0315, -0.0546,\n",
       "         -0.0315, -0.0446,  0.0000, -0.0315, -0.0706,  0.0000, -0.0315,  0.0000,\n",
       "         -0.0315]], requires_grad=True)"
      ]
     },
     "execution_count": 31,
     "metadata": {},
     "output_type": "execute_result"
    }
   ],
   "source": [
    "loaded_dataloader.requires_grad_(True)"
   ]
  },
  {
   "cell_type": "code",
   "execution_count": 5,
   "id": "3a3c77a4-9461-4797-b08c-6ee61f308175",
   "metadata": {
    "scrolled": true
   },
   "outputs": [],
   "source": [
    "# state_codes = [0,1,2,3,4,5,6,7,8,9]\n",
    "\n",
    "# for state_code in state_codes:\n",
    "#     state_name=state_code\n",
    "#     adult_dataset = ADULT(name_state=state_name)\n",
    "#     adult_dataset.standardize()\n",
    "#     dataset = TensorDataset(adult_dataset.Xtrain, adult_dataset.ytrain)\n",
    "#     dataloader = DataLoader(dataset, batch_size=32, shuffle=True)  \n",
    "\n",
    "#     with open(f'../clients_data/processed_data/{state_name}.pkl', 'wb') as f:\n",
    "#         pickle.dump(dataloader, f)\n",
    "        \n",
    "#     dataset = TensorDataset(adult_dataset.Xtest, adult_dataset.ytest)\n",
    "#     dataloader = DataLoader(dataset, batch_size=32, shuffle=True)  \n",
    "    \n",
    "#     with open(f'../clients_data/processed_data/{state_name}_test.pkl', 'wb') as f:\n",
    "#         pickle.dump(dataloader, f)"
   ]
  },
  {
   "cell_type": "code",
   "execution_count": null,
   "id": "1467f424-97c5-4f8c-9730-9f7e162baf57",
   "metadata": {},
   "outputs": [],
   "source": []
  },
  {
   "cell_type": "code",
   "execution_count": null,
   "id": "b21a0241-35d7-42ff-bf1c-4e6cfc6f2e79",
   "metadata": {},
   "outputs": [],
   "source": []
  },
  {
   "cell_type": "code",
   "execution_count": null,
   "id": "49c9a214-20b3-4473-ac1e-e40a6e5ced53",
   "metadata": {},
   "outputs": [],
   "source": []
  },
  {
   "cell_type": "markdown",
   "id": "76e9c9c0-69bc-4192-ab7c-bc3302c3631e",
   "metadata": {},
   "source": [
    "# 10K traning processed data"
   ]
  },
  {
   "cell_type": "code",
   "execution_count": 9,
   "id": "09e4dca8-7d23-44df-8882-3937530d6ecd",
   "metadata": {},
   "outputs": [],
   "source": [
    "# state_name=\"data_pre_trained_model\"\n",
    "# adult_dataset = ADULT(name_state=state_name)\n",
    "# adult_dataset.standardize()\n",
    "# dataset = TensorDataset(adult_dataset.Xtrain, adult_dataset.ytrain)\n",
    "# dataloader = DataLoader(dataset, batch_size=32, shuffle=True) \n",
    "# with open(f'../clients_data/processed_data/{state_name}.pkl', 'wb') as f:\n",
    "#     pickle.dump(dataloader, f)"
   ]
  },
  {
   "cell_type": "code",
   "execution_count": null,
   "id": "7c51c02c-28f2-4250-878b-c4dd61cb615d",
   "metadata": {},
   "outputs": [],
   "source": []
  },
  {
   "cell_type": "markdown",
   "id": "18ec24fc-5496-4a44-86e7-58b244f1f57c",
   "metadata": {},
   "source": [
    "# testing data"
   ]
  },
  {
   "cell_type": "code",
   "execution_count": 8,
   "id": "5771c4bb-2da8-4eab-9f21-9c4d931a594f",
   "metadata": {},
   "outputs": [],
   "source": [
    "# state_name=\"client_adult\"\n",
    "# adult_dataset = ADULT(name_state=state_name)\n",
    "# adult_dataset.standardize()\n",
    "# dataset = TensorDataset(adult_dataset.Xtrain, adult_dataset.ytrain)\n",
    "# dataloader = DataLoader(dataset, batch_size=32, shuffle=True) \n",
    "# with open(f'../clients_data/processed_data/{state_name}.pkl', 'wb') as f:\n",
    "#     pickle.dump(dataloader, f)"
   ]
  },
  {
   "cell_type": "markdown",
   "id": "c0b519fe-d232-47fe-8975-b69838be225d",
   "metadata": {},
   "source": [
    "# group processed"
   ]
  },
  {
   "cell_type": "code",
   "execution_count": 7,
   "id": "bfaa3848-8e0c-4f07-9c35-7fd31248a35e",
   "metadata": {},
   "outputs": [],
   "source": [
    "# #============================ For testing =============================\n",
    "# state_codes=[\"male\",\"female\",\"white\",\"black\"]\n",
    "\n",
    "# for state_code in state_codes:\n",
    "#     state_name=state_code\n",
    "#     adult_dataset = ADULT(name_state=state_name)\n",
    "#     adult_dataset.standardize()\n",
    "#     dataset = TensorDataset(adult_dataset.Xtrain, adult_dataset.ytrain)\n",
    "#     dataloader = DataLoader(dataset, batch_size=32, shuffle=True)  \n",
    "\n",
    "#     with open(f'../clients_data/client_subG_processed/{state_name}.pkl', 'wb') as f:\n",
    "#         pickle.dump(dataloader, f)\n",
    "        \n",
    "#     dataset = TensorDataset(adult_dataset.Xtest, adult_dataset.ytest)\n",
    "#     dataloader = DataLoader(dataset, batch_size=32, shuffle=True)  \n",
    "    \n",
    "#     with open(f'../clients_data/client_subG_processed/{state_name}_test.pkl', 'wb') as f:\n",
    "#         pickle.dump(dataloader, f)"
   ]
  },
  {
   "cell_type": "markdown",
   "id": "6f39f5f2-507d-40f2-972f-b905d5e2d543",
   "metadata": {},
   "source": [
    "# Subgroup processed "
   ]
  },
  {
   "cell_type": "code",
   "execution_count": null,
   "id": "62cab72a-07d1-4eed-896d-2b49d3a4d3c8",
   "metadata": {},
   "outputs": [],
   "source": []
  },
  {
   "cell_type": "code",
   "execution_count": 6,
   "id": "99bf22a4-b18b-4e00-ad40-a6cb64cd4f4b",
   "metadata": {},
   "outputs": [],
   "source": [
    "# state_codes=[\"WM\",\"WW\",\"BM\",\"BW\"]\n",
    "\n",
    "# for state_code in state_codes:\n",
    "#     state_name=state_code\n",
    "#     adult_dataset = ADULT(name_state=state_name)\n",
    "#     adult_dataset.standardize()\n",
    "#     dataset = TensorDataset(adult_dataset.Xtrain, adult_dataset.ytrain)\n",
    "#     dataloader = DataLoader(dataset, batch_size=32, shuffle=True)  \n",
    "\n",
    "#     with open(f'../clients_data/client_subG_processed/{state_name}.pkl', 'wb') as f:\n",
    "#         pickle.dump(dataloader, f)\n",
    "        \n",
    "#     dataset = TensorDataset(adult_dataset.Xtest, adult_dataset.ytest)\n",
    "#     dataloader = DataLoader(dataset, batch_size=32, shuffle=True)  \n",
    "    \n",
    "#     with open(f'../clients_data/client_subG_processed/{state_name}_test.pkl', 'wb') as f:\n",
    "#         pickle.dump(dataloader, f)"
   ]
  },
  {
   "cell_type": "code",
   "execution_count": null,
   "id": "f6b230d1-255f-4463-be3a-4bf2a5168a7f",
   "metadata": {},
   "outputs": [],
   "source": []
  },
  {
   "cell_type": "code",
   "execution_count": null,
   "id": "a39bc124-d5e3-47ae-838a-750630853dc8",
   "metadata": {},
   "outputs": [],
   "source": []
  },
  {
   "cell_type": "code",
   "execution_count": null,
   "id": "6c77a3d7-7110-484c-9fc9-10726a419497",
   "metadata": {},
   "outputs": [],
   "source": []
  },
  {
   "cell_type": "code",
   "execution_count": null,
   "id": "23ef1f35-af17-45be-b1ea-ff7a81d8d0ab",
   "metadata": {},
   "outputs": [],
   "source": []
  },
  {
   "cell_type": "code",
   "execution_count": null,
   "id": "f5bb957c-e476-4856-9de3-2cd085d68ab6",
   "metadata": {},
   "outputs": [],
   "source": []
  },
  {
   "cell_type": "code",
   "execution_count": null,
   "id": "d0f6a886-f9ce-4f6f-ae09-9ad5c51fb45b",
   "metadata": {},
   "outputs": [],
   "source": []
  },
  {
   "cell_type": "code",
   "execution_count": null,
   "id": "65797847-0f0c-46a5-be6d-ba22290684ec",
   "metadata": {},
   "outputs": [],
   "source": []
  },
  {
   "cell_type": "code",
   "execution_count": null,
   "id": "1914d73e-5be7-4fff-b8d5-c99228e9b692",
   "metadata": {},
   "outputs": [],
   "source": []
  },
  {
   "cell_type": "code",
   "execution_count": null,
   "id": "c703904c-df3b-447d-960a-b0d4d4f99228",
   "metadata": {},
   "outputs": [],
   "source": []
  },
  {
   "cell_type": "code",
   "execution_count": null,
   "id": "30ae8472-7d82-4868-853e-bc76d0d535d8",
   "metadata": {},
   "outputs": [],
   "source": []
  },
  {
   "cell_type": "code",
   "execution_count": null,
   "id": "8f48d6e2-13d5-4df1-bc7c-8f6712be86a3",
   "metadata": {},
   "outputs": [],
   "source": []
  }
 ],
 "metadata": {
  "kernelspec": {
   "display_name": "myenv3.8",
   "language": "python",
   "name": "python3"
  },
  "language_info": {
   "codemirror_mode": {
    "name": "ipython",
    "version": 3
   },
   "file_extension": ".py",
   "mimetype": "text/x-python",
   "name": "python",
   "nbconvert_exporter": "python",
   "pygments_lexer": "ipython3",
   "version": "3.8.10"
  }
 },
 "nbformat": 4,
 "nbformat_minor": 5
}
