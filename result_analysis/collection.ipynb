{
 "cells": [
  {
   "cell_type": "code",
   "execution_count": 8,
   "metadata": {},
   "outputs": [],
   "source": [
    "import os\n",
    "import sys\n",
    "sys.path.append(\"..\")\n",
    "import numpy as np\n",
    "import torch\n",
    "from utils.matching import match_reconstruction_ground_truth\n",
    "import pandas as pd\n",
    "from utils import Timer, post_process_continuous\n",
    "from attacks import train_and_attack_fed_avg\n",
    "from models import FullyConnected\n",
    "import matplotlib.pyplot as plt\n",
    "import argparse\n",
    "import pickle\n",
    "from attacks import calculate_random_baseline\n",
    "from datasets.base_dataset import BaseDataset\n",
    "torch.set_printoptions(sci_mode=False)\n",
    "from scipy.optimize import linear_sum_assignment\n",
    "import pickle\n",
    "\n",
    "# from scipy.optimize import linear_sum_assignment\n",
    "# from .eval_metrics import categorical_accuracy_continuous_tolerance_score\n",
    "# import numpy as np"
   ]
  },
  {
   "cell_type": "code",
   "execution_count": 9,
   "metadata": {},
   "outputs": [
    {
     "data": {
      "text/plain": [
       "'/home/chiragpandav/Downloads/tableak_FT/updated_code/tableak_adult_gen/result_analysis'"
      ]
     },
     "execution_count": 9,
     "metadata": {},
     "output_type": "execute_result"
    }
   ],
   "source": [
    "os.getcwd()"
   ]
  },
  {
   "cell_type": "code",
   "execution_count": 10,
   "metadata": {},
   "outputs": [],
   "source": [
    "from utils import categorical_accuracy_continuous_tolerance_score\n",
    "\n",
    "# from .eval_metrics import categorical_accuracy_continuous_tolerance_score\n"
   ]
  },
  {
   "cell_type": "code",
   "execution_count": null,
   "metadata": {},
   "outputs": [],
   "source": []
  },
  {
   "cell_type": "code",
   "execution_count": 11,
   "metadata": {},
   "outputs": [],
   "source": [
    "\n",
    "\n",
    "def match_reconstruction_ground_truth(target_batch, reconstructed_batch, tolerance_map, return_indices=False,\n",
    "                                      match_based_on='all'):\n",
    "    \"\"\"\n",
    "    For a reconstructed batch of which we do not know the order of datapoints reconstructed, as the loss and hence the\n",
    "    gradient of the loss is permutation invariant with respect to the input batch, this function calculates the optimal\n",
    "    reordering i.e. matching to the ground truth batch to get the minimal reconstruction error. It uses the\n",
    "    reconstruction score 'categorical_accuracy_continuous_tolerance_score'.\n",
    "\n",
    "    :param target_batch: (np.ndarray) The target batch in mixed representation.\n",
    "    :param reconstructed_batch: (np.ndarray) The reconstructed batch in mixed representation.\n",
    "    :param tolerance_map: (list) The tolerance map required to calculate the reconstruction score.\n",
    "    :param return_indices: (bool) Trigger to return the matching index map as well.\n",
    "    :param match_based_on: (str) Select based on which feature type to match. Available are 'all', 'cat', 'cont'.\n",
    "    :return: reordered_reconstructed_batch (np.ndarray), batch_cost_all (np.ndarray), batch_cost_cat (np.ndarray),\n",
    "        batch_cost_cont (np.ndarray): The correctly reordered reconstructed batch, the minimal cost vectors of all\n",
    "        feature costs, only categorical feature costs, only continuous feature costs.\n",
    "    \"\"\"\n",
    "    assert match_based_on in ['all', 'cat', 'cont'], 'Please select a valid matching ground from all, cat, cont'\n",
    "\n",
    "    if len(target_batch.shape) != 2 or len(reconstructed_batch.shape) != 2:\n",
    "        target_batch = np.reshape(target_batch, (-1, len(tolerance_map)))\n",
    "        reconstructed_batch = np.reshape(reconstructed_batch, (-1, len(tolerance_map)))\n",
    "\n",
    "    batch_size = target_batch.shape[0]\n",
    "\n",
    "    # create the cost matrix for matching the reconstruction with the true data to calculate the score\n",
    "    cost_matrix_all, cost_matrix_cat, cost_matrix_cont = [np.zeros((batch_size, batch_size)) for _ in range(3)]\n",
    "    for k, target_data_point in enumerate(target_batch):\n",
    "        for l, recon_data_point in enumerate(reconstructed_batch):\n",
    "            cost_all, cost_cat, cost_cont = categorical_accuracy_continuous_tolerance_score(\n",
    "                target_data_point, recon_data_point, tolerance_map, True)\n",
    "            cost_matrix_all[k, l], cost_matrix_cat[k, l], cost_matrix_cont[k, l] = cost_all, cost_cat, cost_cont\n",
    "\n",
    "    # perform the Hungarian algorithm to match the reconstruction\n",
    "    if match_based_on == 'all':\n",
    "        row_ind, col_ind = linear_sum_assignment(cost_matrix_all)\n",
    "    elif match_based_on == 'cat':\n",
    "        row_ind, col_ind = linear_sum_assignment(cost_matrix_cat)\n",
    "    else:\n",
    "        row_ind, col_ind = linear_sum_assignment(cost_matrix_cont)\n",
    "\n",
    "    # create the \"real\" cost vectors and reorder the reconstructed batch according to the matching\n",
    "    reordered_reconstructed_batch = reconstructed_batch[col_ind]\n",
    "    batch_cost_all, batch_cost_cat, batch_cost_cont = cost_matrix_all[row_ind, col_ind], \\\n",
    "                                                      cost_matrix_cat[row_ind, col_ind], \\\n",
    "                                                      cost_matrix_cont[row_ind, col_ind]\n",
    "\n",
    "    if return_indices:\n",
    "        return reordered_reconstructed_batch, batch_cost_all, batch_cost_cat, batch_cost_cont, row_ind, col_ind\n",
    "    else:\n",
    "        return reordered_reconstructed_batch, batch_cost_all, batch_cost_cat, batch_cost_cont\n"
   ]
  },
  {
   "cell_type": "code",
   "execution_count": 12,
   "metadata": {},
   "outputs": [
    {
     "name": "stdout",
     "output_type": "stream",
     "text": [
      "Defaulting to user installation because normal site-packages is not writeable\n",
      "Requirement already satisfied: numpy==1.23.0 in /home/chiragpandav/.local/lib/python3.8/site-packages (1.23.0)\n",
      "\n",
      "\u001b[1m[\u001b[0m\u001b[34;49mnotice\u001b[0m\u001b[1;39;49m]\u001b[0m\u001b[39;49m A new release of pip is available: \u001b[0m\u001b[31;49m24.0\u001b[0m\u001b[39;49m -> \u001b[0m\u001b[32;49m25.0.1\u001b[0m\n",
      "\u001b[1m[\u001b[0m\u001b[34;49mnotice\u001b[0m\u001b[1;39;49m]\u001b[0m\u001b[39;49m To update, run: \u001b[0m\u001b[32;49mpython3.8 -m pip install --upgrade pip\u001b[0m\n"
     ]
    }
   ],
   "source": [
    "!pip install numpy==1.23.0"
   ]
  },
  {
   "cell_type": "code",
   "execution_count": 13,
   "metadata": {},
   "outputs": [
    {
     "data": {
      "text/plain": [
       "'1.22.4'"
      ]
     },
     "execution_count": 13,
     "metadata": {},
     "output_type": "execute_result"
    }
   ],
   "source": [
    "import numpy as np\n",
    "import pickle\n",
    "np.__version__"
   ]
  },
  {
   "cell_type": "code",
   "execution_count": 14,
   "metadata": {},
   "outputs": [],
   "source": [
    "recn_gt = f'../clients_data/reconstr_and_GT/inversion/normal/reconstructions_ground_truths_0.pkl'\n",
    "dataset = f'../clients_data/reconstr_and_GT/inversion/normal/dataset_0.pkl'\n",
    "tolerance_map = f'../clients_data/reconstr_and_GT/inversion/normal/tolerance_map_0.pkl'\n",
    "\n",
    "with open(tolerance_map, 'rb') as file:\n",
    "    tolerance_map = pickle.load(file)\n",
    "\n",
    "with open(recn_gt, 'rb') as file:\n",
    "    recn_gt = pickle.load(file)\n",
    "\n",
    "with open(dataset, 'rb') as file:\n",
    "    dataset = pickle.load(file)\n",
    "\n",
    "reconstructions = recn_gt['reconstructions']\n",
    "ground_truths = recn_gt['ground_truths']\n",
    "\n",
    "client_recon_projected, client_gt_projected = dataset.decode_batch(reconstructions[0][0], standardized=True), dataset.decode_batch(ground_truths[0][0], standardized=True)\n"
   ]
  },
  {
   "cell_type": "code",
   "execution_count": 15,
   "metadata": {},
   "outputs": [
    {
     "data": {
      "text/plain": [
       "(2000, 14)"
      ]
     },
     "execution_count": 15,
     "metadata": {},
     "output_type": "execute_result"
    }
   ],
   "source": [
    "client_recon_projected.shape"
   ]
  },
  {
   "cell_type": "code",
   "execution_count": 16,
   "metadata": {},
   "outputs": [
    {
     "data": {
      "text/plain": [
       "array([['36.0', 'Private', '179464.0', 'HS-grad', '10.0',\n",
       "        'Never-married', 'Adm-clerical', 'Own-child', 'White', 'Female',\n",
       "        '-95.0', '21.0', '39.0', 'United-States']], dtype='<U32')"
      ]
     },
     "execution_count": 16,
     "metadata": {},
     "output_type": "execute_result"
    }
   ],
   "source": [
    "idx1=10\n",
    "client_gt_projected[:idx1], client_recon_projected[:idx1]\n",
    "a,s,d,f,g,h=match_reconstruction_ground_truth(client_gt_projected[:idx1], client_recon_projected[:idx1], tolerance_map, return_indices=True)\n",
    "a[:1]"
   ]
  },
  {
   "cell_type": "code",
   "execution_count": 17,
   "metadata": {},
   "outputs": [
    {
     "data": {
      "text/plain": [
       "(10, 14)"
      ]
     },
     "execution_count": 17,
     "metadata": {},
     "output_type": "execute_result"
    }
   ],
   "source": [
    "a.shape"
   ]
  },
  {
   "cell_type": "code",
   "execution_count": 18,
   "metadata": {},
   "outputs": [
    {
     "data": {
      "text/html": [
       "<div>\n",
       "<style scoped>\n",
       "    .dataframe tbody tr th:only-of-type {\n",
       "        vertical-align: middle;\n",
       "    }\n",
       "\n",
       "    .dataframe tbody tr th {\n",
       "        vertical-align: top;\n",
       "    }\n",
       "\n",
       "    .dataframe thead th {\n",
       "        text-align: right;\n",
       "    }\n",
       "</style>\n",
       "<table border=\"1\" class=\"dataframe\">\n",
       "  <thead>\n",
       "    <tr style=\"text-align: right;\">\n",
       "      <th></th>\n",
       "      <th>Age</th>\n",
       "      <th>Workclass</th>\n",
       "      <th>Fnlwgt</th>\n",
       "      <th>Education</th>\n",
       "      <th>Education-Num</th>\n",
       "      <th>Marital-Status</th>\n",
       "      <th>Occupation</th>\n",
       "      <th>Relationship</th>\n",
       "      <th>Race</th>\n",
       "      <th>Sex</th>\n",
       "      <th>Capital-Gain</th>\n",
       "      <th>Capital-Loss</th>\n",
       "      <th>Hours-per-week</th>\n",
       "      <th>Native-Country</th>\n",
       "      <th>Income</th>\n",
       "    </tr>\n",
       "  </thead>\n",
       "  <tbody>\n",
       "    <tr>\n",
       "      <th>0</th>\n",
       "      <td>36</td>\n",
       "      <td>Private</td>\n",
       "      <td>181261</td>\n",
       "      <td>HS-grad</td>\n",
       "      <td>10</td>\n",
       "      <td>Divorced</td>\n",
       "      <td>Transport-moving</td>\n",
       "      <td>Not-in-family</td>\n",
       "      <td>White</td>\n",
       "      <td>Male</td>\n",
       "      <td>38</td>\n",
       "      <td>77</td>\n",
       "      <td>39</td>\n",
       "      <td>United-States</td>\n",
       "      <td>&lt;=50K</td>\n",
       "    </tr>\n",
       "    <tr>\n",
       "      <th>1</th>\n",
       "      <td>36</td>\n",
       "      <td>Private</td>\n",
       "      <td>179464</td>\n",
       "      <td>HS-grad</td>\n",
       "      <td>10</td>\n",
       "      <td>Never-married</td>\n",
       "      <td>Adm-clerical</td>\n",
       "      <td>Own-child</td>\n",
       "      <td>White</td>\n",
       "      <td>Female</td>\n",
       "      <td>-95</td>\n",
       "      <td>21</td>\n",
       "      <td>39</td>\n",
       "      <td>United-States</td>\n",
       "      <td>&lt;=50K</td>\n",
       "    </tr>\n",
       "    <tr>\n",
       "      <th>2</th>\n",
       "      <td>38</td>\n",
       "      <td>Private</td>\n",
       "      <td>180127</td>\n",
       "      <td>11th</td>\n",
       "      <td>13</td>\n",
       "      <td>Never-married</td>\n",
       "      <td>Sales</td>\n",
       "      <td>Husband</td>\n",
       "      <td>White</td>\n",
       "      <td>Male</td>\n",
       "      <td>653</td>\n",
       "      <td>463</td>\n",
       "      <td>40</td>\n",
       "      <td>United-States</td>\n",
       "      <td>&gt;50K</td>\n",
       "    </tr>\n",
       "    <tr>\n",
       "      <th>3</th>\n",
       "      <td>36</td>\n",
       "      <td>Private</td>\n",
       "      <td>172257</td>\n",
       "      <td>12th</td>\n",
       "      <td>10</td>\n",
       "      <td>Never-married</td>\n",
       "      <td>Other-service</td>\n",
       "      <td>Own-child</td>\n",
       "      <td>White</td>\n",
       "      <td>Female</td>\n",
       "      <td>19</td>\n",
       "      <td>19</td>\n",
       "      <td>39</td>\n",
       "      <td>United-States</td>\n",
       "      <td>&lt;=50K</td>\n",
       "    </tr>\n",
       "    <tr>\n",
       "      <th>4</th>\n",
       "      <td>50</td>\n",
       "      <td>Private</td>\n",
       "      <td>249298</td>\n",
       "      <td>11th</td>\n",
       "      <td>11</td>\n",
       "      <td>Never-married</td>\n",
       "      <td>Adm-clerical</td>\n",
       "      <td>Own-child</td>\n",
       "      <td>White</td>\n",
       "      <td>Male</td>\n",
       "      <td>6741</td>\n",
       "      <td>755</td>\n",
       "      <td>39</td>\n",
       "      <td>United-States</td>\n",
       "      <td>&lt;=50K</td>\n",
       "    </tr>\n",
       "  </tbody>\n",
       "</table>\n",
       "</div>"
      ],
      "text/plain": [
       "   Age Workclass  Fnlwgt Education  Education-Num Marital-Status  \\\n",
       "0   36   Private  181261   HS-grad             10       Divorced   \n",
       "1   36   Private  179464   HS-grad             10  Never-married   \n",
       "2   38   Private  180127      11th             13  Never-married   \n",
       "3   36   Private  172257      12th             10  Never-married   \n",
       "4   50   Private  249298      11th             11  Never-married   \n",
       "\n",
       "         Occupation   Relationship   Race     Sex  Capital-Gain  Capital-Loss  \\\n",
       "0  Transport-moving  Not-in-family  White    Male            38            77   \n",
       "1      Adm-clerical      Own-child  White  Female           -95            21   \n",
       "2             Sales        Husband  White    Male           653           463   \n",
       "3     Other-service      Own-child  White  Female            19            19   \n",
       "4      Adm-clerical      Own-child  White    Male          6741           755   \n",
       "\n",
       "   Hours-per-week Native-Country Income  \n",
       "0              39  United-States  <=50K  \n",
       "1              39  United-States  <=50K  \n",
       "2              40  United-States   >50K  \n",
       "3              39  United-States  <=50K  \n",
       "4              39  United-States  <=50K  "
      ]
     },
     "execution_count": 18,
     "metadata": {},
     "output_type": "execute_result"
    }
   ],
   "source": [
    "column_names = [\n",
    "            'Age', 'Workclass', 'Fnlwgt', 'Education', 'Education-Num', 'Marital-Status',\n",
    "            'Occupation', 'Relationship', 'Race', 'Sex', 'Capital-Gain', 'Capital-Loss',\n",
    "            'Hours-per-week', 'Native-Country'\n",
    "        ]\n",
    "df = pd.DataFrame(client_recon_projected, columns=column_names)\n",
    "\n",
    "# Convert numerical columns to integers where applicable\n",
    "numeric_cols = ['Age', 'Fnlwgt', 'Education-Num', 'Capital-Gain', 'Capital-Loss', 'Hours-per-week']\n",
    "df[numeric_cols] = df[numeric_cols].astype(float).astype(int)\n",
    "\n",
    "df1=pd.read_csv(f'../clients_data/raw_data/client_0.data', delimiter=',',names=column_names, engine='python')\n",
    "# label_col = df1.iloc[:, -1]\n",
    "\n",
    "num_rows = len(df)\n",
    "# print(df1)\n",
    "# print(df1.iloc[:num_rows].values)\n",
    "\n",
    "df['Income'] = df1.iloc[:num_rows, -1].values\n",
    "df.head()\n",
    "# df.to_csv(\"hello.data\", index=False, header=False)"
   ]
  },
  {
   "cell_type": "code",
   "execution_count": 19,
   "metadata": {},
   "outputs": [
    {
     "data": {
      "text/plain": [
       "2000"
      ]
     },
     "execution_count": 19,
     "metadata": {},
     "output_type": "execute_result"
    }
   ],
   "source": [
    "len(df)"
   ]
  },
  {
   "cell_type": "code",
   "execution_count": null,
   "metadata": {},
   "outputs": [],
   "source": []
  },
  {
   "cell_type": "code",
   "execution_count": 26,
   "metadata": {},
   "outputs": [
    {
     "data": {
      "text/plain": [
       "'1.22.4'"
      ]
     },
     "execution_count": 26,
     "metadata": {},
     "output_type": "execute_result"
    }
   ],
   "source": [
    "np.__version__"
   ]
  },
  {
   "cell_type": "code",
   "execution_count": 20,
   "metadata": {},
   "outputs": [],
   "source": [
    "import numpy as np\n",
    "recn_gt = f'../clients_data/reconstr_and_GT/inversion/normal/reconstructions_ground_truths_0.pkl'\n",
    "dataset = f'../clients_data/reconstr_and_GT/inversion/normal/dataset_0.pkl'\n",
    "tolerance_map = f'../clients_data/reconstr_and_GT/inversion/normal/tolerance_map_0.pkl'\n",
    "\n",
    "with open(tolerance_map, 'rb') as file:\n",
    "    tolerance_map = pickle.load(file)\n",
    "\n",
    "with open(recn_gt, 'rb') as file:\n",
    "    recn_gt = pickle.load(file)\n",
    "\n",
    "with open(dataset, 'rb') as file:\n",
    "    dataset = pickle.load(file)\n",
    "\n",
    "reconstructions = recn_gt['reconstructions']\n",
    "ground_truths = recn_gt['ground_truths']\n",
    "\n",
    "client_recon_projected, client_gt_projected = dataset.decode_batch(reconstructions[0][0], standardized=True), dataset.decode_batch(ground_truths[0][0], standardized=True)\n",
    "\n",
    "\n",
    "local_epochs=[5]\n",
    "local_batch_sizes=[8]\n",
    "epoch_prior_params=[0.01]\n",
    "collected_data = np.zeros((len(local_epochs), len(local_batch_sizes), len(epoch_prior_params), 3, 5))\n",
    "all_errors = []\n",
    "cat_errors = []\n",
    "cont_errors = []\n",
    "idx=2000\n",
    "client_gt_projected=client_gt_projected[:idx]\n",
    "client_recon_projected_all_ctgan = np.load('all_chunks_ctgan.npy', allow_pickle=True)\n",
    "client_recon_projected_all_tvae = np.load('all_chunks_tvae.npy', allow_pickle=True)\n",
    "\n"
   ]
  },
  {
   "cell_type": "code",
   "execution_count": 21,
   "metadata": {},
   "outputs": [],
   "source": [
    "merged_data = np.concatenate([client_recon_projected_all_ctgan, client_recon_projected_all_tvae])\n",
    "\n",
    "np.random.shuffle(merged_data)"
   ]
  },
  {
   "cell_type": "code",
   "execution_count": 22,
   "metadata": {},
   "outputs": [
    {
     "data": {
      "text/plain": [
       "(50, 2000, 14)"
      ]
     },
     "execution_count": 22,
     "metadata": {},
     "output_type": "execute_result"
    }
   ],
   "source": [
    "merged_data.shape"
   ]
  },
  {
   "cell_type": "code",
   "execution_count": 25,
   "metadata": {},
   "outputs": [],
   "source": [
    "# merged_data[0].shape"
   ]
  },
  {
   "cell_type": "code",
   "execution_count": null,
   "metadata": {},
   "outputs": [],
   "source": [
    "# client_recon_projected_all = merged_data\n",
    "client_recon_projected_all=client_recon_projected_all_tvae"
   ]
  },
  {
   "cell_type": "code",
   "execution_count": null,
   "metadata": {},
   "outputs": [
    {
     "name": "stdout",
     "output_type": "stream",
     "text": [
      "Performance at 5 Epochs and 8 Batch Size: 58.1% +- 0.00\n",
      "0\n",
      "Performance at 5 Epochs and 8 Batch Size: 58.2% +- 0.11\n",
      "1\n",
      "Performance at 5 Epochs and 8 Batch Size: 58.2% +- 0.10\n",
      "2\n",
      "Performance at 5 Epochs and 8 Batch Size: 58.2% +- 0.11\n",
      "3\n",
      "Performance at 5 Epochs and 8 Batch Size: 58.3% +- 0.15\n",
      "4\n",
      "Performance at 5 Epochs and 8 Batch Size: 58.3% +- 0.14\n",
      "5\n",
      "Performance at 5 Epochs and 8 Batch Size: 58.3% +- 0.18\n",
      "6\n",
      "Performance at 5 Epochs and 8 Batch Size: 58.3% +- 0.18\n",
      "7\n",
      "Performance at 5 Epochs and 8 Batch Size: 58.3% +- 0.17\n",
      "8\n",
      "Performance at 5 Epochs and 8 Batch Size: 58.3% +- 0.16\n",
      "9\n",
      "Performance at 5 Epochs and 8 Batch Size: 58.4% +- 0.16\n",
      "10\n",
      "Performance at 5 Epochs and 8 Batch Size: 58.3% +- 0.16\n",
      "11\n",
      "Performance at 5 Epochs and 8 Batch Size: 58.4% +- 0.15\n",
      "12\n",
      "Performance at 5 Epochs and 8 Batch Size: 58.3% +- 0.15\n",
      "13\n",
      "Performance at 5 Epochs and 8 Batch Size: 58.3% +- 0.15\n",
      "14\n",
      "Performance at 5 Epochs and 8 Batch Size: 58.3% +- 0.14\n",
      "15\n",
      "Performance at 5 Epochs and 8 Batch Size: 58.4% +- 0.15\n",
      "16\n",
      "Performance at 5 Epochs and 8 Batch Size: 58.3% +- 0.15\n",
      "17\n",
      "Performance at 5 Epochs and 8 Batch Size: 58.3% +- 0.15\n",
      "18\n",
      "Performance at 5 Epochs and 8 Batch Size: 58.3% +- 0.15\n",
      "19\n",
      "Performance at 5 Epochs and 8 Batch Size: 58.3% +- 0.16\n",
      "20\n",
      "Performance at 5 Epochs and 8 Batch Size: 58.3% +- 0.17\n",
      "21\n",
      "Performance at 5 Epochs and 8 Batch Size: 58.3% +- 0.17\n",
      "22\n",
      "Performance at 5 Epochs and 8 Batch Size: 58.3% +- 0.17\n",
      "23\n",
      "Performance at 5 Epochs and 8 Batch Size: 58.3% +- 0.17\n",
      "24\n"
     ]
    }
   ],
   "source": [
    "\n",
    "batch_cost_all_collect=[]\n",
    "batch_cost_cat_collect=[] \n",
    "batch_cost_cont_collect=[]\n",
    "reorder_data = []\n",
    "\n",
    "for i in range(len(client_recon_projected_all)):\n",
    "    \n",
    "    client_recon_projected= client_recon_projected_all[i]\n",
    "    # print(\"client_recon_projected: \",client_recon_projected.shape)\n",
    "    \n",
    "    client_recon_projected=client_recon_projected[:idx]\n",
    "\n",
    "    # _,batch_cost_all, batch_cost_cat, batch_cost_cont= match_reconstruction_ground_truth(client_gt_projected[:idx], client_recon_projected[:idx], tolerance_map, return_indices=True)\n",
    "    a,s,d,f,g,h= match_reconstruction_ground_truth(client_gt_projected[:idx], client_recon_projected[:idx], tolerance_map, return_indices=True)\n",
    "    reorder_data.append(a)\n",
    "    batch_cost_all_collect.append(f)\n",
    "    batch_cost_cat_collect.append(g)\n",
    "    batch_cost_cont_collect.append(h)\n",
    "    # if i ==0:\n",
    "    #     break\n",
    "\n",
    "for m in range(len(client_recon_projected_all)):\n",
    "    for i, lepochs in enumerate(local_epochs):\n",
    "        for j, lbatch_size in enumerate(local_batch_sizes):\n",
    "            for k, epoch_prior_param in enumerate(epoch_prior_params):\n",
    "\n",
    "                all_errors.append(np.mean(batch_cost_all_collect[m]))\n",
    "                cat_errors.append(np.mean(batch_cost_cat_collect[m]))\n",
    "                cont_errors.append(np.mean(batch_cost_cont_collect[m]))                        \n",
    "\n",
    "                # np.mean(all_errors)\n",
    "                collected_data[i, j, k, 0] = np.mean(all_errors), np.std(all_errors), np.median(all_errors), np.min(all_errors), np.max(all_errors)\n",
    "                collected_data[i, j, k, 1] = np.mean(cat_errors), np.std(cat_errors), np.median(cat_errors), np.min(cat_errors), np.max(cat_errors)\n",
    "                collected_data[i, j, k, 2] = np.mean(cont_errors), np.std(cont_errors), np.median(cont_errors), np.min(cont_errors), np.max(cont_errors)\n",
    "\n",
    "\n",
    "    best_param_index = np.argmin(collected_data[i, j, :, 0, 0]).item()\n",
    "    print(f'Performance at {lepochs} Epochs and {lbatch_size} Batch Size: {100*(1-collected_data[i, j, best_param_index, 0, 0]):.1f}% +- {100*collected_data[i, j, best_param_index, 0, 1]:.2f}')\n",
    "\n",
    "    print(m)"
   ]
  },
  {
   "cell_type": "code",
   "execution_count": null,
   "metadata": {},
   "outputs": [],
   "source": [
    "# 57%"
   ]
  },
  {
   "cell_type": "code",
   "execution_count": null,
   "metadata": {},
   "outputs": [
    {
     "data": {
      "text/plain": [
       "array([[36, 'Private', 172974, 'HS-grad', 10, 'Never-married',\n",
       "        'Machine-op-inspct', 'Own-child', 'White', 'Male', 0, 19, 39,\n",
       "        'United-States'],\n",
       "       [91, 'Self-emp-inc', 172974, 'Assoc-acdm', 10,\n",
       "        'Married-civ-spouse', 'Exec-managerial', 'Husband', 'White',\n",
       "        'Male', 0, 24, 88, 'United-States'],\n",
       "       [50, 'Private', 172974, 'Prof-school', 15, 'Married-civ-spouse',\n",
       "        'Prof-specialty', 'Husband', 'White', 'Male', 0, 24, 41,\n",
       "        'United-States']], dtype=object)"
      ]
     },
     "execution_count": 44,
     "metadata": {},
     "output_type": "execute_result"
    }
   ],
   "source": [
    "reorder_data[0][:3]"
   ]
  },
  {
   "cell_type": "code",
   "execution_count": null,
   "metadata": {},
   "outputs": [
    {
     "data": {
      "text/plain": [
       "array([[38, 'Private', 179171, '9th', 10, 'Married-civ-spouse',\n",
       "        'Machine-op-inspct', 'Unmarried', 'White', 'Female', 0, 19, 39,\n",
       "        'United-States'],\n",
       "       [56, 'Local-gov', 186614, 'Assoc-voc', 33, 'Widowed',\n",
       "        'Exec-managerial', 'Other-relative', 'Other', 'Female', 1173,\n",
       "        193, 43, 'Canada'],\n",
       "       [36, 'Private', 174646, 'Prof-school', 10, 'Separated',\n",
       "        'Other-service', 'Own-child', 'White', 'Male', 1103, 551, 55,\n",
       "        'United-States']], dtype=object)"
      ]
     },
     "execution_count": 33,
     "metadata": {},
     "output_type": "execute_result"
    }
   ],
   "source": [
    "client_recon_projected_all[0][:3]"
   ]
  },
  {
   "cell_type": "code",
   "execution_count": null,
   "metadata": {},
   "outputs": [
    {
     "data": {
      "text/plain": [
       "array([[36, 'Private', 172208, ..., 23, 57, 'United-States'],\n",
       "       [37, 'Never-worked', 172326, ..., 37, 39, 'United-States'],\n",
       "       [56, 'State-gov', 173427, ..., 110, 86, 'United-States'],\n",
       "       ...,\n",
       "       [61, 'Private', 339821, ..., 2030, 100, 'Guatemala'],\n",
       "       [37, 'Private', 172795, ..., 31, 39, 'United-States'],\n",
       "       [38, 'Self-emp-inc', 175923, ..., 32, 39, 'United-States']],\n",
       "      dtype=object)"
      ]
     },
     "execution_count": 32,
     "metadata": {},
     "output_type": "execute_result"
    }
   ],
   "source": [
    "num_elements = int(0.57 * 2000)\n",
    "reorder_data[0][:num_elements]"
   ]
  },
  {
   "cell_type": "code",
   "execution_count": null,
   "metadata": {},
   "outputs": [
    {
     "data": {
      "text/plain": [
       "array([[100, 'Private', 176532, ..., 898, 93, 'India'],\n",
       "       [55, 'Private', 172285, ..., 24, 113, 'United-States'],\n",
       "       [45, 'Private', 181062, ..., 936, 108, 'Taiwan'],\n",
       "       ...,\n",
       "       [62, 'Private', 182297, ..., 178, 113, 'Columbia'],\n",
       "       [47, 'Private', 238742, ..., 903, 40,\n",
       "        'Outlying-US(Guam-USVI-etc)'],\n",
       "       [36, 'Private', 172917, ..., 41, 75, 'United-States']],\n",
       "      dtype=object)"
      ]
     },
     "execution_count": 36,
     "metadata": {},
     "output_type": "execute_result"
    }
   ],
   "source": [
    "client_recon_projected_all[1][:num_elements]"
   ]
  },
  {
   "cell_type": "code",
   "execution_count": null,
   "metadata": {},
   "outputs": [
    {
     "data": {
      "text/plain": [
       "array([[82, 'Private', 172554, ..., 903, 61, 'United-States'],\n",
       "       [42, 'Self-emp-inc', 240846, ..., 989, 96, 'China'],\n",
       "       [57, 'Private', 181605, ..., 1078, 69, 'Cuba'],\n",
       "       ...,\n",
       "       [55, 'Private', 187616, ..., 40, 86, 'United-States'],\n",
       "       [39, 'Never-worked', 175566, ..., 1006, 54, 'United-States'],\n",
       "       [37, 'Private', 422393, ..., 1851, 48, 'United-States']],\n",
       "      dtype=object)"
      ]
     },
     "execution_count": 40,
     "metadata": {},
     "output_type": "execute_result"
    }
   ],
   "source": [
    "reorder_data[0][:num_elements]"
   ]
  },
  {
   "cell_type": "code",
   "execution_count": null,
   "metadata": {},
   "outputs": [
    {
     "data": {
      "text/plain": [
       "(840, 14)"
      ]
     },
     "execution_count": 54,
     "metadata": {},
     "output_type": "execute_result"
    }
   ],
   "source": [
    "reorder_data[1][:num_elements].shape   "
   ]
  },
  {
   "cell_type": "code",
   "execution_count": 56,
   "metadata": {},
   "outputs": [
    {
     "data": {
      "text/plain": [
       "(21000, 14)"
      ]
     },
     "execution_count": 56,
     "metadata": {},
     "output_type": "execute_result"
    }
   ],
   "source": [
    "combined_data = np.vstack([reorder_data[i][:num_elements] for i in range(25)])\n",
    "combined_data.shape"
   ]
  },
  {
   "cell_type": "code",
   "execution_count": 58,
   "metadata": {},
   "outputs": [
    {
     "data": {
      "text/plain": [
       "array([[82, 'Private', 172554, ..., 903, 61, 'United-States'],\n",
       "       [42, 'Self-emp-inc', 240846, ..., 989, 96, 'China'],\n",
       "       [57, 'Private', 181605, ..., 1078, 69, 'Cuba'],\n",
       "       ...,\n",
       "       [85, 'Private', 183244, ..., 859, 110, 'Columbia'],\n",
       "       [37, 'Local-gov', 182528, ..., 298, 80, 'Germany'],\n",
       "       [90, 'Private', 179206, ..., 762, 98, 'United-States']],\n",
       "      dtype=object)"
      ]
     },
     "execution_count": 58,
     "metadata": {},
     "output_type": "execute_result"
    }
   ],
   "source": [
    "combined_data"
   ]
  },
  {
   "cell_type": "code",
   "execution_count": 61,
   "metadata": {},
   "outputs": [],
   "source": [
    "chunk_size = 2000\n",
    "# arr = combined_data.iloc[:, :-1].to_numpy()\n",
    "num_chunks = combined_data.shape[0] // chunk_size\n",
    "\n",
    "chunk_list = np.split(combined_data[:num_chunks * chunk_size], num_chunks)\n"
   ]
  },
  {
   "cell_type": "code",
   "execution_count": 63,
   "metadata": {},
   "outputs": [
    {
     "data": {
      "text/plain": [
       "(2000, 14)"
      ]
     },
     "execution_count": 63,
     "metadata": {},
     "output_type": "execute_result"
    }
   ],
   "source": [
    "chunk_list[0].shape"
   ]
  },
  {
   "cell_type": "code",
   "execution_count": 65,
   "metadata": {},
   "outputs": [
    {
     "name": "stdout",
     "output_type": "stream",
     "text": [
      "Performance at 5 Epochs and 8 Batch Size: 41.2% +- 2.52\n",
      "0\n"
     ]
    },
    {
     "ename": "IndexError",
     "evalue": "list index out of range",
     "output_type": "error",
     "traceback": [
      "\u001b[0;31m---------------------------------------------------------------------------\u001b[0m",
      "\u001b[0;31mIndexError\u001b[0m                                Traceback (most recent call last)",
      "Cell \u001b[0;32mIn[65], line 28\u001b[0m\n\u001b[1;32m     25\u001b[0m \u001b[38;5;28;01mfor\u001b[39;00m j, lbatch_size \u001b[38;5;129;01min\u001b[39;00m \u001b[38;5;28menumerate\u001b[39m(local_batch_sizes):\n\u001b[1;32m     26\u001b[0m     \u001b[38;5;28;01mfor\u001b[39;00m k, epoch_prior_param \u001b[38;5;129;01min\u001b[39;00m \u001b[38;5;28menumerate\u001b[39m(epoch_prior_params):\n\u001b[0;32m---> 28\u001b[0m         all_errors\u001b[38;5;241m.\u001b[39mappend(np\u001b[38;5;241m.\u001b[39mmean(\u001b[43mbatch_cost_all_collect\u001b[49m\u001b[43m[\u001b[49m\u001b[43mm\u001b[49m\u001b[43m]\u001b[49m))\n\u001b[1;32m     29\u001b[0m         cat_errors\u001b[38;5;241m.\u001b[39mappend(np\u001b[38;5;241m.\u001b[39mmean(batch_cost_cat_collect[m]))\n\u001b[1;32m     30\u001b[0m         cont_errors\u001b[38;5;241m.\u001b[39mappend(np\u001b[38;5;241m.\u001b[39mmean(batch_cost_cont_collect[m]))                        \n",
      "\u001b[0;31mIndexError\u001b[0m: list index out of range"
     ]
    }
   ],
   "source": [
    "\n",
    "batch_cost_all_collect=[]\n",
    "batch_cost_cat_collect=[] \n",
    "batch_cost_cont_collect=[]\n",
    "reorder_data = []\n",
    "idx=2000\n",
    "for i in range(len(chunk_list)):\n",
    "    \n",
    "    client_recon_projected= chunk_list[i]\n",
    "    # print(\"client_recon_projected: \",client_recon_projected.shape)\n",
    "    \n",
    "    client_recon_projected=client_recon_projected[:idx]\n",
    "\n",
    "    # _,batch_cost_all, batch_cost_cat, batch_cost_cont= match_reconstruction_ground_truth(client_gt_projected[:idx], client_recon_projected[:idx], tolerance_map, return_indices=True)\n",
    "    a,s,d,f,g,h= match_reconstruction_ground_truth(client_gt_projected[:idx], client_recon_projected[:idx], tolerance_map, return_indices=True)\n",
    "    reorder_data.append(a)\n",
    "    batch_cost_all_collect.append(f)\n",
    "    batch_cost_cat_collect.append(g)\n",
    "    batch_cost_cont_collect.append(h)\n",
    "    if i ==0:\n",
    "        break\n",
    "\n",
    "    \n",
    "for m in range(len(client_recon_projected_all)):\n",
    "    for i, lepochs in enumerate(local_epochs):\n",
    "        for j, lbatch_size in enumerate(local_batch_sizes):\n",
    "            for k, epoch_prior_param in enumerate(epoch_prior_params):\n",
    "\n",
    "                all_errors.append(np.mean(batch_cost_all_collect[m]))\n",
    "                cat_errors.append(np.mean(batch_cost_cat_collect[m]))\n",
    "                cont_errors.append(np.mean(batch_cost_cont_collect[m]))                        \n",
    "\n",
    "                # np.mean(all_errors)\n",
    "                collected_data[i, j, k, 0] = np.mean(all_errors), np.std(all_errors), np.median(all_errors), np.min(all_errors), np.max(all_errors)\n",
    "                collected_data[i, j, k, 1] = np.mean(cat_errors), np.std(cat_errors), np.median(cat_errors), np.min(cat_errors), np.max(cat_errors)\n",
    "                collected_data[i, j, k, 2] = np.mean(cont_errors), np.std(cont_errors), np.median(cont_errors), np.min(cont_errors), np.max(cont_errors)\n",
    "\n",
    "\n",
    "    best_param_index = np.argmin(collected_data[i, j, :, 0, 0]).item()\n",
    "    print(f'Performance at {lepochs} Epochs and {lbatch_size} Batch Size: {100*(1-collected_data[i, j, best_param_index, 0, 0]):.1f}% +- {100*collected_data[i, j, best_param_index, 0, 1]:.2f}')\n",
    "\n",
    "    print(m)"
   ]
  },
  {
   "cell_type": "code",
   "execution_count": null,
   "metadata": {},
   "outputs": [],
   "source": []
  },
  {
   "cell_type": "code",
   "execution_count": null,
   "metadata": {},
   "outputs": [],
   "source": []
  },
  {
   "cell_type": "code",
   "execution_count": null,
   "metadata": {},
   "outputs": [],
   "source": []
  },
  {
   "cell_type": "code",
   "execution_count": null,
   "metadata": {},
   "outputs": [],
   "source": []
  },
  {
   "cell_type": "code",
   "execution_count": null,
   "metadata": {},
   "outputs": [],
   "source": []
  },
  {
   "cell_type": "code",
   "execution_count": null,
   "metadata": {},
   "outputs": [],
   "source": []
  },
  {
   "cell_type": "code",
   "execution_count": null,
   "metadata": {},
   "outputs": [],
   "source": []
  },
  {
   "cell_type": "code",
   "execution_count": null,
   "metadata": {},
   "outputs": [],
   "source": []
  },
  {
   "cell_type": "code",
   "execution_count": null,
   "metadata": {},
   "outputs": [],
   "source": []
  }
 ],
 "metadata": {
  "kernelspec": {
   "display_name": "python3.8",
   "language": "python",
   "name": "python3.8"
  },
  "language_info": {
   "codemirror_mode": {
    "name": "ipython",
    "version": 3
   },
   "file_extension": ".py",
   "mimetype": "text/x-python",
   "name": "python",
   "nbconvert_exporter": "python",
   "pygments_lexer": "ipython3",
   "version": "3.8.10"
  }
 },
 "nbformat": 4,
 "nbformat_minor": 2
}
