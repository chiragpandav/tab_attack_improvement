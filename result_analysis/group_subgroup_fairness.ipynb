{
 "cells": [
  {
   "cell_type": "code",
   "execution_count": 1,
   "id": "e298f210-c994-4548-b269-393ad1e5c905",
   "metadata": {},
   "outputs": [],
   "source": [
    "import torch\n",
    "import torch.nn as nn\n",
    "import torch.optim as optim\n",
    "from torch.utils.data import DataLoader\n",
    "import numpy as np\n",
    "import pandas as pd\n",
    "import pickle\n",
    "from fair_loss import FairLoss\n",
    "from torch.nn import functional as F\n",
    "from torch.utils.data import TensorDataset, DataLoader\n",
    "from sklearn.metrics import f1_score, balanced_accuracy_score,recall_score\n",
    "import matplotlib.pyplot as plt\n"
   ]
  },
  {
   "cell_type": "code",
   "execution_count": 2,
   "id": "6b3c16d6-b2bf-4e8d-b222-60d6fbb02df9",
   "metadata": {},
   "outputs": [
    {
     "name": "stdout",
     "output_type": "stream",
     "text": [
      "1.7.1\n"
     ]
    }
   ],
   "source": [
    "import torch\n",
    "print(torch.__version__)\n"
   ]
  },
  {
   "cell_type": "code",
   "execution_count": 3,
   "id": "dc239ee3-c275-4bf9-a02d-9a7247f0b6c3",
   "metadata": {},
   "outputs": [],
   "source": [
    "\n",
    "class LinReLU(nn.Module):\n",
    "    \"\"\"\n",
    "    A linear layer followed by a ReLU activation layer.\n",
    "    \"\"\"\n",
    "\n",
    "    def __init__(self, in_size, out_size):\n",
    "        super(LinReLU, self).__init__()\n",
    "\n",
    "        linear = nn.Linear(in_size, out_size)\n",
    "        ReLU = nn.ReLU()\n",
    "        # self.Dropout = nn.Dropout(0.25)\n",
    "        self.layers = nn.Sequential(linear, ReLU)\n",
    "\n",
    "    def reset_parameters(self):\n",
    "        self.layers[0].reset_parameters()\n",
    "        return self\n",
    "\n",
    "    def forward(self, x):\n",
    "        x = self.layers(x)\n",
    "        return x\n",
    "\n",
    "\n",
    "class FullyConnected(nn.Module):\n",
    "    \"\"\"\n",
    "    A simple fully connected neural network with ReLU activations.\n",
    "    \"\"\"\n",
    "\n",
    "    def __init__(self, input_size, layout):\n",
    "\n",
    "        super(FullyConnected, self).__init__()\n",
    "        layers = [nn.Flatten()]  # does not play any role, but makes the code neater\n",
    "        prev_fc_size = input_size\n",
    "        for i, fc_size in enumerate(layout):\n",
    "            if i + 1 < len(layout):\n",
    "                layers += [LinReLU(prev_fc_size, fc_size)]\n",
    "            else:\n",
    "                layers += [nn.Linear(prev_fc_size, fc_size)]\n",
    "            prev_fc_size = fc_size\n",
    "        self.layers = nn.Sequential(*layers)\n",
    "\n",
    "    def forward(self, x):\n",
    "        x = self.layers(x)\n",
    "        return x\n",
    "\n"
   ]
  },
  {
   "cell_type": "code",
   "execution_count": 4,
   "id": "afa135d1-bece-449d-a31d-04cc6f155751",
   "metadata": {},
   "outputs": [],
   "source": [
    "client_data_dir='../clients_data/client_subG_processed/'\n",
    "\n",
    "\n",
    "layout = [100, 100, 2]\n",
    "batch_size = 32\n",
    "num_epochs = 15\n",
    "input_dim = 105\n",
    "lr = 0.01\n",
    "\n",
    "model = FullyConnected(input_dim, layout)\n",
    "criterion = torch.nn.CrossEntropyLoss()\n",
    "optimizer = optim.Adam(model.parameters(), lr=lr)"
   ]
  },
  {
   "cell_type": "code",
   "execution_count": 5,
   "id": "3460604d-3315-42e4-9251-3bb5bdb9046e",
   "metadata": {},
   "outputs": [],
   "source": [
    "client_models = [0,1,2,3]\n",
    "client_models = [0]\n",
    "group_and_subgroup = {\n",
    "    \"testing_data_group\": [\"male\", \"female\", \"white\", \"black\"],\n",
    "    \"testing_data_subgroup\": [\"WM\", \"WW\", \"BM\", \"BW\"]\n",
    "}\n",
    "\n",
    "final_result_group = {str(model_name): {} for model_name in client_models}\n",
    "final_result_subgroup = {str(model_name): {} for model_name in client_models}"
   ]
  },
  {
   "cell_type": "code",
   "execution_count": 6,
   "id": "3d278094-83bb-42b8-b95c-869420bc24fd",
   "metadata": {},
   "outputs": [],
   "source": [
    "\n",
    "def process_test_data(test_split, model, criterion):\n",
    "    with open(client_data_dir + f'{test_split}.pkl', 'rb') as f:\n",
    "        test_data = pickle.load(f)\n",
    "    \n",
    "    total_length = sum(len(batch[0]) for batch in test_data)\n",
    "    print(f\"Total length of {test_split} test data: {total_length}\")\n",
    "    \n",
    "    all_labels, all_predicted_classes = [], []\n",
    "    model.eval()\n",
    "    with torch.no_grad():\n",
    "        val_running_loss = 0.0\n",
    "        val_correct = 0\n",
    "        val_total = 0\n",
    "        \n",
    "        for inputs, labels in test_data:\n",
    "            outputs = model(inputs)\n",
    "            val_loss = criterion(outputs, labels)\n",
    "            val_running_loss += val_loss.item()\n",
    "            _, predicted_classes = torch.max(outputs, dim=1)\n",
    "            val_correct += (predicted_classes == labels).sum().item()\n",
    "            val_total += labels.size(0)\n",
    "            \n",
    "            all_labels.extend(labels.cpu().numpy())\n",
    "            all_predicted_classes.extend(predicted_classes.cpu().numpy())\n",
    "            \n",
    "        val_epoch_loss = val_running_loss / len(test_data)\n",
    "        val_accuracy = val_correct / val_total\n",
    "        \n",
    "    all_labels = np.array(all_labels)\n",
    "    all_predicted_classes = np.array(all_predicted_classes)\n",
    "    \n",
    "    f1 = f1_score(all_labels, all_predicted_classes, average=\"weighted\")\n",
    "    balanced_acc = balanced_accuracy_score(all_labels, all_predicted_classes)\n",
    "    tpr = recall_score(all_labels, all_predicted_classes, average=\"weighted\")\n",
    "    \n",
    "    return tpr, f1, balanced_acc, val_epoch_loss, val_accuracy\n"
   ]
  },
  {
   "cell_type": "code",
   "execution_count": null,
   "id": "0b5b9b48-bc41-41cc-9ba0-a232b3c6ccde",
   "metadata": {},
   "outputs": [],
   "source": []
  },
  {
   "cell_type": "code",
   "execution_count": null,
   "id": "aac50c59-7ef4-40a8-99b9-39840f080a9a",
   "metadata": {},
   "outputs": [],
   "source": []
  },
  {
   "cell_type": "markdown",
   "id": "ccc97a34-6f62-4767-bde6-498be348d035",
   "metadata": {},
   "source": [
    "# Normal Traning"
   ]
  },
  {
   "cell_type": "code",
   "execution_count": 8,
   "id": "e99eddbf-b12d-409e-8426-a2b072686e2e",
   "metadata": {},
   "outputs": [
    {
     "name": "stdout",
     "output_type": "stream",
     "text": [
      "------------------------ Processing model: 0-------------------------\n",
      "========================== SubGroup ====================================\n",
      "Evaluating subgroup test split: WM\n",
      "Total length of WM test data: 5975\n",
      "Subgroup WM - TPR: 0.6772, F1: 0.5468, Balanced Accuracy: 0.5000, Loss: 0.6328, Accuracy: 0.6772\n",
      "Evaluating subgroup test split: WW\n",
      "Total length of WW test data: 2628\n",
      "Subgroup WW - TPR: 0.8775, F1: 0.8202, Balanced Accuracy: 0.5000, Loss: 0.5510, Accuracy: 0.8775\n",
      "Evaluating subgroup test split: BM\n",
      "Total length of BM test data: 474\n",
      "Subgroup BM - TPR: 0.7954, F1: 0.7047, Balanced Accuracy: 0.5000, Loss: 0.5711, Accuracy: 0.7954\n",
      "Evaluating subgroup test split: BW\n",
      "Total length of BW test data: 461\n",
      "Subgroup BW - TPR: 0.9219, F1: 0.8844, Balanced Accuracy: 0.5000, Loss: 0.5113, Accuracy: 0.9219\n",
      "========================== Group ====================================\n",
      "Evaluating group test split: male\n",
      "Total length of male test data: 6750\n",
      "Group male - TPR: 0.6880, F1: 0.5608, Balanced Accuracy: 0.5000, Loss: 0.6269, Accuracy: 0.6880\n",
      "Evaluating group test split: female\n",
      "Total length of female test data: 3250\n",
      "Group female - TPR: 0.8849, F1: 0.8309, Balanced Accuracy: 0.5000, Loss: 0.5415, Accuracy: 0.8849\n",
      "Evaluating group test split: white\n",
      "Total length of white test data: 8603\n",
      "Group white - TPR: 0.7383, F1: 0.6272, Balanced Accuracy: 0.5000, Loss: 0.6069, Accuracy: 0.7383\n",
      "Evaluating group test split: black\n",
      "Total length of black test data: 935\n",
      "Group black - TPR: 0.8578, F1: 0.7921, Balanced Accuracy: 0.5000, Loss: 0.5428, Accuracy: 0.8578\n",
      "\n",
      "Final Results for Subgroups:\n",
      "{'0': {'WM': 0.6771548117154812, 'WW': 0.8774733637747336, 'BM': 0.7953586497890295, 'BW': 0.9219088937093276}}\n",
      "\n",
      "Final Results for Groups:\n",
      "{'0': {'male': 0.688, 'female': 0.8849230769230769, 'white': 0.7383470882250378, 'black': 0.8577540106951872}}\n"
     ]
    }
   ],
   "source": [
    "\n",
    "for model_name in client_models:\n",
    "    print(f\"------------------------ Processing model: {model_name}-------------------------\")\n",
    "    # Load the trained model for the current client\n",
    "    model.load_state_dict(torch.load(f'../clients_data/clients_trained_model/client{model_name}.pth'))\n",
    "    \n",
    "    print(\"========================== SubGroup ====================================\")\n",
    "    # Process subgroups\n",
    "    for test_split in group_and_subgroup[\"testing_data_subgroup\"]:\n",
    "        print(f\"Evaluating subgroup test split: {test_split}\")\n",
    "        tpr, f1, balanced_acc, val_epoch_loss, val_accuracy = process_test_data(test_split, model, criterion)\n",
    "        final_result_subgroup[str(model_name)][test_split] = tpr\n",
    "        print(f\"Subgroup {test_split} - TPR: {tpr:.4f}, F1: {f1:.4f}, Balanced Accuracy: {balanced_acc:.4f}, Loss: {val_epoch_loss:.4f}, Accuracy: {val_accuracy:.4f}\")\n",
    "    \n",
    "    print(\"========================== Group ====================================\")\n",
    "    # Process groups\n",
    "    for test_split in group_and_subgroup[\"testing_data_group\"]:\n",
    "        print(f\"Evaluating group test split: {test_split}\")\n",
    "        tpr, f1, balanced_acc, val_epoch_loss, val_accuracy = process_test_data(test_split, model, criterion)\n",
    "        final_result_group[str(model_name)][test_split] = tpr\n",
    "        print(f\"Group {test_split} - TPR: {tpr:.4f}, F1: {f1:.4f}, Balanced Accuracy: {balanced_acc:.4f}, Loss: {val_epoch_loss:.4f}, Accuracy: {val_accuracy:.4f}\")\n",
    "\n",
    "# Output the results\n",
    "print(\"\\nFinal Results for Subgroups:\")\n",
    "print(final_result_subgroup)\n",
    "print(\"\\nFinal Results for Groups:\")\n",
    "print(final_result_group)"
   ]
  },
  {
   "cell_type": "code",
   "execution_count": null,
   "id": "ab42c2d0-c684-4052-b763-331622eb29d3",
   "metadata": {},
   "outputs": [],
   "source": []
  },
  {
   "cell_type": "code",
   "execution_count": 9,
   "id": "8489ec2a-5db5-4382-82c6-7f0e7b4f4f17",
   "metadata": {},
   "outputs": [
    {
     "name": "stdout",
     "output_type": "stream",
     "text": [
      "Data has been stored in inversion_adult_group_normal_fairness.pickle\n",
      "Data has been stored in inversion_adult_subgroup_normal_fairness.pickle\n"
     ]
    }
   ],
   "source": [
    "\n",
    "filename_group = \"inversion_adult_group_normal_fairness.pickle\"\n",
    "filename_subgroup = \"inversion_adult_subgroup_normal_fairness.pickle\"\n",
    "\n",
    "with open(filename_group, 'wb') as file:\n",
    "    pickle.dump(final_result_group, file)\n",
    "\n",
    "with open(filename_subgroup, 'wb') as file:\n",
    "    pickle.dump(final_result_subgroup, file)\n",
    "\n",
    "print(f\"Data has been stored in {filename_group}\")\n",
    "print(f\"Data has been stored in {filename_subgroup}\")"
   ]
  },
  {
   "cell_type": "code",
   "execution_count": null,
   "id": "60f0fbea-d1a3-43f5-8e61-f16896a8adb1",
   "metadata": {},
   "outputs": [],
   "source": []
  },
  {
   "cell_type": "code",
   "execution_count": null,
   "id": "e1510504-0044-4002-a77e-61e5bfdea93c",
   "metadata": {},
   "outputs": [],
   "source": []
  },
  {
   "cell_type": "code",
   "execution_count": null,
   "id": "5c5d976a-a804-41f2-b5be-d5637f97bab7",
   "metadata": {},
   "outputs": [],
   "source": []
  },
  {
   "cell_type": "code",
   "execution_count": null,
   "id": "d5b4d0fc-977f-40cc-8bae-10614e13c2fb",
   "metadata": {},
   "outputs": [],
   "source": []
  },
  {
   "cell_type": "code",
   "execution_count": null,
   "id": "6a94e1c3-6005-495f-a5f9-6733ebe5d35c",
   "metadata": {},
   "outputs": [],
   "source": []
  },
  {
   "cell_type": "markdown",
   "id": "a9e7f75b-56c7-4f1c-9e22-411025ff0f1b",
   "metadata": {},
   "source": [
    "# DP training "
   ]
  },
  {
   "cell_type": "code",
   "execution_count": 10,
   "id": "fbd16535-b195-40e9-b1e5-b1d24c1720ee",
   "metadata": {},
   "outputs": [
    {
     "name": "stdout",
     "output_type": "stream",
     "text": [
      "------------------------ Processing model: 0-------------------------\n",
      "========================== SubGroup ====================================\n",
      "Evaluating subgroup test split: WM\n",
      "Total length of WM test data: 5975\n",
      "Subgroup WM - TPR: 0.6688, F1: 0.6189, Balanced Accuracy: 0.5431, Loss: 0.6766, Accuracy: 0.6688\n",
      "Evaluating subgroup test split: WW\n",
      "Total length of WW test data: 2628\n",
      "Subgroup WW - TPR: 0.8067, F1: 0.8032, Balanced Accuracy: 0.5331, Loss: 0.6685, Accuracy: 0.8067\n",
      "Evaluating subgroup test split: BM\n",
      "Total length of BM test data: 474\n",
      "Subgroup BM - TPR: 0.7806, F1: 0.7437, Balanced Accuracy: 0.5558, Loss: 0.6628, Accuracy: 0.7806\n",
      "Evaluating subgroup test split: BW\n",
      "Total length of BW test data: 461\n",
      "Subgroup BW - TPR: 0.8677, F1: 0.8589, Balanced Accuracy: 0.4833, Loss: 0.6544, Accuracy: 0.8677\n",
      "========================== Group ====================================\n",
      "Evaluating group test split: male\n",
      "Total length of male test data: 6750\n",
      "Group male - TPR: 0.6744, F1: 0.6255, Balanced Accuracy: 0.5402, Loss: 0.6752, Accuracy: 0.6744\n",
      "Evaluating group test split: female\n",
      "Total length of female test data: 3250\n",
      "Group female - TPR: 0.8151, F1: 0.8130, Balanced Accuracy: 0.5350, Loss: 0.6651, Accuracy: 0.8151\n",
      "Evaluating group test split: white\n",
      "Total length of white test data: 8603\n",
      "Group white - TPR: 0.7087, F1: 0.6722, Balanced Accuracy: 0.5426, Loss: 0.6737, Accuracy: 0.7087\n",
      "Evaluating group test split: black\n",
      "Total length of black test data: 935\n",
      "Group black - TPR: 0.8128, F1: 0.7895, Balanced Accuracy: 0.5240, Loss: 0.6597, Accuracy: 0.8128\n",
      "\n",
      "Final Results for Subgroups:\n",
      "{'0': {'WM': 0.6687866108786611, 'WW': 0.806697108066971, 'BM': 0.7805907172995781, 'BW': 0.8676789587852495}}\n",
      "\n",
      "Final Results for Groups:\n",
      "{'0': {'male': 0.6743703703703704, 'female': 0.815076923076923, 'white': 0.708706265256306, 'black': 0.8128342245989305}}\n"
     ]
    }
   ],
   "source": [
    "\n",
    "for model_name in client_models:\n",
    "    print(f\"------------------------ Processing model: {model_name}-------------------------\")\n",
    "    model.load_state_dict(torch.load(f'../clients_data/client_DP_trained_model/client{model_name}.pth'))\n",
    "    \n",
    "    print(\"========================== SubGroup ====================================\")\n",
    "    # Process subgroups\n",
    "    for test_split in group_and_subgroup[\"testing_data_subgroup\"]:\n",
    "        print(f\"Evaluating subgroup test split: {test_split}\")\n",
    "        tpr, f1, balanced_acc, val_epoch_loss, val_accuracy = process_test_data(test_split, model, criterion)\n",
    "        final_result_subgroup[str(model_name)][test_split] = tpr\n",
    "        print(f\"Subgroup {test_split} - TPR: {tpr:.4f}, F1: {f1:.4f}, Balanced Accuracy: {balanced_acc:.4f}, Loss: {val_epoch_loss:.4f}, Accuracy: {val_accuracy:.4f}\")\n",
    "    \n",
    "    print(\"========================== Group ====================================\")\n",
    "    # Process groups\n",
    "    for test_split in group_and_subgroup[\"testing_data_group\"]:\n",
    "        print(f\"Evaluating group test split: {test_split}\")\n",
    "        tpr, f1, balanced_acc, val_epoch_loss, val_accuracy = process_test_data(test_split, model, criterion)\n",
    "        final_result_group[str(model_name)][test_split] = tpr\n",
    "        print(f\"Group {test_split} - TPR: {tpr:.4f}, F1: {f1:.4f}, Balanced Accuracy: {balanced_acc:.4f}, Loss: {val_epoch_loss:.4f}, Accuracy: {val_accuracy:.4f}\")\n",
    "\n",
    "# Output the results\n",
    "print(\"\\nFinal Results for Subgroups:\")\n",
    "print(final_result_subgroup)\n",
    "print(\"\\nFinal Results for Groups:\")\n",
    "print(final_result_group)"
   ]
  },
  {
   "cell_type": "code",
   "execution_count": null,
   "id": "ef92de35-7053-4723-b202-8507797d6a80",
   "metadata": {},
   "outputs": [],
   "source": []
  },
  {
   "cell_type": "code",
   "execution_count": null,
   "id": "95f39d28-2669-4757-a2c9-76f7df77f7c7",
   "metadata": {},
   "outputs": [],
   "source": []
  },
  {
   "cell_type": "code",
   "execution_count": 11,
   "id": "a9c6df41-8688-403f-81fe-c23531996ce5",
   "metadata": {},
   "outputs": [
    {
     "name": "stdout",
     "output_type": "stream",
     "text": [
      "Data has been stored in inversion_adult_group_dp_fairness.pickle\n",
      "Data has been stored in inversion_adult_subgroup_dp_fairness.pickle\n"
     ]
    }
   ],
   "source": [
    "\n",
    "filename_group = \"inversion_adult_group_dp_fairness.pickle\"\n",
    "filename_subgroup= \"inversion_adult_subgroup_dp_fairness.pickle\"\n",
    "\n",
    "with open(filename_group, 'wb') as file:\n",
    "    pickle.dump(final_result_group, file)\n",
    "\n",
    "with open(filename_subgroup, 'wb') as file:\n",
    "    pickle.dump(final_result_subgroup, file)\n",
    "\n",
    "print(f\"Data has been stored in {filename_group}\")\n",
    "print(f\"Data has been stored in {filename_subgroup}\")"
   ]
  },
  {
   "cell_type": "code",
   "execution_count": null,
   "id": "60d7d185-6eea-46ea-8b24-3e23b56091be",
   "metadata": {},
   "outputs": [],
   "source": []
  },
  {
   "cell_type": "code",
   "execution_count": null,
   "id": "f105e286-420e-4264-be93-7da4946f4072",
   "metadata": {},
   "outputs": [],
   "source": []
  },
  {
   "cell_type": "code",
   "execution_count": null,
   "id": "6d33c8c5-033d-436c-88da-0409d536580d",
   "metadata": {},
   "outputs": [],
   "source": []
  },
  {
   "cell_type": "code",
   "execution_count": null,
   "id": "4258711b-5a0e-4ccd-be59-ffd80ad465df",
   "metadata": {},
   "outputs": [],
   "source": []
  },
  {
   "cell_type": "markdown",
   "id": "1ea79ce4-b15a-47ba-bb43-3fceea85a8e0",
   "metadata": {},
   "source": [
    "# fair Training"
   ]
  },
  {
   "cell_type": "code",
   "execution_count": null,
   "id": "20c79b7d-9ebe-4a4d-967a-4417f58d1712",
   "metadata": {},
   "outputs": [],
   "source": []
  },
  {
   "cell_type": "code",
   "execution_count": 12,
   "id": "2683d51b-e3cf-4a9e-a4e9-b6f650153337",
   "metadata": {},
   "outputs": [
    {
     "name": "stdout",
     "output_type": "stream",
     "text": [
      "------------------------ Processing model: 0-------------------------\n",
      "========================== SubGroup ====================================\n",
      "Evaluating subgroup test split: WM\n",
      "Total length of WM test data: 5975\n",
      "Subgroup WM - TPR: 0.6782, F1: 0.6470, Balanced Accuracy: 0.5730, Loss: 0.6772, Accuracy: 0.6782\n",
      "Evaluating subgroup test split: WW\n",
      "Total length of WW test data: 2628\n",
      "Subgroup WW - TPR: 0.8143, F1: 0.8115, Balanced Accuracy: 0.5535, Loss: 0.6685, Accuracy: 0.8143\n",
      "Evaluating subgroup test split: BM\n",
      "Total length of BM test data: 474\n",
      "Subgroup BM - TPR: 0.7722, F1: 0.7433, Balanced Accuracy: 0.5620, Loss: 0.6645, Accuracy: 0.7722\n",
      "Evaluating subgroup test split: BW\n",
      "Total length of BW test data: 461\n",
      "Subgroup BW - TPR: 0.8785, F1: 0.8672, Balanced Accuracy: 0.5019, Loss: 0.6542, Accuracy: 0.8785\n",
      "========================== Group ====================================\n",
      "Evaluating group test split: male\n",
      "Total length of male test data: 6750\n",
      "Group male - TPR: 0.6803, F1: 0.6497, Balanced Accuracy: 0.5676, Loss: 0.6760, Accuracy: 0.6803\n",
      "Evaluating group test split: female\n",
      "Total length of female test data: 3250\n",
      "Group female - TPR: 0.8197, F1: 0.8188, Balanced Accuracy: 0.5527, Loss: 0.6653, Accuracy: 0.8197\n",
      "Evaluating group test split: white\n",
      "Total length of white test data: 8603\n",
      "Group white - TPR: 0.7224, F1: 0.7001, Balanced Accuracy: 0.5824, Loss: 0.6742, Accuracy: 0.7224\n",
      "Evaluating group test split: black\n",
      "Total length of black test data: 935\n",
      "Group black - TPR: 0.8257, F1: 0.8068, Balanced Accuracy: 0.5597, Loss: 0.6602, Accuracy: 0.8257\n",
      "\n",
      "Final Results for Subgroups:\n",
      "{'0': {'WM': 0.6781589958158996, 'WW': 0.8143074581430746, 'BM': 0.7721518987341772, 'BW': 0.8785249457700651}}\n",
      "\n",
      "Final Results for Groups:\n",
      "{'0': {'male': 0.6802962962962963, 'female': 0.8196923076923077, 'white': 0.7224224107869348, 'black': 0.825668449197861}}\n"
     ]
    }
   ],
   "source": [
    "\n",
    "for model_name in client_models:\n",
    "    print(f\"------------------------ Processing model: {model_name}-------------------------\")\n",
    "    # Load the trained model for the current client\n",
    "    model.load_state_dict(torch.load(f'../clients_data/clients_fair_trained_model/client{model_name}.pth'))\n",
    "    \n",
    "    print(\"========================== SubGroup ====================================\")\n",
    "    # Process subgroups\n",
    "    for test_split in group_and_subgroup[\"testing_data_subgroup\"]:\n",
    "        print(f\"Evaluating subgroup test split: {test_split}\")\n",
    "        tpr, f1, balanced_acc, val_epoch_loss, val_accuracy = process_test_data(test_split, model, criterion)\n",
    "        final_result_subgroup[str(model_name)][test_split] = tpr\n",
    "        print(f\"Subgroup {test_split} - TPR: {tpr:.4f}, F1: {f1:.4f}, Balanced Accuracy: {balanced_acc:.4f}, Loss: {val_epoch_loss:.4f}, Accuracy: {val_accuracy:.4f}\")\n",
    "    \n",
    "    print(\"========================== Group ====================================\")\n",
    "    # Process groups\n",
    "    for test_split in group_and_subgroup[\"testing_data_group\"]:\n",
    "        print(f\"Evaluating group test split: {test_split}\")\n",
    "        tpr, f1, balanced_acc, val_epoch_loss, val_accuracy = process_test_data(test_split, model, criterion)\n",
    "        final_result_group[str(model_name)][test_split] = tpr\n",
    "        print(f\"Group {test_split} - TPR: {tpr:.4f}, F1: {f1:.4f}, Balanced Accuracy: {balanced_acc:.4f}, Loss: {val_epoch_loss:.4f}, Accuracy: {val_accuracy:.4f}\")\n",
    "\n",
    "# Output the results\n",
    "print(\"\\nFinal Results for Subgroups:\")\n",
    "print(final_result_subgroup)\n",
    "print(\"\\nFinal Results for Groups:\")\n",
    "print(final_result_group)"
   ]
  },
  {
   "cell_type": "code",
   "execution_count": null,
   "id": "f95f76f9-df69-4700-9dd0-191bfe2c4ef4",
   "metadata": {},
   "outputs": [],
   "source": []
  },
  {
   "cell_type": "code",
   "execution_count": null,
   "id": "ceea083a-2367-4c23-bf54-ddb0bacbc917",
   "metadata": {},
   "outputs": [],
   "source": []
  },
  {
   "cell_type": "code",
   "execution_count": 13,
   "id": "2b8fc43c-c403-4828-8253-74330147052d",
   "metadata": {},
   "outputs": [
    {
     "name": "stdout",
     "output_type": "stream",
     "text": [
      "Data has been stored in inversion_adult_group_fair_fairness.pickle\n",
      "Data has been stored in inversion_adult_subgroup_fair_fairness.pickle\n"
     ]
    }
   ],
   "source": [
    "\n",
    "filename_group = \"inversion_adult_group_fair_fairness.pickle\"\n",
    "filename_subgroup = \"inversion_adult_subgroup_fair_fairness.pickle\"\n",
    "\n",
    "with open(filename_group, 'wb') as file:\n",
    "    pickle.dump(final_result_group, file)\n",
    "\n",
    "with open(filename_subgroup, 'wb') as file:\n",
    "    pickle.dump(final_result_subgroup, file)\n",
    "\n",
    "print(f\"Data has been stored in {filename_group}\")\n",
    "print(f\"Data has been stored in {filename_subgroup}\")"
   ]
  },
  {
   "cell_type": "code",
   "execution_count": null,
   "id": "0c65b7d8-54b2-46f5-9160-a4af96f46be5",
   "metadata": {},
   "outputs": [],
   "source": []
  },
  {
   "cell_type": "code",
   "execution_count": null,
   "id": "4eeecec2-8e55-4a02-a073-aa874439abdb",
   "metadata": {},
   "outputs": [],
   "source": []
  },
  {
   "cell_type": "code",
   "execution_count": null,
   "id": "231241c0-d39f-4637-9b1d-b5923be1e9d7",
   "metadata": {},
   "outputs": [],
   "source": []
  },
  {
   "cell_type": "code",
   "execution_count": null,
   "id": "847bee95-3a35-484c-9bcd-9af5f42b1f06",
   "metadata": {},
   "outputs": [],
   "source": []
  },
  {
   "cell_type": "markdown",
   "id": "554a26f7-ae30-4229-82d6-eff8f1ef0430",
   "metadata": {},
   "source": [
    "# FairDP training"
   ]
  },
  {
   "cell_type": "code",
   "execution_count": null,
   "id": "aa582e98-bf94-4871-8883-394b61ad4b2c",
   "metadata": {},
   "outputs": [],
   "source": []
  },
  {
   "cell_type": "code",
   "execution_count": 14,
   "id": "a594aaf4-5d85-4728-a4be-0d778b9c377e",
   "metadata": {},
   "outputs": [
    {
     "name": "stdout",
     "output_type": "stream",
     "text": [
      "------------------------ Processing model: 0-------------------------\n",
      "========================== SubGroup ====================================\n",
      "Evaluating subgroup test split: WM\n",
      "Total length of WM test data: 5975\n",
      "Subgroup WM - TPR: 0.6772, F1: 0.5468, Balanced Accuracy: 0.5000, Loss: 0.6212, Accuracy: 0.6772\n",
      "Evaluating subgroup test split: WW\n",
      "Total length of WW test data: 2628\n",
      "Subgroup WW - TPR: 0.8775, F1: 0.8202, Balanced Accuracy: 0.5000, Loss: 0.5108, Accuracy: 0.8775\n",
      "Evaluating subgroup test split: BM\n",
      "Total length of BM test data: 474\n",
      "Subgroup BM - TPR: 0.7954, F1: 0.7047, Balanced Accuracy: 0.5000, Loss: 0.5394, Accuracy: 0.7954\n",
      "Evaluating subgroup test split: BW\n",
      "Total length of BW test data: 461\n",
      "Subgroup BW - TPR: 0.9219, F1: 0.8844, Balanced Accuracy: 0.5000, Loss: 0.4613, Accuracy: 0.9219\n",
      "========================== Group ====================================\n",
      "Evaluating group test split: male\n",
      "Total length of male test data: 6750\n",
      "Group male - TPR: 0.6880, F1: 0.5608, Balanced Accuracy: 0.5000, Loss: 0.6143, Accuracy: 0.6880\n",
      "Evaluating group test split: female\n",
      "Total length of female test data: 3250\n",
      "Group female - TPR: 0.8849, F1: 0.8309, Balanced Accuracy: 0.5000, Loss: 0.4985, Accuracy: 0.8849\n",
      "Evaluating group test split: white\n",
      "Total length of white test data: 8603\n",
      "Group white - TPR: 0.7383, F1: 0.6272, Balanced Accuracy: 0.5000, Loss: 0.5859, Accuracy: 0.7383\n",
      "Evaluating group test split: black\n",
      "Total length of black test data: 935\n",
      "Group black - TPR: 0.8578, F1: 0.7921, Balanced Accuracy: 0.5000, Loss: 0.5033, Accuracy: 0.8578\n",
      "\n",
      "Final Results for Subgroups:\n",
      "{'0': {'WM': 0.6771548117154812, 'WW': 0.8774733637747336, 'BM': 0.7953586497890295, 'BW': 0.9219088937093276}}\n",
      "\n",
      "Final Results for Groups:\n",
      "{'0': {'male': 0.688, 'female': 0.8849230769230769, 'white': 0.7383470882250378, 'black': 0.8577540106951872}}\n"
     ]
    }
   ],
   "source": [
    "\n",
    "for model_name in client_models:\n",
    "    print(f\"------------------------ Processing model: {model_name}-------------------------\")\n",
    "    \n",
    "    model.load_state_dict(torch.load(f'../clients_data/clients_DP_Fair_trained_model/client{model_name}.pth'))\n",
    "    \n",
    "    print(\"========================== SubGroup ====================================\")\n",
    "    # Process subgroups\n",
    "    for test_split in group_and_subgroup[\"testing_data_subgroup\"]:\n",
    "        print(f\"Evaluating subgroup test split: {test_split}\")\n",
    "        tpr, f1, balanced_acc, val_epoch_loss, val_accuracy = process_test_data(test_split, model, criterion)\n",
    "        final_result_subgroup[str(model_name)][test_split] = tpr\n",
    "        print(f\"Subgroup {test_split} - TPR: {tpr:.4f}, F1: {f1:.4f}, Balanced Accuracy: {balanced_acc:.4f}, Loss: {val_epoch_loss:.4f}, Accuracy: {val_accuracy:.4f}\")\n",
    "    \n",
    "    print(\"========================== Group ====================================\")\n",
    "    # Process groups\n",
    "    for test_split in group_and_subgroup[\"testing_data_group\"]:\n",
    "        print(f\"Evaluating group test split: {test_split}\")\n",
    "        tpr, f1, balanced_acc, val_epoch_loss, val_accuracy = process_test_data(test_split, model, criterion)\n",
    "        final_result_group[str(model_name)][test_split] = tpr\n",
    "        print(f\"Group {test_split} - TPR: {tpr:.4f}, F1: {f1:.4f}, Balanced Accuracy: {balanced_acc:.4f}, Loss: {val_epoch_loss:.4f}, Accuracy: {val_accuracy:.4f}\")\n",
    "\n",
    "# Output the results\n",
    "print(\"\\nFinal Results for Subgroups:\")\n",
    "print(final_result_subgroup)\n",
    "print(\"\\nFinal Results for Groups:\")\n",
    "print(final_result_group)"
   ]
  },
  {
   "cell_type": "code",
   "execution_count": null,
   "id": "d24c70c2-f4da-429d-aba4-a58b6ce2f7f1",
   "metadata": {},
   "outputs": [],
   "source": []
  },
  {
   "cell_type": "code",
   "execution_count": null,
   "id": "93aaa7b6-9fd1-450c-8b0a-3ba30cb6e8ba",
   "metadata": {},
   "outputs": [],
   "source": []
  },
  {
   "cell_type": "code",
   "execution_count": null,
   "id": "07b5a762-9ef2-400c-8f4a-c557ffd6e215",
   "metadata": {},
   "outputs": [],
   "source": []
  },
  {
   "cell_type": "code",
   "execution_count": 15,
   "id": "f9a7a026-0a47-4573-afaa-c0c5bb5907c5",
   "metadata": {},
   "outputs": [
    {
     "name": "stdout",
     "output_type": "stream",
     "text": [
      "Data has been stored in inversion_adult_group_fairDp_fairness.pickle\n",
      "Data has been stored in inversion_adult_subgroup_fairDp_fairness.pickle\n"
     ]
    }
   ],
   "source": [
    "\n",
    "filename_group = \"inversion_adult_group_fairDp_fairness.pickle\"\n",
    "filename_subgroup = \"inversion_adult_subgroup_fairDp_fairness.pickle\"\n",
    "\n",
    "with open(filename_group, 'wb') as file:\n",
    "    pickle.dump(final_result_group, file)\n",
    "\n",
    "with open(filename_subgroup, 'wb') as file:\n",
    "    pickle.dump(final_result_subgroup, file)\n",
    "\n",
    "print(f\"Data has been stored in {filename_group}\")\n",
    "print(f\"Data has been stored in {filename_subgroup}\")"
   ]
  },
  {
   "cell_type": "code",
   "execution_count": null,
   "id": "e02e947f-8980-42fe-aba3-433ee4a25954",
   "metadata": {},
   "outputs": [],
   "source": []
  },
  {
   "cell_type": "code",
   "execution_count": null,
   "id": "65aa103e-a818-49a9-a0d6-93428709befd",
   "metadata": {},
   "outputs": [],
   "source": []
  },
  {
   "cell_type": "code",
   "execution_count": null,
   "id": "f4fb9fbd-be13-4976-8bd5-4154526b7d0d",
   "metadata": {},
   "outputs": [],
   "source": []
  },
  {
   "cell_type": "code",
   "execution_count": null,
   "id": "c55e4f58-3aee-4a14-b970-6602ffd1e062",
   "metadata": {},
   "outputs": [],
   "source": []
  },
  {
   "cell_type": "code",
   "execution_count": null,
   "id": "e0ef657b-cd4c-469c-bd9f-23380d092916",
   "metadata": {},
   "outputs": [],
   "source": []
  },
  {
   "cell_type": "code",
   "execution_count": null,
   "id": "bc4534f2-90cb-41ef-b84a-805913a98491",
   "metadata": {},
   "outputs": [],
   "source": []
  },
  {
   "cell_type": "code",
   "execution_count": null,
   "id": "acd124af-8699-4dfc-b26c-e6c76f1ba3e9",
   "metadata": {},
   "outputs": [],
   "source": []
  },
  {
   "cell_type": "code",
   "execution_count": 16,
   "id": "abaadc34-d6b3-4479-8ca1-5f937f9b8afd",
   "metadata": {},
   "outputs": [
    {
     "name": "stdout",
     "output_type": "stream",
     "text": [
      "group exp is selected\n"
     ]
    }
   ],
   "source": [
    "subgrp_exp = False\n",
    "group_exp = True\n",
    "\n",
    "\n",
    "if subgrp_exp is True:\n",
    "    print(\"Subgrp exp is selected\")\n",
    "    \n",
    "    normal_train = \"inversion_subgroup_normal_fairness.pickle\"\n",
    "    dp_train = \"inversion_subgroup_dp_fairness.pickle\"\n",
    "    fair_train = \"inversion_subgroup_fair_fairness.pickle\"\n",
    "    fairDP_train = \"inversion_subgroup_fairDp_fairness.pickle\"\n",
    "    \n",
    "if group_exp is True :\n",
    "    print(\"group exp is selected\")\n",
    "    \n",
    "    normal_train = \"inversion_adult_group_normal_fairness.pickle\"\n",
    "    dp_train = \"inversion_adult_group_dp_fairness.pickle\"\n",
    "    fair_train = \"inversion_adult_group_fair_fairness.pickle\"\n",
    "    fairDP_train = \"inversion_adult_group_fairDp_fairness.pickle\"\n",
    "\n",
    "\n",
    "\n",
    "with open(normal_train, 'rb') as file:\n",
    "    normal_train_loaded = pickle.load(file)\n",
    "with open(dp_train, 'rb') as file:\n",
    "    dp_train_loaded = pickle.load(file)\n",
    "with open(fair_train, 'rb') as file:\n",
    "    fair_train_loaded = pickle.load(file)\n",
    "with open(fairDP_train, 'rb') as file:\n",
    "    fairDP_train_loaded = pickle.load(file)\n",
    "\n",
    "\n"
   ]
  },
  {
   "cell_type": "code",
   "execution_count": null,
   "id": "a689c61c-64ae-41af-a7c1-603a9981d3b7",
   "metadata": {},
   "outputs": [],
   "source": []
  },
  {
   "cell_type": "code",
   "execution_count": 17,
   "id": "28f9817e-7126-4778-95eb-bc77ac86f916",
   "metadata": {},
   "outputs": [],
   "source": [
    "def subgroup_calculate_state_ratios(data):\n",
    "    state_names = []\n",
    "    ratios_list = []\n",
    "    denominator_list = []\n",
    "    \n",
    "    for state, values in data.items():\n",
    "        # Find maximum value and its key\n",
    "        max_value = max(values, key=values.get)\n",
    "        max_value_amount = values[max_value]\n",
    "        \n",
    "        # Calculate ratios\n",
    "        ratios = {}\n",
    "        for key, value in values.items():\n",
    "            if key != max_value:  # Exclude the max_value itself\n",
    "                ratios[key + '/' + max_value] = value / max_value_amount\n",
    "        \n",
    "        # Append state data\n",
    "        state_names.append(state)\n",
    "        denominator_list.append(max_value)\n",
    "        ratios_list.append(ratios)\n",
    "    \n",
    "    # Create DataFrame with ratios\n",
    "    df_final = pd.DataFrame(ratios_list).fillna(\"\")\n",
    "    \n",
    "    # Add state column\n",
    "    df_final.insert(0, 'State', state_names)\n",
    "    \n",
    "    # Reset index to make sure it's numeric\n",
    "    df_final = df_final.reset_index(drop=True)\n",
    "    \n",
    "    return df_final"
   ]
  },
  {
   "cell_type": "code",
   "execution_count": null,
   "id": "3a7af9bd-65d1-41f6-9429-056921206a31",
   "metadata": {},
   "outputs": [],
   "source": []
  },
  {
   "cell_type": "code",
   "execution_count": 18,
   "id": "9dbd222e-b241-4ecd-b8ba-ffefa0c61456",
   "metadata": {},
   "outputs": [],
   "source": [
    "def compute_ratios(data_dict):\n",
    "    results_fixed = []\n",
    "    for state, values in data_dict.items():\n",
    "        # female_to_male: ensure female is the numerator\n",
    "        female_to_male = values['female'] / values['male'] if values['male'] != 0 else None\n",
    "\n",
    "        # black_to_white: ensure black is the numerator\n",
    "        black_to_white = values['black'] / values['white'] if values['white'] != 0 else None\n",
    "\n",
    "        # Append each state's data as a dictionary\n",
    "        results_fixed.append({\n",
    "            'State': state,\n",
    "            'Female_to_Male': female_to_male,\n",
    "            'Black_to_White': black_to_white\n",
    "        })\n",
    "        \n",
    "    # Convert the list of dictionaries to a DataFrame\n",
    "    return pd.DataFrame(results_fixed)"
   ]
  },
  {
   "cell_type": "code",
   "execution_count": 19,
   "id": "8718f389-caf2-4d2c-b86c-109b94d9119b",
   "metadata": {},
   "outputs": [
    {
     "data": {
      "text/plain": [
       "{'0': {'male': 0.688,\n",
       "  'female': 0.8849230769230769,\n",
       "  'white': 0.7383470882250378,\n",
       "  'black': 0.8577540106951872}}"
      ]
     },
     "execution_count": 19,
     "metadata": {},
     "output_type": "execute_result"
    }
   ],
   "source": [
    "normal_train_loaded"
   ]
  },
  {
   "cell_type": "code",
   "execution_count": 20,
   "id": "2dfecb26-30c3-499d-b26d-b28937ed6c07",
   "metadata": {},
   "outputs": [],
   "source": [
    "normal_train_df=compute_ratios(normal_train_loaded)\n",
    "dp_train_df=compute_ratios(dp_train_loaded)\n",
    "fair_train_df=compute_ratios(fair_train_loaded)\n",
    "fairDP_train_df=compute_ratios(fairDP_train_loaded)"
   ]
  },
  {
   "cell_type": "code",
   "execution_count": 21,
   "id": "de39bcc7-e502-4b8f-8f07-60ac4eaadd8f",
   "metadata": {},
   "outputs": [
    {
     "data": {
      "text/html": [
       "<div>\n",
       "<style scoped>\n",
       "    .dataframe tbody tr th:only-of-type {\n",
       "        vertical-align: middle;\n",
       "    }\n",
       "\n",
       "    .dataframe tbody tr th {\n",
       "        vertical-align: top;\n",
       "    }\n",
       "\n",
       "    .dataframe thead th {\n",
       "        text-align: right;\n",
       "    }\n",
       "</style>\n",
       "<table border=\"1\" class=\"dataframe\">\n",
       "  <thead>\n",
       "    <tr style=\"text-align: right;\">\n",
       "      <th></th>\n",
       "      <th>State</th>\n",
       "      <th>Female_to_Male</th>\n",
       "      <th>Black_to_White</th>\n",
       "    </tr>\n",
       "  </thead>\n",
       "  <tbody>\n",
       "    <tr>\n",
       "      <th>0</th>\n",
       "      <td>0</td>\n",
       "      <td>1.286225</td>\n",
       "      <td>1.161722</td>\n",
       "    </tr>\n",
       "  </tbody>\n",
       "</table>\n",
       "</div>"
      ],
      "text/plain": [
       "  State  Female_to_Male  Black_to_White\n",
       "0     0        1.286225        1.161722"
      ]
     },
     "execution_count": 21,
     "metadata": {},
     "output_type": "execute_result"
    }
   ],
   "source": [
    "normal_train_df"
   ]
  },
  {
   "cell_type": "code",
   "execution_count": 22,
   "id": "ab4a755a-0a8d-4bd4-abb5-d10ef213ccc8",
   "metadata": {},
   "outputs": [
    {
     "data": {
      "image/png": "[encoded data removed]",
      "text/plain": [
       "<Figure size 1000x600 with 1 Axes>"
      ]
     },
     "metadata": {},
     "output_type": "display_data"
    }
   ],
   "source": [
    "plt.figure(figsize=(10, 6))\n",
    "normal_train_df.drop(\"State\", axis=1).boxplot()\n",
    "plt.title(\"Normal Training\")\n",
    "plt.ylabel(\"Fairness Score\")\n",
    "plt.xlabel(\"Groups\")\n",
    "plt.grid(False)\n",
    "plt.show()"
   ]
  },
  {
   "cell_type": "code",
   "execution_count": 23,
   "id": "d4149d84-8d61-44f1-aa96-b14c8ce3f65e",
   "metadata": {},
   "outputs": [
    {
     "data": {
      "image/png": "[encoded data removed]",
      "text/plain": [
       "<Figure size 1000x600 with 1 Axes>"
      ]
     },
     "metadata": {},
     "output_type": "display_data"
    }
   ],
   "source": [
    "plt.figure(figsize=(10, 6))\n",
    "dp_train_df.drop(\"State\", axis=1).boxplot()\n",
    "plt.title(\"DP Training\")\n",
    "plt.ylabel(\"Fairness Score\")\n",
    "plt.xlabel(\"Groups\")\n",
    "plt.grid(False)\n",
    "plt.show()"
   ]
  },
  {
   "cell_type": "code",
   "execution_count": 24,
   "id": "4e34b783-19d3-4f0e-b12b-48ee1a7ba7b2",
   "metadata": {},
   "outputs": [
    {
     "data": {
      "image/png": "[encoded data removed]",
      "text/plain": [
       "<Figure size 1000x600 with 1 Axes>"
      ]
     },
     "metadata": {},
     "output_type": "display_data"
    }
   ],
   "source": [
    "plt.figure(figsize=(10, 6))\n",
    "fair_train_df.drop(\"State\", axis=1).boxplot()\n",
    "plt.title(\"Fair Training\")\n",
    "plt.ylabel(\"Fairness Score\")\n",
    "plt.xlabel(\"Groups\")\n",
    "plt.grid(False)\n",
    "plt.show()"
   ]
  },
  {
   "cell_type": "code",
   "execution_count": 25,
   "id": "5490d611-a9bb-4bef-bbe4-f077bd1a432d",
   "metadata": {},
   "outputs": [
    {
     "data": {
      "image/png": "[encoded data removed]",
      "text/plain": [
       "<Figure size 1000x600 with 1 Axes>"
      ]
     },
     "metadata": {},
     "output_type": "display_data"
    }
   ],
   "source": [
    "plt.figure(figsize=(10, 6))\n",
    "fairDP_train_df.drop(\"State\", axis=1).boxplot()\n",
    "plt.title(\"FairDP Training\")\n",
    "plt.ylabel(\"Fairness Score\")\n",
    "plt.xlabel(\"Groups\")\n",
    "plt.grid(False)\n",
    "plt.show()"
   ]
  },
  {
   "cell_type": "code",
   "execution_count": null,
   "id": "3787766d-a687-4aa7-b80c-3c9a52c62f5f",
   "metadata": {},
   "outputs": [],
   "source": []
  },
  {
   "cell_type": "code",
   "execution_count": null,
   "id": "cc06cb7b-0bf3-45dc-bba4-4537128c132e",
   "metadata": {},
   "outputs": [],
   "source": []
  },
  {
   "cell_type": "code",
   "execution_count": null,
   "id": "00d20cbb-5963-44f5-a0b3-78b954f3af04",
   "metadata": {},
   "outputs": [],
   "source": []
  },
  {
   "cell_type": "code",
   "execution_count": null,
   "id": "adc65191-d091-4404-986a-74e92e5c006d",
   "metadata": {},
   "outputs": [],
   "source": []
  },
  {
   "cell_type": "code",
   "execution_count": null,
   "id": "30b6e16e-88f2-456c-9d15-7c6869775f85",
   "metadata": {},
   "outputs": [],
   "source": []
  }
 ],
 "metadata": {
  "kernelspec": {
   "display_name": "myenv3.8",
   "language": "python",
   "name": "python3"
  },
  "language_info": {
   "codemirror_mode": {
    "name": "ipython",
    "version": 3
   },
   "file_extension": ".py",
   "mimetype": "text/x-python",
   "name": "python",
   "nbconvert_exporter": "python",
   "pygments_lexer": "ipython3",
   "version": "3.8.10"
  }
 },
 "nbformat": 4,
 "nbformat_minor": 5
}
