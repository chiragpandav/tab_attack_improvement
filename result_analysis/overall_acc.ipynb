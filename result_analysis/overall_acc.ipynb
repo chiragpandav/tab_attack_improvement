{
 "cells": [
  {
   "cell_type": "code",
   "execution_count": 1,
   "id": "7a665153-ebbf-40cc-8ff8-c8acbec07319",
   "metadata": {},
   "outputs": [],
   "source": [
    "import torch\n",
    "import torch.nn as nn\n",
    "import torch.optim as optim\n",
    "from torch.utils.data import DataLoader\n",
    "import numpy as np\n",
    "import pandas as pd\n",
    "import pickle\n",
    "from fair_loss import FairLoss\n",
    "from torch.nn import functional as F\n",
    "from torch.utils.data import TensorDataset, DataLoader\n",
    "from sklearn.metrics import f1_score, balanced_accuracy_score,recall_score\n",
    "import matplotlib.pyplot as plt\n"
   ]
  },
  {
   "cell_type": "code",
   "execution_count": 2,
   "id": "203f44c5-17c1-4477-9cd9-f4784219bf4f",
   "metadata": {},
   "outputs": [
    {
     "name": "stdout",
     "output_type": "stream",
     "text": [
      "1.7.1\n"
     ]
    }
   ],
   "source": [
    "import torch\n",
    "print(torch.__version__)\n"
   ]
  },
  {
   "cell_type": "code",
   "execution_count": 3,
   "id": "9a56183a-ecbe-4c97-8863-a9486ec0d5d1",
   "metadata": {},
   "outputs": [],
   "source": [
    "\n",
    "class LinReLU(nn.Module):\n",
    "    \"\"\"\n",
    "    A linear layer followed by a ReLU activation layer.\n",
    "    \"\"\"\n",
    "\n",
    "    def __init__(self, in_size, out_size):\n",
    "        super(LinReLU, self).__init__()\n",
    "\n",
    "        linear = nn.Linear(in_size, out_size)\n",
    "        ReLU = nn.ReLU()\n",
    "        # self.Dropout = nn.Dropout(0.25)\n",
    "        self.layers = nn.Sequential(linear, ReLU)\n",
    "\n",
    "    def reset_parameters(self):\n",
    "        self.layers[0].reset_parameters()\n",
    "        return self\n",
    "\n",
    "    def forward(self, x):\n",
    "        x = self.layers(x)\n",
    "        return x\n",
    "\n",
    "\n",
    "class FullyConnected(nn.Module):\n",
    "    \"\"\"\n",
    "    A simple fully connected neural network with ReLU activations.\n",
    "    \"\"\"\n",
    "\n",
    "    def __init__(self, input_size, layout):\n",
    "\n",
    "        super(FullyConnected, self).__init__()\n",
    "        layers = [nn.Flatten()]  # does not play any role, but makes the code neater\n",
    "        prev_fc_size = input_size\n",
    "        for i, fc_size in enumerate(layout):\n",
    "            if i + 1 < len(layout):\n",
    "                layers += [LinReLU(prev_fc_size, fc_size)]\n",
    "            else:\n",
    "                layers += [nn.Linear(prev_fc_size, fc_size)]\n",
    "            prev_fc_size = fc_size\n",
    "        self.layers = nn.Sequential(*layers)\n",
    "\n",
    "    def forward(self, x):\n",
    "        x = self.layers(x)\n",
    "        return x\n",
    "\n"
   ]
  },
  {
   "cell_type": "code",
   "execution_count": null,
   "id": "32abde35-851e-42e8-a737-bfe873d744ce",
   "metadata": {},
   "outputs": [],
   "source": []
  },
  {
   "cell_type": "code",
   "execution_count": 4,
   "id": "2818b4af-4509-4d83-bf8e-318b2c12dc87",
   "metadata": {},
   "outputs": [],
   "source": [
    "client_data_dir='../clients_data/processed_data/'\n",
    "\n",
    "layout = [100, 100, 2]\n",
    "batch_size = 32\n",
    "num_epochs = 15\n",
    "input_dim = 105\n",
    "lr = 0.01\n",
    "\n",
    "model = FullyConnected(input_dim, layout)\n",
    "criterion = torch.nn.CrossEntropyLoss()\n",
    "optimizer = optim.Adam(model.parameters(), lr=lr)"
   ]
  },
  {
   "cell_type": "code",
   "execution_count": 6,
   "id": "aa799e84-cdd5-41a3-b5a5-b79525d5f3fc",
   "metadata": {},
   "outputs": [],
   "source": [
    "client_models = [0,1,2,3]\n",
    "client_models = [0]"
   ]
  },
  {
   "cell_type": "code",
   "execution_count": 11,
   "id": "2ef00226-bf66-4eba-93c3-55809c0fe300",
   "metadata": {},
   "outputs": [],
   "source": [
    "\n",
    "def process_test_data(test_split, model, criterion):\n",
    "    with open('../clients_data/processed_data/client_adult.pkl', 'rb') as f:\n",
    "        test_data = pickle.load(f)\n",
    "    \n",
    "    total_length = sum(len(batch[0]) for batch in test_data)\n",
    "    print(f\"Total length of {test_split} test data: {total_length}\")\n",
    "    \n",
    "    all_labels, all_predicted_classes = [], []\n",
    "    model.eval()\n",
    "    with torch.no_grad():\n",
    "        val_running_loss = 0.0\n",
    "        val_correct = 0\n",
    "        val_total = 0\n",
    "        \n",
    "        for inputs, labels in test_data:\n",
    "            outputs = model(inputs)\n",
    "            val_loss = criterion(outputs, labels)\n",
    "            val_running_loss += val_loss.item()\n",
    "            _, predicted_classes = torch.max(outputs, dim=1)\n",
    "            val_correct += (predicted_classes == labels).sum().item()\n",
    "            val_total += labels.size(0)\n",
    "            \n",
    "            all_labels.extend(labels.cpu().numpy())\n",
    "            all_predicted_classes.extend(predicted_classes.cpu().numpy())\n",
    "            \n",
    "        val_epoch_loss = val_running_loss / len(test_data)\n",
    "        val_accuracy = val_correct / val_total\n",
    "        \n",
    "    all_labels = np.array(all_labels)\n",
    "    all_predicted_classes = np.array(all_predicted_classes)\n",
    "    \n",
    "    f1 = f1_score(all_labels, all_predicted_classes, average=\"micro\")\n",
    "    balanced_acc = balanced_accuracy_score(all_labels, all_predicted_classes)\n",
    "    tpr = recall_score(all_labels, all_predicted_classes, average=\"micro\")\n",
    "    \n",
    "    return tpr, f1, balanced_acc, val_epoch_loss, val_accuracy"
   ]
  },
  {
   "cell_type": "code",
   "execution_count": null,
   "id": "539348cb-d653-4b30-93b8-84ff29a0dc81",
   "metadata": {},
   "outputs": [],
   "source": []
  },
  {
   "cell_type": "markdown",
   "id": "81e0d3cb-9f5e-4c33-a03b-1c58ce4936a5",
   "metadata": {},
   "source": [
    "# Normal Traning"
   ]
  },
  {
   "cell_type": "code",
   "execution_count": 12,
   "id": "3f4bcaa3-7b2d-4a69-8762-413798e8f4bc",
   "metadata": {},
   "outputs": [
    {
     "name": "stdout",
     "output_type": "stream",
     "text": [
      "------------------------ Processing model: 0-------------------------\n",
      "Total length of client_adult test data: 10000\n",
      "model_name 0 - TPR: 0.7520, F1: 0.7520, Balanced Accuracy: 0.5000, Loss: 0.5982, Accuracy: 0.7520\n"
     ]
    }
   ],
   "source": [
    "acc_normal_models={}\n",
    "for model_name in client_models:\n",
    "    print(f\"------------------------ Processing model: {model_name}-------------------------\")\n",
    "    model.load_state_dict(torch.load(f'../clients_data/clients_trained_model/client{model_name}.pth'))\n",
    "    tpr, f1, balanced_acc, val_epoch_loss, val_accuracy = process_test_data(\"client_adult\", model, criterion)\n",
    "    acc_normal_models[model_name]=val_accuracy\n",
    "    print(f\"model_name {model_name} - TPR: {tpr:.4f}, F1: {f1:.4f}, Balanced Accuracy: {balanced_acc:.4f}, Loss: {val_epoch_loss:.4f}, Accuracy: {val_accuracy:.4f}\")\n",
    "    "
   ]
  },
  {
   "cell_type": "code",
   "execution_count": null,
   "id": "476582c3-6523-439a-bd5a-a8edb89764a0",
   "metadata": {},
   "outputs": [],
   "source": []
  },
  {
   "cell_type": "code",
   "execution_count": 13,
   "id": "e5e22666-803c-47db-a9d2-e6ad07175b74",
   "metadata": {},
   "outputs": [
    {
     "data": {
      "text/plain": [
       "{0: 0.752}"
      ]
     },
     "execution_count": 13,
     "metadata": {},
     "output_type": "execute_result"
    }
   ],
   "source": [
    "acc_normal_models"
   ]
  },
  {
   "cell_type": "code",
   "execution_count": null,
   "id": "7f43421b-963e-45c0-861a-e63fcc05cc22",
   "metadata": {},
   "outputs": [],
   "source": []
  },
  {
   "cell_type": "code",
   "execution_count": null,
   "id": "497fc416-2223-420b-b8a5-9b2f7c9ec536",
   "metadata": {},
   "outputs": [],
   "source": []
  },
  {
   "cell_type": "markdown",
   "id": "ac8c1b27-8457-438c-b234-9075c158eaf8",
   "metadata": {},
   "source": [
    "# Dp training"
   ]
  },
  {
   "cell_type": "code",
   "execution_count": 14,
   "id": "b697c092-eca5-4f28-978f-26e328c04a38",
   "metadata": {},
   "outputs": [
    {
     "name": "stdout",
     "output_type": "stream",
     "text": [
      "------------------------ Processing model: 0-------------------------\n",
      "Total length of client_adult test data: 10000\n",
      "model_name 0 - TPR: 0.7184, F1: 0.7184, Balanced Accuracy: 0.5421, Loss: 0.6715, Accuracy: 0.7184\n"
     ]
    }
   ],
   "source": [
    "acc_dp_models={}\n",
    "for model_name in client_models:\n",
    "    print(f\"------------------------ Processing model: {model_name}-------------------------\")\n",
    "    model.load_state_dict(torch.load(f'../clients_data/client_DP_trained_model/client{model_name}.pth'))\n",
    "    tpr, f1, balanced_acc, val_epoch_loss, val_accuracy = process_test_data(\"client_adult\", model, criterion)\n",
    "    acc_dp_models[model_name]=val_accuracy\n",
    "    print(f\"model_name {model_name} - TPR: {tpr:.4f}, F1: {f1:.4f}, Balanced Accuracy: {balanced_acc:.4f}, Loss: {val_epoch_loss:.4f}, Accuracy: {val_accuracy:.4f}\")\n",
    "    "
   ]
  },
  {
   "cell_type": "code",
   "execution_count": null,
   "id": "1368ef03-87c5-455b-b845-c59869ffa838",
   "metadata": {},
   "outputs": [],
   "source": []
  },
  {
   "cell_type": "code",
   "execution_count": 15,
   "id": "4cbeae39-c195-4403-a41d-c2ff29c7dad3",
   "metadata": {},
   "outputs": [
    {
     "data": {
      "text/plain": [
       "{0: 0.7184}"
      ]
     },
     "execution_count": 15,
     "metadata": {},
     "output_type": "execute_result"
    }
   ],
   "source": [
    "acc_dp_models"
   ]
  },
  {
   "cell_type": "code",
   "execution_count": null,
   "id": "4bed340d-45bd-42e2-a436-e87661f634f0",
   "metadata": {},
   "outputs": [],
   "source": []
  },
  {
   "cell_type": "code",
   "execution_count": null,
   "id": "24d84a68-b55c-4013-bf15-e40b6853e071",
   "metadata": {},
   "outputs": [],
   "source": []
  },
  {
   "cell_type": "markdown",
   "id": "c4992e01-ce0f-40e8-9327-6130f4d2f73e",
   "metadata": {},
   "source": [
    "# fair training"
   ]
  },
  {
   "cell_type": "code",
   "execution_count": 16,
   "id": "8f5f9e29-bec7-41b9-9b3f-c748c0a9d0cd",
   "metadata": {},
   "outputs": [
    {
     "name": "stdout",
     "output_type": "stream",
     "text": [
      "------------------------ Processing model: 0-------------------------\n",
      "Total length of client_adult test data: 10000\n",
      "model_name 0 - TPR: 0.7288, F1: 0.7288, Balanced Accuracy: 0.5794, Loss: 0.6722, Accuracy: 0.7288\n"
     ]
    }
   ],
   "source": [
    "acc_fair_models={}\n",
    "for model_name in client_models:\n",
    "    print(f\"------------------------ Processing model: {model_name}-------------------------\")\n",
    "    model.load_state_dict(torch.load(f'../clients_data/clients_fair_trained_model/client{model_name}.pth'))\n",
    "    tpr, f1, balanced_acc, val_epoch_loss, val_accuracy = process_test_data(\"client_adult\", model, criterion)\n",
    "    acc_fair_models[model_name]=val_accuracy\n",
    "    print(f\"model_name {model_name} - TPR: {tpr:.4f}, F1: {f1:.4f}, Balanced Accuracy: {balanced_acc:.4f}, Loss: {val_epoch_loss:.4f}, Accuracy: {val_accuracy:.4f}\")\n",
    "    "
   ]
  },
  {
   "cell_type": "code",
   "execution_count": null,
   "id": "931bab49-9ddf-4b1f-8113-3b9966f99c0a",
   "metadata": {},
   "outputs": [],
   "source": []
  },
  {
   "cell_type": "code",
   "execution_count": 17,
   "id": "25d2e1be-dd9c-448f-907f-9d1219a384f7",
   "metadata": {},
   "outputs": [
    {
     "data": {
      "text/plain": [
       "{0: 0.7288}"
      ]
     },
     "execution_count": 17,
     "metadata": {},
     "output_type": "execute_result"
    }
   ],
   "source": [
    "acc_fair_models"
   ]
  },
  {
   "cell_type": "code",
   "execution_count": null,
   "id": "2e30fc3a-b0a9-45d3-9617-ec3b5b076d46",
   "metadata": {},
   "outputs": [],
   "source": []
  },
  {
   "cell_type": "code",
   "execution_count": null,
   "id": "80f2bd75-c37c-4c1b-8b22-7ddc16fee96a",
   "metadata": {},
   "outputs": [],
   "source": []
  },
  {
   "cell_type": "code",
   "execution_count": null,
   "id": "b6b21ead-ec99-4939-8ef5-ea668707792a",
   "metadata": {},
   "outputs": [],
   "source": []
  },
  {
   "cell_type": "markdown",
   "id": "8a926c1b-18bf-4a1d-a668-f981722d391e",
   "metadata": {},
   "source": [
    "# fairDp Training"
   ]
  },
  {
   "cell_type": "code",
   "execution_count": 18,
   "id": "d7b8e6e4-b3bd-4784-8a1e-607aea741dc0",
   "metadata": {},
   "outputs": [
    {
     "name": "stdout",
     "output_type": "stream",
     "text": [
      "------------------------ Processing model: 0-------------------------\n",
      "Total length of client_adult test data: 10000\n",
      "model_name 0 - TPR: 0.7520, F1: 0.7520, Balanced Accuracy: 0.5000, Loss: 0.5755, Accuracy: 0.7520\n"
     ]
    }
   ],
   "source": [
    "acc_fairDP_models={}\n",
    "for model_name in client_models:\n",
    "    print(f\"------------------------ Processing model: {model_name}-------------------------\")\n",
    "    model.load_state_dict(torch.load(f'../clients_data/clients_DP_Fair_trained_model/client{model_name}.pth'))\n",
    "    tpr, f1, balanced_acc, val_epoch_loss, val_accuracy = process_test_data(\"client_adult\", model, criterion)\n",
    "    acc_fairDP_models[model_name]=val_accuracy\n",
    "    print(f\"model_name {model_name} - TPR: {tpr:.4f}, F1: {f1:.4f}, Balanced Accuracy: {balanced_acc:.4f}, Loss: {val_epoch_loss:.4f}, Accuracy: {val_accuracy:.4f}\")\n",
    "    "
   ]
  },
  {
   "cell_type": "code",
   "execution_count": null,
   "id": "bd2add06-3df4-4350-bed8-20e04ded5305",
   "metadata": {},
   "outputs": [],
   "source": []
  },
  {
   "cell_type": "code",
   "execution_count": 19,
   "id": "1604b8e6-0f92-46e8-9a27-207ea8d81f5e",
   "metadata": {},
   "outputs": [
    {
     "data": {
      "text/plain": [
       "{0: 0.752}"
      ]
     },
     "execution_count": 19,
     "metadata": {},
     "output_type": "execute_result"
    }
   ],
   "source": [
    "acc_fairDP_models"
   ]
  },
  {
   "cell_type": "code",
   "execution_count": null,
   "id": "dde1afd4-605f-4d78-8600-dac27ce67b21",
   "metadata": {},
   "outputs": [],
   "source": []
  },
  {
   "cell_type": "code",
   "execution_count": null,
   "id": "d7abc404-2636-4575-a663-a9ed7138e278",
   "metadata": {},
   "outputs": [],
   "source": []
  },
  {
   "cell_type": "code",
   "execution_count": null,
   "id": "8170d55d-6cc6-43d2-b557-c8238928a2f6",
   "metadata": {},
   "outputs": [],
   "source": []
  },
  {
   "cell_type": "code",
   "execution_count": null,
   "id": "1ab73241-119e-4396-b2e8-c2e59023cf2d",
   "metadata": {},
   "outputs": [],
   "source": []
  }
 ],
 "metadata": {
  "kernelspec": {
   "display_name": "Python 3 (ipykernel)",
   "language": "python",
   "name": "python3"
  },
  "language_info": {
   "codemirror_mode": {
    "name": "ipython",
    "version": 3
   },
   "file_extension": ".py",
   "mimetype": "text/x-python",
   "name": "python",
   "nbconvert_exporter": "python",
   "pygments_lexer": "ipython3",
   "version": "3.8.18"
  }
 },
 "nbformat": 4,
 "nbformat_minor": 5
}
