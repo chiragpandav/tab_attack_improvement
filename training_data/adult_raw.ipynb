{
 "cells": [
  {
   "cell_type": "code",
   "execution_count": 1,
   "id": "7b09db71-8129-447b-bc95-53903d512f3a",
   "metadata": {},
   "outputs": [],
   "source": [
    "import pandas as pd\n",
    "import os \n",
    "from sklearn.model_selection import train_test_split\n",
    "from ucimlrepo import fetch_ucirepo \n",
    "import pandas as pd  \n",
    "from sklearn.model_selection import train_test_split\n"
   ]
  },
  {
   "cell_type": "code",
   "execution_count": null,
   "id": "9c82e686-45b6-4942-abb2-6066594382e7",
   "metadata": {},
   "outputs": [],
   "source": []
  },
  {
   "cell_type": "code",
   "execution_count": null,
   "id": "b2716cc4-b5e8-490d-97a2-e666762ae987",
   "metadata": {},
   "outputs": [],
   "source": []
  },
  {
   "cell_type": "code",
   "execution_count": 2,
   "id": "71232548-fab4-478a-a4f0-2518571a9dc4",
   "metadata": {},
   "outputs": [
    {
     "name": "stdout",
     "output_type": "stream",
     "text": [
      "total length:: 48842 \n",
      "\n",
      "age                 0\n",
      "workclass         963\n",
      "fnlwgt              0\n",
      "education           0\n",
      "education-num       0\n",
      "marital-status      0\n",
      "occupation        966\n",
      "relationship        0\n",
      "race                0\n",
      "sex                 0\n",
      "capital-gain        0\n",
      "capital-loss        0\n",
      "hours-per-week      0\n",
      "native-country    274\n",
      "income              0\n",
      "dtype: int64\n",
      "47621\n",
      "age               0\n",
      "workclass         0\n",
      "fnlwgt            0\n",
      "education         0\n",
      "education-num     0\n",
      "marital-status    0\n",
      "occupation        0\n",
      "relationship      0\n",
      "race              0\n",
      "sex               0\n",
      "capital-gain      0\n",
      "capital-loss      0\n",
      "hours-per-week    0\n",
      "native-country    0\n",
      "income            0\n",
      "dtype: int64\n"
     ]
    }
   ],
   "source": [
    "\n",
    "# fetch dataset \n",
    "adult = fetch_ucirepo(id=2) \n",
    "\n",
    "# data (as pandas dataframes) \n",
    "X = adult.data.features \n",
    "y = adult.data.targets \n",
    "\n",
    "print(\"total length::\",len(X),\"\\n\")\n",
    "\n",
    "merged_df = pd.concat([X, y], axis=1)\n",
    "\n",
    "print(merged_df.isna().sum())\n",
    "\n",
    "merged_df=merged_df.dropna()\n",
    "\n",
    "print(len(merged_df))\n",
    "\n",
    "print(merged_df.isna().sum())"
   ]
  },
  {
   "cell_type": "code",
   "execution_count": null,
   "id": "4a3823af-8b80-4c11-91bd-4e95fde3f2b3",
   "metadata": {},
   "outputs": [],
   "source": []
  },
  {
   "cell_type": "code",
   "execution_count": null,
   "id": "c556df4e-f90c-43b1-90a3-0722e3df9e1f",
   "metadata": {},
   "outputs": [],
   "source": []
  },
  {
   "cell_type": "code",
   "execution_count": 3,
   "id": "bd9bdfb4-108b-40ac-828a-1ca092856dd1",
   "metadata": {},
   "outputs": [
    {
     "data": {
      "text/plain": [
       "47621"
      ]
     },
     "execution_count": 3,
     "metadata": {},
     "output_type": "execute_result"
    }
   ],
   "source": [
    "len(merged_df)"
   ]
  },
  {
   "cell_type": "code",
   "execution_count": 4,
   "id": "a9c723d4-c7c8-449a-b64c-b0a1d44f260a",
   "metadata": {},
   "outputs": [],
   "source": [
    "merged_df = merged_df[~merged_df[\"workclass\"].isin([\"?\"])]\n",
    "merged_df = merged_df[~merged_df[\"occupation\"].isin([\"?\"])]\n",
    "merged_df = merged_df[~merged_df[\"native-country\"].isin([\"?\"])]\n",
    "\n",
    "# to merge this: ['<=50K' '>50K' '<=50K.' '>50K.']\n",
    "merged_df[\"income\"] = merged_df[\"income\"].replace({\"<=50K.\": \"<=50K\", \">50K.\": \">50K\"})"
   ]
  },
  {
   "cell_type": "code",
   "execution_count": 5,
   "id": "f495030e-9ea1-41e5-a24f-fa6448515813",
   "metadata": {},
   "outputs": [
    {
     "data": {
      "text/plain": [
       "Index(['age', 'workclass', 'fnlwgt', 'education', 'education-num',\n",
       "       'marital-status', 'occupation', 'relationship', 'race', 'sex',\n",
       "       'capital-gain', 'capital-loss', 'hours-per-week', 'native-country',\n",
       "       'income'],\n",
       "      dtype='object')"
      ]
     },
     "execution_count": 5,
     "metadata": {},
     "output_type": "execute_result"
    }
   ],
   "source": [
    "merged_df.columns"
   ]
  },
  {
   "cell_type": "code",
   "execution_count": null,
   "id": "af1f8ef2-ec02-4137-bb89-805bb7758c27",
   "metadata": {},
   "outputs": [],
   "source": []
  },
  {
   "cell_type": "code",
   "execution_count": 6,
   "id": "c40f39c9-29f2-4b6f-a540-7e655a49e433",
   "metadata": {},
   "outputs": [
    {
     "name": "stdout",
     "output_type": "stream",
     "text": [
      "['State-gov' 'Self-emp-not-inc' 'Private' 'Federal-gov' 'Local-gov'\n",
      " 'Self-emp-inc' 'Without-pay']\n",
      "length:  7\n"
     ]
    },
    {
     "data": {
      "text/plain": [
       "workclass\n",
       "Private             33307\n",
       "Self-emp-not-inc     3796\n",
       "Local-gov            3100\n",
       "State-gov            1946\n",
       "Self-emp-inc         1646\n",
       "Federal-gov          1406\n",
       "Without-pay            21\n",
       "Name: count, dtype: int64"
      ]
     },
     "execution_count": 6,
     "metadata": {},
     "output_type": "execute_result"
    }
   ],
   "source": [
    "a=\"workclass\"\n",
    "print(pd.unique(merged_df[a]))\n",
    "print(\"length: \",len(pd.unique(merged_df[a])))\n",
    "merged_df[a].value_counts()"
   ]
  },
  {
   "cell_type": "code",
   "execution_count": null,
   "id": "e405671b-e363-448c-b292-3d14d12aa9c4",
   "metadata": {},
   "outputs": [],
   "source": []
  },
  {
   "cell_type": "code",
   "execution_count": null,
   "id": "f23f6f8c-562c-4ee9-b2cb-d4c97cd97147",
   "metadata": {},
   "outputs": [],
   "source": []
  },
  {
   "cell_type": "code",
   "execution_count": null,
   "id": "7f4a7abc-098f-45d4-89e7-d3cf99add4a2",
   "metadata": {},
   "outputs": [],
   "source": []
  },
  {
   "cell_type": "code",
   "execution_count": 7,
   "id": "82be4b13-99c6-43bb-a444-e7c60f757b03",
   "metadata": {},
   "outputs": [
    {
     "data": {
      "text/plain": [
       "45222"
      ]
     },
     "execution_count": 7,
     "metadata": {},
     "output_type": "execute_result"
    }
   ],
   "source": [
    "len(merged_df)"
   ]
  },
  {
   "cell_type": "code",
   "execution_count": 8,
   "id": "5b9b9a35-a0f8-48f8-bda4-aff998c26fda",
   "metadata": {},
   "outputs": [
    {
     "data": {
      "text/html": [
       "<div>\n",
       "<style scoped>\n",
       "    .dataframe tbody tr th:only-of-type {\n",
       "        vertical-align: middle;\n",
       "    }\n",
       "\n",
       "    .dataframe tbody tr th {\n",
       "        vertical-align: top;\n",
       "    }\n",
       "\n",
       "    .dataframe thead th {\n",
       "        text-align: right;\n",
       "    }\n",
       "</style>\n",
       "<table border=\"1\" class=\"dataframe\">\n",
       "  <thead>\n",
       "    <tr style=\"text-align: right;\">\n",
       "      <th></th>\n",
       "      <th>age</th>\n",
       "      <th>workclass</th>\n",
       "      <th>fnlwgt</th>\n",
       "      <th>education</th>\n",
       "      <th>education-num</th>\n",
       "      <th>marital-status</th>\n",
       "      <th>occupation</th>\n",
       "      <th>relationship</th>\n",
       "      <th>race</th>\n",
       "      <th>sex</th>\n",
       "      <th>capital-gain</th>\n",
       "      <th>capital-loss</th>\n",
       "      <th>hours-per-week</th>\n",
       "      <th>native-country</th>\n",
       "      <th>income</th>\n",
       "    </tr>\n",
       "  </thead>\n",
       "  <tbody>\n",
       "    <tr>\n",
       "      <th>0</th>\n",
       "      <td>25</td>\n",
       "      <td>Private</td>\n",
       "      <td>288185</td>\n",
       "      <td>9th</td>\n",
       "      <td>5</td>\n",
       "      <td>Married-civ-spouse</td>\n",
       "      <td>Machine-op-inspct</td>\n",
       "      <td>Husband</td>\n",
       "      <td>White</td>\n",
       "      <td>Male</td>\n",
       "      <td>0</td>\n",
       "      <td>0</td>\n",
       "      <td>40</td>\n",
       "      <td>Mexico</td>\n",
       "      <td>&lt;=50K</td>\n",
       "    </tr>\n",
       "    <tr>\n",
       "      <th>1</th>\n",
       "      <td>45</td>\n",
       "      <td>Private</td>\n",
       "      <td>81132</td>\n",
       "      <td>HS-grad</td>\n",
       "      <td>9</td>\n",
       "      <td>Married-civ-spouse</td>\n",
       "      <td>Other-service</td>\n",
       "      <td>Husband</td>\n",
       "      <td>Asian-Pac-Islander</td>\n",
       "      <td>Male</td>\n",
       "      <td>0</td>\n",
       "      <td>0</td>\n",
       "      <td>40</td>\n",
       "      <td>Philippines</td>\n",
       "      <td>&lt;=50K</td>\n",
       "    </tr>\n",
       "    <tr>\n",
       "      <th>2</th>\n",
       "      <td>62</td>\n",
       "      <td>State-gov</td>\n",
       "      <td>159699</td>\n",
       "      <td>Bachelors</td>\n",
       "      <td>13</td>\n",
       "      <td>Married-civ-spouse</td>\n",
       "      <td>Adm-clerical</td>\n",
       "      <td>Husband</td>\n",
       "      <td>White</td>\n",
       "      <td>Male</td>\n",
       "      <td>0</td>\n",
       "      <td>0</td>\n",
       "      <td>38</td>\n",
       "      <td>United-States</td>\n",
       "      <td>&lt;=50K</td>\n",
       "    </tr>\n",
       "    <tr>\n",
       "      <th>3</th>\n",
       "      <td>28</td>\n",
       "      <td>Self-emp-inc</td>\n",
       "      <td>115705</td>\n",
       "      <td>Some-college</td>\n",
       "      <td>10</td>\n",
       "      <td>Never-married</td>\n",
       "      <td>Exec-managerial</td>\n",
       "      <td>Not-in-family</td>\n",
       "      <td>White</td>\n",
       "      <td>Male</td>\n",
       "      <td>0</td>\n",
       "      <td>0</td>\n",
       "      <td>50</td>\n",
       "      <td>United-States</td>\n",
       "      <td>&lt;=50K</td>\n",
       "    </tr>\n",
       "    <tr>\n",
       "      <th>4</th>\n",
       "      <td>31</td>\n",
       "      <td>Private</td>\n",
       "      <td>36302</td>\n",
       "      <td>Bachelors</td>\n",
       "      <td>13</td>\n",
       "      <td>Married-civ-spouse</td>\n",
       "      <td>Machine-op-inspct</td>\n",
       "      <td>Husband</td>\n",
       "      <td>White</td>\n",
       "      <td>Male</td>\n",
       "      <td>0</td>\n",
       "      <td>0</td>\n",
       "      <td>50</td>\n",
       "      <td>United-States</td>\n",
       "      <td>&lt;=50K</td>\n",
       "    </tr>\n",
       "    <tr>\n",
       "      <th>...</th>\n",
       "      <td>...</td>\n",
       "      <td>...</td>\n",
       "      <td>...</td>\n",
       "      <td>...</td>\n",
       "      <td>...</td>\n",
       "      <td>...</td>\n",
       "      <td>...</td>\n",
       "      <td>...</td>\n",
       "      <td>...</td>\n",
       "      <td>...</td>\n",
       "      <td>...</td>\n",
       "      <td>...</td>\n",
       "      <td>...</td>\n",
       "      <td>...</td>\n",
       "      <td>...</td>\n",
       "    </tr>\n",
       "    <tr>\n",
       "      <th>4995</th>\n",
       "      <td>43</td>\n",
       "      <td>Private</td>\n",
       "      <td>388725</td>\n",
       "      <td>Assoc-acdm</td>\n",
       "      <td>12</td>\n",
       "      <td>Married-civ-spouse</td>\n",
       "      <td>Sales</td>\n",
       "      <td>Husband</td>\n",
       "      <td>White</td>\n",
       "      <td>Male</td>\n",
       "      <td>0</td>\n",
       "      <td>0</td>\n",
       "      <td>40</td>\n",
       "      <td>United-States</td>\n",
       "      <td>&lt;=50K</td>\n",
       "    </tr>\n",
       "    <tr>\n",
       "      <th>4996</th>\n",
       "      <td>53</td>\n",
       "      <td>Self-emp-inc</td>\n",
       "      <td>135643</td>\n",
       "      <td>Bachelors</td>\n",
       "      <td>13</td>\n",
       "      <td>Married-civ-spouse</td>\n",
       "      <td>Adm-clerical</td>\n",
       "      <td>Wife</td>\n",
       "      <td>Asian-Pac-Islander</td>\n",
       "      <td>Female</td>\n",
       "      <td>0</td>\n",
       "      <td>0</td>\n",
       "      <td>50</td>\n",
       "      <td>South</td>\n",
       "      <td>&lt;=50K</td>\n",
       "    </tr>\n",
       "    <tr>\n",
       "      <th>4997</th>\n",
       "      <td>26</td>\n",
       "      <td>Private</td>\n",
       "      <td>301563</td>\n",
       "      <td>HS-grad</td>\n",
       "      <td>9</td>\n",
       "      <td>Married-civ-spouse</td>\n",
       "      <td>Craft-repair</td>\n",
       "      <td>Husband</td>\n",
       "      <td>White</td>\n",
       "      <td>Male</td>\n",
       "      <td>0</td>\n",
       "      <td>0</td>\n",
       "      <td>40</td>\n",
       "      <td>United-States</td>\n",
       "      <td>&lt;=50K</td>\n",
       "    </tr>\n",
       "    <tr>\n",
       "      <th>4998</th>\n",
       "      <td>41</td>\n",
       "      <td>Private</td>\n",
       "      <td>171615</td>\n",
       "      <td>Assoc-acdm</td>\n",
       "      <td>12</td>\n",
       "      <td>Married-civ-spouse</td>\n",
       "      <td>Tech-support</td>\n",
       "      <td>Husband</td>\n",
       "      <td>White</td>\n",
       "      <td>Male</td>\n",
       "      <td>0</td>\n",
       "      <td>0</td>\n",
       "      <td>45</td>\n",
       "      <td>United-States</td>\n",
       "      <td>&gt;50K</td>\n",
       "    </tr>\n",
       "    <tr>\n",
       "      <th>4999</th>\n",
       "      <td>27</td>\n",
       "      <td>Private</td>\n",
       "      <td>150296</td>\n",
       "      <td>HS-grad</td>\n",
       "      <td>9</td>\n",
       "      <td>Never-married</td>\n",
       "      <td>Other-service</td>\n",
       "      <td>Own-child</td>\n",
       "      <td>White</td>\n",
       "      <td>Female</td>\n",
       "      <td>0</td>\n",
       "      <td>0</td>\n",
       "      <td>32</td>\n",
       "      <td>United-States</td>\n",
       "      <td>&lt;=50K</td>\n",
       "    </tr>\n",
       "  </tbody>\n",
       "</table>\n",
       "<p>5000 rows × 15 columns</p>\n",
       "</div>"
      ],
      "text/plain": [
       "      age     workclass  fnlwgt     education  education-num  \\\n",
       "0      25       Private  288185           9th              5   \n",
       "1      45       Private   81132       HS-grad              9   \n",
       "2      62     State-gov  159699     Bachelors             13   \n",
       "3      28  Self-emp-inc  115705  Some-college             10   \n",
       "4      31       Private   36302     Bachelors             13   \n",
       "...   ...           ...     ...           ...            ...   \n",
       "4995   43       Private  388725    Assoc-acdm             12   \n",
       "4996   53  Self-emp-inc  135643     Bachelors             13   \n",
       "4997   26       Private  301563       HS-grad              9   \n",
       "4998   41       Private  171615    Assoc-acdm             12   \n",
       "4999   27       Private  150296       HS-grad              9   \n",
       "\n",
       "          marital-status         occupation   relationship  \\\n",
       "0     Married-civ-spouse  Machine-op-inspct        Husband   \n",
       "1     Married-civ-spouse      Other-service        Husband   \n",
       "2     Married-civ-spouse       Adm-clerical        Husband   \n",
       "3          Never-married    Exec-managerial  Not-in-family   \n",
       "4     Married-civ-spouse  Machine-op-inspct        Husband   \n",
       "...                  ...                ...            ...   \n",
       "4995  Married-civ-spouse              Sales        Husband   \n",
       "4996  Married-civ-spouse       Adm-clerical           Wife   \n",
       "4997  Married-civ-spouse       Craft-repair        Husband   \n",
       "4998  Married-civ-spouse       Tech-support        Husband   \n",
       "4999       Never-married      Other-service      Own-child   \n",
       "\n",
       "                    race     sex  capital-gain  capital-loss  hours-per-week  \\\n",
       "0                  White    Male             0             0              40   \n",
       "1     Asian-Pac-Islander    Male             0             0              40   \n",
       "2                  White    Male             0             0              38   \n",
       "3                  White    Male             0             0              50   \n",
       "4                  White    Male             0             0              50   \n",
       "...                  ...     ...           ...           ...             ...   \n",
       "4995               White    Male             0             0              40   \n",
       "4996  Asian-Pac-Islander  Female             0             0              50   \n",
       "4997               White    Male             0             0              40   \n",
       "4998               White    Male             0             0              45   \n",
       "4999               White  Female             0             0              32   \n",
       "\n",
       "     native-country income  \n",
       "0            Mexico  <=50K  \n",
       "1       Philippines  <=50K  \n",
       "2     United-States  <=50K  \n",
       "3     United-States  <=50K  \n",
       "4     United-States  <=50K  \n",
       "...             ...    ...  \n",
       "4995  United-States  <=50K  \n",
       "4996          South  <=50K  \n",
       "4997  United-States  <=50K  \n",
       "4998  United-States   >50K  \n",
       "4999  United-States  <=50K  \n",
       "\n",
       "[5000 rows x 15 columns]"
      ]
     },
     "execution_count": 8,
     "metadata": {},
     "output_type": "execute_result"
    }
   ],
   "source": [
    "merged_df['race_sex'] = merged_df['race'] + '_' + merged_df['sex']\n",
    "# data for pre_trained model\n",
    "# Step 2: Stratified Sampling for df1 (10,000 data points)\n",
    "df1_sample, remaining_data = train_test_split(\n",
    "    merged_df, test_size=(1 - 5000 / len(merged_df)), stratify=merged_df['race_sex'], random_state=42\n",
    ")\n",
    "df1_sample = df1_sample.drop(columns=['race_sex'])\n",
    "df1_sample = df1_sample.reset_index(drop=True)\n",
    "df1_sample"
   ]
  },
  {
   "cell_type": "code",
   "execution_count": 9,
   "id": "40c445d6-56a1-479c-b8c1-99eedc45e547",
   "metadata": {},
   "outputs": [
    {
     "data": {
      "text/plain": [
       "40222"
      ]
     },
     "execution_count": 9,
     "metadata": {},
     "output_type": "execute_result"
    }
   ],
   "source": [
    "len(remaining_data)"
   ]
  },
  {
   "cell_type": "code",
   "execution_count": null,
   "id": "07fdab30-2cd1-43d8-b4ce-9fd633484ac9",
   "metadata": {},
   "outputs": [],
   "source": []
  },
  {
   "cell_type": "code",
   "execution_count": null,
   "id": "d8132e12-ed94-4e64-b1f6-3ba358d7b1dd",
   "metadata": {},
   "outputs": [],
   "source": []
  },
  {
   "cell_type": "code",
   "execution_count": 10,
   "id": "f421f141-5a21-4a9a-a558-760e937e8ee6",
   "metadata": {},
   "outputs": [
    {
     "data": {
      "text/html": [
       "<div>\n",
       "<style scoped>\n",
       "    .dataframe tbody tr th:only-of-type {\n",
       "        vertical-align: middle;\n",
       "    }\n",
       "\n",
       "    .dataframe tbody tr th {\n",
       "        vertical-align: top;\n",
       "    }\n",
       "\n",
       "    .dataframe thead th {\n",
       "        text-align: right;\n",
       "    }\n",
       "</style>\n",
       "<table border=\"1\" class=\"dataframe\">\n",
       "  <thead>\n",
       "    <tr style=\"text-align: right;\">\n",
       "      <th></th>\n",
       "      <th>age</th>\n",
       "      <th>workclass</th>\n",
       "      <th>fnlwgt</th>\n",
       "      <th>education</th>\n",
       "      <th>education-num</th>\n",
       "      <th>marital-status</th>\n",
       "      <th>occupation</th>\n",
       "      <th>relationship</th>\n",
       "      <th>race</th>\n",
       "      <th>sex</th>\n",
       "      <th>capital-gain</th>\n",
       "      <th>capital-loss</th>\n",
       "      <th>hours-per-week</th>\n",
       "      <th>native-country</th>\n",
       "      <th>income</th>\n",
       "    </tr>\n",
       "  </thead>\n",
       "  <tbody>\n",
       "    <tr>\n",
       "      <th>0</th>\n",
       "      <td>34</td>\n",
       "      <td>Private</td>\n",
       "      <td>218164</td>\n",
       "      <td>HS-grad</td>\n",
       "      <td>9</td>\n",
       "      <td>Divorced</td>\n",
       "      <td>Craft-repair</td>\n",
       "      <td>Unmarried</td>\n",
       "      <td>White</td>\n",
       "      <td>Male</td>\n",
       "      <td>0</td>\n",
       "      <td>0</td>\n",
       "      <td>44</td>\n",
       "      <td>United-States</td>\n",
       "      <td>&lt;=50K</td>\n",
       "    </tr>\n",
       "    <tr>\n",
       "      <th>1</th>\n",
       "      <td>50</td>\n",
       "      <td>Private</td>\n",
       "      <td>98975</td>\n",
       "      <td>Bachelors</td>\n",
       "      <td>13</td>\n",
       "      <td>Married-civ-spouse</td>\n",
       "      <td>Exec-managerial</td>\n",
       "      <td>Husband</td>\n",
       "      <td>White</td>\n",
       "      <td>Male</td>\n",
       "      <td>15024</td>\n",
       "      <td>0</td>\n",
       "      <td>40</td>\n",
       "      <td>United-States</td>\n",
       "      <td>&gt;50K</td>\n",
       "    </tr>\n",
       "    <tr>\n",
       "      <th>2</th>\n",
       "      <td>37</td>\n",
       "      <td>Self-emp-not-inc</td>\n",
       "      <td>191841</td>\n",
       "      <td>Bachelors</td>\n",
       "      <td>13</td>\n",
       "      <td>Divorced</td>\n",
       "      <td>Other-service</td>\n",
       "      <td>Unmarried</td>\n",
       "      <td>White</td>\n",
       "      <td>Female</td>\n",
       "      <td>0</td>\n",
       "      <td>0</td>\n",
       "      <td>48</td>\n",
       "      <td>United-States</td>\n",
       "      <td>&lt;=50K</td>\n",
       "    </tr>\n",
       "    <tr>\n",
       "      <th>3</th>\n",
       "      <td>43</td>\n",
       "      <td>Private</td>\n",
       "      <td>282678</td>\n",
       "      <td>HS-grad</td>\n",
       "      <td>9</td>\n",
       "      <td>Divorced</td>\n",
       "      <td>Exec-managerial</td>\n",
       "      <td>Not-in-family</td>\n",
       "      <td>White</td>\n",
       "      <td>Female</td>\n",
       "      <td>0</td>\n",
       "      <td>0</td>\n",
       "      <td>60</td>\n",
       "      <td>United-States</td>\n",
       "      <td>&lt;=50K</td>\n",
       "    </tr>\n",
       "    <tr>\n",
       "      <th>4</th>\n",
       "      <td>33</td>\n",
       "      <td>Self-emp-not-inc</td>\n",
       "      <td>173495</td>\n",
       "      <td>HS-grad</td>\n",
       "      <td>9</td>\n",
       "      <td>Married-civ-spouse</td>\n",
       "      <td>Craft-repair</td>\n",
       "      <td>Husband</td>\n",
       "      <td>White</td>\n",
       "      <td>Male</td>\n",
       "      <td>0</td>\n",
       "      <td>0</td>\n",
       "      <td>50</td>\n",
       "      <td>United-States</td>\n",
       "      <td>&lt;=50K</td>\n",
       "    </tr>\n",
       "    <tr>\n",
       "      <th>...</th>\n",
       "      <td>...</td>\n",
       "      <td>...</td>\n",
       "      <td>...</td>\n",
       "      <td>...</td>\n",
       "      <td>...</td>\n",
       "      <td>...</td>\n",
       "      <td>...</td>\n",
       "      <td>...</td>\n",
       "      <td>...</td>\n",
       "      <td>...</td>\n",
       "      <td>...</td>\n",
       "      <td>...</td>\n",
       "      <td>...</td>\n",
       "      <td>...</td>\n",
       "      <td>...</td>\n",
       "    </tr>\n",
       "    <tr>\n",
       "      <th>9995</th>\n",
       "      <td>22</td>\n",
       "      <td>Private</td>\n",
       "      <td>293324</td>\n",
       "      <td>HS-grad</td>\n",
       "      <td>9</td>\n",
       "      <td>Never-married</td>\n",
       "      <td>Exec-managerial</td>\n",
       "      <td>Not-in-family</td>\n",
       "      <td>White</td>\n",
       "      <td>Male</td>\n",
       "      <td>0</td>\n",
       "      <td>0</td>\n",
       "      <td>40</td>\n",
       "      <td>United-States</td>\n",
       "      <td>&lt;=50K</td>\n",
       "    </tr>\n",
       "    <tr>\n",
       "      <th>9996</th>\n",
       "      <td>23</td>\n",
       "      <td>Private</td>\n",
       "      <td>165064</td>\n",
       "      <td>Some-college</td>\n",
       "      <td>10</td>\n",
       "      <td>Married-civ-spouse</td>\n",
       "      <td>Sales</td>\n",
       "      <td>Husband</td>\n",
       "      <td>White</td>\n",
       "      <td>Male</td>\n",
       "      <td>0</td>\n",
       "      <td>0</td>\n",
       "      <td>40</td>\n",
       "      <td>United-States</td>\n",
       "      <td>&lt;=50K</td>\n",
       "    </tr>\n",
       "    <tr>\n",
       "      <th>9997</th>\n",
       "      <td>49</td>\n",
       "      <td>Federal-gov</td>\n",
       "      <td>168232</td>\n",
       "      <td>HS-grad</td>\n",
       "      <td>9</td>\n",
       "      <td>Married-civ-spouse</td>\n",
       "      <td>Adm-clerical</td>\n",
       "      <td>Husband</td>\n",
       "      <td>White</td>\n",
       "      <td>Male</td>\n",
       "      <td>0</td>\n",
       "      <td>0</td>\n",
       "      <td>40</td>\n",
       "      <td>United-States</td>\n",
       "      <td>&gt;50K</td>\n",
       "    </tr>\n",
       "    <tr>\n",
       "      <th>9998</th>\n",
       "      <td>42</td>\n",
       "      <td>Private</td>\n",
       "      <td>167357</td>\n",
       "      <td>Some-college</td>\n",
       "      <td>10</td>\n",
       "      <td>Divorced</td>\n",
       "      <td>Adm-clerical</td>\n",
       "      <td>Unmarried</td>\n",
       "      <td>White</td>\n",
       "      <td>Female</td>\n",
       "      <td>0</td>\n",
       "      <td>213</td>\n",
       "      <td>40</td>\n",
       "      <td>United-States</td>\n",
       "      <td>&lt;=50K</td>\n",
       "    </tr>\n",
       "    <tr>\n",
       "      <th>9999</th>\n",
       "      <td>34</td>\n",
       "      <td>Private</td>\n",
       "      <td>509364</td>\n",
       "      <td>HS-grad</td>\n",
       "      <td>9</td>\n",
       "      <td>Divorced</td>\n",
       "      <td>Machine-op-inspct</td>\n",
       "      <td>Not-in-family</td>\n",
       "      <td>White</td>\n",
       "      <td>Male</td>\n",
       "      <td>0</td>\n",
       "      <td>0</td>\n",
       "      <td>30</td>\n",
       "      <td>United-States</td>\n",
       "      <td>&lt;=50K</td>\n",
       "    </tr>\n",
       "  </tbody>\n",
       "</table>\n",
       "<p>10000 rows × 15 columns</p>\n",
       "</div>"
      ],
      "text/plain": [
       "      age         workclass  fnlwgt     education  education-num  \\\n",
       "0      34           Private  218164       HS-grad              9   \n",
       "1      50           Private   98975     Bachelors             13   \n",
       "2      37  Self-emp-not-inc  191841     Bachelors             13   \n",
       "3      43           Private  282678       HS-grad              9   \n",
       "4      33  Self-emp-not-inc  173495       HS-grad              9   \n",
       "...   ...               ...     ...           ...            ...   \n",
       "9995   22           Private  293324       HS-grad              9   \n",
       "9996   23           Private  165064  Some-college             10   \n",
       "9997   49       Federal-gov  168232       HS-grad              9   \n",
       "9998   42           Private  167357  Some-college             10   \n",
       "9999   34           Private  509364       HS-grad              9   \n",
       "\n",
       "          marital-status         occupation   relationship   race     sex  \\\n",
       "0               Divorced       Craft-repair      Unmarried  White    Male   \n",
       "1     Married-civ-spouse    Exec-managerial        Husband  White    Male   \n",
       "2               Divorced      Other-service      Unmarried  White  Female   \n",
       "3               Divorced    Exec-managerial  Not-in-family  White  Female   \n",
       "4     Married-civ-spouse       Craft-repair        Husband  White    Male   \n",
       "...                  ...                ...            ...    ...     ...   \n",
       "9995       Never-married    Exec-managerial  Not-in-family  White    Male   \n",
       "9996  Married-civ-spouse              Sales        Husband  White    Male   \n",
       "9997  Married-civ-spouse       Adm-clerical        Husband  White    Male   \n",
       "9998            Divorced       Adm-clerical      Unmarried  White  Female   \n",
       "9999            Divorced  Machine-op-inspct  Not-in-family  White    Male   \n",
       "\n",
       "      capital-gain  capital-loss  hours-per-week native-country income  \n",
       "0                0             0              44  United-States  <=50K  \n",
       "1            15024             0              40  United-States   >50K  \n",
       "2                0             0              48  United-States  <=50K  \n",
       "3                0             0              60  United-States  <=50K  \n",
       "4                0             0              50  United-States  <=50K  \n",
       "...            ...           ...             ...            ...    ...  \n",
       "9995             0             0              40  United-States  <=50K  \n",
       "9996             0             0              40  United-States  <=50K  \n",
       "9997             0             0              40  United-States   >50K  \n",
       "9998             0           213              40  United-States  <=50K  \n",
       "9999             0             0              30  United-States  <=50K  \n",
       "\n",
       "[10000 rows x 15 columns]"
      ]
     },
     "execution_count": 10,
     "metadata": {},
     "output_type": "execute_result"
    }
   ],
   "source": [
    "# data for final testing\n",
    "df2_sample, remaining_data = train_test_split(\n",
    "    remaining_data, test_size=(1 - 10000 / len(remaining_data)), stratify=remaining_data['race_sex'], random_state=42\n",
    ")\n",
    "df2_sample = df2_sample.drop(columns=['race_sex'])\n",
    "\n",
    "df2_sample = df2_sample.reset_index(drop=True)\n",
    "\n",
    "df2_sample"
   ]
  },
  {
   "cell_type": "code",
   "execution_count": 11,
   "id": "356cf8e6-9b60-42b8-a88c-10661767802e",
   "metadata": {},
   "outputs": [
    {
     "data": {
      "text/plain": [
       "(10000, 5000)"
      ]
     },
     "execution_count": 11,
     "metadata": {},
     "output_type": "execute_result"
    }
   ],
   "source": [
    "len(df2_sample),len(df1_sample)"
   ]
  },
  {
   "cell_type": "code",
   "execution_count": 12,
   "id": "6fa86c98-1703-4d35-a8c4-ac6f4e91806c",
   "metadata": {},
   "outputs": [
    {
     "data": {
      "text/plain": [
       "10"
      ]
     },
     "execution_count": 12,
     "metadata": {},
     "output_type": "execute_result"
    }
   ],
   "source": [
    "len(remaining_data)//3000"
   ]
  },
  {
   "cell_type": "code",
   "execution_count": 13,
   "id": "48c61687-9cc7-4764-9064-3766838dbbb3",
   "metadata": {},
   "outputs": [],
   "source": [
    "\n",
    "dfs_3000 = []\n",
    "\n",
    "while len(remaining_data) >= 3000:\n",
    "    sample_3000, remaining_data = train_test_split(\n",
    "        remaining_data, test_size=(1 - 3000 / len(remaining_data)), stratify=remaining_data['race_sex'], random_state=42\n",
    "    )\n",
    "    dfs_3000.append(sample_3000)\n",
    "\n",
    "# Handle remaining data points (if any) as the last DataFrame\n",
    "if len(remaining_data) > 0:\n",
    "    dfs_3000.append(remaining_data)\n",
    "\n",
    "dfs_3000 = [df.drop(columns=['race_sex']) for df in dfs_3000]\n",
    "dfs_3000 = [df.reset_index(drop=True) for df in dfs_3000]\n"
   ]
  },
  {
   "cell_type": "code",
   "execution_count": 14,
   "id": "f9af86ea-cb9c-4cf0-b3b4-2fcdda23ec8c",
   "metadata": {},
   "outputs": [
    {
     "data": {
      "text/plain": [
       "11"
      ]
     },
     "execution_count": 14,
     "metadata": {},
     "output_type": "execute_result"
    }
   ],
   "source": [
    "len(dfs_3000)"
   ]
  },
  {
   "cell_type": "code",
   "execution_count": 15,
   "id": "5fd470f8-6676-42c2-8e89-d247d29beef2",
   "metadata": {},
   "outputs": [
    {
     "data": {
      "text/html": [
       "<div>\n",
       "<style scoped>\n",
       "    .dataframe tbody tr th:only-of-type {\n",
       "        vertical-align: middle;\n",
       "    }\n",
       "\n",
       "    .dataframe tbody tr th {\n",
       "        vertical-align: top;\n",
       "    }\n",
       "\n",
       "    .dataframe thead th {\n",
       "        text-align: right;\n",
       "    }\n",
       "</style>\n",
       "<table border=\"1\" class=\"dataframe\">\n",
       "  <thead>\n",
       "    <tr style=\"text-align: right;\">\n",
       "      <th></th>\n",
       "      <th>age</th>\n",
       "      <th>workclass</th>\n",
       "      <th>fnlwgt</th>\n",
       "      <th>education</th>\n",
       "      <th>education-num</th>\n",
       "      <th>marital-status</th>\n",
       "      <th>occupation</th>\n",
       "      <th>relationship</th>\n",
       "      <th>race</th>\n",
       "      <th>sex</th>\n",
       "      <th>capital-gain</th>\n",
       "      <th>capital-loss</th>\n",
       "      <th>hours-per-week</th>\n",
       "      <th>native-country</th>\n",
       "      <th>income</th>\n",
       "    </tr>\n",
       "  </thead>\n",
       "  <tbody>\n",
       "    <tr>\n",
       "      <th>0</th>\n",
       "      <td>30</td>\n",
       "      <td>Private</td>\n",
       "      <td>169186</td>\n",
       "      <td>HS-grad</td>\n",
       "      <td>9</td>\n",
       "      <td>Never-married</td>\n",
       "      <td>Machine-op-inspct</td>\n",
       "      <td>Own-child</td>\n",
       "      <td>White</td>\n",
       "      <td>Male</td>\n",
       "      <td>0</td>\n",
       "      <td>0</td>\n",
       "      <td>60</td>\n",
       "      <td>United-States</td>\n",
       "      <td>&lt;=50K</td>\n",
       "    </tr>\n",
       "    <tr>\n",
       "      <th>1</th>\n",
       "      <td>46</td>\n",
       "      <td>Self-emp-inc</td>\n",
       "      <td>67725</td>\n",
       "      <td>Bachelors</td>\n",
       "      <td>13</td>\n",
       "      <td>Married-civ-spouse</td>\n",
       "      <td>Exec-managerial</td>\n",
       "      <td>Husband</td>\n",
       "      <td>White</td>\n",
       "      <td>Male</td>\n",
       "      <td>0</td>\n",
       "      <td>0</td>\n",
       "      <td>10</td>\n",
       "      <td>United-States</td>\n",
       "      <td>&lt;=50K</td>\n",
       "    </tr>\n",
       "    <tr>\n",
       "      <th>2</th>\n",
       "      <td>54</td>\n",
       "      <td>Self-emp-not-inc</td>\n",
       "      <td>83311</td>\n",
       "      <td>Prof-school</td>\n",
       "      <td>15</td>\n",
       "      <td>Married-civ-spouse</td>\n",
       "      <td>Prof-specialty</td>\n",
       "      <td>Husband</td>\n",
       "      <td>White</td>\n",
       "      <td>Male</td>\n",
       "      <td>0</td>\n",
       "      <td>0</td>\n",
       "      <td>30</td>\n",
       "      <td>United-States</td>\n",
       "      <td>&gt;50K</td>\n",
       "    </tr>\n",
       "    <tr>\n",
       "      <th>3</th>\n",
       "      <td>70</td>\n",
       "      <td>Self-emp-inc</td>\n",
       "      <td>232871</td>\n",
       "      <td>Some-college</td>\n",
       "      <td>10</td>\n",
       "      <td>Married-civ-spouse</td>\n",
       "      <td>Exec-managerial</td>\n",
       "      <td>Husband</td>\n",
       "      <td>White</td>\n",
       "      <td>Male</td>\n",
       "      <td>0</td>\n",
       "      <td>0</td>\n",
       "      <td>30</td>\n",
       "      <td>United-States</td>\n",
       "      <td>&lt;=50K</td>\n",
       "    </tr>\n",
       "    <tr>\n",
       "      <th>4</th>\n",
       "      <td>54</td>\n",
       "      <td>Private</td>\n",
       "      <td>141663</td>\n",
       "      <td>HS-grad</td>\n",
       "      <td>9</td>\n",
       "      <td>Never-married</td>\n",
       "      <td>Other-service</td>\n",
       "      <td>Not-in-family</td>\n",
       "      <td>White</td>\n",
       "      <td>Male</td>\n",
       "      <td>0</td>\n",
       "      <td>0</td>\n",
       "      <td>15</td>\n",
       "      <td>United-States</td>\n",
       "      <td>&lt;=50K</td>\n",
       "    </tr>\n",
       "  </tbody>\n",
       "</table>\n",
       "</div>"
      ],
      "text/plain": [
       "   age         workclass  fnlwgt     education  education-num  \\\n",
       "0   30           Private  169186       HS-grad              9   \n",
       "1   46      Self-emp-inc   67725     Bachelors             13   \n",
       "2   54  Self-emp-not-inc   83311   Prof-school             15   \n",
       "3   70      Self-emp-inc  232871  Some-college             10   \n",
       "4   54           Private  141663       HS-grad              9   \n",
       "\n",
       "       marital-status         occupation   relationship   race   sex  \\\n",
       "0       Never-married  Machine-op-inspct      Own-child  White  Male   \n",
       "1  Married-civ-spouse    Exec-managerial        Husband  White  Male   \n",
       "2  Married-civ-spouse     Prof-specialty        Husband  White  Male   \n",
       "3  Married-civ-spouse    Exec-managerial        Husband  White  Male   \n",
       "4       Never-married      Other-service  Not-in-family  White  Male   \n",
       "\n",
       "   capital-gain  capital-loss  hours-per-week native-country income  \n",
       "0             0             0              60  United-States  <=50K  \n",
       "1             0             0              10  United-States  <=50K  \n",
       "2             0             0              30  United-States   >50K  \n",
       "3             0             0              30  United-States  <=50K  \n",
       "4             0             0              15  United-States  <=50K  "
      ]
     },
     "execution_count": 15,
     "metadata": {},
     "output_type": "execute_result"
    }
   ],
   "source": [
    "dfs_3000[0].head()"
   ]
  },
  {
   "cell_type": "code",
   "execution_count": 16,
   "id": "0a715f55-c4b0-4aca-bc6c-3bdafe86c469",
   "metadata": {},
   "outputs": [
    {
     "name": "stdout",
     "output_type": "stream",
     "text": [
      "3000\n",
      "3000\n",
      "3000\n",
      "3000\n",
      "3000\n",
      "3000\n",
      "3000\n",
      "3000\n",
      "2999\n",
      "2999\n",
      "224\n"
     ]
    }
   ],
   "source": [
    "for i in range(len(dfs_3000)):\n",
    "    print(len(dfs_3000[i]))"
   ]
  },
  {
   "cell_type": "code",
   "execution_count": 17,
   "id": "f9611756-053d-4cc7-93c2-77c75f21ef59",
   "metadata": {},
   "outputs": [
    {
     "name": "stdout",
     "output_type": "stream",
     "text": [
      "0\n",
      "1\n",
      "2\n",
      "3\n",
      "4\n",
      "5\n",
      "6\n",
      "7\n",
      "8\n",
      "9\n"
     ]
    }
   ],
   "source": [
    "idx=0\n",
    "dfs_list=dfs_3000\n",
    "for i in range(len(dfs_list)):\n",
    "    if len(dfs_list[i])>2000:\n",
    "        dfs_list[i][:2000].to_csv(f'../clients_data/raw_data/client_{idx}.data', header=False, index=False)\n",
    "        dfs_list[i][2000:3000].to_csv(f'../clients_data/raw_data/client_{idx}.test', header=False, index=False)\n",
    "        print(idx)\n",
    "        idx+=1"
   ]
  },
  {
   "cell_type": "code",
   "execution_count": 18,
   "id": "a802916d-136c-4db9-bf39-92a13186a641",
   "metadata": {},
   "outputs": [],
   "source": [
    "# for i in range(len(dfs_3000)):\n",
    "#     if len(dfs_3000[i])>2800:\n",
    "    \n",
    "#         dfs_3000[i][:2000].to_csv(f'../clients_data/raw_data/client_{i}.data', header=False, index=False)\n",
    "#         dfs_3000[i][2000:].to_csv(f'../clients_data/raw_data/client_{i}.test', header=False, index=False)"
   ]
  },
  {
   "cell_type": "code",
   "execution_count": 19,
   "id": "daf3abd9-1bbf-4c37-8f81-164405a95923",
   "metadata": {},
   "outputs": [],
   "source": [
    "# df2_sample[:1000].to_csv(f'../clients_data/raw_data/client_adult.test', header=False, index=False)"
   ]
  },
  {
   "cell_type": "markdown",
   "id": "fa38987e-310d-40e6-aa95-da49d79faa21",
   "metadata": {},
   "source": [
    "# tesing data"
   ]
  },
  {
   "cell_type": "code",
   "execution_count": 20,
   "id": "8a226d22-5c72-431f-ab38-581ab3c0e743",
   "metadata": {},
   "outputs": [],
   "source": [
    "df2_sample.to_csv(f'../clients_data/raw_data/client_adult.test', header=False, index=False)"
   ]
  },
  {
   "cell_type": "code",
   "execution_count": 21,
   "id": "d2cad311-4e5d-417c-ae86-0ad57c73944f",
   "metadata": {},
   "outputs": [
    {
     "data": {
      "text/plain": [
       "10000"
      ]
     },
     "execution_count": 21,
     "metadata": {},
     "output_type": "execute_result"
    }
   ],
   "source": [
    "len(df2_sample)"
   ]
  },
  {
   "cell_type": "markdown",
   "id": "e56d9123-255e-40ba-ab65-021e7ee879ef",
   "metadata": {},
   "source": [
    "# pretrain_raw_data"
   ]
  },
  {
   "cell_type": "code",
   "execution_count": 22,
   "id": "830e121e-5cbb-4998-a855-f06292b41839",
   "metadata": {},
   "outputs": [
    {
     "data": {
      "text/plain": [
       "income\n",
       "<=50K    3692\n",
       ">50K     1308\n",
       "Name: count, dtype: int64"
      ]
     },
     "execution_count": 22,
     "metadata": {},
     "output_type": "execute_result"
    }
   ],
   "source": [
    "df1_sample[\"income\"].value_counts()"
   ]
  },
  {
   "cell_type": "code",
   "execution_count": 23,
   "id": "b3f306a7-4699-40a4-8077-628d635013d7",
   "metadata": {},
   "outputs": [
    {
     "name": "stdout",
     "output_type": "stream",
     "text": [
      "income\n",
      ">50K     1308\n",
      "<=50K    1308\n",
      "Name: count, dtype: int64\n"
     ]
    }
   ],
   "source": [
    "min_count = df1_sample[\"income\"].value_counts().min()  # Get the minimum count (3059)\n",
    "\n",
    "# Separate the data by class\n",
    "df_class_0 = df1_sample[df1_sample[\"income\"] == \"<=50K\"].sample(n=min_count, random_state=42)\n",
    "df_class_1 = df1_sample[df1_sample[\"income\"] == \">50K\"].sample(n=min_count, random_state=42)\n",
    "df_balanced = pd.concat([df_class_0, df_class_1]).sample(frac=1, random_state=42)  # Shuffle\n",
    "print(df_balanced[\"income\"].value_counts())\n",
    "\n"
   ]
  },
  {
   "cell_type": "code",
   "execution_count": 24,
   "id": "e8bc071d-dac5-45e2-8e6d-2bfacad1f2fa",
   "metadata": {},
   "outputs": [],
   "source": [
    "df1_sample=df_balanced.copy()"
   ]
  },
  {
   "cell_type": "code",
   "execution_count": null,
   "id": "be58a5d7-b92a-4886-885e-89b88b5b0372",
   "metadata": {},
   "outputs": [],
   "source": []
  },
  {
   "cell_type": "code",
   "execution_count": 25,
   "id": "e6d4873e-df5c-4ebf-993a-92d99b1452c5",
   "metadata": {},
   "outputs": [],
   "source": [
    "df1_sample.to_csv(f'../clients_data/raw_data/client_data_pre_trained_model.data', header=False, index=False)"
   ]
  },
  {
   "cell_type": "code",
   "execution_count": null,
   "id": "2d4b8908-63b7-44db-81de-02f07eacafb8",
   "metadata": {},
   "outputs": [],
   "source": []
  },
  {
   "cell_type": "code",
   "execution_count": 26,
   "id": "3382820e-2105-40d3-b291-052103d89b8c",
   "metadata": {},
   "outputs": [
    {
     "data": {
      "text/plain": [
       "2616"
      ]
     },
     "execution_count": 26,
     "metadata": {},
     "output_type": "execute_result"
    }
   ],
   "source": [
    "len(df1_sample)"
   ]
  },
  {
   "cell_type": "markdown",
   "id": "7d5d625b-df34-4e53-a932-8d8d7c67f7de",
   "metadata": {},
   "source": [
    "# group _raw_data"
   ]
  },
  {
   "cell_type": "code",
   "execution_count": 27,
   "id": "cff5a672-bcff-4c69-b30c-4d2890204629",
   "metadata": {},
   "outputs": [],
   "source": [
    "merge_df=df2_sample.copy()"
   ]
  },
  {
   "cell_type": "code",
   "execution_count": 28,
   "id": "c2e86477-f632-4365-9a51-e2c11d84be2b",
   "metadata": {},
   "outputs": [
    {
     "name": "stdout",
     "output_type": "stream",
     "text": [
      "Length:  6750 3250 8603 935\n"
     ]
    }
   ],
   "source": [
    "men = merge_df.loc[(merge_df['sex'] == \"Male\")]\n",
    "women = merge_df.loc[(merge_df['sex'] == \"Female\")]\n",
    "white = merge_df.loc[(merge_df['race'] == \"White\")]\n",
    "black = merge_df.loc[(merge_df['race'] == \"Black\")]\n",
    "\n",
    "print(\"Length: \",len(men),len(women),len(white),len(black))\n"
   ]
  },
  {
   "cell_type": "code",
   "execution_count": null,
   "id": "6697e5ea-abbb-44a5-8522-c39c371f983e",
   "metadata": {},
   "outputs": [],
   "source": []
  },
  {
   "cell_type": "code",
   "execution_count": 29,
   "id": "dfdaff4c-50f7-457f-a926-4452b5f668e5",
   "metadata": {},
   "outputs": [],
   "source": [
    "# =====Testing=============\n",
    "men.to_csv(f'../clients_data/raw_data/male.data', header=False, index=False)\n",
    "women.to_csv(f'../clients_data/raw_data/female.data', header=False, index=False)\n",
    "white.to_csv(f'../clients_data/raw_data/white.data', header=False, index=False)\n",
    "black.to_csv(f'../clients_data/raw_data/black.data', header=False, index=False)"
   ]
  },
  {
   "cell_type": "code",
   "execution_count": null,
   "id": "dfc9943e-0b86-4be8-aecd-9712bdcb7095",
   "metadata": {},
   "outputs": [],
   "source": []
  },
  {
   "cell_type": "code",
   "execution_count": null,
   "id": "97dcd00b-966d-499d-8bfc-1dbf10700d4b",
   "metadata": {},
   "outputs": [],
   "source": []
  },
  {
   "cell_type": "code",
   "execution_count": null,
   "id": "af83fabe-21e6-4f20-9df7-3a470d06ee07",
   "metadata": {},
   "outputs": [],
   "source": []
  },
  {
   "cell_type": "markdown",
   "id": "0748dc88-9f3e-4ddc-801c-7a25ad3dd16d",
   "metadata": {},
   "source": [
    "# Subgroup raw_data"
   ]
  },
  {
   "cell_type": "code",
   "execution_count": 30,
   "id": "447706f8-07c5-4608-8179-fda4881af3a2",
   "metadata": {},
   "outputs": [],
   "source": [
    "merge_df_train=df2_sample.copy()"
   ]
  },
  {
   "cell_type": "code",
   "execution_count": 31,
   "id": "54581d36-5394-46cb-b98a-17b264dfb4ba",
   "metadata": {},
   "outputs": [
    {
     "name": "stdout",
     "output_type": "stream",
     "text": [
      "Length:  5975 474 2628 461\n"
     ]
    }
   ],
   "source": [
    "#White Men\n",
    "WM = merge_df_train.loc[(merge_df_train['sex'] == \"Male\") & (merge_df_train['race'] == \"White\")]\n",
    "#Black Men\n",
    "BM = merge_df_train.loc[(merge_df_train['sex'] == \"Male\") & (merge_df_train['race'] == \"Black\")]\n",
    "#white Women\n",
    "WW = merge_df_train.loc[(merge_df_train['sex'] == \"Female\") & (merge_df_train['race'] == \"White\")]\n",
    "#Black Women\n",
    "BW = merge_df_train.loc[(merge_df_train['sex'] == \"Female\") & (merge_df_train['race'] == \"Black\")]\n",
    "\n",
    "print(\"Length: \",len(WM),len(BM),len(WW),len(BW))"
   ]
  },
  {
   "cell_type": "code",
   "execution_count": 32,
   "id": "fd320df3-2a93-4ec8-af4b-7156948c1f64",
   "metadata": {},
   "outputs": [],
   "source": [
    "\n",
    "WW.to_csv(f'../clients_data/raw_data/WW.data', header=False, index=False)\n",
    "WM.to_csv(f'../clients_data/raw_data/WM.data', header=False, index=False)\n",
    "BW.to_csv(f'../clients_data/raw_data/BW.data', header=False, index=False)\n",
    "BM.to_csv(f'../clients_data/raw_data/BM.data', header=False, index=False)"
   ]
  },
  {
   "cell_type": "code",
   "execution_count": 34,
   "id": "fbdcae3e-cd8d-4973-9c06-a62e6b7cd73e",
   "metadata": {},
   "outputs": [],
   "source": [
    "# Length:  5913 482 2652 470\n"
   ]
  },
  {
   "cell_type": "code",
   "execution_count": null,
   "id": "38c8fac9-197b-49f3-90ed-b9f9edcf219f",
   "metadata": {},
   "outputs": [],
   "source": []
  },
  {
   "cell_type": "code",
   "execution_count": null,
   "id": "b491411d-4019-468a-90ce-5fb5cba28944",
   "metadata": {},
   "outputs": [],
   "source": []
  },
  {
   "cell_type": "code",
   "execution_count": null,
   "id": "9440fffa-be70-4389-abac-a4a19ee01a28",
   "metadata": {},
   "outputs": [],
   "source": []
  },
  {
   "cell_type": "code",
   "execution_count": null,
   "id": "4039233d-c41f-49cc-9374-7477df261ae4",
   "metadata": {},
   "outputs": [],
   "source": []
  },
  {
   "cell_type": "code",
   "execution_count": null,
   "id": "fb022b3c-64e9-42d4-abf8-3a31d1b05adf",
   "metadata": {},
   "outputs": [],
   "source": []
  },
  {
   "cell_type": "code",
   "execution_count": null,
   "id": "8c156d6e-24c4-4e1c-9dc4-77d5b4c3e9d0",
   "metadata": {},
   "outputs": [],
   "source": []
  },
  {
   "cell_type": "code",
   "execution_count": null,
   "id": "92e09563-69a2-4ac1-9043-d6dc78d752aa",
   "metadata": {},
   "outputs": [],
   "source": []
  },
  {
   "cell_type": "code",
   "execution_count": null,
   "id": "7fd7687e-3584-4a4e-886c-2f14b1e842a0",
   "metadata": {},
   "outputs": [],
   "source": []
  },
  {
   "cell_type": "code",
   "execution_count": null,
   "id": "f5a16988-d2cc-484f-ab6c-5612e381ea91",
   "metadata": {},
   "outputs": [],
   "source": []
  }
 ],
 "metadata": {
  "kernelspec": {
   "display_name": "Python 3 (ipykernel)",
   "language": "python",
   "name": "python3"
  },
  "language_info": {
   "codemirror_mode": {
    "name": "ipython",
    "version": 3
   },
   "file_extension": ".py",
   "mimetype": "text/x-python",
   "name": "python",
   "nbconvert_exporter": "python",
   "pygments_lexer": "ipython3",
   "version": "3.8.18"
  }
 },
 "nbformat": 4,
 "nbformat_minor": 5
}
