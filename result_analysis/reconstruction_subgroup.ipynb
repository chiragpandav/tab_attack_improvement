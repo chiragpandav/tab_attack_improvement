{
 "cells": [
  {
   "cell_type": "code",
   "execution_count": 1,
   "id": "c4559835-40ef-4882-ab44-484a84581346",
   "metadata": {},
   "outputs": [],
   "source": [
    "import os\n",
    "import sys\n",
    "sys.path.append(\"..\")\n",
    "import numpy as np\n",
    "import torch\n",
    "from utils.matching import match_reconstruction_ground_truth\n",
    "import pandas as pd\n",
    "from utils import Timer, post_process_continuous\n",
    "from attacks import train_and_attack_fed_avg\n",
    "from models import FullyConnected\n",
    "import matplotlib.pyplot as plt\n",
    "import argparse\n",
    "import pickle\n",
    "from attacks import calculate_random_baseline\n",
    "from datasets.base_dataset import BaseDataset\n"
   ]
  },
  {
   "cell_type": "code",
   "execution_count": 2,
   "id": "1a3dc447-5a81-4b75-abb4-f6ac5986d71d",
   "metadata": {},
   "outputs": [],
   "source": [
    "configs = {\n",
    "    # Inverting Gradients\n",
    "    0: {\n",
    "        'n_global_epochs': 1,\n",
    "        'lr': 0.01,\n",
    "        'shuffle': True,\n",
    "        'attacked_clients': 'all',\n",
    "        'attack_iterations': 1500,\n",
    "        'reconstruction_loss': 'cosine_sim',\n",
    "        'priors': None,\n",
    "        'epoch_matching_prior': 'mean_squared_error',\n",
    "        'post_selection': 1,\n",
    "        'attack_learning_rate': 0.06,\n",
    "        'return_all': False,\n",
    "        'pooling': None,\n",
    "        'perfect_pooling': False,\n",
    "        'initialization_mode': 'uniform',\n",
    "        'softmax_trick': False,\n",
    "        'gumbel_softmax_trick': False,\n",
    "        'sigmoid_trick': False,\n",
    "        'temperature_mode': 'constant',\n",
    "        'sign_trick': True,\n",
    "        'verbose': False,\n",
    "        'max_client_dataset_size': 32,\n",
    "        'post_process_cont': False\n",
    "    },\n",
    "    # TabLeak\n",
    "    52: {\n",
    "        'n_global_epochs': 1,\n",
    "        'lr': 0.01,\n",
    "        'shuffle': True,\n",
    "        'attacked_clients': 'all',\n",
    "        'attack_iterations': 1500,\n",
    "        'reconstruction_loss': 'cosine_sim',\n",
    "        'priors': None,\n",
    "        'epoch_matching_prior': 'mean_squared_error',\n",
    "        'post_selection': 15,\n",
    "        'attack_learning_rate': 0.06,\n",
    "        'return_all': False,\n",
    "        'pooling': 'median',\n",
    "        'perfect_pooling': False,\n",
    "        'initialization_mode': 'uniform',\n",
    "        'softmax_trick': True,\n",
    "        'gumbel_softmax_trick': False,\n",
    "        'sigmoid_trick': True,\n",
    "        'temperature_mode': 'constant',\n",
    "        'sign_trick': True,\n",
    "        'verbose': False,\n",
    "        'max_client_dataset_size': 32,\n",
    "        'post_process_cont': False\n",
    "    }\n",
    "}"
   ]
  },
  {
   "cell_type": "code",
   "execution_count": null,
   "id": "a8f1879b-70dc-490e-9ea0-8fba5afe1f52",
   "metadata": {},
   "outputs": [],
   "source": []
  },
  {
   "cell_type": "code",
   "execution_count": null,
   "id": "b4ba288a-f33f-466c-99af-ba4988d07020",
   "metadata": {},
   "outputs": [],
   "source": []
  },
  {
   "cell_type": "code",
   "execution_count": 20,
   "id": "3f36b6e2-06a1-400a-bfa8-eb37af2c5f20",
   "metadata": {},
   "outputs": [],
   "source": [
    "client_models=[0,1,2,3]\n",
    "client_models=[0]\n"
   ]
  },
  {
   "cell_type": "code",
   "execution_count": null,
   "id": "86637af3-6e9a-4898-aca5-ade7d1b2c135",
   "metadata": {},
   "outputs": [],
   "source": []
  },
  {
   "cell_type": "code",
   "execution_count": 21,
   "id": "bf434197-ba8e-4592-a788-f0f3e792769a",
   "metadata": {},
   "outputs": [],
   "source": [
    "\n",
    "\n",
    "def group_filter(client_gt_projected, client_recon_projected, index, value):\n",
    "    # print(\"group_filter applied\")\n",
    "    print(\"index: \",index, \"value: \",value)\n",
    "    filtered_gt = client_gt_projected[client_gt_projected[:, index] == value]\n",
    "    filtered_recon = client_recon_projected[client_gt_projected[:, index] == value]\n",
    "    return filtered_gt, filtered_recon\n",
    "\n",
    "\n",
    "def subgroup_filter(client_gt_projected, client_recon_projected, index1, value1, index2, value2):\n",
    "    # print(\"subgroup_filter applied\")\n",
    "    print(\"index1: \", index1,\"value1: \", value1, \"index2: \",index2,\"value2: \", value2)\n",
    "    condition = (client_gt_projected[:, index1] == value1) & (client_gt_projected[:, index2] == value2)\n",
    "    filtered_gt = client_gt_projected[condition]\n",
    "    filtered_recon = client_recon_projected[condition]\n",
    "    return filtered_gt, filtered_recon\n"
   ]
  },
  {
   "cell_type": "markdown",
   "id": "32bbe5c6-b999-436e-8d7f-ef2f3d3c0a55",
   "metadata": {},
   "source": [
    "# Normal training"
   ]
  },
  {
   "cell_type": "code",
   "execution_count": 22,
   "id": "43b2d12a-1880-4899-9dd8-be933ebca73a",
   "metadata": {},
   "outputs": [
    {
     "name": "stdout",
     "output_type": "stream",
     "text": [
      "Inversion Normal attack\n",
      "----------- Model_name --------------:  0\n",
      "(2000, 14) (2000, 14)\n",
      "index1:  8 value1:  White index2:  9 value2:  Male\n",
      "(1195, 14) (1195, 14)\n",
      "index1:  8 value1:  Black index2:  9 value2:  Male\n",
      "(95, 14) (95, 14)\n",
      "index1:  8 value1:  White index2:  9 value2:  Female\n",
      "(526, 14) (526, 14)\n",
      "index1:  8 value1:  Black index2:  9 value2:  Female\n",
      "(92, 14) (92, 14)\n"
     ]
    }
   ],
   "source": [
    "exp1 = \"tableak_FT_inversion_normal\"\n",
    "config = configs[0]\n",
    "final_grp={}\n",
    "final_subgrp={}\n",
    "\n",
    "print(\"Inversion Normal attack\")\n",
    "num_training_datapoints=2000\n",
    "\n",
    "final_all_errors = []\n",
    "final_cat_errors = []\n",
    "final_cont_errors = []\n",
    "\n",
    "final_all_errors_full = []\n",
    "final_cat_errors_full = []\n",
    "final_cont_errors_full = []\n",
    "\n",
    "\n",
    "for model_name in client_models:\n",
    "    print(\"----------- Model_name --------------: \",model_name)\n",
    "    temp_result={}\n",
    "    \n",
    "    # recn_gt = f'../../{exp1}/50_clients_data/reconstr_and_GT/reconstructions_ground_truths_{model_name}.pkl'\n",
    "    # dataset = f'../../{exp1}/50_clients_data/reconstr_and_GT/dataset_{model_name}.pkl'\n",
    "    # tolerance_map = f'../../{exp1}/50_clients_data/reconstr_and_GT/tolerance_map_{model_name}.pkl'\n",
    "\n",
    "    recn_gt = f'../clients_data/reconstr_and_GT/normal/reconstructions_ground_truths_{model_name}.pkl'\n",
    "    dataset = f'../clients_data/reconstr_and_GT/normal/dataset_{model_name}.pkl'\n",
    "    tolerance_map = f'../clients_data/reconstr_and_GT/normal/tolerance_map_{model_name}.pkl'\n",
    "\n",
    "    with open(recn_gt, 'rb') as file:\n",
    "        recn_gt = pickle.load(file)\n",
    "\n",
    "    with open(dataset, 'rb') as file:\n",
    "        dataset = pickle.load(file)\n",
    "    \n",
    "    with open(tolerance_map, 'rb') as file:\n",
    "        tolerance_map = pickle.load(file)\n",
    "\n",
    "    reconstructions = recn_gt['reconstructions']\n",
    "    ground_truths = recn_gt['ground_truths']\n",
    "\n",
    "    all_errors = []\n",
    "    cat_errors = []\n",
    "    cont_errors = []\n",
    "    \n",
    "    all_errors_full = []\n",
    "    cat_errors_full = []\n",
    "    cont_errors_full = []\n",
    "    \n",
    "    temp_all_errors = []\n",
    "    temp_cat_errors = []\n",
    "    temp_cont_errors = []\n",
    "    \n",
    "    match_results = {}\n",
    "\n",
    "    # index_value_pairs = [(8, \"White\"),(8,\"Black\"), (9, \"Male\"), (9, \"Female\")]\n",
    "    \n",
    "    subgroup_pairs = [\n",
    "        [(8, \"White\"), (9, \"Male\")], # WM\n",
    "        [(8,\"Black\"), (9, \"Male\")], # BM\n",
    "        [(8, \"White\"), (9, \"Female\")], # WW\n",
    "        [(8, \"Black\"), (9, \"Female\")]  # BW\n",
    "    ]\n",
    "\n",
    "    for epoch_reconstruction, epoch_ground_truth in zip(reconstructions, ground_truths):\n",
    "        for client_reconstruction, client_ground_truth in zip(epoch_reconstruction, epoch_ground_truth):\n",
    "            if config['post_process_cont']:\n",
    "                client_reconstruction = post_process_continuous(client_reconstruction, dataset=dataset)\n",
    "            client_recon_projected, client_gt_projected = dataset.decode_batch(client_reconstruction, standardized=True), dataset.decode_batch(client_ground_truth, standardized=True)\n",
    "                    \n",
    "            print(client_gt_projected.shape, client_recon_projected.shape)\n",
    "                    \n",
    "            _, batch_cost_all_original, batch_cost_cat_original, batch_cost_cont_original = match_reconstruction_ground_truth(\n",
    "                                client_gt_projected, client_recon_projected, tolerance_map\n",
    "                                )\n",
    "            all_errors_full.append(np.mean(batch_cost_all_original))\n",
    "            cat_errors_full.append(np.mean(batch_cost_cat_original))\n",
    "            cont_errors_full.append(np.mean(batch_cost_cont_original))  \n",
    "\n",
    "            final_all_errors_full.append(all_errors_full)\n",
    "            final_cat_errors_full.append(cat_errors_full)\n",
    "            final_cont_errors_full.append(cont_errors_full) \n",
    "            \n",
    "            # for index, value in index_value_pairs:\n",
    "            for (index1, value1), (index2, value2) in subgroup_pairs:\n",
    "\n",
    "                temp_all_errors = []\n",
    "                temp_cat_errors = []\n",
    "                temp_cont_errors = []\n",
    "            \n",
    "                # filtered_gt, filtered_recon = group_filter(client_gt_projected, client_recon_projected, index=index, value=value)  \n",
    "                filtered_gt, filtered_recon = subgroup_filter(client_gt_projected, client_recon_projected, index1, value1, index2, value2)\n",
    "                print(filtered_gt.shape, filtered_recon.shape)\n",
    "    \n",
    "                # Call match_reconstruction_ground_truth with the filtered results\n",
    "                _, batch_cost_all, batch_cost_cat, batch_cost_cont = match_reconstruction_ground_truth(filtered_gt, filtered_recon, tolerance_map)\n",
    "                \n",
    "                temp_all_errors.append(np.mean(batch_cost_all))\n",
    "                temp_cat_errors.append(np.mean(batch_cost_cat))\n",
    "                temp_cont_errors.append(np.mean(batch_cost_cont))  \n",
    "    \n",
    "                all_errors.append(temp_all_errors)\n",
    "                cat_errors.append(temp_cat_errors)\n",
    "                cont_errors.append(temp_cont_errors) \n",
    "                \n",
    "            final_all_errors.append(all_errors)\n",
    "            final_cat_errors.append(cat_errors)\n",
    "            final_cont_errors.append(cont_errors)         "
   ]
  },
  {
   "cell_type": "code",
   "execution_count": 23,
   "id": "f2ee34a6-0bab-415a-a6d9-1646bff24f39",
   "metadata": {},
   "outputs": [],
   "source": [
    "local_epochs=[5]\n",
    "local_batch_sizes=[8]\n",
    "epoch_prior_params=[0.01]\n",
    "all_state_recon={}\n",
    "\n",
    "for m,model_name in enumerate(client_models):\n",
    "    collected_data = np.zeros((len(local_epochs), len(local_batch_sizes), len(epoch_prior_params), 3, 5))\n",
    "    \n",
    "    for i, lepochs in enumerate(local_epochs):\n",
    "        for j, lbatch_size in enumerate(local_batch_sizes):\n",
    "            for k, epoch_prior_param in enumerate(epoch_prior_params):\n",
    "    \n",
    "                collected_data[i, j, k, 0] = np.mean(final_all_errors_full[m]), np.std(final_all_errors_full[m]), np.median(final_all_errors_full[m]), np.min(final_all_errors_full[m]), np.max(final_all_errors_full[m])\n",
    "                collected_data[i, j, k, 1] = np.mean(final_cat_errors_full[m]), np.std(final_cat_errors_full[m]), np.median(final_cat_errors_full[m]), np.min(final_cat_errors_full[m]), np.max(final_cat_errors_full[m])\n",
    "                collected_data[i, j, k, 2] = np.mean(final_cont_errors_full[m]), np.std(final_cont_errors_full[m]), np.median(final_cont_errors_full[m]), np.min(final_cont_errors_full[m]), np.max(final_cont_errors_full[m])\n",
    "    \n",
    "            best_param_index = np.argmin(collected_data[i, j, :, 0, 0]).item()\n",
    "\n",
    "    temp_var=float(100 * (1 - collected_data[i, j, best_param_index, 0, 0]))\n",
    "    all_state_recon[model_name]=temp_var\n",
    "    # print(f'Performance at {lepochs} Epochs and {lbatch_size} Batch Size: {100*(1-collected_data[i, j, best_param_index, 0, 0]):.1f}% +- {100*collected_data[i, j, best_param_index, 0, 1]:.2f}')\n",
    "    # total_recon= 100 * (1 - collected_data[i, j, best_param_index, 0, 0])\n",
    "    # print(\"total_recon: \",total_recon)\n"
   ]
  },
  {
   "cell_type": "code",
   "execution_count": 24,
   "id": "a68c8458-26d5-4aec-b9e6-fa68b83b0d1f",
   "metadata": {},
   "outputs": [
    {
     "data": {
      "text/plain": [
       "{0: 56.82857142857143}"
      ]
     },
     "execution_count": 24,
     "metadata": {},
     "output_type": "execute_result"
    }
   ],
   "source": [
    "all_state_recon"
   ]
  },
  {
   "cell_type": "code",
   "execution_count": 25,
   "id": "eaa74d8e-e536-4e83-8355-932cc9d41669",
   "metadata": {},
   "outputs": [
    {
     "name": "stdout",
     "output_type": "stream",
     "text": [
      "All state reconstructed data has been stored in inversion_normal_adult_all_clients_reconstruction.pickle\n"
     ]
    }
   ],
   "source": [
    "filename_all_state_inversion = \"inversion_normal_adult_all_clients_reconstruction.pickle\"\n",
    "\n",
    "with open(filename_all_state_inversion, 'wb') as file:\n",
    "    pickle.dump(all_state_recon, file)\n",
    "\n",
    "print(f\"All state reconstructed data has been stored in {filename_all_state_inversion}\")\n"
   ]
  },
  {
   "cell_type": "code",
   "execution_count": null,
   "id": "c0e4badd-f176-4256-9276-0c1c051ac4f8",
   "metadata": {},
   "outputs": [],
   "source": []
  },
  {
   "cell_type": "code",
   "execution_count": 26,
   "id": "f87d0b39-7046-453f-a62b-0f475f85b608",
   "metadata": {},
   "outputs": [
    {
     "name": "stdout",
     "output_type": "stream",
     "text": [
      "all_errors [[0.3888822474596533], [0.5233082706766917], [0.5563552417164583], [0.638975155279503]]\n"
     ]
    }
   ],
   "source": [
    "local_epochs = [5]\n",
    "local_batch_sizes = [8]\n",
    "epoch_prior_params = [0.01]\n",
    "final_group_reco={}\n",
    "\n",
    "for m,model_name in enumerate(client_models):\n",
    "    \n",
    "    temp_group_score=[]\n",
    "    all_errors =final_all_errors[m]\n",
    "    cat_errors=final_cat_errors[m]\n",
    "    cont_errors=final_cont_errors[m]\n",
    "    print(\"all_errors\",all_errors)\n",
    "    for i in range(len(all_errors)):\n",
    "        collected_data = np.zeros((len(local_epochs), len(local_batch_sizes), len(epoch_prior_params), 3, 5))\n",
    "\n",
    "        for m, lepochs in enumerate(local_epochs): \n",
    "            for j, lbatch_size in enumerate(local_batch_sizes):\n",
    "                for k, epoch_prior_param in enumerate(epoch_prior_params):\n",
    "                    \n",
    "                    collected_data[m, j, k, 0] = np.mean(all_errors[i]), np.std(all_errors[i]), np.median(all_errors[i]), np.min(all_errors[i]), np.max(all_errors[i])\n",
    "                    collected_data[m, j, k, 1] = np.mean(cat_errors[i]), np.std(cat_errors[i]), np.median(cat_errors[i]), np.min(cat_errors[i]), np.max(cat_errors[i])\n",
    "                    collected_data[m, j, k, 2] = np.mean(cont_errors[i]), np.std(cont_errors[i]), np.median(cont_errors[i]), np.min(cont_errors[i]), np.max(cont_errors[i])\n",
    "    \n",
    "                best_param_index = np.argmin(collected_data[m, j, :, 0, 0]).item()\n",
    "    \n",
    "            # print(\"best_param_index\", best_param_index)\n",
    "            # print(f'Performance at {lepochs} Epochs and {lbatch_size} Batch Size: {100*(1-collected_data[m, j, best_param_index, 0, 0]):.1f}% +- {100*collected_data[m, j, best_param_index, 0, 1]:.2f}')\n",
    "            temp_var=float(100 * (1 - collected_data[m, j, best_param_index, 0, 0]))\n",
    "            temp_group_score.append(temp_var)\n",
    "            \n",
    "        # print(temp_group_score)\n",
    "        \n",
    "    final_group_reco[model_name] = {\n",
    "        \"WM\":temp_group_score[0],\n",
    "        \"BM\":temp_group_score[1] ,\n",
    "        \"WW\":temp_group_score[2] ,\n",
    "        \"BW\": temp_group_score[3]\n",
    "    }\n",
    "\n"
   ]
  },
  {
   "cell_type": "code",
   "execution_count": 27,
   "id": "827f3567-6ad8-4079-b2f6-0e83328fc7fd",
   "metadata": {},
   "outputs": [
    {
     "data": {
      "text/plain": [
       "{0: {'WM': 61.111775254034676,\n",
       "  'BM': 47.66917293233083,\n",
       "  'WW': 44.364475828354166,\n",
       "  'BW': 36.1024844720497}}"
      ]
     },
     "execution_count": 27,
     "metadata": {},
     "output_type": "execute_result"
    }
   ],
   "source": [
    "final_group_reco"
   ]
  },
  {
   "cell_type": "code",
   "execution_count": 28,
   "id": "73d4972f-218c-450c-a41a-7714e8af93d3",
   "metadata": {},
   "outputs": [
    {
     "name": "stdout",
     "output_type": "stream",
     "text": [
      "Group reconstructed data has been stored in inversion_normal_adult_subgroup_reconstruction.pickle\n"
     ]
    }
   ],
   "source": [
    "\n",
    "filename_all_state_inversion_group = \"inversion_normal_adult_subgroup_reconstruction.pickle\"\n",
    "\n",
    "with open(filename_all_state_inversion_group, 'wb') as file:\n",
    "    pickle.dump(final_group_reco, file)\n",
    "\n",
    "print(f\"Group reconstructed data has been stored in {filename_all_state_inversion_group}\")"
   ]
  },
  {
   "cell_type": "code",
   "execution_count": null,
   "id": "f07a0c47-777b-4898-9aa4-fe7cb3168b1e",
   "metadata": {},
   "outputs": [],
   "source": []
  },
  {
   "cell_type": "code",
   "execution_count": null,
   "id": "8ab50cc0-d2d8-4921-a20e-12df636a348f",
   "metadata": {},
   "outputs": [],
   "source": []
  },
  {
   "cell_type": "code",
   "execution_count": null,
   "id": "955e78e7-72d4-41d3-a220-a597bfe76d37",
   "metadata": {},
   "outputs": [],
   "source": []
  },
  {
   "cell_type": "markdown",
   "id": "e12b590d-54d8-40d6-b7ed-c8072e2cb2ca",
   "metadata": {},
   "source": [
    "# DP training"
   ]
  },
  {
   "cell_type": "code",
   "execution_count": 29,
   "id": "b8e509c9-38a3-4882-8c85-0e10a7bf63d8",
   "metadata": {},
   "outputs": [
    {
     "name": "stdout",
     "output_type": "stream",
     "text": [
      "Inversion Normal attack\n",
      "----------- Model_name --------------:  0\n",
      "(2000, 14) (2000, 14)\n"
     ]
    },
    {
     "ename": "KeyboardInterrupt",
     "evalue": "",
     "output_type": "error",
     "traceback": [
      "\u001b[0;31m---------------------------------------------------------------------------\u001b[0m",
      "\u001b[0;31mKeyboardInterrupt\u001b[0m                         Traceback (most recent call last)",
      "Cell \u001b[0;32mIn[29], line 65\u001b[0m\n\u001b[1;32m     61\u001b[0m client_recon_projected, client_gt_projected \u001b[38;5;241m=\u001b[39m dataset\u001b[38;5;241m.\u001b[39mdecode_batch(client_reconstruction, standardized\u001b[38;5;241m=\u001b[39m\u001b[38;5;28;01mTrue\u001b[39;00m), dataset\u001b[38;5;241m.\u001b[39mdecode_batch(client_ground_truth, standardized\u001b[38;5;241m=\u001b[39m\u001b[38;5;28;01mTrue\u001b[39;00m)\n\u001b[1;32m     63\u001b[0m \u001b[38;5;28mprint\u001b[39m(client_gt_projected\u001b[38;5;241m.\u001b[39mshape, client_recon_projected\u001b[38;5;241m.\u001b[39mshape)\n\u001b[0;32m---> 65\u001b[0m _, batch_cost_all_original, batch_cost_cat_original, batch_cost_cont_original \u001b[38;5;241m=\u001b[39m \u001b[43mmatch_reconstruction_ground_truth\u001b[49m\u001b[43m(\u001b[49m\n\u001b[1;32m     66\u001b[0m \u001b[43m                    \u001b[49m\u001b[43mclient_gt_projected\u001b[49m\u001b[43m,\u001b[49m\u001b[43m \u001b[49m\u001b[43mclient_recon_projected\u001b[49m\u001b[43m,\u001b[49m\u001b[43m \u001b[49m\u001b[43mtolerance_map\u001b[49m\n\u001b[1;32m     67\u001b[0m \u001b[43m                    \u001b[49m\u001b[43m)\u001b[49m\n\u001b[1;32m     68\u001b[0m all_errors_full\u001b[38;5;241m.\u001b[39mappend(np\u001b[38;5;241m.\u001b[39mmean(batch_cost_all_original))\n\u001b[1;32m     69\u001b[0m cat_errors_full\u001b[38;5;241m.\u001b[39mappend(np\u001b[38;5;241m.\u001b[39mmean(batch_cost_cat_original))\n",
      "File \u001b[0;32m/home/luser/chirag/QAT_experiments/tableak_adult/result_analysis/../utils/matching.py:35\u001b[0m, in \u001b[0;36mmatch_reconstruction_ground_truth\u001b[0;34m(target_batch, reconstructed_batch, tolerance_map, return_indices, match_based_on)\u001b[0m\n\u001b[1;32m     33\u001b[0m \u001b[38;5;28;01mfor\u001b[39;00m k, target_data_point \u001b[38;5;129;01min\u001b[39;00m \u001b[38;5;28menumerate\u001b[39m(target_batch):\n\u001b[1;32m     34\u001b[0m     \u001b[38;5;28;01mfor\u001b[39;00m l, recon_data_point \u001b[38;5;129;01min\u001b[39;00m \u001b[38;5;28menumerate\u001b[39m(reconstructed_batch):\n\u001b[0;32m---> 35\u001b[0m         cost_all, cost_cat, cost_cont \u001b[38;5;241m=\u001b[39m \u001b[43mcategorical_accuracy_continuous_tolerance_score\u001b[49m\u001b[43m(\u001b[49m\n\u001b[1;32m     36\u001b[0m \u001b[43m            \u001b[49m\u001b[43mtarget_data_point\u001b[49m\u001b[43m,\u001b[49m\u001b[43m \u001b[49m\u001b[43mrecon_data_point\u001b[49m\u001b[43m,\u001b[49m\u001b[43m \u001b[49m\u001b[43mtolerance_map\u001b[49m\u001b[43m,\u001b[49m\u001b[43m \u001b[49m\u001b[38;5;28;43;01mTrue\u001b[39;49;00m\u001b[43m)\u001b[49m\n\u001b[1;32m     37\u001b[0m         cost_matrix_all[k, l], cost_matrix_cat[k, l], cost_matrix_cont[k, l] \u001b[38;5;241m=\u001b[39m cost_all, cost_cat, cost_cont\n\u001b[1;32m     39\u001b[0m \u001b[38;5;66;03m# perform the Hungarian algorithm to match the reconstruction\u001b[39;00m\n",
      "File \u001b[0;32m/home/luser/chirag/QAT_experiments/tableak_adult/result_analysis/../utils/eval_metrics.py:149\u001b[0m, in \u001b[0;36mcategorical_accuracy_continuous_tolerance_score\u001b[0;34m(true_data, reconstructed_data, tolerance_map, detailed)\u001b[0m\n\u001b[1;32m    147\u001b[0m \u001b[38;5;28;01massert\u001b[39;00m \u001b[38;5;28mlen\u001b[39m(true_data) \u001b[38;5;241m==\u001b[39m \u001b[38;5;28mlen\u001b[39m(tolerance_map)\n\u001b[1;32m    148\u001b[0m \u001b[38;5;28;01mif\u001b[39;00m detailed:\n\u001b[0;32m--> 149\u001b[0m     scores \u001b[38;5;241m=\u001b[39m \u001b[43m_categorical_accuracy_continuous_tolerance_score\u001b[49m\u001b[43m(\u001b[49m\u001b[43mtrue_data\u001b[49m\u001b[43m,\u001b[49m\u001b[43m \u001b[49m\u001b[43mreconstructed_data\u001b[49m\u001b[43m,\u001b[49m\u001b[43m \u001b[49m\u001b[43mtolerance_map\u001b[49m\u001b[43m,\u001b[49m\u001b[43m \u001b[49m\u001b[38;5;28;43;01mTrue\u001b[39;49;00m\u001b[43m)\u001b[49m\n\u001b[1;32m    150\u001b[0m     score \u001b[38;5;241m+\u001b[39m\u001b[38;5;241m=\u001b[39m scores[\u001b[38;5;241m0\u001b[39m]\n\u001b[1;32m    151\u001b[0m     cat_score \u001b[38;5;241m+\u001b[39m\u001b[38;5;241m=\u001b[39m scores[\u001b[38;5;241m1\u001b[39m]\n",
      "File \u001b[0;32m/home/luser/chirag/QAT_experiments/tableak_adult/result_analysis/../utils/eval_metrics.py:90\u001b[0m, in \u001b[0;36m_categorical_accuracy_continuous_tolerance_score\u001b[0;34m(true_data, reconstructed_data, tolerance_map, detailed)\u001b[0m\n\u001b[1;32m     88\u001b[0m \u001b[38;5;28;01mfor\u001b[39;00m true_feature, reconstructed_feature, tol \u001b[38;5;129;01min\u001b[39;00m \u001b[38;5;28mzip\u001b[39m(true_data, reconstructed_data, tolerance_map):\n\u001b[1;32m     89\u001b[0m     \u001b[38;5;28;01mif\u001b[39;00m tol \u001b[38;5;241m==\u001b[39m \u001b[38;5;124m'\u001b[39m\u001b[38;5;124mcat\u001b[39m\u001b[38;5;124m'\u001b[39m:\n\u001b[0;32m---> 90\u001b[0m         cat_score \u001b[38;5;241m+\u001b[39m\u001b[38;5;241m=\u001b[39m \u001b[38;5;241m0\u001b[39m \u001b[38;5;28;01mif\u001b[39;00m \u001b[38;5;28mstr\u001b[39m(true_feature) \u001b[38;5;241m==\u001b[39m \u001b[38;5;28;43mstr\u001b[39;49m\u001b[43m(\u001b[49m\u001b[43mreconstructed_feature\u001b[49m\u001b[43m)\u001b[49m \u001b[38;5;28;01melse\u001b[39;00m \u001b[38;5;241m1\u001b[39m\n\u001b[1;32m     91\u001b[0m         num_cats \u001b[38;5;241m+\u001b[39m\u001b[38;5;241m=\u001b[39m \u001b[38;5;241m1\u001b[39m\n\u001b[1;32m     92\u001b[0m     \u001b[38;5;28;01melif\u001b[39;00m \u001b[38;5;129;01mnot\u001b[39;00m \u001b[38;5;28misinstance\u001b[39m(tol, \u001b[38;5;28mstr\u001b[39m):\n",
      "\u001b[0;31mKeyboardInterrupt\u001b[0m: "
     ]
    }
   ],
   "source": [
    "exp1 = \"tableak_FT_inversion_normal\"\n",
    "config = configs[0]\n",
    "final_grp={}\n",
    "final_subgrp={}\n",
    "\n",
    "print(\"Inversion Normal attack\")\n",
    "num_training_datapoints=2000\n",
    "\n",
    "final_all_errors = []\n",
    "final_cat_errors = []\n",
    "final_cont_errors = []\n",
    "\n",
    "final_all_errors_full = []\n",
    "final_cat_errors_full = []\n",
    "final_cont_errors_full = []\n",
    "\n",
    "\n",
    "for model_name in client_models:\n",
    "    print(\"----------- Model_name --------------: \",model_name)\n",
    "    temp_result={}\n",
    "    \n",
    "    # recn_gt = f'../../{exp1}/50_clients_data/reconstr_and_GT/reconstructions_ground_truths_{model_name}.pkl'\n",
    "    # dataset = f'../../{exp1}/50_clients_data/reconstr_and_GT/dataset_{model_name}.pkl'\n",
    "    # tolerance_map = f'../../{exp1}/50_clients_data/reconstr_and_GT/tolerance_map_{model_name}.pkl'\n",
    "\n",
    "    recn_gt = f'../clients_data/reconstr_and_GT/dp/reconstructions_ground_truths_{model_name}.pkl'\n",
    "    dataset = f'../clients_data/reconstr_and_GT/dp/dataset_{model_name}.pkl'\n",
    "    tolerance_map = f'../clients_data/reconstr_and_GT/dp/tolerance_map_{model_name}.pkl'\n",
    "\n",
    "    with open(recn_gt, 'rb') as file:\n",
    "        recn_gt = pickle.load(file)\n",
    "\n",
    "    with open(dataset, 'rb') as file:\n",
    "        dataset = pickle.load(file)\n",
    "    \n",
    "    with open(tolerance_map, 'rb') as file:\n",
    "        tolerance_map = pickle.load(file)\n",
    "\n",
    "    reconstructions = recn_gt['reconstructions']\n",
    "    ground_truths = recn_gt['ground_truths']\n",
    "\n",
    "    all_errors = []\n",
    "    cat_errors = []\n",
    "    cont_errors = []\n",
    "    \n",
    "    all_errors_full = []\n",
    "    cat_errors_full = []\n",
    "    cont_errors_full = []\n",
    "    \n",
    "    temp_all_errors = []\n",
    "    temp_cat_errors = []\n",
    "    temp_cont_errors = []\n",
    "    \n",
    "    match_results = {}\n",
    "    index_value_pairs = [(8, \"White\"),(8,\"Black\"), (9, \"Male\"), (9, \"Female\")]\n",
    "\n",
    "    for epoch_reconstruction, epoch_ground_truth in zip(reconstructions, ground_truths):\n",
    "        for client_reconstruction, client_ground_truth in zip(epoch_reconstruction, epoch_ground_truth):\n",
    "            if config['post_process_cont']:\n",
    "                client_reconstruction = post_process_continuous(client_reconstruction, dataset=dataset)\n",
    "            client_recon_projected, client_gt_projected = dataset.decode_batch(client_reconstruction, standardized=True), dataset.decode_batch(client_ground_truth, standardized=True)\n",
    "                    \n",
    "            print(client_gt_projected.shape, client_recon_projected.shape)\n",
    "                    \n",
    "            _, batch_cost_all_original, batch_cost_cat_original, batch_cost_cont_original = match_reconstruction_ground_truth(\n",
    "                                client_gt_projected, client_recon_projected, tolerance_map\n",
    "                                )\n",
    "            all_errors_full.append(np.mean(batch_cost_all_original))\n",
    "            cat_errors_full.append(np.mean(batch_cost_cat_original))\n",
    "            cont_errors_full.append(np.mean(batch_cost_cont_original))  \n",
    "\n",
    "            final_all_errors_full.append(all_errors_full)\n",
    "            final_cat_errors_full.append(cat_errors_full)\n",
    "            final_cont_errors_full.append(cont_errors_full) \n",
    "            \n",
    "            for (index1, value1), (index2, value2) in subgroup_pairs:\n",
    "\n",
    "                temp_all_errors = []\n",
    "                temp_cat_errors = []\n",
    "                temp_cont_errors = []\n",
    "            \n",
    "                # filtered_gt, filtered_recon = group_filter(client_gt_projected, client_recon_projected, index=index, value=value)  \n",
    "                filtered_gt, filtered_recon = subgroup_filter(client_gt_projected, client_recon_projected, index1, value1, index2, value2)\n",
    "                print(filtered_gt.shape, filtered_recon.shape)\n",
    "    \n",
    "                # Call match_reconstruction_ground_truth with the filtered results\n",
    "                _, batch_cost_all, batch_cost_cat, batch_cost_cont = match_reconstruction_ground_truth(filtered_gt, filtered_recon, tolerance_map)\n",
    "                \n",
    "                temp_all_errors.append(np.mean(batch_cost_all))\n",
    "                temp_cat_errors.append(np.mean(batch_cost_cat))\n",
    "                temp_cont_errors.append(np.mean(batch_cost_cont))  \n",
    "    \n",
    "                all_errors.append(temp_all_errors)\n",
    "                cat_errors.append(temp_cat_errors)\n",
    "                cont_errors.append(temp_cont_errors) \n",
    "                \n",
    "            final_all_errors.append(all_errors)\n",
    "            final_cat_errors.append(cat_errors)\n",
    "            final_cont_errors.append(cont_errors)         "
   ]
  },
  {
   "cell_type": "code",
   "execution_count": null,
   "id": "f0e035b8-1bea-41a7-ab95-eb80b4b3548f",
   "metadata": {},
   "outputs": [],
   "source": []
  },
  {
   "cell_type": "code",
   "execution_count": null,
   "id": "dd1fdc83-223c-438c-afdb-49f7fc64ea92",
   "metadata": {},
   "outputs": [],
   "source": []
  },
  {
   "cell_type": "code",
   "execution_count": null,
   "id": "c71ea264-a41d-45f8-9b8a-d7b9ce968a03",
   "metadata": {},
   "outputs": [],
   "source": []
  },
  {
   "cell_type": "code",
   "execution_count": null,
   "id": "b034bf28-98c8-492d-b5d9-8cb47a50cd1a",
   "metadata": {},
   "outputs": [],
   "source": [
    "local_epochs=[5]\n",
    "local_batch_sizes=[8]\n",
    "epoch_prior_params=[0.01]\n",
    "all_state_recon={}\n",
    "\n",
    "for m,model_name in enumerate(client_models):\n",
    "    collected_data = np.zeros((len(local_epochs), len(local_batch_sizes), len(epoch_prior_params), 3, 5))\n",
    "    \n",
    "    for i, lepochs in enumerate(local_epochs):\n",
    "        for j, lbatch_size in enumerate(local_batch_sizes):\n",
    "            for k, epoch_prior_param in enumerate(epoch_prior_params):\n",
    "    \n",
    "                collected_data[i, j, k, 0] = np.mean(final_all_errors_full[m]), np.std(final_all_errors_full[m]), np.median(final_all_errors_full[m]), np.min(final_all_errors_full[m]), np.max(final_all_errors_full[m])\n",
    "                collected_data[i, j, k, 1] = np.mean(final_cat_errors_full[m]), np.std(final_cat_errors_full[m]), np.median(final_cat_errors_full[m]), np.min(final_cat_errors_full[m]), np.max(final_cat_errors_full[m])\n",
    "                collected_data[i, j, k, 2] = np.mean(final_cont_errors_full[m]), np.std(final_cont_errors_full[m]), np.median(final_cont_errors_full[m]), np.min(final_cont_errors_full[m]), np.max(final_cont_errors_full[m])\n",
    "    \n",
    "            best_param_index = np.argmin(collected_data[i, j, :, 0, 0]).item()\n",
    "\n",
    "    temp_var=float(100 * (1 - collected_data[i, j, best_param_index, 0, 0]))\n",
    "    all_state_recon[model_name]=temp_var\n",
    "    # print(f'Performance at {lepochs} Epochs and {lbatch_size} Batch Size: {100*(1-collected_data[i, j, best_param_index, 0, 0]):.1f}% +- {100*collected_data[i, j, best_param_index, 0, 1]:.2f}')\n",
    "    # total_recon= 100 * (1 - collected_data[i, j, best_param_index, 0, 0])\n",
    "    # print(\"total_recon: \",total_recon)\n"
   ]
  },
  {
   "cell_type": "code",
   "execution_count": null,
   "id": "5dc1085e-59e0-4729-990b-839f1ab00615",
   "metadata": {},
   "outputs": [],
   "source": [
    "all_state_recon"
   ]
  },
  {
   "cell_type": "code",
   "execution_count": null,
   "id": "08ed8ce2-8636-4b6f-aa6c-8aa20a1717f8",
   "metadata": {},
   "outputs": [],
   "source": [
    "filename_all_state_inversion = \"inversion_dp_adult_all_clients_reconstruction.pickle\"\n",
    "\n",
    "with open(filename_all_state_inversion, 'wb') as file:\n",
    "    pickle.dump(all_state_recon, file)\n",
    "\n",
    "print(f\"All state reconstructed data has been stored in {filename_all_state_inversion}\")\n"
   ]
  },
  {
   "cell_type": "code",
   "execution_count": null,
   "id": "8367ae2b-3947-4708-808a-c64d65cdbe01",
   "metadata": {},
   "outputs": [],
   "source": []
  },
  {
   "cell_type": "code",
   "execution_count": null,
   "id": "c77f38dd-d54a-4c1d-98b6-a67ff9eaf17a",
   "metadata": {},
   "outputs": [],
   "source": [
    "\n",
    "local_epochs = [5]\n",
    "local_batch_sizes = [8]\n",
    "epoch_prior_params = [0.01]\n",
    "final_group_reco={}\n",
    "for m,model_name in enumerate(client_models):\n",
    "    \n",
    "    temp_group_score=[]\n",
    "    all_errors =final_all_errors[m]\n",
    "    cat_errors=final_cat_errors[m]\n",
    "    cont_errors=final_cont_errors[m]\n",
    "    print(\"all_errors\",all_errors)\n",
    "    for i in range(len(all_errors)):\n",
    "        collected_data = np.zeros((len(local_epochs), len(local_batch_sizes), len(epoch_prior_params), 3, 5))\n",
    "\n",
    "        for m, lepochs in enumerate(local_epochs): \n",
    "            for j, lbatch_size in enumerate(local_batch_sizes):\n",
    "                for k, epoch_prior_param in enumerate(epoch_prior_params):\n",
    "                    \n",
    "                    collected_data[m, j, k, 0] = np.mean(all_errors[i]), np.std(all_errors[i]), np.median(all_errors[i]), np.min(all_errors[i]), np.max(all_errors[i])\n",
    "                    collected_data[m, j, k, 1] = np.mean(cat_errors[i]), np.std(cat_errors[i]), np.median(cat_errors[i]), np.min(cat_errors[i]), np.max(cat_errors[i])\n",
    "                    collected_data[m, j, k, 2] = np.mean(cont_errors[i]), np.std(cont_errors[i]), np.median(cont_errors[i]), np.min(cont_errors[i]), np.max(cont_errors[i])\n",
    "    \n",
    "                best_param_index = np.argmin(collected_data[m, j, :, 0, 0]).item()\n",
    "    \n",
    "            # print(\"best_param_index\", best_param_index)\n",
    "            # print(f'Performance at {lepochs} Epochs and {lbatch_size} Batch Size: {100*(1-collected_data[m, j, best_param_index, 0, 0]):.1f}% +- {100*collected_data[m, j, best_param_index, 0, 1]:.2f}')\n",
    "            temp_var=float(100 * (1 - collected_data[m, j, best_param_index, 0, 0]))\n",
    "            temp_group_score.append(temp_var)\n",
    "            \n",
    "        # print(temp_group_score)\n",
    "        \n",
    "    final_group_reco[model_name] = {\n",
    "        \"WM\":temp_group_score[0],\n",
    "        \"BM\":temp_group_score[1] ,\n",
    "        \"WW\":temp_group_score[2] ,\n",
    "        \"BW\": temp_group_score[3]\n",
    "    }\n",
    "\n"
   ]
  },
  {
   "cell_type": "code",
   "execution_count": null,
   "id": "99a44a1a-9239-4560-a271-0d64a38b04e4",
   "metadata": {},
   "outputs": [],
   "source": [
    "final_group_reco"
   ]
  },
  {
   "cell_type": "code",
   "execution_count": null,
   "id": "92d3eb76-c6d1-4788-b8e0-5ca73f7bd243",
   "metadata": {},
   "outputs": [],
   "source": []
  },
  {
   "cell_type": "code",
   "execution_count": null,
   "id": "dd0d3c52-d010-4d45-a974-372a3dba2dcb",
   "metadata": {},
   "outputs": [],
   "source": [
    "\n",
    "filename_all_state_inversion_group = \"inversion_dp_adult_subgroup_reconstruction.pickle\"\n",
    "\n",
    "with open(filename_all_state_inversion_group, 'wb') as file:\n",
    "    pickle.dump(final_group_reco, file)\n",
    "\n",
    "print(f\"Group reconstructed data has been stored in {filename_all_state_inversion_group}\")"
   ]
  },
  {
   "cell_type": "code",
   "execution_count": null,
   "id": "a57678a2-5ac1-434e-9632-bc8a1847b82c",
   "metadata": {},
   "outputs": [],
   "source": []
  },
  {
   "cell_type": "code",
   "execution_count": null,
   "id": "803949cc-bbaf-4c21-9f69-0498fb9d7390",
   "metadata": {},
   "outputs": [],
   "source": []
  },
  {
   "cell_type": "markdown",
   "id": "7b98d3a3-1196-4cd4-9cdb-78e524b2686b",
   "metadata": {},
   "source": [
    "# Fair Training"
   ]
  },
  {
   "cell_type": "code",
   "execution_count": null,
   "id": "c1cfd04c-03bf-4ef3-988d-01aa0446daf7",
   "metadata": {},
   "outputs": [],
   "source": [
    "exp1 = \"tableak_FT_inversion_normal\"\n",
    "config = configs[0]\n",
    "final_grp={}\n",
    "final_subgrp={}\n",
    "\n",
    "print(\"Inversion Normal attack\")\n",
    "num_training_datapoints=2000\n",
    "\n",
    "final_all_errors = []\n",
    "final_cat_errors = []\n",
    "final_cont_errors = []\n",
    "\n",
    "final_all_errors_full = []\n",
    "final_cat_errors_full = []\n",
    "final_cont_errors_full = []\n",
    "\n",
    "\n",
    "for model_name in client_models:\n",
    "    print(\"----------- Model_name --------------: \",model_name)\n",
    "    temp_result={}\n",
    "    \n",
    "    # recn_gt = f'../../{exp1}/50_clients_data/reconstr_and_GT/reconstructions_ground_truths_{model_name}.pkl'\n",
    "    # dataset = f'../../{exp1}/50_clients_data/reconstr_and_GT/dataset_{model_name}.pkl'\n",
    "    # tolerance_map = f'../../{exp1}/50_clients_data/reconstr_and_GT/tolerance_map_{model_name}.pkl'\n",
    "\n",
    "    recn_gt = f'../clients_data/reconstr_and_GT/fair/reconstructions_ground_truths_{model_name}.pkl'\n",
    "    dataset = f'../clients_data/reconstr_and_GT/fair/dataset_{model_name}.pkl'\n",
    "    tolerance_map = f'../clients_data/reconstr_and_GT/fair/tolerance_map_{model_name}.pkl'\n",
    "\n",
    "    with open(recn_gt, 'rb') as file:\n",
    "        recn_gt = pickle.load(file)\n",
    "\n",
    "    with open(dataset, 'rb') as file:\n",
    "        dataset = pickle.load(file)\n",
    "    \n",
    "    with open(tolerance_map, 'rb') as file:\n",
    "        tolerance_map = pickle.load(file)\n",
    "\n",
    "    reconstructions = recn_gt['reconstructions']\n",
    "    ground_truths = recn_gt['ground_truths']\n",
    "\n",
    "    all_errors = []\n",
    "    cat_errors = []\n",
    "    cont_errors = []\n",
    "    \n",
    "    all_errors_full = []\n",
    "    cat_errors_full = []\n",
    "    cont_errors_full = []\n",
    "    \n",
    "    temp_all_errors = []\n",
    "    temp_cat_errors = []\n",
    "    temp_cont_errors = []\n",
    "    \n",
    "    match_results = {}\n",
    "    index_value_pairs = [(8, \"White\"),(8,\"Black\"), (9, \"Male\"), (9, \"Female\")]\n",
    "\n",
    "    for epoch_reconstruction, epoch_ground_truth in zip(reconstructions, ground_truths):\n",
    "        for client_reconstruction, client_ground_truth in zip(epoch_reconstruction, epoch_ground_truth):\n",
    "            if config['post_process_cont']:\n",
    "                client_reconstruction = post_process_continuous(client_reconstruction, dataset=dataset)\n",
    "            client_recon_projected, client_gt_projected = dataset.decode_batch(client_reconstruction, standardized=True), dataset.decode_batch(client_ground_truth, standardized=True)\n",
    "                    \n",
    "            print(client_gt_projected.shape, client_recon_projected.shape)\n",
    "                    \n",
    "            _, batch_cost_all_original, batch_cost_cat_original, batch_cost_cont_original = match_reconstruction_ground_truth(\n",
    "                                client_gt_projected, client_recon_projected, tolerance_map\n",
    "                                )\n",
    "            all_errors_full.append(np.mean(batch_cost_all_original))\n",
    "            cat_errors_full.append(np.mean(batch_cost_cat_original))\n",
    "            cont_errors_full.append(np.mean(batch_cost_cont_original))  \n",
    "\n",
    "            final_all_errors_full.append(all_errors_full)\n",
    "            final_cat_errors_full.append(cat_errors_full)\n",
    "            final_cont_errors_full.append(cont_errors_full) \n",
    "            \n",
    "            for (index1, value1), (index2, value2) in subgroup_pairs:\n",
    "\n",
    "                temp_all_errors = []\n",
    "                temp_cat_errors = []\n",
    "                temp_cont_errors = []\n",
    "            \n",
    "                # filtered_gt, filtered_recon = group_filter(client_gt_projected, client_recon_projected, index=index, value=value)   \n",
    "                filtered_gt, filtered_recon = subgroup_filter(client_gt_projected, client_recon_projected, index1, value1, index2, value2)\n",
    "                print(filtered_gt.shape, filtered_recon.shape)\n",
    "    \n",
    "                # Call match_reconstruction_ground_truth with the filtered results\n",
    "                _, batch_cost_all, batch_cost_cat, batch_cost_cont = match_reconstruction_ground_truth(filtered_gt, filtered_recon, tolerance_map)\n",
    "                \n",
    "                temp_all_errors.append(np.mean(batch_cost_all))\n",
    "                temp_cat_errors.append(np.mean(batch_cost_cat))\n",
    "                temp_cont_errors.append(np.mean(batch_cost_cont))  \n",
    "    \n",
    "                all_errors.append(temp_all_errors)\n",
    "                cat_errors.append(temp_cat_errors)\n",
    "                cont_errors.append(temp_cont_errors) \n",
    "                \n",
    "            final_all_errors.append(all_errors)\n",
    "            final_cat_errors.append(cat_errors)\n",
    "            final_cont_errors.append(cont_errors)         "
   ]
  },
  {
   "cell_type": "code",
   "execution_count": null,
   "id": "6e1b2bcd-80df-43f8-8a90-8b215eb89f0f",
   "metadata": {},
   "outputs": [],
   "source": []
  },
  {
   "cell_type": "code",
   "execution_count": null,
   "id": "0f1f4640-2cdd-49fd-88ea-dffd174cde2a",
   "metadata": {},
   "outputs": [],
   "source": []
  },
  {
   "cell_type": "code",
   "execution_count": null,
   "id": "ee08d49d-f409-40f9-a166-e5791d4bd9c8",
   "metadata": {},
   "outputs": [],
   "source": []
  },
  {
   "cell_type": "code",
   "execution_count": null,
   "id": "e835d31b-8f64-476a-a0d2-263ba6fa84de",
   "metadata": {},
   "outputs": [],
   "source": [
    "local_epochs=[5]\n",
    "local_batch_sizes=[8]\n",
    "epoch_prior_params=[0.01]\n",
    "all_state_recon={}\n",
    "\n",
    "for m,model_name in enumerate(client_models):\n",
    "    collected_data = np.zeros((len(local_epochs), len(local_batch_sizes), len(epoch_prior_params), 3, 5))\n",
    "    \n",
    "    for i, lepochs in enumerate(local_epochs):\n",
    "        for j, lbatch_size in enumerate(local_batch_sizes):\n",
    "            for k, epoch_prior_param in enumerate(epoch_prior_params):\n",
    "    \n",
    "                collected_data[i, j, k, 0] = np.mean(final_all_errors_full[m]), np.std(final_all_errors_full[m]), np.median(final_all_errors_full[m]), np.min(final_all_errors_full[m]), np.max(final_all_errors_full[m])\n",
    "                collected_data[i, j, k, 1] = np.mean(final_cat_errors_full[m]), np.std(final_cat_errors_full[m]), np.median(final_cat_errors_full[m]), np.min(final_cat_errors_full[m]), np.max(final_cat_errors_full[m])\n",
    "                collected_data[i, j, k, 2] = np.mean(final_cont_errors_full[m]), np.std(final_cont_errors_full[m]), np.median(final_cont_errors_full[m]), np.min(final_cont_errors_full[m]), np.max(final_cont_errors_full[m])\n",
    "    \n",
    "            best_param_index = np.argmin(collected_data[i, j, :, 0, 0]).item()\n",
    "\n",
    "    temp_var=float(100 * (1 - collected_data[i, j, best_param_index, 0, 0]))\n",
    "    all_state_recon[model_name]=temp_var\n",
    "    # print(f'Performance at {lepochs} Epochs and {lbatch_size} Batch Size: {100*(1-collected_data[i, j, best_param_index, 0, 0]):.1f}% +- {100*collected_data[i, j, best_param_index, 0, 1]:.2f}')\n",
    "    # total_recon= 100 * (1 - collected_data[i, j, best_param_index, 0, 0])\n",
    "    # print(\"total_recon: \",total_recon)\n"
   ]
  },
  {
   "cell_type": "code",
   "execution_count": null,
   "id": "d624af05-374d-4e2a-abbb-f464ae556bb1",
   "metadata": {},
   "outputs": [],
   "source": [
    "all_state_recon"
   ]
  },
  {
   "cell_type": "code",
   "execution_count": null,
   "id": "2d26ad1a-e626-42c2-a6bc-616ef3425d11",
   "metadata": {},
   "outputs": [],
   "source": [
    "filename_all_state_inversion = \"inversion_fair_adult_all_clients_reconstruction.pickle\"\n",
    "\n",
    "with open(filename_all_state_inversion, 'wb') as file:\n",
    "    pickle.dump(all_state_recon, file)\n",
    "\n",
    "print(f\"All state reconstructed data has been stored in {filename_all_state_inversion}\")\n"
   ]
  },
  {
   "cell_type": "code",
   "execution_count": null,
   "id": "35d553c0-0314-4195-9b33-70acd8d3caf1",
   "metadata": {},
   "outputs": [],
   "source": []
  },
  {
   "cell_type": "code",
   "execution_count": null,
   "id": "128ff362-4871-4280-bd88-5bc7febd98e4",
   "metadata": {},
   "outputs": [],
   "source": [
    "\n",
    "local_epochs = [5]\n",
    "local_batch_sizes = [8]\n",
    "epoch_prior_params = [0.01]\n",
    "final_group_reco={}\n",
    "for m,model_name in enumerate(client_models):\n",
    "    \n",
    "    temp_group_score=[]\n",
    "    all_errors =final_all_errors[m]\n",
    "    cat_errors=final_cat_errors[m]\n",
    "    cont_errors=final_cont_errors[m]\n",
    "    print(\"all_errors\",all_errors)\n",
    "    for i in range(len(all_errors)):\n",
    "        collected_data = np.zeros((len(local_epochs), len(local_batch_sizes), len(epoch_prior_params), 3, 5))\n",
    "\n",
    "        for m, lepochs in enumerate(local_epochs): \n",
    "            for j, lbatch_size in enumerate(local_batch_sizes):\n",
    "                for k, epoch_prior_param in enumerate(epoch_prior_params):\n",
    "                    \n",
    "                    collected_data[m, j, k, 0] = np.mean(all_errors[i]), np.std(all_errors[i]), np.median(all_errors[i]), np.min(all_errors[i]), np.max(all_errors[i])\n",
    "                    collected_data[m, j, k, 1] = np.mean(cat_errors[i]), np.std(cat_errors[i]), np.median(cat_errors[i]), np.min(cat_errors[i]), np.max(cat_errors[i])\n",
    "                    collected_data[m, j, k, 2] = np.mean(cont_errors[i]), np.std(cont_errors[i]), np.median(cont_errors[i]), np.min(cont_errors[i]), np.max(cont_errors[i])\n",
    "    \n",
    "                best_param_index = np.argmin(collected_data[m, j, :, 0, 0]).item()\n",
    "    \n",
    "            # print(\"best_param_index\", best_param_index)\n",
    "            # print(f'Performance at {lepochs} Epochs and {lbatch_size} Batch Size: {100*(1-collected_data[m, j, best_param_index, 0, 0]):.1f}% +- {100*collected_data[m, j, best_param_index, 0, 1]:.2f}')\n",
    "            temp_var=float(100 * (1 - collected_data[m, j, best_param_index, 0, 0]))\n",
    "            temp_group_score.append(temp_var)\n",
    "            \n",
    "        # print(temp_group_score)\n",
    "        \n",
    "    final_group_reco[model_name] = {\n",
    "        \"WM\":temp_group_score[0],\n",
    "        \"BM\":temp_group_score[1] ,\n",
    "        \"WW\":temp_group_score[2] ,\n",
    "        \"BW\": temp_group_score[3]\n",
    "    }\n",
    "\n"
   ]
  },
  {
   "cell_type": "code",
   "execution_count": null,
   "id": "80ed8dc4-142f-41de-af9c-597b8789ac32",
   "metadata": {},
   "outputs": [],
   "source": [
    "final_group_reco"
   ]
  },
  {
   "cell_type": "code",
   "execution_count": null,
   "id": "a2fd329b-e194-4a55-b5ac-0013f637f808",
   "metadata": {},
   "outputs": [],
   "source": []
  },
  {
   "cell_type": "code",
   "execution_count": null,
   "id": "2c6459aa-93de-458c-a849-6683bc5a304a",
   "metadata": {},
   "outputs": [],
   "source": [
    "\n",
    "filename_all_state_inversion_group = \"inversion_fair_adult_subgroup_reconstruction.pickle\"\n",
    "\n",
    "with open(filename_all_state_inversion_group, 'wb') as file:\n",
    "    pickle.dump(final_group_reco, file)\n",
    "\n",
    "print(f\"Group reconstructed data has been stored in {filename_all_state_inversion_group}\")"
   ]
  },
  {
   "cell_type": "code",
   "execution_count": null,
   "id": "62cc92bc-5bd0-4c25-a5ee-ba85e395690f",
   "metadata": {},
   "outputs": [],
   "source": []
  },
  {
   "cell_type": "code",
   "execution_count": null,
   "id": "2c3ff438-f611-4f61-8dfd-18f19d0d287e",
   "metadata": {},
   "outputs": [],
   "source": []
  },
  {
   "cell_type": "markdown",
   "id": "89cfe6f1-959c-4b14-b1b3-e36cd7415fc1",
   "metadata": {},
   "source": [
    "# FairDP training"
   ]
  },
  {
   "cell_type": "code",
   "execution_count": null,
   "id": "0e161f99-9981-4509-aeea-22e9e2f39041",
   "metadata": {},
   "outputs": [],
   "source": [
    "exp1 = \"tableak_FT_inversion_normal\"\n",
    "config = configs[0]\n",
    "final_grp={}\n",
    "final_subgrp={}\n",
    "\n",
    "print(\"Inversion Normal attack\")\n",
    "num_training_datapoints=2000\n",
    "\n",
    "final_all_errors = []\n",
    "final_cat_errors = []\n",
    "final_cont_errors = []\n",
    "\n",
    "final_all_errors_full = []\n",
    "final_cat_errors_full = []\n",
    "final_cont_errors_full = []\n",
    "\n",
    "\n",
    "for model_name in client_models:\n",
    "    print(\"----------- Model_name --------------: \",model_name)\n",
    "    temp_result={}\n",
    "    \n",
    "    # recn_gt = f'../../{exp1}/50_clients_data/reconstr_and_GT/reconstructions_ground_truths_{model_name}.pkl'\n",
    "    # dataset = f'../../{exp1}/50_clients_data/reconstr_and_GT/dataset_{model_name}.pkl'\n",
    "    # tolerance_map = f'../../{exp1}/50_clients_data/reconstr_and_GT/tolerance_map_{model_name}.pkl'\n",
    "\n",
    "    recn_gt = f'../clients_data/reconstr_and_GT/fairdp/reconstructions_ground_truths_{model_name}.pkl'\n",
    "    dataset = f'../clients_data/reconstr_and_GT/fairdp/dataset_{model_name}.pkl'\n",
    "    tolerance_map = f'../clients_data/reconstr_and_GT/fairdp/tolerance_map_{model_name}.pkl'\n",
    "\n",
    "    with open(recn_gt, 'rb') as file:\n",
    "        recn_gt = pickle.load(file)\n",
    "\n",
    "    with open(dataset, 'rb') as file:\n",
    "        dataset = pickle.load(file)\n",
    "    \n",
    "    with open(tolerance_map, 'rb') as file:\n",
    "        tolerance_map = pickle.load(file)\n",
    "\n",
    "    reconstructions = recn_gt['reconstructions']\n",
    "    ground_truths = recn_gt['ground_truths']\n",
    "\n",
    "    all_errors = []\n",
    "    cat_errors = []\n",
    "    cont_errors = []\n",
    "    \n",
    "    all_errors_full = []\n",
    "    cat_errors_full = []\n",
    "    cont_errors_full = []\n",
    "    \n",
    "    temp_all_errors = []\n",
    "    temp_cat_errors = []\n",
    "    temp_cont_errors = []\n",
    "    \n",
    "    match_results = {}\n",
    "    index_value_pairs = [(8, \"White\"),(8,\"Black\"), (9, \"Male\"), (9, \"Female\")]\n",
    "\n",
    "    for epoch_reconstruction, epoch_ground_truth in zip(reconstructions, ground_truths):\n",
    "        for client_reconstruction, client_ground_truth in zip(epoch_reconstruction, epoch_ground_truth):\n",
    "            if config['post_process_cont']:\n",
    "                client_reconstruction = post_process_continuous(client_reconstruction, dataset=dataset)\n",
    "            client_recon_projected, client_gt_projected = dataset.decode_batch(client_reconstruction, standardized=True), dataset.decode_batch(client_ground_truth, standardized=True)\n",
    "                    \n",
    "            print(client_gt_projected.shape, client_recon_projected.shape)\n",
    "                    \n",
    "            _, batch_cost_all_original, batch_cost_cat_original, batch_cost_cont_original = match_reconstruction_ground_truth(\n",
    "                                client_gt_projected, client_recon_projected, tolerance_map\n",
    "                                )\n",
    "            all_errors_full.append(np.mean(batch_cost_all_original))\n",
    "            cat_errors_full.append(np.mean(batch_cost_cat_original))\n",
    "            cont_errors_full.append(np.mean(batch_cost_cont_original))  \n",
    "\n",
    "            final_all_errors_full.append(all_errors_full)\n",
    "            final_cat_errors_full.append(cat_errors_full)\n",
    "            final_cont_errors_full.append(cont_errors_full) \n",
    "            \n",
    "            for (index1, value1), (index2, value2) in subgroup_pairs:\n",
    "\n",
    "                temp_all_errors = []\n",
    "                temp_cat_errors = []\n",
    "                temp_cont_errors = []\n",
    "            \n",
    "                # filtered_gt, filtered_recon = group_filter(client_gt_projected, client_recon_projected, index=index, value=value)    \n",
    "                filtered_gt, filtered_recon = subgroup_filter(client_gt_projected, client_recon_projected, index1, value1, index2, value2)\n",
    "                print(filtered_gt.shape, filtered_recon.shape)\n",
    "    \n",
    "                # Call match_reconstruction_ground_truth with the filtered results\n",
    "                _, batch_cost_all, batch_cost_cat, batch_cost_cont = match_reconstruction_ground_truth(filtered_gt, filtered_recon, tolerance_map)\n",
    "                \n",
    "                temp_all_errors.append(np.mean(batch_cost_all))\n",
    "                temp_cat_errors.append(np.mean(batch_cost_cat))\n",
    "                temp_cont_errors.append(np.mean(batch_cost_cont))  \n",
    "    \n",
    "                all_errors.append(temp_all_errors)\n",
    "                cat_errors.append(temp_cat_errors)\n",
    "                cont_errors.append(temp_cont_errors) \n",
    "                \n",
    "            final_all_errors.append(all_errors)\n",
    "            final_cat_errors.append(cat_errors)\n",
    "            final_cont_errors.append(cont_errors)         "
   ]
  },
  {
   "cell_type": "code",
   "execution_count": null,
   "id": "ebb6f1c1-710b-4e88-a79b-53b3f4803482",
   "metadata": {},
   "outputs": [],
   "source": []
  },
  {
   "cell_type": "code",
   "execution_count": null,
   "id": "f354a58a-b033-4954-8d21-5bc318eafe7c",
   "metadata": {},
   "outputs": [],
   "source": []
  },
  {
   "cell_type": "code",
   "execution_count": null,
   "id": "4fbafc90-a7be-48da-aeef-a4249caec495",
   "metadata": {},
   "outputs": [],
   "source": []
  },
  {
   "cell_type": "code",
   "execution_count": null,
   "id": "93b8f24c-3f56-4807-9e8f-b73446832201",
   "metadata": {},
   "outputs": [],
   "source": [
    "local_epochs=[5]\n",
    "local_batch_sizes=[8]\n",
    "epoch_prior_params=[0.01]\n",
    "all_state_recon={}\n",
    "\n",
    "for m,model_name in enumerate(client_models):\n",
    "    collected_data = np.zeros((len(local_epochs), len(local_batch_sizes), len(epoch_prior_params), 3, 5))\n",
    "    \n",
    "    for i, lepochs in enumerate(local_epochs):\n",
    "        for j, lbatch_size in enumerate(local_batch_sizes):\n",
    "            for k, epoch_prior_param in enumerate(epoch_prior_params):\n",
    "    \n",
    "                collected_data[i, j, k, 0] = np.mean(final_all_errors_full[m]), np.std(final_all_errors_full[m]), np.median(final_all_errors_full[m]), np.min(final_all_errors_full[m]), np.max(final_all_errors_full[m])\n",
    "                collected_data[i, j, k, 1] = np.mean(final_cat_errors_full[m]), np.std(final_cat_errors_full[m]), np.median(final_cat_errors_full[m]), np.min(final_cat_errors_full[m]), np.max(final_cat_errors_full[m])\n",
    "                collected_data[i, j, k, 2] = np.mean(final_cont_errors_full[m]), np.std(final_cont_errors_full[m]), np.median(final_cont_errors_full[m]), np.min(final_cont_errors_full[m]), np.max(final_cont_errors_full[m])\n",
    "    \n",
    "            best_param_index = np.argmin(collected_data[i, j, :, 0, 0]).item()\n",
    "\n",
    "    temp_var=float(100 * (1 - collected_data[i, j, best_param_index, 0, 0]))\n",
    "    all_state_recon[model_name]=temp_var\n",
    "    # print(f'Performance at {lepochs} Epochs and {lbatch_size} Batch Size: {100*(1-collected_data[i, j, best_param_index, 0, 0]):.1f}% +- {100*collected_data[i, j, best_param_index, 0, 1]:.2f}')\n",
    "    # total_recon= 100 * (1 - collected_data[i, j, best_param_index, 0, 0])\n",
    "    # print(\"total_recon: \",total_recon)\n"
   ]
  },
  {
   "cell_type": "code",
   "execution_count": null,
   "id": "72ea9bde-69bf-4b0f-911d-094f9ece20ad",
   "metadata": {},
   "outputs": [],
   "source": [
    "all_state_recon"
   ]
  },
  {
   "cell_type": "code",
   "execution_count": null,
   "id": "0ef16363-a219-4ec3-a64d-d782337309a7",
   "metadata": {},
   "outputs": [],
   "source": [
    "filename_all_state_inversion = \"inversion_fairDP_adult_all_clients_reconstruction.pickle\"\n",
    "\n",
    "with open(filename_all_state_inversion, 'wb') as file:\n",
    "    pickle.dump(all_state_recon, file)\n",
    "\n",
    "print(f\"All state reconstructed data has been stored in {filename_all_state_inversion}\")\n"
   ]
  },
  {
   "cell_type": "code",
   "execution_count": null,
   "id": "bdc95afd-44b4-4558-b26c-1889070a11f1",
   "metadata": {},
   "outputs": [],
   "source": []
  },
  {
   "cell_type": "code",
   "execution_count": null,
   "id": "9380eec1-3c10-4833-a8cb-d9b21e94fa78",
   "metadata": {},
   "outputs": [],
   "source": [
    "\n",
    "local_epochs = [5]\n",
    "local_batch_sizes = [8]\n",
    "epoch_prior_params = [0.01]\n",
    "final_group_reco={}\n",
    "for m,model_name in enumerate(client_models):\n",
    "    \n",
    "    temp_group_score=[]\n",
    "    all_errors =final_all_errors[m]\n",
    "    cat_errors=final_cat_errors[m]\n",
    "    cont_errors=final_cont_errors[m]\n",
    "    print(\"all_errors\",all_errors)\n",
    "    for i in range(len(all_errors)):\n",
    "        collected_data = np.zeros((len(local_epochs), len(local_batch_sizes), len(epoch_prior_params), 3, 5))\n",
    "\n",
    "        for m, lepochs in enumerate(local_epochs): \n",
    "            for j, lbatch_size in enumerate(local_batch_sizes):\n",
    "                for k, epoch_prior_param in enumerate(epoch_prior_params):\n",
    "                    \n",
    "                    collected_data[m, j, k, 0] = np.mean(all_errors[i]), np.std(all_errors[i]), np.median(all_errors[i]), np.min(all_errors[i]), np.max(all_errors[i])\n",
    "                    collected_data[m, j, k, 1] = np.mean(cat_errors[i]), np.std(cat_errors[i]), np.median(cat_errors[i]), np.min(cat_errors[i]), np.max(cat_errors[i])\n",
    "                    collected_data[m, j, k, 2] = np.mean(cont_errors[i]), np.std(cont_errors[i]), np.median(cont_errors[i]), np.min(cont_errors[i]), np.max(cont_errors[i])\n",
    "    \n",
    "                best_param_index = np.argmin(collected_data[m, j, :, 0, 0]).item()\n",
    "    \n",
    "            # print(\"best_param_index\", best_param_index)\n",
    "            # print(f'Performance at {lepochs} Epochs and {lbatch_size} Batch Size: {100*(1-collected_data[m, j, best_param_index, 0, 0]):.1f}% +- {100*collected_data[m, j, best_param_index, 0, 1]:.2f}')\n",
    "            temp_var=float(100 * (1 - collected_data[m, j, best_param_index, 0, 0]))\n",
    "            temp_group_score.append(temp_var)\n",
    "            \n",
    "        # print(temp_group_score)\n",
    "        \n",
    "    final_group_reco[model_name] = {\n",
    "        \"WM\":temp_group_score[0],\n",
    "        \"BM\":temp_group_score[1] ,\n",
    "        \"WW\":temp_group_score[2] ,\n",
    "        \"BW\": temp_group_score[3]\n",
    "    }"
   ]
  },
  {
   "cell_type": "code",
   "execution_count": null,
   "id": "bd65ad59-578e-4c99-b74b-ede4e78d5f65",
   "metadata": {},
   "outputs": [],
   "source": [
    "final_group_reco"
   ]
  },
  {
   "cell_type": "code",
   "execution_count": null,
   "id": "f17e95bc-dca6-470e-8b23-afab1c1b7e00",
   "metadata": {},
   "outputs": [],
   "source": []
  },
  {
   "cell_type": "code",
   "execution_count": null,
   "id": "a67d7909-41d7-48f5-832f-6f98b895322d",
   "metadata": {},
   "outputs": [],
   "source": [
    "\n",
    "filename_all_state_inversion_group = \"inversion_fairDP_adult_subgroup_reconstruction.pickle\"\n",
    "\n",
    "with open(filename_all_state_inversion_group, 'wb') as file:\n",
    "    pickle.dump(final_group_reco, file)\n",
    "\n",
    "print(f\"Group reconstructed data has been stored in {filename_all_state_inversion_group}\")"
   ]
  },
  {
   "cell_type": "code",
   "execution_count": null,
   "id": "8ac7f8f3-1b16-4e38-8c31-aef4c9d3d3b1",
   "metadata": {},
   "outputs": [],
   "source": []
  },
  {
   "cell_type": "code",
   "execution_count": null,
   "id": "f208a69d-8a32-46a2-871d-2e91cd87d59d",
   "metadata": {},
   "outputs": [],
   "source": []
  },
  {
   "cell_type": "code",
   "execution_count": null,
   "id": "56663fcf-5af0-49bf-87ab-3b47c472267b",
   "metadata": {},
   "outputs": [],
   "source": []
  },
  {
   "cell_type": "code",
   "execution_count": null,
   "id": "2a5a9eb5-8f69-4564-86bf-c96269843fd8",
   "metadata": {},
   "outputs": [],
   "source": []
  },
  {
   "cell_type": "code",
   "execution_count": null,
   "id": "4ba313f9-6b5f-46f6-9430-dc5aefe30311",
   "metadata": {},
   "outputs": [],
   "source": [
    "import os\n",
    "os.getcwd()"
   ]
  },
  {
   "cell_type": "code",
   "execution_count": null,
   "id": "56492b8c-989c-47b4-b3bb-e2875a980baf",
   "metadata": {},
   "outputs": [],
   "source": [
    "state_inversion_normal = \"inversion_normal_adult_all_clients_reconstruction.pickle\"\n",
    "state_inversion_dp = \"inversion_dp_adult_all_clients_reconstruction.pickle\"\n",
    "state_inversion_fair = \"inversion_fair_adult_all_clients_reconstruction.pickle\"\n",
    "state_inversion_fairdp = \"inversion_fairDP_adult_all_clients_reconstruction.pickle\"\n",
    "\n",
    "inversion_normal_subgroup = \"inversion_normal_adult_subgroup_reconstruction.pickle\"\n",
    "inversion_dp_subgroup = \"inversion_dp_adult_subgroup_reconstruction.pickle\"\n",
    "inversion_fair_subgroup = \"inversion_fair_adult_subgroup_reconstruction.pickle\"\n",
    "inversion_fairdp_subgroup = \"inversion_fairDP_adult_subgroup_reconstruction.pickle\"\n",
    "\n",
    "with open(state_inversion_normal, 'rb') as file:\n",
    "    inversion_normal_state_reconstruction = pickle.load(file)\n",
    "with open(inversion_normal_subgroup, 'rb') as file:\n",
    "    inversion_normal_subgroup_reconstruction = pickle.load(file)\n",
    "\n",
    "\n",
    "with open(state_inversion_dp, 'rb') as file:\n",
    "    inversion_dp_state_reconstruction = pickle.load(file)    \n",
    "with open(inversion_dp_subgroup, 'rb') as file:\n",
    "    inversion_dp_subgroup_reconstruction = pickle.load(file)\n",
    "\n",
    "\n",
    "with open(state_inversion_fair, 'rb') as file:\n",
    "    inversion_fair_state_reconstruction = pickle.load(file)    \n",
    "with open(inversion_fair_subgroup, 'rb') as file:\n",
    "    inversion_fair_subgroup_reconstruction = pickle.load(file)\n",
    "\n",
    "\n",
    "with open(state_inversion_fairdp, 'rb') as file:\n",
    "    inversion_fairdp_state_reconstruction = pickle.load(file)    \n",
    "with open(inversion_fairdp_subgroup, 'rb') as file:\n",
    "    inversion_fairdp_subgroup_reconstruction = pickle.load(file)\n",
    "\n",
    "\n",
    "\n"
   ]
  },
  {
   "cell_type": "code",
   "execution_count": 32,
   "id": "8bb963af-3974-49dd-adfe-207545cccd66",
   "metadata": {},
   "outputs": [
    {
     "data": {
      "text/plain": [
       "(   State      Value\n",
       " 0      0  44.196429\n",
       " 1      1  48.660714,\n",
       "    State      Value\n",
       " 0      0  42.857143\n",
       " 1      1  43.303571)"
      ]
     },
     "execution_count": 32,
     "metadata": {},
     "output_type": "execute_result"
    }
   ],
   "source": [
    "inversion_normal_all = pd.DataFrame(list(inversion_normal_state_reconstruction.items()), columns=['State', 'Value'])\n",
    "inversion_dp_all = pd.DataFrame(list(inversion_dp_state_reconstruction.items()), columns=['State', 'Value'])\n",
    "inversion_fair_all = pd.DataFrame(list(inversion_fair_state_reconstruction.items()), columns=['State', 'Value'])\n",
    "inversion_fairdp_all = pd.DataFrame(list(inversion_fairdp_state_reconstruction.items()), columns=['State', 'Value'])\n",
    "\n",
    "inversion_normal_all.head(),inversion_dp_all.head()"
   ]
  },
  {
   "cell_type": "code",
   "execution_count": 33,
   "id": "ebec61fa-254b-4ada-b51b-db0246d10ea2",
   "metadata": {},
   "outputs": [
    {
     "data": {
      "image/png": "[encoded data removed]",
      "text/plain": [
       "<Figure size 1000x600 with 1 Axes>"
      ]
     },
     "metadata": {},
     "output_type": "display_data"
    }
   ],
   "source": [
    "\n",
    "merged_df = pd.DataFrame({\n",
    "    'inversion_normal_all': inversion_normal_all['Value'],\n",
    "    'inversion_dp_all': inversion_dp_all['Value'],\n",
    "    'inversion_fair_all': inversion_fair_all['Value'],\n",
    "    'inversion_fairdp_all': inversion_fairdp_all['Value']\n",
    "})\n",
    "\n",
    "plt.figure(figsize=(10, 6))\n",
    "plt.boxplot(merged_df.values, labels=['Normal', 'DP',\"Fair\", \"FairDp\"])\n",
    "plt.title('Reconstruction rate across all states')\n",
    "plt.ylabel('Values')\n",
    "plt.show()"
   ]
  },
  {
   "cell_type": "code",
   "execution_count": null,
   "id": "4c8072c1-d9ed-4df3-a567-3ae9e73efbc3",
   "metadata": {},
   "outputs": [],
   "source": []
  },
  {
   "cell_type": "code",
   "execution_count": 34,
   "id": "62abd350-5096-4b5f-b986-502bbbda1dd4",
   "metadata": {},
   "outputs": [],
   "source": [
    "df_inversion_normal_subgroup_reconstruction = pd.DataFrame(inversion_normal_subgroup_reconstruction).T\n",
    "df_inversion_normal_subgroup_reconstruction.index.name = 'State'\n",
    "df_inversion_normal_subgroup_reconstruction.reset_index(inplace=True)\n",
    "\n",
    "df_inversion_dp_subgroup_reconstruction = pd.DataFrame(inversion_dp_subgroup_reconstruction).T\n",
    "df_inversion_dp_subgroup_reconstruction.index.name = 'State'\n",
    "df_inversion_dp_subgroup_reconstruction.reset_index(inplace=True)\n",
    "\n",
    "df_inversion_fair_subgroup_reconstruction = pd.DataFrame(inversion_fair_subgroup_reconstruction).T\n",
    "df_inversion_fair_subgroup_reconstruction.index.name = 'State'\n",
    "df_inversion_fair_subgroup_reconstruction.reset_index(inplace=True)\n",
    "\n",
    "\n",
    "df_inversion_fairdp_subgroup_reconstruction = pd.DataFrame(inversion_fairdp_subgroup_reconstruction).T\n",
    "df_inversion_fairdp_subgroup_reconstruction.index.name = 'State'\n",
    "df_inversion_fairdp_subgroup_reconstruction.reset_index(inplace=True)\n",
    "\n",
    "\n"
   ]
  },
  {
   "cell_type": "code",
   "execution_count": 35,
   "id": "9cbe61be-136d-452f-a008-bc9cca43ca23",
   "metadata": {},
   "outputs": [
    {
     "data": {
      "text/html": [
       "<div>\n",
       "<style scoped>\n",
       "    .dataframe tbody tr th:only-of-type {\n",
       "        vertical-align: middle;\n",
       "    }\n",
       "\n",
       "    .dataframe tbody tr th {\n",
       "        vertical-align: top;\n",
       "    }\n",
       "\n",
       "    .dataframe thead th {\n",
       "        text-align: right;\n",
       "    }\n",
       "</style>\n",
       "<table border=\"1\" class=\"dataframe\">\n",
       "  <thead>\n",
       "    <tr style=\"text-align: right;\">\n",
       "      <th></th>\n",
       "      <th>State</th>\n",
       "      <th>WM</th>\n",
       "      <th>BM</th>\n",
       "      <th>WW</th>\n",
       "      <th>BW</th>\n",
       "    </tr>\n",
       "  </thead>\n",
       "  <tbody>\n",
       "    <tr>\n",
       "      <th>0</th>\n",
       "      <td>0</td>\n",
       "      <td>46.428571</td>\n",
       "      <td>14.285714</td>\n",
       "      <td>21.428571</td>\n",
       "      <td>25.0</td>\n",
       "    </tr>\n",
       "    <tr>\n",
       "      <th>1</th>\n",
       "      <td>1</td>\n",
       "      <td>50.000000</td>\n",
       "      <td>42.857143</td>\n",
       "      <td>17.857143</td>\n",
       "      <td>NaN</td>\n",
       "    </tr>\n",
       "  </tbody>\n",
       "</table>\n",
       "</div>"
      ],
      "text/plain": [
       "   State         WM         BM         WW    BW\n",
       "0      0  46.428571  14.285714  21.428571  25.0\n",
       "1      1  50.000000  42.857143  17.857143   NaN"
      ]
     },
     "execution_count": 35,
     "metadata": {},
     "output_type": "execute_result"
    }
   ],
   "source": [
    "df_inversion_normal_subgroup_reconstruction.head()"
   ]
  },
  {
   "cell_type": "code",
   "execution_count": 36,
   "id": "a593e3f8-3c94-4ce4-992c-0504e0a152ba",
   "metadata": {},
   "outputs": [
    {
     "data": {
      "text/html": [
       "<div>\n",
       "<style scoped>\n",
       "    .dataframe tbody tr th:only-of-type {\n",
       "        vertical-align: middle;\n",
       "    }\n",
       "\n",
       "    .dataframe tbody tr th {\n",
       "        vertical-align: top;\n",
       "    }\n",
       "\n",
       "    .dataframe thead th {\n",
       "        text-align: right;\n",
       "    }\n",
       "</style>\n",
       "<table border=\"1\" class=\"dataframe\">\n",
       "  <thead>\n",
       "    <tr style=\"text-align: right;\">\n",
       "      <th></th>\n",
       "      <th>State</th>\n",
       "      <th>WM</th>\n",
       "      <th>BM</th>\n",
       "      <th>WW</th>\n",
       "      <th>BW</th>\n",
       "    </tr>\n",
       "  </thead>\n",
       "  <tbody>\n",
       "    <tr>\n",
       "      <th>0</th>\n",
       "      <td>0</td>\n",
       "      <td>46.428571</td>\n",
       "      <td>14.285714</td>\n",
       "      <td>21.428571</td>\n",
       "      <td>25.0</td>\n",
       "    </tr>\n",
       "    <tr>\n",
       "      <th>1</th>\n",
       "      <td>1</td>\n",
       "      <td>50.000000</td>\n",
       "      <td>42.857143</td>\n",
       "      <td>17.857143</td>\n",
       "      <td>NaN</td>\n",
       "    </tr>\n",
       "  </tbody>\n",
       "</table>\n",
       "</div>"
      ],
      "text/plain": [
       "   State         WM         BM         WW    BW\n",
       "0      0  46.428571  14.285714  21.428571  25.0\n",
       "1      1  50.000000  42.857143  17.857143   NaN"
      ]
     },
     "execution_count": 36,
     "metadata": {},
     "output_type": "execute_result"
    }
   ],
   "source": [
    "df_inversion_normal_subgroup_reconstruction"
   ]
  },
  {
   "cell_type": "code",
   "execution_count": 37,
   "id": "228fcd9c-edfa-42b5-bf75-00a9b3da5a89",
   "metadata": {},
   "outputs": [
    {
     "data": {
      "image/png": "[encoded data removed]",
      "text/plain": [
       "<Figure size 1000x600 with 1 Axes>"
      ]
     },
     "metadata": {},
     "output_type": "display_data"
    }
   ],
   "source": [
    "plt.figure(figsize=(10, 6))\n",
    "df_inversion_normal_subgroup_reconstruction[['WM', 'BM', 'WW', 'BW']].boxplot()\n",
    "plt.title(\"Normal traning- subgroup Reconstruction\")\n",
    "plt.ylabel(\"Reconstruction (%)\")\n",
    "plt.xlabel(\"Subgroups\")\n",
    "plt.grid(False)\n",
    "plt.show()"
   ]
  },
  {
   "cell_type": "code",
   "execution_count": null,
   "id": "ad2920c2-3e48-4a54-ba67-8fc2dfcbecca",
   "metadata": {},
   "outputs": [],
   "source": []
  },
  {
   "cell_type": "code",
   "execution_count": 38,
   "id": "7bf0603a-0185-44c7-85a7-2d0c61e3e158",
   "metadata": {},
   "outputs": [
    {
     "data": {
      "image/png": "[encoded data removed]",
      "text/plain": [
       "<Figure size 1000x600 with 1 Axes>"
      ]
     },
     "metadata": {},
     "output_type": "display_data"
    }
   ],
   "source": [
    "\n",
    "plt.figure(figsize=(10, 6))\n",
    "df_inversion_dp_subgroup_reconstruction[['WM', 'BM', 'WW', 'BW']].boxplot()\n",
    "plt.title(\"DP traning- subgroup Reconstruction\")\n",
    "plt.ylabel(\"Reconstruction (%)\")\n",
    "plt.xlabel(\"Subgroups\")\n",
    "plt.grid(False)\n",
    "plt.show()"
   ]
  },
  {
   "cell_type": "code",
   "execution_count": null,
   "id": "3748c676-fb38-4221-b4e7-47575486ebb7",
   "metadata": {},
   "outputs": [],
   "source": []
  },
  {
   "cell_type": "code",
   "execution_count": 39,
   "id": "949c97c4-703d-4f9c-a067-cfc2588cdc67",
   "metadata": {},
   "outputs": [
    {
     "data": {
      "image/png": "[encoded data removed]",
      "text/plain": [
       "<Figure size 1000x600 with 1 Axes>"
      ]
     },
     "metadata": {},
     "output_type": "display_data"
    }
   ],
   "source": [
    "\n",
    "plt.figure(figsize=(10, 6))\n",
    "df_inversion_fair_subgroup_reconstruction[['WM', 'BM', 'WW', 'BW']].boxplot()\n",
    "plt.title(\"Fair traning- subGroup Reconstruction\")\n",
    "plt.ylabel(\"Reconstruction (%)\")\n",
    "plt.xlabel(\"Subgroups\")\n",
    "plt.grid(False)\n",
    "plt.show()"
   ]
  },
  {
   "cell_type": "code",
   "execution_count": null,
   "id": "a7832c9f-e8c7-46f9-9938-6c253f7dff74",
   "metadata": {},
   "outputs": [],
   "source": []
  },
  {
   "cell_type": "code",
   "execution_count": 40,
   "id": "671a9531-e185-4b90-bbd6-bd99352d202c",
   "metadata": {},
   "outputs": [
    {
     "data": {
      "image/png": "[encoded data removed]",
      "text/plain": [
       "<Figure size 1000x600 with 1 Axes>"
      ]
     },
     "metadata": {},
     "output_type": "display_data"
    }
   ],
   "source": [
    "\n",
    "plt.figure(figsize=(10, 6))\n",
    "df_inversion_fairdp_subgroup_reconstruction[['WM', 'BM', 'WW', 'BW']].boxplot()\n",
    "plt.title(\"FairDp training- subgroup Reconstruction\")\n",
    "plt.ylabel(\"Reconstruction (%)\")\n",
    "plt.xlabel(\"Subroups\")\n",
    "plt.grid(False)\n",
    "plt.show()"
   ]
  },
  {
   "cell_type": "code",
   "execution_count": null,
   "id": "313e6cb3-e2c3-4d1d-adf7-219b1475a9ef",
   "metadata": {},
   "outputs": [],
   "source": []
  }
 ],
 "metadata": {
  "kernelspec": {
   "display_name": "Python 3 (ipykernel)",
   "language": "python",
   "name": "python3"
  },
  "language_info": {
   "codemirror_mode": {
    "name": "ipython",
    "version": 3
   },
   "file_extension": ".py",
   "mimetype": "text/x-python",
   "name": "python",
   "nbconvert_exporter": "python",
   "pygments_lexer": "ipython3",
   "version": "3.8.18"
  }
 },
 "nbformat": 4,
 "nbformat_minor": 5
}
