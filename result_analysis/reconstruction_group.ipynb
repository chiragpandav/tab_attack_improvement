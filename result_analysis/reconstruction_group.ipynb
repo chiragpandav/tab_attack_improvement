{
 "cells": [
  {
   "cell_type": "code",
   "execution_count": 2,
   "id": "c4559835-40ef-4882-ab44-484a84581346",
   "metadata": {},
   "outputs": [],
   "source": [
    "import os\n",
    "import sys\n",
    "sys.path.append(\"..\")\n",
    "import numpy as np\n",
    "import torch\n",
    "from utils.matching import match_reconstruction_ground_truth\n",
    "import pandas as pd\n",
    "from utils import Timer, post_process_continuous\n",
    "from attacks import train_and_attack_fed_avg\n",
    "from models import FullyConnected\n",
    "import matplotlib.pyplot as plt\n",
    "import argparse\n",
    "import pickle\n",
    "from attacks import calculate_random_baseline\n",
    "from datasets.base_dataset import BaseDataset\n",
    "torch.set_printoptions(sci_mode=False)\n"
   ]
  },
  {
   "cell_type": "code",
   "execution_count": 3,
   "id": "1a3dc447-5a81-4b75-abb4-f6ac5986d71d",
   "metadata": {},
   "outputs": [],
   "source": [
    "configs = {\n",
    "    # Inverting Gradients\n",
    "    0: {\n",
    "        'n_global_epochs': 1,\n",
    "        'lr': 0.01,\n",
    "        'shuffle': True,\n",
    "        'attacked_clients': 'all',\n",
    "        'attack_iterations': 1500,\n",
    "        'reconstruction_loss': 'cosine_sim',\n",
    "        'priors': None,\n",
    "        'epoch_matching_prior': 'mean_squared_error',\n",
    "        'post_selection': 1,\n",
    "        'attack_learning_rate': 0.06,\n",
    "        'return_all': False,\n",
    "        'pooling': None,\n",
    "        'perfect_pooling': False,\n",
    "        'initialization_mode': 'uniform',\n",
    "        'softmax_trick': False,\n",
    "        'gumbel_softmax_trick': False,\n",
    "        'sigmoid_trick': False,\n",
    "        'temperature_mode': 'constant',\n",
    "        'sign_trick': True,\n",
    "        'verbose': False,\n",
    "        'max_client_dataset_size': 32,\n",
    "        'post_process_cont': False\n",
    "    },\n",
    "    # TabLeak\n",
    "    52: {\n",
    "        'n_global_epochs': 1,\n",
    "        'lr': 0.01,\n",
    "        'shuffle': True,\n",
    "        'attacked_clients': 'all',\n",
    "        'attack_iterations': 1500,\n",
    "        'reconstruction_loss': 'cosine_sim',\n",
    "        'priors': None,\n",
    "        'epoch_matching_prior': 'mean_squared_error',\n",
    "        'post_selection': 15,\n",
    "        'attack_learning_rate': 0.06,\n",
    "        'return_all': False,\n",
    "        'pooling': 'median',\n",
    "        'perfect_pooling': False,\n",
    "        'initialization_mode': 'uniform',\n",
    "        'softmax_trick': True,\n",
    "        'gumbel_softmax_trick': False,\n",
    "        'sigmoid_trick': True,\n",
    "        'temperature_mode': 'constant',\n",
    "        'sign_trick': True,\n",
    "        'verbose': False,\n",
    "        'max_client_dataset_size': 32,\n",
    "        'post_process_cont': False\n",
    "    }\n",
    "}"
   ]
  },
  {
   "cell_type": "code",
   "execution_count": null,
   "id": "a8f1879b-70dc-490e-9ea0-8fba5afe1f52",
   "metadata": {},
   "outputs": [],
   "source": []
  },
  {
   "cell_type": "code",
   "execution_count": null,
   "id": "b4ba288a-f33f-466c-99af-ba4988d07020",
   "metadata": {},
   "outputs": [],
   "source": []
  },
  {
   "cell_type": "code",
   "execution_count": 5,
   "id": "3f36b6e2-06a1-400a-bfa8-eb37af2c5f20",
   "metadata": {},
   "outputs": [],
   "source": [
    "client_models=[0,1,2,3]\n",
    "\n",
    "client_models=[0]"
   ]
  },
  {
   "cell_type": "code",
   "execution_count": null,
   "id": "86637af3-6e9a-4898-aca5-ade7d1b2c135",
   "metadata": {},
   "outputs": [],
   "source": []
  },
  {
   "cell_type": "code",
   "execution_count": 4,
   "id": "bf434197-ba8e-4592-a788-f0f3e792769a",
   "metadata": {},
   "outputs": [],
   "source": [
    "\n",
    "\n",
    "def group_filter(client_gt_projected, client_recon_projected, index, value):\n",
    "    # print(\"group_filter applied\")\n",
    "    print(\"index: \",index, \"value: \",value)\n",
    "    filtered_gt = client_gt_projected[client_gt_projected[:, index] == value]\n",
    "    filtered_recon = client_recon_projected[client_gt_projected[:, index] == value]\n",
    "    return filtered_gt, filtered_recon\n",
    "\n",
    "\n",
    "def subgroup_filter(client_gt_projected, client_recon_projected, index1, value1, index2, value2):\n",
    "    # print(\"subgroup_filter applied\")\n",
    "    print(\"index1: \", index1,\"value1: \", value1, \"index2: \",index2,\"value2: \", value2)\n",
    "    condition = (client_gt_projected[:, index1] == value1) & (client_gt_projected[:, index2] == value2)\n",
    "    filtered_gt = client_gt_projected[condition]\n",
    "    filtered_recon = client_recon_projected[condition]\n",
    "    return filtered_gt, filtered_recon\n"
   ]
  },
  {
   "cell_type": "code",
   "execution_count": null,
   "id": "f990c895",
   "metadata": {},
   "outputs": [],
   "source": []
  },
  {
   "cell_type": "code",
   "execution_count": 8,
   "id": "9a2f75f7",
   "metadata": {},
   "outputs": [
    {
     "name": "stdout",
     "output_type": "stream",
     "text": [
      "torch.Size([2000, 105])\n",
      "Performance at 5 Epochs and 8 Batch Size: 68.5% +- 0.00\n",
      "\n",
      "\n",
      "\n",
      "['36.0' 'Private' '181261.0' 'HS-grad' '10.0' 'Divorced'\n",
      " 'Transport-moving' 'Not-in-family' 'White' 'Male' '38.0' '77.0' '39.0'\n",
      " 'United-States']\n"
     ]
    }
   ],
   "source": [
    "recn_gt = f'../clients_data/reconstr_and_GT/inversion/normal/reconstructions_ground_truths_0.pkl'\n",
    "dataset = f'../clients_data/reconstr_and_GT/inversion/normal/dataset_0.pkl'\n",
    "tolerance_map = f'../clients_data/reconstr_and_GT/inversion/normal/tolerance_map_0.pkl'\n",
    "\n",
    "with open(tolerance_map, 'rb') as file:\n",
    "        tolerance_map = pickle.load(file)\n",
    "\n",
    "with open(recn_gt, 'rb') as file:\n",
    "    recn_gt = pickle.load(file)\n",
    "\n",
    "with open(dataset, 'rb') as file:\n",
    "    dataset = pickle.load(file)\n",
    "\n",
    "reconstructions = recn_gt['reconstructions']\n",
    "ground_truths = recn_gt['ground_truths']\n",
    "\n",
    "print(reconstructions[0][0].shape)\n",
    "# print(reconstructions[0][0].requires_grad)\n",
    "local_epochs=[5]\n",
    "local_batch_sizes=[8]\n",
    "epoch_prior_params=[0.01]\n",
    "collected_data = np.zeros((len(local_epochs), len(local_batch_sizes), len(epoch_prior_params), 3, 5))\n",
    "all_errors = []\n",
    "cat_errors = []\n",
    "cont_errors = []\n",
    "\n",
    "rec_coll=[]\n",
    "for i, lepochs in enumerate(local_epochs):\n",
    "    for j, lbatch_size in enumerate(local_batch_sizes):\n",
    "        for k, epoch_prior_param in enumerate(epoch_prior_params):\n",
    "            for epoch_reconstruction, epoch_ground_truth in zip(reconstructions, ground_truths):\n",
    "                # print(\"rec_shape 1\",epoch_reconstruction[0].shape)\n",
    "                # print(epoch_ground_truth[0].shape)\n",
    "\n",
    "                for client_reconstruction, client_ground_truth in zip(epoch_reconstruction, epoch_ground_truth):\n",
    "                        # print(\"rec_shape 2\",client_reconstruction.shape)\n",
    "                        # print(client_ground_truth.shape)\n",
    "                        # print(\"loaded_dataloader val \\n\",client_reconstruction[2:3,:100])\n",
    "                        \n",
    "\n",
    "                        client_recon_projected, client_gt_projected = dataset.decode_batch(client_reconstruction, standardized=True), dataset.decode_batch(client_ground_truth, standardized=True)\n",
    "                        # print(client_recon_projected, )\n",
    "                        # print(client_gt_projected, \"\\n\")\n",
    "                        column_names = [\n",
    "                                    'Age', 'Workclass', 'Fnlwgt', 'Education', 'Education-Num', 'Marital-Status',\n",
    "                                    'Occupation', 'Relationship', 'Race', 'Sex', 'Capital-Gain', 'Capital-Loss',\n",
    "                                    'Hours-per-week', 'Native-Country'\n",
    "                                ]\n",
    "                        df = pd.DataFrame(client_recon_projected, columns=column_names)\n",
    "\n",
    "                        # Convert numerical columns to integers where applicable\n",
    "                        numeric_cols = ['Age', 'Fnlwgt', 'Education-Num', 'Capital-Gain', 'Capital-Loss', 'Hours-per-week']\n",
    "                        df[numeric_cols] = df[numeric_cols].astype(float).astype(int)\n",
    "\n",
    "                        df1=pd.read_csv(f'../clients_data/raw_data/client_0.data', delimiter=',',names=column_names, engine='python')\n",
    "                        # label_col = df1.iloc[:, -1]\n",
    "                       \n",
    "                        num_rows = len(df)\n",
    "                        # print(df1)\n",
    "                        # print(df1.iloc[:num_rows].values)\n",
    "\n",
    "                        df['Income'] = df1.iloc[:num_rows, -1].values\n",
    "                        \n",
    "                        # df.to_csv(\"hello.data\", index=False, header=False)\n",
    "                        # client_recon_projected = np.load('synthetic_data_np.npy', allow_pickle=True)\n",
    "\n",
    "                        reordered_reconstructed_batch, batch_cost_all, batch_cost_cat, batch_cost_cont  = match_reconstruction_ground_truth(client_gt_projected, client_recon_projected, tolerance_map)\n",
    "      \n",
    "                        # _, batch_cost_all, batch_cost_cat, batch_cost_cont = match_reconstruction_ground_truth(client_gt_projected, client_recon_projected, tolerance_map)\n",
    "                        all_errors.append(np.mean(batch_cost_all))\n",
    "                        cat_errors.append(np.mean(batch_cost_cat))\n",
    "                        cont_errors.append(np.mean(batch_cost_cont))\n",
    "\n",
    "            collected_data[i, j, k, 0] = np.mean(all_errors), np.std(all_errors), np.median(all_errors), np.min(all_errors), np.max(all_errors)\n",
    "            collected_data[i, j, k, 1] = np.mean(cat_errors), np.std(cat_errors), np.median(cat_errors), np.min(cat_errors), np.max(cat_errors)\n",
    "            collected_data[i, j, k, 2] = np.mean(cont_errors), np.std(cont_errors), np.median(cont_errors), np.min(cont_errors), np.max(cont_errors)\n",
    "\n",
    "\n",
    "best_param_index = np.argmin(collected_data[i, j, :, 0, 0]).item()\n",
    "print(f'Performance at {lepochs} Epochs and {lbatch_size} Batch Size: {100*(1-collected_data[i, j, best_param_index, 0, 0]):.1f}% +- {100*collected_data[i, j, best_param_index, 0, 1]:.2f}')\n",
    "\n",
    "print(\"\\n\\n\")\n",
    "idx=0\n",
    "print(client_recon_projected[idx])  \n",
    "# print(client_gt_projected[idx])          "
   ]
  },
  {
   "cell_type": "code",
   "execution_count": 5,
   "id": "af0a0846",
   "metadata": {},
   "outputs": [],
   "source": [
    "# np.save('reordered_reconstructed_batch.npy', reordered_reconstructed_batch)"
   ]
  },
  {
   "cell_type": "code",
   "execution_count": null,
   "id": "4bd59691",
   "metadata": {},
   "outputs": [],
   "source": []
  },
  {
   "cell_type": "code",
   "execution_count": 6,
   "id": "7bcabfde",
   "metadata": {},
   "outputs": [
    {
     "name": "stdout",
     "output_type": "stream",
     "text": [
      "2000\n"
     ]
    },
    {
     "data": {
      "text/html": [
       "<div>\n",
       "<style scoped>\n",
       "    .dataframe tbody tr th:only-of-type {\n",
       "        vertical-align: middle;\n",
       "    }\n",
       "\n",
       "    .dataframe tbody tr th {\n",
       "        vertical-align: top;\n",
       "    }\n",
       "\n",
       "    .dataframe thead th {\n",
       "        text-align: right;\n",
       "    }\n",
       "</style>\n",
       "<table border=\"1\" class=\"dataframe\">\n",
       "  <thead>\n",
       "    <tr style=\"text-align: right;\">\n",
       "      <th></th>\n",
       "      <th>Age</th>\n",
       "      <th>Workclass</th>\n",
       "      <th>Fnlwgt</th>\n",
       "      <th>Education</th>\n",
       "      <th>Education-Num</th>\n",
       "      <th>Marital-Status</th>\n",
       "      <th>Occupation</th>\n",
       "      <th>Relationship</th>\n",
       "      <th>Race</th>\n",
       "      <th>Sex</th>\n",
       "      <th>Capital-Gain</th>\n",
       "      <th>Capital-Loss</th>\n",
       "      <th>Hours-per-week</th>\n",
       "      <th>Native-Country</th>\n",
       "      <th>Income</th>\n",
       "    </tr>\n",
       "  </thead>\n",
       "  <tbody>\n",
       "    <tr>\n",
       "      <th>0</th>\n",
       "      <td>36</td>\n",
       "      <td>Private</td>\n",
       "      <td>172974</td>\n",
       "      <td>HS-grad</td>\n",
       "      <td>10</td>\n",
       "      <td>Never-married</td>\n",
       "      <td>Machine-op-inspct</td>\n",
       "      <td>Own-child</td>\n",
       "      <td>White</td>\n",
       "      <td>Male</td>\n",
       "      <td>-95</td>\n",
       "      <td>24</td>\n",
       "      <td>39</td>\n",
       "      <td>United-States</td>\n",
       "      <td>&lt;=50K</td>\n",
       "    </tr>\n",
       "    <tr>\n",
       "      <th>1</th>\n",
       "      <td>37</td>\n",
       "      <td>Self-emp-inc</td>\n",
       "      <td>189901</td>\n",
       "      <td>Bachelors</td>\n",
       "      <td>10</td>\n",
       "      <td>Married-civ-spouse</td>\n",
       "      <td>Exec-managerial</td>\n",
       "      <td>Not-in-family</td>\n",
       "      <td>Amer-Indian-Eskimo</td>\n",
       "      <td>Male</td>\n",
       "      <td>631</td>\n",
       "      <td>2414</td>\n",
       "      <td>74</td>\n",
       "      <td>United-States</td>\n",
       "      <td>&lt;=50K</td>\n",
       "    </tr>\n",
       "    <tr>\n",
       "      <th>2</th>\n",
       "      <td>86</td>\n",
       "      <td>Self-emp-not-inc</td>\n",
       "      <td>182707</td>\n",
       "      <td>Prof-school</td>\n",
       "      <td>18</td>\n",
       "      <td>Married-civ-spouse</td>\n",
       "      <td>Prof-specialty</td>\n",
       "      <td>Wife</td>\n",
       "      <td>White</td>\n",
       "      <td>Male</td>\n",
       "      <td>1098</td>\n",
       "      <td>59</td>\n",
       "      <td>40</td>\n",
       "      <td>United-States</td>\n",
       "      <td>&gt;50K</td>\n",
       "    </tr>\n",
       "    <tr>\n",
       "      <th>3</th>\n",
       "      <td>71</td>\n",
       "      <td>Private</td>\n",
       "      <td>246104</td>\n",
       "      <td>Some-college</td>\n",
       "      <td>14</td>\n",
       "      <td>Married-civ-spouse</td>\n",
       "      <td>Exec-managerial</td>\n",
       "      <td>Not-in-family</td>\n",
       "      <td>White</td>\n",
       "      <td>Male</td>\n",
       "      <td>1101</td>\n",
       "      <td>66</td>\n",
       "      <td>77</td>\n",
       "      <td>United-States</td>\n",
       "      <td>&lt;=50K</td>\n",
       "    </tr>\n",
       "    <tr>\n",
       "      <th>4</th>\n",
       "      <td>36</td>\n",
       "      <td>Private</td>\n",
       "      <td>174460</td>\n",
       "      <td>HS-grad</td>\n",
       "      <td>10</td>\n",
       "      <td>Never-married</td>\n",
       "      <td>Other-service</td>\n",
       "      <td>Not-in-family</td>\n",
       "      <td>White</td>\n",
       "      <td>Male</td>\n",
       "      <td>-95</td>\n",
       "      <td>20</td>\n",
       "      <td>39</td>\n",
       "      <td>United-States</td>\n",
       "      <td>&lt;=50K</td>\n",
       "    </tr>\n",
       "  </tbody>\n",
       "</table>\n",
       "</div>"
      ],
      "text/plain": [
       "   Age         Workclass  Fnlwgt     Education  Education-Num  \\\n",
       "0   36           Private  172974       HS-grad             10   \n",
       "1   37      Self-emp-inc  189901     Bachelors             10   \n",
       "2   86  Self-emp-not-inc  182707   Prof-school             18   \n",
       "3   71           Private  246104  Some-college             14   \n",
       "4   36           Private  174460       HS-grad             10   \n",
       "\n",
       "       Marital-Status         Occupation   Relationship                Race  \\\n",
       "0       Never-married  Machine-op-inspct      Own-child               White   \n",
       "1  Married-civ-spouse    Exec-managerial  Not-in-family  Amer-Indian-Eskimo   \n",
       "2  Married-civ-spouse     Prof-specialty           Wife               White   \n",
       "3  Married-civ-spouse    Exec-managerial  Not-in-family               White   \n",
       "4       Never-married      Other-service  Not-in-family               White   \n",
       "\n",
       "    Sex  Capital-Gain  Capital-Loss  Hours-per-week Native-Country Income  \n",
       "0  Male           -95            24              39  United-States  <=50K  \n",
       "1  Male           631          2414              74  United-States  <=50K  \n",
       "2  Male          1098            59              40  United-States   >50K  \n",
       "3  Male          1101            66              77  United-States  <=50K  \n",
       "4  Male           -95            20              39  United-States  <=50K  "
      ]
     },
     "execution_count": 6,
     "metadata": {},
     "output_type": "execute_result"
    }
   ],
   "source": [
    "reordered_reconstructed_batch=np.load('reordered_reconstructed_batch.npy')\n",
    "\n",
    "column_names = [\n",
    "            'Age', 'Workclass', 'Fnlwgt', 'Education', 'Education-Num', 'Marital-Status',\n",
    "            'Occupation', 'Relationship', 'Race', 'Sex', 'Capital-Gain', 'Capital-Loss',\n",
    "            'Hours-per-week', 'Native-Country'\n",
    "        ]\n",
    "df = pd.DataFrame(reordered_reconstructed_batch, columns=column_names)\n",
    "\n",
    "# Convert numerical columns to integers where applicable\n",
    "numeric_cols = ['Age', 'Fnlwgt', 'Education-Num', 'Capital-Gain', 'Capital-Loss', 'Hours-per-week']\n",
    "df[numeric_cols] = df[numeric_cols].astype(float).astype(int)\n",
    "\n",
    "column_names1 = [\n",
    "            'Age', 'Workclass', 'Fnlwgt', 'Education', 'Education-Num', 'Marital-Status',\n",
    "            'Occupation', 'Relationship', 'Race', 'Sex', 'Capital-Gain', 'Capital-Loss',\n",
    "            'Hours-per-week', 'Native-Country',\"Income\"\n",
    "        ]\n",
    "df1=pd.read_csv(f'../clients_data/raw_data/client_0.data', delimiter=',',names=column_names1, engine='python')\n",
    "# label_col = df1.iloc[:, -1]\n",
    "\n",
    "num_rows = len(df)\n",
    "# print(df1)\n",
    "# print(df1.iloc[:num_rows].values)\n",
    "\n",
    "df['Income'] = df1.iloc[:num_rows, -1].values\n",
    "\n",
    "# df.to_csv(\"hello.data\", index=False, header=False)\n",
    "\n",
    "print(len(df))\n",
    "df.head()"
   ]
  },
  {
   "cell_type": "code",
   "execution_count": null,
   "id": "4c84c2e0",
   "metadata": {},
   "outputs": [],
   "source": []
  },
  {
   "cell_type": "code",
   "execution_count": 7,
   "id": "dcc54c3c",
   "metadata": {},
   "outputs": [
    {
     "data": {
      "text/html": [
       "<div>\n",
       "<style scoped>\n",
       "    .dataframe tbody tr th:only-of-type {\n",
       "        vertical-align: middle;\n",
       "    }\n",
       "\n",
       "    .dataframe tbody tr th {\n",
       "        vertical-align: top;\n",
       "    }\n",
       "\n",
       "    .dataframe thead th {\n",
       "        text-align: right;\n",
       "    }\n",
       "</style>\n",
       "<table border=\"1\" class=\"dataframe\">\n",
       "  <thead>\n",
       "    <tr style=\"text-align: right;\">\n",
       "      <th></th>\n",
       "      <th>Age</th>\n",
       "      <th>Workclass</th>\n",
       "      <th>Fnlwgt</th>\n",
       "      <th>Education</th>\n",
       "      <th>Education-Num</th>\n",
       "      <th>Marital-Status</th>\n",
       "      <th>Occupation</th>\n",
       "      <th>Relationship</th>\n",
       "      <th>Race</th>\n",
       "      <th>Sex</th>\n",
       "      <th>Capital-Gain</th>\n",
       "      <th>Capital-Loss</th>\n",
       "      <th>Hours-per-week</th>\n",
       "      <th>Native-Country</th>\n",
       "      <th>Income</th>\n",
       "    </tr>\n",
       "  </thead>\n",
       "  <tbody>\n",
       "    <tr>\n",
       "      <th>0</th>\n",
       "      <td>30</td>\n",
       "      <td>Private</td>\n",
       "      <td>169186</td>\n",
       "      <td>HS-grad</td>\n",
       "      <td>9</td>\n",
       "      <td>Never-married</td>\n",
       "      <td>Machine-op-inspct</td>\n",
       "      <td>Own-child</td>\n",
       "      <td>White</td>\n",
       "      <td>Male</td>\n",
       "      <td>0</td>\n",
       "      <td>0</td>\n",
       "      <td>60</td>\n",
       "      <td>United-States</td>\n",
       "      <td>&lt;=50K</td>\n",
       "    </tr>\n",
       "    <tr>\n",
       "      <th>1</th>\n",
       "      <td>46</td>\n",
       "      <td>Self-emp-inc</td>\n",
       "      <td>67725</td>\n",
       "      <td>Bachelors</td>\n",
       "      <td>13</td>\n",
       "      <td>Married-civ-spouse</td>\n",
       "      <td>Exec-managerial</td>\n",
       "      <td>Husband</td>\n",
       "      <td>White</td>\n",
       "      <td>Male</td>\n",
       "      <td>0</td>\n",
       "      <td>0</td>\n",
       "      <td>10</td>\n",
       "      <td>United-States</td>\n",
       "      <td>&lt;=50K</td>\n",
       "    </tr>\n",
       "    <tr>\n",
       "      <th>2</th>\n",
       "      <td>54</td>\n",
       "      <td>Self-emp-not-inc</td>\n",
       "      <td>83311</td>\n",
       "      <td>Prof-school</td>\n",
       "      <td>15</td>\n",
       "      <td>Married-civ-spouse</td>\n",
       "      <td>Prof-specialty</td>\n",
       "      <td>Husband</td>\n",
       "      <td>White</td>\n",
       "      <td>Male</td>\n",
       "      <td>0</td>\n",
       "      <td>0</td>\n",
       "      <td>30</td>\n",
       "      <td>United-States</td>\n",
       "      <td>&gt;50K</td>\n",
       "    </tr>\n",
       "    <tr>\n",
       "      <th>3</th>\n",
       "      <td>70</td>\n",
       "      <td>Self-emp-inc</td>\n",
       "      <td>232871</td>\n",
       "      <td>Some-college</td>\n",
       "      <td>10</td>\n",
       "      <td>Married-civ-spouse</td>\n",
       "      <td>Exec-managerial</td>\n",
       "      <td>Husband</td>\n",
       "      <td>White</td>\n",
       "      <td>Male</td>\n",
       "      <td>0</td>\n",
       "      <td>0</td>\n",
       "      <td>30</td>\n",
       "      <td>United-States</td>\n",
       "      <td>&lt;=50K</td>\n",
       "    </tr>\n",
       "    <tr>\n",
       "      <th>4</th>\n",
       "      <td>54</td>\n",
       "      <td>Private</td>\n",
       "      <td>141663</td>\n",
       "      <td>HS-grad</td>\n",
       "      <td>9</td>\n",
       "      <td>Never-married</td>\n",
       "      <td>Other-service</td>\n",
       "      <td>Not-in-family</td>\n",
       "      <td>White</td>\n",
       "      <td>Male</td>\n",
       "      <td>0</td>\n",
       "      <td>0</td>\n",
       "      <td>15</td>\n",
       "      <td>United-States</td>\n",
       "      <td>&lt;=50K</td>\n",
       "    </tr>\n",
       "  </tbody>\n",
       "</table>\n",
       "</div>"
      ],
      "text/plain": [
       "   Age         Workclass  Fnlwgt     Education  Education-Num  \\\n",
       "0   30           Private  169186       HS-grad              9   \n",
       "1   46      Self-emp-inc   67725     Bachelors             13   \n",
       "2   54  Self-emp-not-inc   83311   Prof-school             15   \n",
       "3   70      Self-emp-inc  232871  Some-college             10   \n",
       "4   54           Private  141663       HS-grad              9   \n",
       "\n",
       "       Marital-Status         Occupation   Relationship   Race   Sex  \\\n",
       "0       Never-married  Machine-op-inspct      Own-child  White  Male   \n",
       "1  Married-civ-spouse    Exec-managerial        Husband  White  Male   \n",
       "2  Married-civ-spouse     Prof-specialty        Husband  White  Male   \n",
       "3  Married-civ-spouse    Exec-managerial        Husband  White  Male   \n",
       "4       Never-married      Other-service  Not-in-family  White  Male   \n",
       "\n",
       "   Capital-Gain  Capital-Loss  Hours-per-week Native-Country Income  \n",
       "0             0             0              60  United-States  <=50K  \n",
       "1             0             0              10  United-States  <=50K  \n",
       "2             0             0              30  United-States   >50K  \n",
       "3             0             0              30  United-States  <=50K  \n",
       "4             0             0              15  United-States  <=50K  "
      ]
     },
     "execution_count": 7,
     "metadata": {},
     "output_type": "execute_result"
    }
   ],
   "source": [
    "df1.head()"
   ]
  },
  {
   "cell_type": "code",
   "execution_count": null,
   "id": "aee5778f",
   "metadata": {},
   "outputs": [
    {
     "data": {
      "text/plain": [
       "(96, 2000)"
      ]
     },
     "execution_count": 20,
     "metadata": {},
     "output_type": "execute_result"
    }
   ],
   "source": [
    "attr=\"Capital-Loss\"\n",
    "df1[df1[attr] > 0].shape[0], df[df[attr] >0].shape[0]"
   ]
  },
  {
   "cell_type": "code",
   "execution_count": 9,
   "id": "894e91c1",
   "metadata": {},
   "outputs": [
    {
     "data": {
      "text/plain": [
       "(White                 1528\n",
       " Black                  283\n",
       " Asian-Pac-Islander     112\n",
       " Amer-Indian-Eskimo      48\n",
       " Other                   29\n",
       " Name: Race, dtype: int64,\n",
       " White                 1720\n",
       " Black                  193\n",
       " Asian-Pac-Islander      58\n",
       " Amer-Indian-Eskimo      20\n",
       " Other                    9\n",
       " Name: Race, dtype: int64)"
      ]
     },
     "execution_count": 9,
     "metadata": {},
     "output_type": "execute_result"
    }
   ],
   "source": [
    "df[\"Race\"].value_counts(), df1[\"Race\"].value_counts()"
   ]
  },
  {
   "cell_type": "code",
   "execution_count": null,
   "id": "35cda9fe",
   "metadata": {},
   "outputs": [],
   "source": [
    "df=df[df[\"Age\"]<=100]\n",
    "df.loc[df[\"Capital-Gain\"] < 0, \"Capital-Gain\"] = 0\n",
    "\n",
    "df[df[attr] <0].shape[0]\n",
    "# df.to_csv(\"hello.data\", index=False, header=False)"
   ]
  },
  {
   "cell_type": "code",
   "execution_count": null,
   "id": "17f4e6fe",
   "metadata": {},
   "outputs": [],
   "source": []
  },
  {
   "cell_type": "code",
   "execution_count": null,
   "id": "2823df73",
   "metadata": {},
   "outputs": [],
   "source": []
  },
  {
   "cell_type": "code",
   "execution_count": 37,
   "id": "13f1c007",
   "metadata": {},
   "outputs": [
    {
     "name": "stdout",
     "output_type": "stream",
     "text": [
      "client_recon_projected:  (2000, 14)\n",
      "client_recon_projected:  (2000, 14)\n",
      "client_recon_projected:  (2000, 14)\n",
      "client_recon_projected:  (2000, 14)\n",
      "client_recon_projected:  (2000, 14)\n",
      "client_recon_projected:  (2000, 14)\n",
      "client_recon_projected:  (2000, 14)\n",
      "client_recon_projected:  (2000, 14)\n",
      "client_recon_projected:  (2000, 14)\n",
      "client_recon_projected:  (2000, 14)\n"
     ]
    }
   ],
   "source": [
    "recn_gt = f'../clients_data/reconstr_and_GT/inversion/normal/reconstructions_ground_truths_0.pkl'\n",
    "dataset = f'../clients_data/reconstr_and_GT/inversion/normal/dataset_0.pkl'\n",
    "tolerance_map = f'../clients_data/reconstr_and_GT/inversion/normal/tolerance_map_0.pkl'\n",
    "\n",
    "with open(tolerance_map, 'rb') as file:\n",
    "        tolerance_map = pickle.load(file)\n",
    "\n",
    "with open(recn_gt, 'rb') as file:\n",
    "    recn_gt = pickle.load(file)\n",
    "\n",
    "with open(dataset, 'rb') as file:\n",
    "    dataset = pickle.load(file)\n",
    "\n",
    "reconstructions = recn_gt['reconstructions']\n",
    "ground_truths = recn_gt['ground_truths']\n",
    "\n",
    "# print(reconstructions[0][0].shape)\n",
    "# print(reconstructions[0][0].requires_grad)\n",
    "local_epochs=[5]\n",
    "local_batch_sizes=[8]\n",
    "epoch_prior_params=[0.01]\n",
    "collected_data = np.zeros((len(local_epochs), len(local_batch_sizes), len(epoch_prior_params), 3, 5))\n",
    "all_errors = []\n",
    "cat_errors = []\n",
    "cont_errors = []\n",
    "\n",
    "batch_cost_all_collect=[]\n",
    "batch_cost_cat_collect=[] \n",
    "batch_cost_cont_collect=[]\n",
    "\n",
    "rec_coll=[]\n",
    "for i, lepochs in enumerate(local_epochs):\n",
    "    for j, lbatch_size in enumerate(local_batch_sizes):\n",
    "        for k, epoch_prior_param in enumerate(epoch_prior_params):\n",
    "            for epoch_reconstruction, epoch_ground_truth in zip(reconstructions, ground_truths):\n",
    "                # print(\"rec_shape 1\",epoch_reconstruction[0].shape)\n",
    "                # print(epoch_ground_truth[0].shape)\n",
    "\n",
    "                for client_reconstruction, client_ground_truth in zip(epoch_reconstruction, epoch_ground_truth):\n",
    "                        # print(\"rec_shape 2\",client_reconstruction.shape)\n",
    "                        # print(client_ground_truth.shape)\n",
    "                        # print(\"loaded_dataloader val \\n\",client_reconstruction[2:3,:100])\n",
    "                        \n",
    "\n",
    "                        client_recon_projected, client_gt_projected = dataset.decode_batch(client_reconstruction, standardized=True), dataset.decode_batch(client_ground_truth, standardized=True)\n",
    "                        # print(client_recon_projected, )\n",
    "                        # print(client_gt_projected, \"\\n\")\n",
    "                        # loaded_array = np.load('synthetic_data_np.npy', allow_pickle=True)\n",
    "                        # client_recon_projected_1= loaded_array\n",
    "                        # print(\"client_recon_projected_1: \",client_recon_projected_1.shape)\n",
    "                        # _, batch_cost_all, batch_cost_cat, batch_cost_cont = match_reconstruction_ground_truth(client_gt_projected, client_recon_projected_1, tolerance_map)\n",
    "\n",
    "                        client_recon_projected_all = np.load('all_chunks.npy', allow_pickle=True)\n",
    "\n",
    "                        for i in range(len(client_recon_projected_all)):\n",
    "                            \n",
    "                            client_recon_projected= client_recon_projected_all[i]\n",
    "                            print(\"client_recon_projected: \",client_recon_projected.shape)\n",
    "                        \n",
    "                            _, batch_cost_all, batch_cost_cat, batch_cost_cont = match_reconstruction_ground_truth(client_gt_projected, client_recon_projected, tolerance_map)\n",
    "                            batch_cost_all_collect.append(batch_cost_all)\n",
    "                            batch_cost_cat_collect.append(batch_cost_cat)\n",
    "                            batch_cost_cont_collect.append(batch_cost_cont)\n",
    "\n",
    "                        # all_errors.append(np.mean(batch_cost_all_collect))\n",
    "                        # cat_errors.append(np.mean(batch_cost_all_collect))\n",
    "                        # cont_errors.append(np.mean(batch_cost_all_collect))                        \n",
    "                        \n",
    "                        # all_errors.append(np.mean(batch_cost_all))\n",
    "                        # cat_errors.append(np.mean(batch_cost_cat))\n",
    "                        # cont_errors.append(np.mean(batch_cost_cont))\n",
    "\n",
    "            # collected_data[i, j, k, 0] = np.mean(all_errors), np.std(all_errors), np.median(all_errors), np.min(all_errors), np.max(all_errors)\n",
    "            # collected_data[i, j, k, 1] = np.mean(cat_errors), np.std(cat_errors), np.median(cat_errors), np.min(cat_errors), np.max(cat_errors)\n",
    "            # collected_data[i, j, k, 2] = np.mean(cont_errors), np.std(cont_errors), np.median(cont_errors), np.min(cont_errors), np.max(cont_errors)\n",
    "\n",
    "\n",
    "# best_param_index = np.argmin(collected_data[i, j, :, 0, 0]).item()\n",
    "# print(f'Performance at {lepochs} Epochs and {lbatch_size} Batch Size: {100*(1-collected_data[i, j, best_param_index, 0, 0]):.1f}% +- {100*collected_data[i, j, best_param_index, 0, 1]:.2f}')\n",
    "\n",
    "# print(\"\\n\\n\")\n",
    "# idx=0\n",
    "# print(client_recon_projected[idx])  \n",
    "# print(client_gt_projected[idx])          "
   ]
  },
  {
   "cell_type": "code",
   "execution_count": 46,
   "id": "94ffb90b",
   "metadata": {},
   "outputs": [
    {
     "data": {
      "text/plain": [
       "'1.21.0'"
      ]
     },
     "execution_count": 46,
     "metadata": {},
     "output_type": "execute_result"
    }
   ],
   "source": [
    "np.__version__"
   ]
  },
  {
   "cell_type": "code",
   "execution_count": null,
   "id": "9307c341",
   "metadata": {},
   "outputs": [],
   "source": []
  },
  {
   "cell_type": "code",
   "execution_count": 28,
   "id": "1abfc3b0",
   "metadata": {},
   "outputs": [
    {
     "data": {
      "text/plain": [
       "(array([0.35714286, 0.5       , 0.71428571, ..., 0.21428571, 0.35714286,\n",
       "        0.35714286]),\n",
       " array([0.   , 0.375, 0.625, ..., 0.   , 0.25 , 0.375]),\n",
       " array([0.83333333, 0.66666667, 0.83333333, ..., 0.5       , 0.5       ,\n",
       "        0.33333333]))"
      ]
     },
     "execution_count": 28,
     "metadata": {},
     "output_type": "execute_result"
    }
   ],
   "source": [
    "batch_cost_all_collect[0],batch_cost_cat_collect[0] ,batch_cost_cont_collect[0]"
   ]
  },
  {
   "cell_type": "code",
   "execution_count": 45,
   "id": "ddde6f56",
   "metadata": {},
   "outputs": [
    {
     "name": "stdout",
     "output_type": "stream",
     "text": [
      "Performance at 5 Epochs and 8 Batch Size: 58.6% +- 0.15\n",
      "0\n",
      "Performance at 5 Epochs and 8 Batch Size: 58.6% +- 0.15\n",
      "1\n",
      "Performance at 5 Epochs and 8 Batch Size: 58.6% +- 0.15\n",
      "2\n",
      "Performance at 5 Epochs and 8 Batch Size: 58.6% +- 0.15\n",
      "3\n",
      "Performance at 5 Epochs and 8 Batch Size: 58.6% +- 0.15\n",
      "4\n",
      "Performance at 5 Epochs and 8 Batch Size: 58.6% +- 0.15\n",
      "5\n",
      "Performance at 5 Epochs and 8 Batch Size: 58.6% +- 0.15\n",
      "6\n",
      "Performance at 5 Epochs and 8 Batch Size: 58.6% +- 0.15\n",
      "7\n",
      "Performance at 5 Epochs and 8 Batch Size: 58.6% +- 0.15\n",
      "8\n",
      "Performance at 5 Epochs and 8 Batch Size: 58.6% +- 0.15\n",
      "9\n"
     ]
    }
   ],
   "source": [
    "# collected_data = np.zeros((len(local_epochs), len(local_batch_sizes), len(epoch_prior_params), 3, 5))\n",
    "for m in range(len(client_recon_projected_all)):\n",
    "    for i, lepochs in enumerate(local_epochs):\n",
    "        for j, lbatch_size in enumerate(local_batch_sizes):\n",
    "            for k, epoch_prior_param in enumerate(epoch_prior_params):\n",
    "\n",
    "                all_errors.append(np.mean(batch_cost_all_collect[m]))\n",
    "                cat_errors.append(np.mean(batch_cost_cat_collect[m]))\n",
    "                cont_errors.append(np.mean(batch_cost_cont_collect[m]))                        \n",
    "\n",
    "                # np.mean(all_errors)\n",
    "                collected_data[i, j, k, 0] = np.mean(all_errors), np.std(all_errors), np.median(all_errors), np.min(all_errors), np.max(all_errors)\n",
    "                collected_data[i, j, k, 1] = np.mean(cat_errors), np.std(cat_errors), np.median(cat_errors), np.min(cat_errors), np.max(cat_errors)\n",
    "                collected_data[i, j, k, 2] = np.mean(cont_errors), np.std(cont_errors), np.median(cont_errors), np.min(cont_errors), np.max(cont_errors)\n",
    "\n",
    "\n",
    "    best_param_index = np.argmin(collected_data[i, j, :, 0, 0]).item()\n",
    "    print(f'Performance at {lepochs} Epochs and {lbatch_size} Batch Size: {100*(1-collected_data[i, j, best_param_index, 0, 0]):.1f}% +- {100*collected_data[i, j, best_param_index, 0, 1]:.2f}')\n",
    "\n",
    "    print(m)"
   ]
  },
  {
   "cell_type": "code",
   "execution_count": 23,
   "id": "ef8eef4d",
   "metadata": {},
   "outputs": [
    {
     "data": {
      "text/plain": [
       "(2000, 14)"
      ]
     },
     "execution_count": 23,
     "metadata": {},
     "output_type": "execute_result"
    }
   ],
   "source": [
    "loaded_array = np.load('synthetic_data_np.npy', allow_pickle=True)\n",
    "loaded_array.shape"
   ]
  },
  {
   "cell_type": "code",
   "execution_count": null,
   "id": "382cdaf2",
   "metadata": {},
   "outputs": [
    {
     "data": {
      "text/plain": [
       "(2000, 14)"
      ]
     },
     "execution_count": 24,
     "metadata": {},
     "output_type": "execute_result"
    }
   ],
   "source": [
    "loaded_array = np.load('all_chunks.npy', allow_pickle=True)\n",
    "loaded_array[:1]"
   ]
  },
  {
   "cell_type": "code",
   "execution_count": null,
   "id": "a8626244",
   "metadata": {},
   "outputs": [
    {
     "name": "stdout",
     "output_type": "stream",
     "text": [
      "(2000, 14)\n",
      "(2000, 14)\n",
      "(2000, 14)\n",
      "(2000, 14)\n",
      "(2000, 14)\n",
      "(2000, 14)\n",
      "(2000, 14)\n",
      "(2000, 14)\n",
      "(2000, 14)\n",
      "(2000, 14)\n"
     ]
    }
   ],
   "source": [
    "client_recon_projected_all = np.load('all_chunks.npy', allow_pickle=True)\n",
    "\n",
    "client_recon_projected_all[0][:1]\n",
    "\n",
    "# for i in range(len(client_recon_projected_all)):\n",
    "    # print(client_recon_projected_all[i].shape)\n",
    "    # # client_recon_projected= client_recon_projected[i]"
   ]
  },
  {
   "cell_type": "code",
   "execution_count": 16,
   "metadata": {},
   "outputs": [
    {
     "name": "stdout",
     "output_type": "stream",
     "text": [
      "<class 'numpy.ndarray'>\n",
      "(2000, 14)\n",
      "['36.0' 'Private' '181261.0' 'HS-grad' '10.0' 'Divorced'\n",
      " 'Transport-moving' 'Not-in-family' 'White' 'Male' '38.0' '77.0' '39.0'\n",
      " 'United-States']\n"
     ]
    }
   ],
   "source": [
    "print(type(client_recon_projected))\n",
    "print(client_recon_projected.shape)\n",
    "print(client_recon_projected[0])  "
   ]
  },
  {
   "cell_type": "code",
   "execution_count": 8,
   "id": "c54aad03",
   "metadata": {},
   "outputs": [
    {
     "data": {
      "text/plain": [
       "tensor([[-0.5084, -0.6523,  0.5889,  0.8196, -0.0622, -0.5345, -0.8190, -0.0338,\n",
       "          0.5393,  0.9499]])"
      ]
     },
     "execution_count": 8,
     "metadata": {},
     "output_type": "execute_result"
    }
   ],
   "source": [
    "tmp=(torch.rand(8,105) - 0.5) * 2\n",
    "tmp[:1,:10]"
   ]
  },
  {
   "cell_type": "code",
   "execution_count": null,
   "id": "5f3e6017",
   "metadata": {},
   "outputs": [],
   "source": []
  },
  {
   "cell_type": "code",
   "execution_count": null,
   "id": "e027b6b1",
   "metadata": {},
   "outputs": [],
   "source": []
  },
  {
   "cell_type": "markdown",
   "id": "32bbe5c6-b999-436e-8d7f-ef2f3d3c0a55",
   "metadata": {},
   "source": [
    "# Normal training"
   ]
  },
  {
   "cell_type": "code",
   "execution_count": 9,
   "id": "43b2d12a-1880-4899-9dd8-be933ebca73a",
   "metadata": {},
   "outputs": [
    {
     "name": "stdout",
     "output_type": "stream",
     "text": [
      "Inversion Normal attack\n",
      "----------- Model_name --------------:  0\n"
     ]
    },
    {
     "ename": "FileNotFoundError",
     "evalue": "[Errno 2] No such file or directory: '../clients_data/reconstr_and_GT/normal/reconstructions_ground_truths_0.pkl'",
     "output_type": "error",
     "traceback": [
      "\u001b[0;31m---------------------------------------------------------------------------\u001b[0m",
      "\u001b[0;31mFileNotFoundError\u001b[0m                         Traceback (most recent call last)",
      "Cell \u001b[0;32mIn[9], line 30\u001b[0m\n\u001b[1;32m     27\u001b[0m dataset \u001b[38;5;241m=\u001b[39m \u001b[38;5;124mf\u001b[39m\u001b[38;5;124m'\u001b[39m\u001b[38;5;124m../clients_data/reconstr_and_GT/normal/dataset_\u001b[39m\u001b[38;5;132;01m{\u001b[39;00mmodel_name\u001b[38;5;132;01m}\u001b[39;00m\u001b[38;5;124m.pkl\u001b[39m\u001b[38;5;124m'\u001b[39m\n\u001b[1;32m     28\u001b[0m tolerance_map \u001b[38;5;241m=\u001b[39m \u001b[38;5;124mf\u001b[39m\u001b[38;5;124m'\u001b[39m\u001b[38;5;124m../clients_data/reconstr_and_GT/normal/tolerance_map_\u001b[39m\u001b[38;5;132;01m{\u001b[39;00mmodel_name\u001b[38;5;132;01m}\u001b[39;00m\u001b[38;5;124m.pkl\u001b[39m\u001b[38;5;124m'\u001b[39m\n\u001b[0;32m---> 30\u001b[0m \u001b[38;5;28;01mwith\u001b[39;00m \u001b[38;5;28;43mopen\u001b[39;49m\u001b[43m(\u001b[49m\u001b[43mrecn_gt\u001b[49m\u001b[43m,\u001b[49m\u001b[43m \u001b[49m\u001b[38;5;124;43m'\u001b[39;49m\u001b[38;5;124;43mrb\u001b[39;49m\u001b[38;5;124;43m'\u001b[39;49m\u001b[43m)\u001b[49m \u001b[38;5;28;01mas\u001b[39;00m file:\n\u001b[1;32m     31\u001b[0m     recn_gt \u001b[38;5;241m=\u001b[39m pickle\u001b[38;5;241m.\u001b[39mload(file)\n\u001b[1;32m     33\u001b[0m \u001b[38;5;28;01mwith\u001b[39;00m \u001b[38;5;28mopen\u001b[39m(dataset, \u001b[38;5;124m'\u001b[39m\u001b[38;5;124mrb\u001b[39m\u001b[38;5;124m'\u001b[39m) \u001b[38;5;28;01mas\u001b[39;00m file:\n",
      "File \u001b[0;32m~/Downloads/tableak_FT/myenv3.8/lib/python3.8/site-packages/IPython/core/interactiveshell.py:284\u001b[0m, in \u001b[0;36m_modified_open\u001b[0;34m(file, *args, **kwargs)\u001b[0m\n\u001b[1;32m    277\u001b[0m \u001b[38;5;28;01mif\u001b[39;00m file \u001b[38;5;129;01min\u001b[39;00m {\u001b[38;5;241m0\u001b[39m, \u001b[38;5;241m1\u001b[39m, \u001b[38;5;241m2\u001b[39m}:\n\u001b[1;32m    278\u001b[0m     \u001b[38;5;28;01mraise\u001b[39;00m \u001b[38;5;167;01mValueError\u001b[39;00m(\n\u001b[1;32m    279\u001b[0m         \u001b[38;5;124mf\u001b[39m\u001b[38;5;124m\"\u001b[39m\u001b[38;5;124mIPython won\u001b[39m\u001b[38;5;124m'\u001b[39m\u001b[38;5;124mt let you open fd=\u001b[39m\u001b[38;5;132;01m{\u001b[39;00mfile\u001b[38;5;132;01m}\u001b[39;00m\u001b[38;5;124m by default \u001b[39m\u001b[38;5;124m\"\u001b[39m\n\u001b[1;32m    280\u001b[0m         \u001b[38;5;124m\"\u001b[39m\u001b[38;5;124mas it is likely to crash IPython. If you know what you are doing, \u001b[39m\u001b[38;5;124m\"\u001b[39m\n\u001b[1;32m    281\u001b[0m         \u001b[38;5;124m\"\u001b[39m\u001b[38;5;124myou can use builtins\u001b[39m\u001b[38;5;124m'\u001b[39m\u001b[38;5;124m open.\u001b[39m\u001b[38;5;124m\"\u001b[39m\n\u001b[1;32m    282\u001b[0m     )\n\u001b[0;32m--> 284\u001b[0m \u001b[38;5;28;01mreturn\u001b[39;00m \u001b[43mio_open\u001b[49m\u001b[43m(\u001b[49m\u001b[43mfile\u001b[49m\u001b[43m,\u001b[49m\u001b[43m \u001b[49m\u001b[38;5;241;43m*\u001b[39;49m\u001b[43margs\u001b[49m\u001b[43m,\u001b[49m\u001b[43m \u001b[49m\u001b[38;5;241;43m*\u001b[39;49m\u001b[38;5;241;43m*\u001b[39;49m\u001b[43mkwargs\u001b[49m\u001b[43m)\u001b[49m\n",
      "\u001b[0;31mFileNotFoundError\u001b[0m: [Errno 2] No such file or directory: '../clients_data/reconstr_and_GT/normal/reconstructions_ground_truths_0.pkl'"
     ]
    }
   ],
   "source": [
    "exp1 = \"tableak_FT_inversion_normal\"\n",
    "config = configs[0]\n",
    "final_grp={}\n",
    "final_subgrp={}\n",
    "\n",
    "print(\"Inversion Normal attack\")\n",
    "num_training_datapoints=2000\n",
    "\n",
    "final_all_errors = []\n",
    "final_cat_errors = []\n",
    "final_cont_errors = []\n",
    "\n",
    "final_all_errors_full = []\n",
    "final_cat_errors_full = []\n",
    "final_cont_errors_full = []\n",
    "\n",
    "\n",
    "for model_name in client_models:\n",
    "    print(\"----------- Model_name --------------: \",model_name)\n",
    "    temp_result={}\n",
    "    \n",
    "    # recn_gt = f'../../{exp1}/50_clients_data/reconstr_and_GT/reconstructions_ground_truths_{model_name}.pkl'\n",
    "    # dataset = f'../../{exp1}/50_clients_data/reconstr_and_GT/dataset_{model_name}.pkl'\n",
    "    # tolerance_map = f'../../{exp1}/50_clients_data/reconstr_and_GT/tolerance_map_{model_name}.pkl'\n",
    "\n",
    "    recn_gt = f'../clients_data/reconstr_and_GT/normal/reconstructions_ground_truths_{model_name}.pkl'\n",
    "    dataset = f'../clients_data/reconstr_and_GT/normal/dataset_{model_name}.pkl'\n",
    "    tolerance_map = f'../clients_data/reconstr_and_GT/normal/tolerance_map_{model_name}.pkl'\n",
    "\n",
    "    with open(recn_gt, 'rb') as file:\n",
    "        recn_gt = pickle.load(file)\n",
    "\n",
    "    with open(dataset, 'rb') as file:\n",
    "        dataset = pickle.load(file)\n",
    "    \n",
    "    with open(tolerance_map, 'rb') as file:\n",
    "        tolerance_map = pickle.load(file)\n",
    "\n",
    "    reconstructions = recn_gt['reconstructions']\n",
    "    ground_truths = recn_gt['ground_truths']\n",
    "\n",
    "    all_errors = []\n",
    "    cat_errors = []\n",
    "    cont_errors = []\n",
    "    \n",
    "    all_errors_full = []\n",
    "    cat_errors_full = []\n",
    "    cont_errors_full = []\n",
    "    \n",
    "    temp_all_errors = []\n",
    "    temp_cat_errors = []\n",
    "    temp_cont_errors = []\n",
    "    \n",
    "    match_results = {}\n",
    "\n",
    "    index_value_pairs = [(8, \"White\"),(8,\"Black\"), (9, \"Male\"), (9, \"Female\")]\n",
    "    \n",
    "    for epoch_reconstruction, epoch_ground_truth in zip(reconstructions, ground_truths):\n",
    "        for client_reconstruction, client_ground_truth in zip(epoch_reconstruction, epoch_ground_truth):\n",
    "            if config['post_process_cont']:\n",
    "                client_reconstruction = post_process_continuous(client_reconstruction, dataset=dataset)\n",
    "            client_recon_projected, client_gt_projected = dataset.decode_batch(client_reconstruction, standardized=True), dataset.decode_batch(client_ground_truth, standardized=True)\n",
    "                    \n",
    "            print(client_gt_projected.shape, client_recon_projected.shape)\n",
    "                    \n",
    "            _, batch_cost_all_original, batch_cost_cat_original, batch_cost_cont_original = match_reconstruction_ground_truth(\n",
    "                                client_gt_projected, client_recon_projected, tolerance_map\n",
    "                                )\n",
    "            all_errors_full.append(np.mean(batch_cost_all_original))\n",
    "            cat_errors_full.append(np.mean(batch_cost_cat_original))\n",
    "            cont_errors_full.append(np.mean(batch_cost_cont_original))  \n",
    "\n",
    "            final_all_errors_full.append(all_errors_full)\n",
    "            final_cat_errors_full.append(cat_errors_full)\n",
    "            final_cont_errors_full.append(cont_errors_full) \n",
    "            \n",
    "            for index, value in index_value_pairs:\n",
    "\n",
    "                temp_all_errors = []\n",
    "                temp_cat_errors = []\n",
    "                temp_cont_errors = []\n",
    "            \n",
    "                filtered_gt, filtered_recon = group_filter(client_gt_projected, client_recon_projected, index=index, value=value)  \n",
    "                print(filtered_gt.shape, filtered_recon.shape)\n",
    "    \n",
    "                # Call match_reconstruction_ground_truth with the filtered results\n",
    "                _, batch_cost_all, batch_cost_cat, batch_cost_cont = match_reconstruction_ground_truth(filtered_gt, filtered_recon, tolerance_map)\n",
    "                \n",
    "                temp_all_errors.append(np.mean(batch_cost_all))\n",
    "                temp_cat_errors.append(np.mean(batch_cost_cat))\n",
    "                temp_cont_errors.append(np.mean(batch_cost_cont))  \n",
    "    \n",
    "                all_errors.append(temp_all_errors)\n",
    "                cat_errors.append(temp_cat_errors)\n",
    "                cont_errors.append(temp_cont_errors) \n",
    "                \n",
    "            final_all_errors.append(all_errors)\n",
    "            final_cat_errors.append(cat_errors)\n",
    "            final_cont_errors.append(cont_errors)         "
   ]
  },
  {
   "cell_type": "code",
   "execution_count": 10,
   "id": "f2ee34a6-0bab-415a-a6d9-1646bff24f39",
   "metadata": {},
   "outputs": [
    {
     "ename": "IndexError",
     "evalue": "list index out of range",
     "output_type": "error",
     "traceback": [
      "\u001b[0;31m---------------------------------------------------------------------------\u001b[0m",
      "\u001b[0;31mIndexError\u001b[0m                                Traceback (most recent call last)",
      "Cell \u001b[0;32mIn[10], line 13\u001b[0m\n\u001b[1;32m     10\u001b[0m \u001b[38;5;28;01mfor\u001b[39;00m j, lbatch_size \u001b[38;5;129;01min\u001b[39;00m \u001b[38;5;28menumerate\u001b[39m(local_batch_sizes):\n\u001b[1;32m     11\u001b[0m     \u001b[38;5;28;01mfor\u001b[39;00m k, epoch_prior_param \u001b[38;5;129;01min\u001b[39;00m \u001b[38;5;28menumerate\u001b[39m(epoch_prior_params):\n\u001b[0;32m---> 13\u001b[0m         collected_data[i, j, k, \u001b[38;5;241m0\u001b[39m] \u001b[38;5;241m=\u001b[39m np\u001b[38;5;241m.\u001b[39mmean(\u001b[43mfinal_all_errors_full\u001b[49m\u001b[43m[\u001b[49m\u001b[43mm\u001b[49m\u001b[43m]\u001b[49m), np\u001b[38;5;241m.\u001b[39mstd(final_all_errors_full[m]), np\u001b[38;5;241m.\u001b[39mmedian(final_all_errors_full[m]), np\u001b[38;5;241m.\u001b[39mmin(final_all_errors_full[m]), np\u001b[38;5;241m.\u001b[39mmax(final_all_errors_full[m])\n\u001b[1;32m     14\u001b[0m         collected_data[i, j, k, \u001b[38;5;241m1\u001b[39m] \u001b[38;5;241m=\u001b[39m np\u001b[38;5;241m.\u001b[39mmean(final_cat_errors_full[m]), np\u001b[38;5;241m.\u001b[39mstd(final_cat_errors_full[m]), np\u001b[38;5;241m.\u001b[39mmedian(final_cat_errors_full[m]), np\u001b[38;5;241m.\u001b[39mmin(final_cat_errors_full[m]), np\u001b[38;5;241m.\u001b[39mmax(final_cat_errors_full[m])\n\u001b[1;32m     15\u001b[0m         collected_data[i, j, k, \u001b[38;5;241m2\u001b[39m] \u001b[38;5;241m=\u001b[39m np\u001b[38;5;241m.\u001b[39mmean(final_cont_errors_full[m]), np\u001b[38;5;241m.\u001b[39mstd(final_cont_errors_full[m]), np\u001b[38;5;241m.\u001b[39mmedian(final_cont_errors_full[m]), np\u001b[38;5;241m.\u001b[39mmin(final_cont_errors_full[m]), np\u001b[38;5;241m.\u001b[39mmax(final_cont_errors_full[m])\n",
      "\u001b[0;31mIndexError\u001b[0m: list index out of range"
     ]
    }
   ],
   "source": [
    "local_epochs=[5]\n",
    "local_batch_sizes=[8]\n",
    "epoch_prior_params=[0.01]\n",
    "all_state_recon={}\n",
    "\n",
    "for m,model_name in enumerate(client_models):\n",
    "    collected_data = np.zeros((len(local_epochs), len(local_batch_sizes), len(epoch_prior_params), 3, 5))\n",
    "    \n",
    "    for i, lepochs in enumerate(local_epochs):\n",
    "        for j, lbatch_size in enumerate(local_batch_sizes):\n",
    "            for k, epoch_prior_param in enumerate(epoch_prior_params):\n",
    "    \n",
    "                collected_data[i, j, k, 0] = np.mean(final_all_errors_full[m]), np.std(final_all_errors_full[m]), np.median(final_all_errors_full[m]), np.min(final_all_errors_full[m]), np.max(final_all_errors_full[m])\n",
    "                collected_data[i, j, k, 1] = np.mean(final_cat_errors_full[m]), np.std(final_cat_errors_full[m]), np.median(final_cat_errors_full[m]), np.min(final_cat_errors_full[m]), np.max(final_cat_errors_full[m])\n",
    "                collected_data[i, j, k, 2] = np.mean(final_cont_errors_full[m]), np.std(final_cont_errors_full[m]), np.median(final_cont_errors_full[m]), np.min(final_cont_errors_full[m]), np.max(final_cont_errors_full[m])\n",
    "    \n",
    "            best_param_index = np.argmin(collected_data[i, j, :, 0, 0]).item()\n",
    "\n",
    "    temp_var=float(100 * (1 - collected_data[i, j, best_param_index, 0, 0]))\n",
    "    all_state_recon[model_name]=temp_var\n",
    "    # print(f'Performance at {lepochs} Epochs and {lbatch_size} Batch Size: {100*(1-collected_data[i, j, best_param_index, 0, 0]):.1f}% +- {100*collected_data[i, j, best_param_index, 0, 1]:.2f}')\n",
    "    # total_recon= 100 * (1 - collected_data[i, j, best_param_index, 0, 0])\n",
    "    # print(\"total_recon: \",total_recon)\n"
   ]
  },
  {
   "cell_type": "code",
   "execution_count": 10,
   "id": "a68c8458-26d5-4aec-b9e6-fa68b83b0d1f",
   "metadata": {},
   "outputs": [
    {
     "data": {
      "text/plain": [
       "{0: 56.82857142857143}"
      ]
     },
     "execution_count": 10,
     "metadata": {},
     "output_type": "execute_result"
    }
   ],
   "source": [
    "all_state_recon"
   ]
  },
  {
   "cell_type": "code",
   "execution_count": null,
   "id": "c264f26d-07b7-49b4-ae9b-afc02b51aaac",
   "metadata": {},
   "outputs": [],
   "source": []
  },
  {
   "cell_type": "code",
   "execution_count": 8,
   "id": "eaa74d8e-e536-4e83-8355-932cc9d41669",
   "metadata": {},
   "outputs": [
    {
     "name": "stdout",
     "output_type": "stream",
     "text": [
      "All state reconstructed data has been stored in inversion_normal_adult_reconstruction.pickle\n"
     ]
    }
   ],
   "source": [
    "filename_all_state_inversion = \"inversion_normal_adult_reconstruction.pickle\"\n",
    "\n",
    "with open(filename_all_state_inversion, 'wb') as file:\n",
    "    pickle.dump(all_state_recon, file)\n",
    "\n",
    "print(f\"All state reconstructed data has been stored in {filename_all_state_inversion}\")\n"
   ]
  },
  {
   "cell_type": "code",
   "execution_count": null,
   "id": "c0e4badd-f176-4256-9276-0c1c051ac4f8",
   "metadata": {},
   "outputs": [],
   "source": []
  },
  {
   "cell_type": "code",
   "execution_count": 11,
   "id": "f87d0b39-7046-453f-a62b-0f475f85b608",
   "metadata": {},
   "outputs": [
    {
     "name": "stdout",
     "output_type": "stream",
     "text": [
      "all_errors [[0.42404748070058934], [0.5634071810542398], [0.39322751322751326], [0.5621978021978022]]\n"
     ]
    }
   ],
   "source": [
    "\n",
    "local_epochs = [5]\n",
    "local_batch_sizes = [8]\n",
    "epoch_prior_params = [0.01]\n",
    "final_group_reco={}\n",
    "for m,model_name in enumerate(client_models):\n",
    "    \n",
    "    temp_group_score=[]\n",
    "    all_errors =final_all_errors[m]\n",
    "    cat_errors=final_cat_errors[m]\n",
    "    cont_errors=final_cont_errors[m]\n",
    "    print(\"all_errors\",all_errors)\n",
    "    for i in range(len(all_errors)):\n",
    "        collected_data = np.zeros((len(local_epochs), len(local_batch_sizes), len(epoch_prior_params), 3, 5))\n",
    "\n",
    "        for m, lepochs in enumerate(local_epochs): \n",
    "            for j, lbatch_size in enumerate(local_batch_sizes):\n",
    "                for k, epoch_prior_param in enumerate(epoch_prior_params):\n",
    "                    \n",
    "                    collected_data[m, j, k, 0] = np.mean(all_errors[i]), np.std(all_errors[i]), np.median(all_errors[i]), np.min(all_errors[i]), np.max(all_errors[i])\n",
    "                    collected_data[m, j, k, 1] = np.mean(cat_errors[i]), np.std(cat_errors[i]), np.median(cat_errors[i]), np.min(cat_errors[i]), np.max(cat_errors[i])\n",
    "                    collected_data[m, j, k, 2] = np.mean(cont_errors[i]), np.std(cont_errors[i]), np.median(cont_errors[i]), np.min(cont_errors[i]), np.max(cont_errors[i])\n",
    "    \n",
    "                best_param_index = np.argmin(collected_data[m, j, :, 0, 0]).item()\n",
    "    \n",
    "            # print(\"best_param_index\", best_param_index)\n",
    "            # print(f'Performance at {lepochs} Epochs and {lbatch_size} Batch Size: {100*(1-collected_data[m, j, best_param_index, 0, 0]):.1f}% +- {100*collected_data[m, j, best_param_index, 0, 1]:.2f}')\n",
    "            temp_var=float(100 * (1 - collected_data[m, j, best_param_index, 0, 0]))\n",
    "            temp_group_score.append(temp_var)\n",
    "            \n",
    "        # print(temp_group_score)\n",
    "        \n",
    "    final_group_reco[model_name] = {\n",
    "        \"Male\":temp_group_score[0],\n",
    "        \"Female\":temp_group_score[1] ,\n",
    "        \"White\":temp_group_score[2] ,\n",
    "        \"Black\": temp_group_score[3]\n",
    "    }\n",
    "\n"
   ]
  },
  {
   "cell_type": "code",
   "execution_count": 12,
   "id": "827f3567-6ad8-4079-b2f6-0e83328fc7fd",
   "metadata": {},
   "outputs": [
    {
     "data": {
      "text/plain": [
       "{0: {'Male': 57.59525192994106,\n",
       "  'Female': 43.65928189457602,\n",
       "  'White': 60.67724867724868,\n",
       "  'Black': 43.780219780219774}}"
      ]
     },
     "execution_count": 12,
     "metadata": {},
     "output_type": "execute_result"
    }
   ],
   "source": [
    "final_group_reco"
   ]
  },
  {
   "cell_type": "code",
   "execution_count": 11,
   "id": "73d4972f-218c-450c-a41a-7714e8af93d3",
   "metadata": {},
   "outputs": [
    {
     "name": "stdout",
     "output_type": "stream",
     "text": [
      "Group reconstructed data has been stored in inversion_normal_adult_group_reconstruction.pickle\n"
     ]
    }
   ],
   "source": [
    "\n",
    "filename_all_state_inversion_group = \"inversion_normal_adult_group_reconstruction.pickle\"\n",
    "\n",
    "with open(filename_all_state_inversion_group, 'wb') as file:\n",
    "    pickle.dump(final_group_reco, file)\n",
    "\n",
    "print(f\"Group reconstructed data has been stored in {filename_all_state_inversion_group}\")"
   ]
  },
  {
   "cell_type": "code",
   "execution_count": null,
   "id": "f07a0c47-777b-4898-9aa4-fe7cb3168b1e",
   "metadata": {},
   "outputs": [],
   "source": []
  },
  {
   "cell_type": "code",
   "execution_count": 14,
   "id": "8ab50cc0-d2d8-4921-a20e-12df636a348f",
   "metadata": {},
   "outputs": [
    {
     "data": {
      "text/plain": [
       "51.5"
      ]
     },
     "execution_count": 14,
     "metadata": {},
     "output_type": "execute_result"
    }
   ],
   "source": [
    "(60+43)/2"
   ]
  },
  {
   "cell_type": "code",
   "execution_count": null,
   "id": "955e78e7-72d4-41d3-a220-a597bfe76d37",
   "metadata": {},
   "outputs": [],
   "source": []
  },
  {
   "cell_type": "markdown",
   "id": "e12b590d-54d8-40d6-b7ed-c8072e2cb2ca",
   "metadata": {},
   "source": [
    "# DP training"
   ]
  },
  {
   "cell_type": "code",
   "execution_count": 15,
   "id": "b8e509c9-38a3-4882-8c85-0e10a7bf63d8",
   "metadata": {},
   "outputs": [
    {
     "name": "stdout",
     "output_type": "stream",
     "text": [
      "Inversion Normal attack\n",
      "----------- Model_name --------------:  0\n",
      "(2000, 14) (2000, 14)\n",
      "index:  8 value:  White\n",
      "(1697, 14) (1697, 14)\n",
      "index:  8 value:  Black\n",
      "(203, 14) (203, 14)\n",
      "index:  9 value:  Male\n",
      "(1379, 14) (1379, 14)\n",
      "index:  9 value:  Female\n",
      "(621, 14) (621, 14)\n"
     ]
    }
   ],
   "source": [
    "exp1 = \"tableak_FT_inversion_normal\"\n",
    "config = configs[0]\n",
    "final_grp={}\n",
    "final_subgrp={}\n",
    "\n",
    "print(\"Inversion Normal attack\")\n",
    "num_training_datapoints=2000\n",
    "\n",
    "final_all_errors = []\n",
    "final_cat_errors = []\n",
    "final_cont_errors = []\n",
    "\n",
    "final_all_errors_full = []\n",
    "final_cat_errors_full = []\n",
    "final_cont_errors_full = []\n",
    "\n",
    "\n",
    "for model_name in client_models:\n",
    "    print(\"----------- Model_name --------------: \",model_name)\n",
    "    temp_result={}\n",
    "    \n",
    "    # recn_gt = f'../../{exp1}/50_clients_data/reconstr_and_GT/reconstructions_ground_truths_{model_name}.pkl'\n",
    "    # dataset = f'../../{exp1}/50_clients_data/reconstr_and_GT/dataset_{model_name}.pkl'\n",
    "    # tolerance_map = f'../../{exp1}/50_clients_data/reconstr_and_GT/tolerance_map_{model_name}.pkl'\n",
    "\n",
    "    recn_gt = f'../clients_data/reconstr_and_GT/dp/reconstructions_ground_truths_{model_name}.pkl'\n",
    "    dataset = f'../clients_data/reconstr_and_GT/dp/dataset_{model_name}.pkl'\n",
    "    tolerance_map = f'../clients_data/reconstr_and_GT/dp/tolerance_map_{model_name}.pkl'\n",
    "\n",
    "    with open(recn_gt, 'rb') as file:\n",
    "        recn_gt = pickle.load(file)\n",
    "\n",
    "    with open(dataset, 'rb') as file:\n",
    "        dataset = pickle.load(file)\n",
    "    \n",
    "    with open(tolerance_map, 'rb') as file:\n",
    "        tolerance_map = pickle.load(file)\n",
    "\n",
    "    reconstructions = recn_gt['reconstructions']\n",
    "    ground_truths = recn_gt['ground_truths']\n",
    "\n",
    "    all_errors = []\n",
    "    cat_errors = []\n",
    "    cont_errors = []\n",
    "    \n",
    "    all_errors_full = []\n",
    "    cat_errors_full = []\n",
    "    cont_errors_full = []\n",
    "    \n",
    "    temp_all_errors = []\n",
    "    temp_cat_errors = []\n",
    "    temp_cont_errors = []\n",
    "    \n",
    "    match_results = {}\n",
    "    index_value_pairs = [(8, \"White\"),(8,\"Black\"), (9, \"Male\"), (9, \"Female\")]\n",
    "\n",
    "    for epoch_reconstruction, epoch_ground_truth in zip(reconstructions, ground_truths):\n",
    "        for client_reconstruction, client_ground_truth in zip(epoch_reconstruction, epoch_ground_truth):\n",
    "            if config['post_process_cont']:\n",
    "                client_reconstruction = post_process_continuous(client_reconstruction, dataset=dataset)\n",
    "            client_recon_projected, client_gt_projected = dataset.decode_batch(client_reconstruction, standardized=True), dataset.decode_batch(client_ground_truth, standardized=True)\n",
    "                    \n",
    "            print(client_gt_projected.shape, client_recon_projected.shape)\n",
    "                    \n",
    "            _, batch_cost_all_original, batch_cost_cat_original, batch_cost_cont_original = match_reconstruction_ground_truth(\n",
    "                                client_gt_projected, client_recon_projected, tolerance_map\n",
    "                                )\n",
    "            all_errors_full.append(np.mean(batch_cost_all_original))\n",
    "            cat_errors_full.append(np.mean(batch_cost_cat_original))\n",
    "            cont_errors_full.append(np.mean(batch_cost_cont_original))  \n",
    "\n",
    "            final_all_errors_full.append(all_errors_full)\n",
    "            final_cat_errors_full.append(cat_errors_full)\n",
    "            final_cont_errors_full.append(cont_errors_full) \n",
    "            \n",
    "            for index, value in index_value_pairs:\n",
    "\n",
    "                temp_all_errors = []\n",
    "                temp_cat_errors = []\n",
    "                temp_cont_errors = []\n",
    "            \n",
    "                filtered_gt, filtered_recon = group_filter(client_gt_projected, client_recon_projected, index=index, value=value)        \n",
    "                print(filtered_gt.shape, filtered_recon.shape)\n",
    "    \n",
    "                # Call match_reconstruction_ground_truth with the filtered results\n",
    "                _, batch_cost_all, batch_cost_cat, batch_cost_cont = match_reconstruction_ground_truth(filtered_gt, filtered_recon, tolerance_map)\n",
    "                \n",
    "                temp_all_errors.append(np.mean(batch_cost_all))\n",
    "                temp_cat_errors.append(np.mean(batch_cost_cat))\n",
    "                temp_cont_errors.append(np.mean(batch_cost_cont))  \n",
    "    \n",
    "                all_errors.append(temp_all_errors)\n",
    "                cat_errors.append(temp_cat_errors)\n",
    "                cont_errors.append(temp_cont_errors) \n",
    "                \n",
    "            final_all_errors.append(all_errors)\n",
    "            final_cat_errors.append(cat_errors)\n",
    "            final_cont_errors.append(cont_errors)         "
   ]
  },
  {
   "cell_type": "code",
   "execution_count": null,
   "id": "f0e035b8-1bea-41a7-ab95-eb80b4b3548f",
   "metadata": {},
   "outputs": [],
   "source": []
  },
  {
   "cell_type": "code",
   "execution_count": null,
   "id": "dd1fdc83-223c-438c-afdb-49f7fc64ea92",
   "metadata": {},
   "outputs": [],
   "source": []
  },
  {
   "cell_type": "code",
   "execution_count": null,
   "id": "c71ea264-a41d-45f8-9b8a-d7b9ce968a03",
   "metadata": {},
   "outputs": [],
   "source": []
  },
  {
   "cell_type": "code",
   "execution_count": 16,
   "id": "b034bf28-98c8-492d-b5d9-8cb47a50cd1a",
   "metadata": {},
   "outputs": [],
   "source": [
    "local_epochs=[5]\n",
    "local_batch_sizes=[8]\n",
    "epoch_prior_params=[0.01]\n",
    "all_state_recon={}\n",
    "\n",
    "for m,model_name in enumerate(client_models):\n",
    "    collected_data = np.zeros((len(local_epochs), len(local_batch_sizes), len(epoch_prior_params), 3, 5))\n",
    "    \n",
    "    for i, lepochs in enumerate(local_epochs):\n",
    "        for j, lbatch_size in enumerate(local_batch_sizes):\n",
    "            for k, epoch_prior_param in enumerate(epoch_prior_params):\n",
    "    \n",
    "                collected_data[i, j, k, 0] = np.mean(final_all_errors_full[m]), np.std(final_all_errors_full[m]), np.median(final_all_errors_full[m]), np.min(final_all_errors_full[m]), np.max(final_all_errors_full[m])\n",
    "                collected_data[i, j, k, 1] = np.mean(final_cat_errors_full[m]), np.std(final_cat_errors_full[m]), np.median(final_cat_errors_full[m]), np.min(final_cat_errors_full[m]), np.max(final_cat_errors_full[m])\n",
    "                collected_data[i, j, k, 2] = np.mean(final_cont_errors_full[m]), np.std(final_cont_errors_full[m]), np.median(final_cont_errors_full[m]), np.min(final_cont_errors_full[m]), np.max(final_cont_errors_full[m])\n",
    "    \n",
    "            best_param_index = np.argmin(collected_data[i, j, :, 0, 0]).item()\n",
    "\n",
    "    temp_var=float(100 * (1 - collected_data[i, j, best_param_index, 0, 0]))\n",
    "    all_state_recon[model_name]=temp_var\n",
    "    # print(f'Performance at {lepochs} Epochs and {lbatch_size} Batch Size: {100*(1-collected_data[i, j, best_param_index, 0, 0]):.1f}% +- {100*collected_data[i, j, best_param_index, 0, 1]:.2f}')\n",
    "    # total_recon= 100 * (1 - collected_data[i, j, best_param_index, 0, 0])\n",
    "    # print(\"total_recon: \",total_recon)\n"
   ]
  },
  {
   "cell_type": "code",
   "execution_count": 17,
   "id": "5dc1085e-59e0-4729-990b-839f1ab00615",
   "metadata": {},
   "outputs": [
    {
     "data": {
      "text/plain": [
       "{0: 60.58571428571429}"
      ]
     },
     "execution_count": 17,
     "metadata": {},
     "output_type": "execute_result"
    }
   ],
   "source": [
    "all_state_recon"
   ]
  },
  {
   "cell_type": "code",
   "execution_count": 18,
   "id": "08ed8ce2-8636-4b6f-aa6c-8aa20a1717f8",
   "metadata": {},
   "outputs": [
    {
     "name": "stdout",
     "output_type": "stream",
     "text": [
      "All state reconstructed data has been stored in inversion_dp_adult_reconstruction.pickle\n"
     ]
    }
   ],
   "source": [
    "filename_all_state_inversion = \"inversion_dp_adult_reconstruction.pickle\"\n",
    "\n",
    "with open(filename_all_state_inversion, 'wb') as file:\n",
    "    pickle.dump(all_state_recon, file)\n",
    "\n",
    "print(f\"All state reconstructed data has been stored in {filename_all_state_inversion}\")\n"
   ]
  },
  {
   "cell_type": "code",
   "execution_count": null,
   "id": "8367ae2b-3947-4708-808a-c64d65cdbe01",
   "metadata": {},
   "outputs": [],
   "source": []
  },
  {
   "cell_type": "code",
   "execution_count": 19,
   "id": "c77f38dd-d54a-4c1d-98b6-a67ff9eaf17a",
   "metadata": {},
   "outputs": [
    {
     "name": "stdout",
     "output_type": "stream",
     "text": [
      "all_errors [[0.3976765721020287], [0.5024630541871922], [0.4261887496115197], [0.44616977225672877]]\n"
     ]
    }
   ],
   "source": [
    "\n",
    "local_epochs = [5]\n",
    "local_batch_sizes = [8]\n",
    "epoch_prior_params = [0.01]\n",
    "final_group_reco={}\n",
    "for m,model_name in enumerate(client_models):\n",
    "    \n",
    "    temp_group_score=[]\n",
    "    all_errors =final_all_errors[m]\n",
    "    cat_errors=final_cat_errors[m]\n",
    "    cont_errors=final_cont_errors[m]\n",
    "    print(\"all_errors\",all_errors)\n",
    "    for i in range(len(all_errors)):\n",
    "        collected_data = np.zeros((len(local_epochs), len(local_batch_sizes), len(epoch_prior_params), 3, 5))\n",
    "\n",
    "        for m, lepochs in enumerate(local_epochs): \n",
    "            for j, lbatch_size in enumerate(local_batch_sizes):\n",
    "                for k, epoch_prior_param in enumerate(epoch_prior_params):\n",
    "                    \n",
    "                    collected_data[m, j, k, 0] = np.mean(all_errors[i]), np.std(all_errors[i]), np.median(all_errors[i]), np.min(all_errors[i]), np.max(all_errors[i])\n",
    "                    collected_data[m, j, k, 1] = np.mean(cat_errors[i]), np.std(cat_errors[i]), np.median(cat_errors[i]), np.min(cat_errors[i]), np.max(cat_errors[i])\n",
    "                    collected_data[m, j, k, 2] = np.mean(cont_errors[i]), np.std(cont_errors[i]), np.median(cont_errors[i]), np.min(cont_errors[i]), np.max(cont_errors[i])\n",
    "    \n",
    "                best_param_index = np.argmin(collected_data[m, j, :, 0, 0]).item()\n",
    "    \n",
    "            # print(\"best_param_index\", best_param_index)\n",
    "            # print(f'Performance at {lepochs} Epochs and {lbatch_size} Batch Size: {100*(1-collected_data[m, j, best_param_index, 0, 0]):.1f}% +- {100*collected_data[m, j, best_param_index, 0, 1]:.2f}')\n",
    "            temp_var=float(100 * (1 - collected_data[m, j, best_param_index, 0, 0]))\n",
    "            temp_group_score.append(temp_var)\n",
    "            \n",
    "        # print(temp_group_score)\n",
    "        \n",
    "    final_group_reco[model_name] = {\n",
    "        \"Male\":temp_group_score[0],\n",
    "        \"Female\":temp_group_score[1] ,\n",
    "        \"White\":temp_group_score[2] ,\n",
    "        \"Black\": temp_group_score[3]\n",
    "    }\n",
    "\n"
   ]
  },
  {
   "cell_type": "code",
   "execution_count": 27,
   "id": "99a44a1a-9239-4560-a271-0d64a38b04e4",
   "metadata": {},
   "outputs": [
    {
     "data": {
      "text/plain": [
       "{0: {'Male': 46.10389610389611,\n",
       "  'Female': 19.047619047619058,\n",
       "  'White': 44.64285714285714,\n",
       "  'Black': 25.0}}"
      ]
     },
     "execution_count": 27,
     "metadata": {},
     "output_type": "execute_result"
    }
   ],
   "source": [
    "final_group_reco"
   ]
  },
  {
   "cell_type": "code",
   "execution_count": null,
   "id": "84d1f540-a441-4bf4-8619-c1f0b24f1daa",
   "metadata": {},
   "outputs": [],
   "source": []
  },
  {
   "cell_type": "code",
   "execution_count": 20,
   "id": "dd0d3c52-d010-4d45-a974-372a3dba2dcb",
   "metadata": {},
   "outputs": [
    {
     "name": "stdout",
     "output_type": "stream",
     "text": [
      "Group reconstructed data has been stored in inversion_dp_adult_group_reconstruction.pickle\n"
     ]
    }
   ],
   "source": [
    "\n",
    "filename_all_state_inversion_group = \"inversion_dp_adult_group_reconstruction.pickle\"\n",
    "\n",
    "with open(filename_all_state_inversion_group, 'wb') as file:\n",
    "    pickle.dump(final_group_reco, file)\n",
    "\n",
    "print(f\"Group reconstructed data has been stored in {filename_all_state_inversion_group}\")"
   ]
  },
  {
   "cell_type": "code",
   "execution_count": null,
   "id": "a57678a2-5ac1-434e-9632-bc8a1847b82c",
   "metadata": {},
   "outputs": [],
   "source": []
  },
  {
   "cell_type": "code",
   "execution_count": null,
   "id": "803949cc-bbaf-4c21-9f69-0498fb9d7390",
   "metadata": {},
   "outputs": [],
   "source": []
  },
  {
   "cell_type": "markdown",
   "id": "7b98d3a3-1196-4cd4-9cdb-78e524b2686b",
   "metadata": {},
   "source": [
    "# Fair Training"
   ]
  },
  {
   "cell_type": "code",
   "execution_count": 21,
   "id": "c1cfd04c-03bf-4ef3-988d-01aa0446daf7",
   "metadata": {},
   "outputs": [
    {
     "name": "stdout",
     "output_type": "stream",
     "text": [
      "Inversion Normal attack\n",
      "----------- Model_name --------------:  0\n",
      "(16, 14) (16, 14)\n",
      "index:  8 value:  White\n",
      "(11, 14) (11, 14)\n",
      "index:  8 value:  Black\n",
      "(3, 14) (3, 14)\n",
      "index:  9 value:  Male\n",
      "(12, 14) (12, 14)\n",
      "index:  9 value:  Female\n",
      "(4, 14) (4, 14)\n"
     ]
    }
   ],
   "source": [
    "exp1 = \"tableak_FT_inversion_normal\"\n",
    "config = configs[0]\n",
    "final_grp={}\n",
    "final_subgrp={}\n",
    "\n",
    "print(\"Inversion Normal attack\")\n",
    "num_training_datapoints=2000\n",
    "\n",
    "final_all_errors = []\n",
    "final_cat_errors = []\n",
    "final_cont_errors = []\n",
    "\n",
    "final_all_errors_full = []\n",
    "final_cat_errors_full = []\n",
    "final_cont_errors_full = []\n",
    "\n",
    "\n",
    "for model_name in client_models:\n",
    "    print(\"----------- Model_name --------------: \",model_name)\n",
    "    temp_result={}\n",
    "    \n",
    "    # recn_gt = f'../../{exp1}/50_clients_data/reconstr_and_GT/reconstructions_ground_truths_{model_name}.pkl'\n",
    "    # dataset = f'../../{exp1}/50_clients_data/reconstr_and_GT/dataset_{model_name}.pkl'\n",
    "    # tolerance_map = f'../../{exp1}/50_clients_data/reconstr_and_GT/tolerance_map_{model_name}.pkl'\n",
    "\n",
    "    recn_gt = f'../clients_data/reconstr_and_GT/fair/reconstructions_ground_truths_{model_name}.pkl'\n",
    "    dataset = f'../clients_data/reconstr_and_GT/fair/dataset_{model_name}.pkl'\n",
    "    tolerance_map = f'../clients_data/reconstr_and_GT/fair/tolerance_map_{model_name}.pkl'\n",
    "\n",
    "    with open(recn_gt, 'rb') as file:\n",
    "        recn_gt = pickle.load(file)\n",
    "\n",
    "    with open(dataset, 'rb') as file:\n",
    "        dataset = pickle.load(file)\n",
    "    \n",
    "    with open(tolerance_map, 'rb') as file:\n",
    "        tolerance_map = pickle.load(file)\n",
    "\n",
    "    reconstructions = recn_gt['reconstructions']\n",
    "    ground_truths = recn_gt['ground_truths']\n",
    "\n",
    "    all_errors = []\n",
    "    cat_errors = []\n",
    "    cont_errors = []\n",
    "    \n",
    "    all_errors_full = []\n",
    "    cat_errors_full = []\n",
    "    cont_errors_full = []\n",
    "    \n",
    "    temp_all_errors = []\n",
    "    temp_cat_errors = []\n",
    "    temp_cont_errors = []\n",
    "    \n",
    "    match_results = {}\n",
    "    index_value_pairs = [(8, \"White\"),(8,\"Black\"), (9, \"Male\"), (9, \"Female\")]\n",
    "\n",
    "    for epoch_reconstruction, epoch_ground_truth in zip(reconstructions, ground_truths):\n",
    "        for client_reconstruction, client_ground_truth in zip(epoch_reconstruction, epoch_ground_truth):\n",
    "            if config['post_process_cont']:\n",
    "                client_reconstruction = post_process_continuous(client_reconstruction, dataset=dataset)\n",
    "            client_recon_projected, client_gt_projected = dataset.decode_batch(client_reconstruction, standardized=True), dataset.decode_batch(client_ground_truth, standardized=True)\n",
    "                    \n",
    "            print(client_gt_projected.shape, client_recon_projected.shape)\n",
    "                    \n",
    "            _, batch_cost_all_original, batch_cost_cat_original, batch_cost_cont_original = match_reconstruction_ground_truth(\n",
    "                                client_gt_projected, client_recon_projected, tolerance_map\n",
    "                                )\n",
    "            all_errors_full.append(np.mean(batch_cost_all_original))\n",
    "            cat_errors_full.append(np.mean(batch_cost_cat_original))\n",
    "            cont_errors_full.append(np.mean(batch_cost_cont_original))  \n",
    "\n",
    "            final_all_errors_full.append(all_errors_full)\n",
    "            final_cat_errors_full.append(cat_errors_full)\n",
    "            final_cont_errors_full.append(cont_errors_full) \n",
    "            \n",
    "            for index, value in index_value_pairs:\n",
    "\n",
    "                temp_all_errors = []\n",
    "                temp_cat_errors = []\n",
    "                temp_cont_errors = []\n",
    "            \n",
    "                filtered_gt, filtered_recon = group_filter(client_gt_projected, client_recon_projected, index=index, value=value)        \n",
    "                print(filtered_gt.shape, filtered_recon.shape)\n",
    "    \n",
    "                # Call match_reconstruction_ground_truth with the filtered results\n",
    "                _, batch_cost_all, batch_cost_cat, batch_cost_cont = match_reconstruction_ground_truth(filtered_gt, filtered_recon, tolerance_map)\n",
    "                \n",
    "                temp_all_errors.append(np.mean(batch_cost_all))\n",
    "                temp_cat_errors.append(np.mean(batch_cost_cat))\n",
    "                temp_cont_errors.append(np.mean(batch_cost_cont))  \n",
    "    \n",
    "                all_errors.append(temp_all_errors)\n",
    "                cat_errors.append(temp_cat_errors)\n",
    "                cont_errors.append(temp_cont_errors) \n",
    "                \n",
    "            final_all_errors.append(all_errors)\n",
    "            final_cat_errors.append(cat_errors)\n",
    "            final_cont_errors.append(cont_errors)         "
   ]
  },
  {
   "cell_type": "code",
   "execution_count": null,
   "id": "6e1b2bcd-80df-43f8-8a90-8b215eb89f0f",
   "metadata": {},
   "outputs": [],
   "source": []
  },
  {
   "cell_type": "code",
   "execution_count": null,
   "id": "0f1f4640-2cdd-49fd-88ea-dffd174cde2a",
   "metadata": {},
   "outputs": [],
   "source": []
  },
  {
   "cell_type": "code",
   "execution_count": null,
   "id": "ee08d49d-f409-40f9-a166-e5791d4bd9c8",
   "metadata": {},
   "outputs": [],
   "source": []
  },
  {
   "cell_type": "code",
   "execution_count": 22,
   "id": "e835d31b-8f64-476a-a0d2-263ba6fa84de",
   "metadata": {},
   "outputs": [],
   "source": [
    "local_epochs=[5]\n",
    "local_batch_sizes=[8]\n",
    "epoch_prior_params=[0.01]\n",
    "all_state_recon={}\n",
    "\n",
    "for m,model_name in enumerate(client_models):\n",
    "    collected_data = np.zeros((len(local_epochs), len(local_batch_sizes), len(epoch_prior_params), 3, 5))\n",
    "    \n",
    "    for i, lepochs in enumerate(local_epochs):\n",
    "        for j, lbatch_size in enumerate(local_batch_sizes):\n",
    "            for k, epoch_prior_param in enumerate(epoch_prior_params):\n",
    "    \n",
    "                collected_data[i, j, k, 0] = np.mean(final_all_errors_full[m]), np.std(final_all_errors_full[m]), np.median(final_all_errors_full[m]), np.min(final_all_errors_full[m]), np.max(final_all_errors_full[m])\n",
    "                collected_data[i, j, k, 1] = np.mean(final_cat_errors_full[m]), np.std(final_cat_errors_full[m]), np.median(final_cat_errors_full[m]), np.min(final_cat_errors_full[m]), np.max(final_cat_errors_full[m])\n",
    "                collected_data[i, j, k, 2] = np.mean(final_cont_errors_full[m]), np.std(final_cont_errors_full[m]), np.median(final_cont_errors_full[m]), np.min(final_cont_errors_full[m]), np.max(final_cont_errors_full[m])\n",
    "    \n",
    "            best_param_index = np.argmin(collected_data[i, j, :, 0, 0]).item()\n",
    "\n",
    "    temp_var=float(100 * (1 - collected_data[i, j, best_param_index, 0, 0]))\n",
    "    all_state_recon[model_name]=temp_var\n",
    "    # print(f'Performance at {lepochs} Epochs and {lbatch_size} Batch Size: {100*(1-collected_data[i, j, best_param_index, 0, 0]):.1f}% +- {100*collected_data[i, j, best_param_index, 0, 1]:.2f}')\n",
    "    # total_recon= 100 * (1 - collected_data[i, j, best_param_index, 0, 0])\n",
    "    # print(\"total_recon: \",total_recon)\n"
   ]
  },
  {
   "cell_type": "code",
   "execution_count": 23,
   "id": "d624af05-374d-4e2a-abbb-f464ae556bb1",
   "metadata": {},
   "outputs": [
    {
     "data": {
      "text/plain": [
       "{0: 43.75}"
      ]
     },
     "execution_count": 23,
     "metadata": {},
     "output_type": "execute_result"
    }
   ],
   "source": [
    "all_state_recon"
   ]
  },
  {
   "cell_type": "code",
   "execution_count": 24,
   "id": "2d26ad1a-e626-42c2-a6bc-616ef3425d11",
   "metadata": {},
   "outputs": [
    {
     "name": "stdout",
     "output_type": "stream",
     "text": [
      "All state reconstructed data has been stored in inversion_fair_adult_reconstruction.pickle\n"
     ]
    }
   ],
   "source": [
    "filename_all_state_inversion = \"inversion_fair_adult_reconstruction.pickle\"\n",
    "\n",
    "with open(filename_all_state_inversion, 'wb') as file:\n",
    "    pickle.dump(all_state_recon, file)\n",
    "\n",
    "print(f\"All state reconstructed data has been stored in {filename_all_state_inversion}\")\n"
   ]
  },
  {
   "cell_type": "code",
   "execution_count": null,
   "id": "35d553c0-0314-4195-9b33-70acd8d3caf1",
   "metadata": {},
   "outputs": [],
   "source": []
  },
  {
   "cell_type": "code",
   "execution_count": 25,
   "id": "128ff362-4871-4280-bd88-5bc7febd98e4",
   "metadata": {},
   "outputs": [
    {
     "name": "stdout",
     "output_type": "stream",
     "text": [
      "all_errors [[0.5389610389610389], [0.8095238095238094], [0.5535714285714286], [0.75]]\n"
     ]
    }
   ],
   "source": [
    "\n",
    "local_epochs = [5]\n",
    "local_batch_sizes = [8]\n",
    "epoch_prior_params = [0.01]\n",
    "final_group_reco={}\n",
    "for m,model_name in enumerate(client_models):\n",
    "    \n",
    "    temp_group_score=[]\n",
    "    all_errors =final_all_errors[m]\n",
    "    cat_errors=final_cat_errors[m]\n",
    "    cont_errors=final_cont_errors[m]\n",
    "    print(\"all_errors\",all_errors)\n",
    "    for i in range(len(all_errors)):\n",
    "        collected_data = np.zeros((len(local_epochs), len(local_batch_sizes), len(epoch_prior_params), 3, 5))\n",
    "\n",
    "        for m, lepochs in enumerate(local_epochs): \n",
    "            for j, lbatch_size in enumerate(local_batch_sizes):\n",
    "                for k, epoch_prior_param in enumerate(epoch_prior_params):\n",
    "                    \n",
    "                    collected_data[m, j, k, 0] = np.mean(all_errors[i]), np.std(all_errors[i]), np.median(all_errors[i]), np.min(all_errors[i]), np.max(all_errors[i])\n",
    "                    collected_data[m, j, k, 1] = np.mean(cat_errors[i]), np.std(cat_errors[i]), np.median(cat_errors[i]), np.min(cat_errors[i]), np.max(cat_errors[i])\n",
    "                    collected_data[m, j, k, 2] = np.mean(cont_errors[i]), np.std(cont_errors[i]), np.median(cont_errors[i]), np.min(cont_errors[i]), np.max(cont_errors[i])\n",
    "    \n",
    "                best_param_index = np.argmin(collected_data[m, j, :, 0, 0]).item()\n",
    "    \n",
    "            # print(\"best_param_index\", best_param_index)\n",
    "            # print(f'Performance at {lepochs} Epochs and {lbatch_size} Batch Size: {100*(1-collected_data[m, j, best_param_index, 0, 0]):.1f}% +- {100*collected_data[m, j, best_param_index, 0, 1]:.2f}')\n",
    "            temp_var=float(100 * (1 - collected_data[m, j, best_param_index, 0, 0]))\n",
    "            temp_group_score.append(temp_var)\n",
    "            \n",
    "        # print(temp_group_score)\n",
    "        \n",
    "    final_group_reco[model_name] = {\n",
    "        \"Male\":temp_group_score[0],\n",
    "        \"Female\":temp_group_score[1] ,\n",
    "        \"White\":temp_group_score[2] ,\n",
    "        \"Black\": temp_group_score[3]\n",
    "    }\n",
    "\n"
   ]
  },
  {
   "cell_type": "code",
   "execution_count": 28,
   "id": "80ed8dc4-142f-41de-af9c-597b8789ac32",
   "metadata": {},
   "outputs": [
    {
     "data": {
      "text/plain": [
       "{0: {'Male': 46.10389610389611,\n",
       "  'Female': 19.047619047619058,\n",
       "  'White': 44.64285714285714,\n",
       "  'Black': 25.0}}"
      ]
     },
     "execution_count": 28,
     "metadata": {},
     "output_type": "execute_result"
    }
   ],
   "source": [
    "final_group_reco"
   ]
  },
  {
   "cell_type": "code",
   "execution_count": 26,
   "id": "2c6459aa-93de-458c-a849-6683bc5a304a",
   "metadata": {},
   "outputs": [
    {
     "name": "stdout",
     "output_type": "stream",
     "text": [
      "Group reconstructed data has been stored in inversion_fair_adult_group_reconstruction.pickle\n"
     ]
    }
   ],
   "source": [
    "\n",
    "filename_all_state_inversion_group = \"inversion_fair_adult_group_reconstruction.pickle\"\n",
    "\n",
    "with open(filename_all_state_inversion_group, 'wb') as file:\n",
    "    pickle.dump(final_group_reco, file)\n",
    "\n",
    "print(f\"Group reconstructed data has been stored in {filename_all_state_inversion_group}\")"
   ]
  },
  {
   "cell_type": "code",
   "execution_count": null,
   "id": "62cc92bc-5bd0-4c25-a5ee-ba85e395690f",
   "metadata": {},
   "outputs": [],
   "source": []
  },
  {
   "cell_type": "code",
   "execution_count": null,
   "id": "2c3ff438-f611-4f61-8dfd-18f19d0d287e",
   "metadata": {},
   "outputs": [],
   "source": []
  },
  {
   "cell_type": "markdown",
   "id": "89cfe6f1-959c-4b14-b1b3-e36cd7415fc1",
   "metadata": {},
   "source": [
    "# FairDP training"
   ]
  },
  {
   "cell_type": "code",
   "execution_count": 24,
   "id": "0e161f99-9981-4509-aeea-22e9e2f39041",
   "metadata": {},
   "outputs": [
    {
     "name": "stdout",
     "output_type": "stream",
     "text": [
      "Inversion Normal attack\n",
      "----------- Model_name --------------:  0\n",
      "(16, 14) (16, 14)\n",
      "index:  8 value:  White\n",
      "(11, 14) (11, 14)\n",
      "index:  8 value:  Black\n",
      "(3, 14) (3, 14)\n",
      "index:  9 value:  Male\n",
      "(12, 14) (12, 14)\n",
      "index:  9 value:  Female\n",
      "(4, 14) (4, 14)\n",
      "----------- Model_name --------------:  1\n",
      "(16, 14) (16, 14)\n",
      "index:  8 value:  White\n",
      "(12, 14) (12, 14)\n",
      "index:  8 value:  Black\n",
      "(3, 14) (3, 14)\n",
      "index:  9 value:  Male\n",
      "(14, 14) (14, 14)\n",
      "index:  9 value:  Female\n",
      "(2, 14) (2, 14)\n"
     ]
    }
   ],
   "source": [
    "exp1 = \"tableak_FT_inversion_normal\"\n",
    "config = configs[0]\n",
    "final_grp={}\n",
    "final_subgrp={}\n",
    "\n",
    "print(\"Inversion Normal attack\")\n",
    "num_training_datapoints=2000\n",
    "\n",
    "final_all_errors = []\n",
    "final_cat_errors = []\n",
    "final_cont_errors = []\n",
    "\n",
    "final_all_errors_full = []\n",
    "final_cat_errors_full = []\n",
    "final_cont_errors_full = []\n",
    "\n",
    "\n",
    "for model_name in client_models:\n",
    "    print(\"----------- Model_name --------------: \",model_name)\n",
    "    temp_result={}\n",
    "    \n",
    "    # recn_gt = f'../../{exp1}/50_clients_data/reconstr_and_GT/reconstructions_ground_truths_{model_name}.pkl'\n",
    "    # dataset = f'../../{exp1}/50_clients_data/reconstr_and_GT/dataset_{model_name}.pkl'\n",
    "    # tolerance_map = f'../../{exp1}/50_clients_data/reconstr_and_GT/tolerance_map_{model_name}.pkl'\n",
    "\n",
    "    recn_gt = f'../clients_data/reconstr_and_GT/fairdp/reconstructions_ground_truths_{model_name}.pkl'\n",
    "    dataset = f'../clients_data/reconstr_and_GT/fairdp/dataset_{model_name}.pkl'\n",
    "    tolerance_map = f'../clients_data/reconstr_and_GT/fairdp/tolerance_map_{model_name}.pkl'\n",
    "\n",
    "    with open(recn_gt, 'rb') as file:\n",
    "        recn_gt = pickle.load(file)\n",
    "\n",
    "    with open(dataset, 'rb') as file:\n",
    "        dataset = pickle.load(file)\n",
    "    \n",
    "    with open(tolerance_map, 'rb') as file:\n",
    "        tolerance_map = pickle.load(file)\n",
    "\n",
    "    reconstructions = recn_gt['reconstructions']\n",
    "    ground_truths = recn_gt['ground_truths']\n",
    "\n",
    "    all_errors = []\n",
    "    cat_errors = []\n",
    "    cont_errors = []\n",
    "    \n",
    "    all_errors_full = []\n",
    "    cat_errors_full = []\n",
    "    cont_errors_full = []\n",
    "    \n",
    "    temp_all_errors = []\n",
    "    temp_cat_errors = []\n",
    "    temp_cont_errors = []\n",
    "    \n",
    "    match_results = {}\n",
    "    index_value_pairs = [(8, \"White\"),(8,\"Black\"), (9, \"Male\"), (9, \"Female\")]\n",
    "\n",
    "    for epoch_reconstruction, epoch_ground_truth in zip(reconstructions, ground_truths):\n",
    "        for client_reconstruction, client_ground_truth in zip(epoch_reconstruction, epoch_ground_truth):\n",
    "            if config['post_process_cont']:\n",
    "                client_reconstruction = post_process_continuous(client_reconstruction, dataset=dataset)\n",
    "            client_recon_projected, client_gt_projected = dataset.decode_batch(client_reconstruction, standardized=True), dataset.decode_batch(client_ground_truth, standardized=True)\n",
    "                    \n",
    "            print(client_gt_projected.shape, client_recon_projected.shape)\n",
    "                    \n",
    "            _, batch_cost_all_original, batch_cost_cat_original, batch_cost_cont_original = match_reconstruction_ground_truth(\n",
    "                                client_gt_projected, client_recon_projected, tolerance_map\n",
    "                                )\n",
    "            all_errors_full.append(np.mean(batch_cost_all_original))\n",
    "            cat_errors_full.append(np.mean(batch_cost_cat_original))\n",
    "            cont_errors_full.append(np.mean(batch_cost_cont_original))  \n",
    "\n",
    "            final_all_errors_full.append(all_errors_full)\n",
    "            final_cat_errors_full.append(cat_errors_full)\n",
    "            final_cont_errors_full.append(cont_errors_full) \n",
    "            \n",
    "            for index, value in index_value_pairs:\n",
    "\n",
    "                temp_all_errors = []\n",
    "                temp_cat_errors = []\n",
    "                temp_cont_errors = []\n",
    "            \n",
    "                filtered_gt, filtered_recon = group_filter(client_gt_projected, client_recon_projected, index=index, value=value)        \n",
    "                print(filtered_gt.shape, filtered_recon.shape)\n",
    "    \n",
    "                # Call match_reconstruction_ground_truth with the filtered results\n",
    "                _, batch_cost_all, batch_cost_cat, batch_cost_cont = match_reconstruction_ground_truth(filtered_gt, filtered_recon, tolerance_map)\n",
    "                \n",
    "                temp_all_errors.append(np.mean(batch_cost_all))\n",
    "                temp_cat_errors.append(np.mean(batch_cost_cat))\n",
    "                temp_cont_errors.append(np.mean(batch_cost_cont))  \n",
    "    \n",
    "                all_errors.append(temp_all_errors)\n",
    "                cat_errors.append(temp_cat_errors)\n",
    "                cont_errors.append(temp_cont_errors) \n",
    "                \n",
    "            final_all_errors.append(all_errors)\n",
    "            final_cat_errors.append(cat_errors)\n",
    "            final_cont_errors.append(cont_errors)         "
   ]
  },
  {
   "cell_type": "code",
   "execution_count": null,
   "id": "ebb6f1c1-710b-4e88-a79b-53b3f4803482",
   "metadata": {},
   "outputs": [],
   "source": []
  },
  {
   "cell_type": "code",
   "execution_count": null,
   "id": "f354a58a-b033-4954-8d21-5bc318eafe7c",
   "metadata": {},
   "outputs": [],
   "source": []
  },
  {
   "cell_type": "code",
   "execution_count": null,
   "id": "4fbafc90-a7be-48da-aeef-a4249caec495",
   "metadata": {},
   "outputs": [],
   "source": []
  },
  {
   "cell_type": "code",
   "execution_count": 25,
   "id": "93b8f24c-3f56-4807-9e8f-b73446832201",
   "metadata": {},
   "outputs": [],
   "source": [
    "local_epochs=[5]\n",
    "local_batch_sizes=[8]\n",
    "epoch_prior_params=[0.01]\n",
    "all_state_recon={}\n",
    "\n",
    "for m,model_name in enumerate(client_models):\n",
    "    collected_data = np.zeros((len(local_epochs), len(local_batch_sizes), len(epoch_prior_params), 3, 5))\n",
    "    \n",
    "    for i, lepochs in enumerate(local_epochs):\n",
    "        for j, lbatch_size in enumerate(local_batch_sizes):\n",
    "            for k, epoch_prior_param in enumerate(epoch_prior_params):\n",
    "    \n",
    "                collected_data[i, j, k, 0] = np.mean(final_all_errors_full[m]), np.std(final_all_errors_full[m]), np.median(final_all_errors_full[m]), np.min(final_all_errors_full[m]), np.max(final_all_errors_full[m])\n",
    "                collected_data[i, j, k, 1] = np.mean(final_cat_errors_full[m]), np.std(final_cat_errors_full[m]), np.median(final_cat_errors_full[m]), np.min(final_cat_errors_full[m]), np.max(final_cat_errors_full[m])\n",
    "                collected_data[i, j, k, 2] = np.mean(final_cont_errors_full[m]), np.std(final_cont_errors_full[m]), np.median(final_cont_errors_full[m]), np.min(final_cont_errors_full[m]), np.max(final_cont_errors_full[m])\n",
    "    \n",
    "            best_param_index = np.argmin(collected_data[i, j, :, 0, 0]).item()\n",
    "\n",
    "    temp_var=float(100 * (1 - collected_data[i, j, best_param_index, 0, 0]))\n",
    "    all_state_recon[model_name]=temp_var\n",
    "    # print(f'Performance at {lepochs} Epochs and {lbatch_size} Batch Size: {100*(1-collected_data[i, j, best_param_index, 0, 0]):.1f}% +- {100*collected_data[i, j, best_param_index, 0, 1]:.2f}')\n",
    "    # total_recon= 100 * (1 - collected_data[i, j, best_param_index, 0, 0])\n",
    "    # print(\"total_recon: \",total_recon)\n"
   ]
  },
  {
   "cell_type": "code",
   "execution_count": 26,
   "id": "72ea9bde-69bf-4b0f-911d-094f9ece20ad",
   "metadata": {},
   "outputs": [
    {
     "data": {
      "text/plain": [
       "{0: 40.625, 1: 41.51785714285714}"
      ]
     },
     "execution_count": 26,
     "metadata": {},
     "output_type": "execute_result"
    }
   ],
   "source": [
    "all_state_recon"
   ]
  },
  {
   "cell_type": "code",
   "execution_count": 27,
   "id": "0ef16363-a219-4ec3-a64d-d782337309a7",
   "metadata": {},
   "outputs": [
    {
     "name": "stdout",
     "output_type": "stream",
     "text": [
      "All state reconstructed data has been stored in inversion_fairdp_adult_reconstruction.pickle\n"
     ]
    }
   ],
   "source": [
    "filename_all_state_inversion = \"inversion_fairdp_adult_reconstruction.pickle\"\n",
    "\n",
    "with open(filename_all_state_inversion, 'wb') as file:\n",
    "    pickle.dump(all_state_recon, file)\n",
    "\n",
    "print(f\"All state reconstructed data has been stored in {filename_all_state_inversion}\")\n"
   ]
  },
  {
   "cell_type": "code",
   "execution_count": null,
   "id": "bdc95afd-44b4-4558-b26c-1889070a11f1",
   "metadata": {},
   "outputs": [],
   "source": []
  },
  {
   "cell_type": "code",
   "execution_count": 28,
   "id": "9380eec1-3c10-4833-a8cb-d9b21e94fa78",
   "metadata": {},
   "outputs": [
    {
     "name": "stdout",
     "output_type": "stream",
     "text": [
      "all_errors [[0.6038961038961038], [0.6904761904761906], [0.5952380952380952], [0.6607142857142857]]\n",
      "all_errors [[0.5833333333333334], [0.7142857142857143], [0.5969387755102041], [0.75]]\n"
     ]
    }
   ],
   "source": [
    "\n",
    "local_epochs = [5]\n",
    "local_batch_sizes = [8]\n",
    "epoch_prior_params = [0.01]\n",
    "final_group_reco={}\n",
    "for m,model_name in enumerate(client_models):\n",
    "    \n",
    "    temp_group_score=[]\n",
    "    all_errors =final_all_errors[m]\n",
    "    cat_errors=final_cat_errors[m]\n",
    "    cont_errors=final_cont_errors[m]\n",
    "    print(\"all_errors\",all_errors)\n",
    "    for i in range(len(all_errors)):\n",
    "        collected_data = np.zeros((len(local_epochs), len(local_batch_sizes), len(epoch_prior_params), 3, 5))\n",
    "\n",
    "        for m, lepochs in enumerate(local_epochs): \n",
    "            for j, lbatch_size in enumerate(local_batch_sizes):\n",
    "                for k, epoch_prior_param in enumerate(epoch_prior_params):\n",
    "                    \n",
    "                    collected_data[m, j, k, 0] = np.mean(all_errors[i]), np.std(all_errors[i]), np.median(all_errors[i]), np.min(all_errors[i]), np.max(all_errors[i])\n",
    "                    collected_data[m, j, k, 1] = np.mean(cat_errors[i]), np.std(cat_errors[i]), np.median(cat_errors[i]), np.min(cat_errors[i]), np.max(cat_errors[i])\n",
    "                    collected_data[m, j, k, 2] = np.mean(cont_errors[i]), np.std(cont_errors[i]), np.median(cont_errors[i]), np.min(cont_errors[i]), np.max(cont_errors[i])\n",
    "    \n",
    "                best_param_index = np.argmin(collected_data[m, j, :, 0, 0]).item()\n",
    "    \n",
    "            # print(\"best_param_index\", best_param_index)\n",
    "            # print(f'Performance at {lepochs} Epochs and {lbatch_size} Batch Size: {100*(1-collected_data[m, j, best_param_index, 0, 0]):.1f}% +- {100*collected_data[m, j, best_param_index, 0, 1]:.2f}')\n",
    "            temp_var=float(100 * (1 - collected_data[m, j, best_param_index, 0, 0]))\n",
    "            temp_group_score.append(temp_var)\n",
    "            \n",
    "        # print(temp_group_score)\n",
    "        \n",
    "    final_group_reco[model_name] = {\n",
    "        \"Male\":temp_group_score[0],\n",
    "        \"Female\":temp_group_score[1] ,\n",
    "        \"White\":temp_group_score[2] ,\n",
    "        \"Black\": temp_group_score[3]\n",
    "    }\n",
    "\n"
   ]
  },
  {
   "cell_type": "code",
   "execution_count": null,
   "id": "bd65ad59-578e-4c99-b74b-ede4e78d5f65",
   "metadata": {},
   "outputs": [],
   "source": []
  },
  {
   "cell_type": "code",
   "execution_count": null,
   "id": "f17e95bc-dca6-470e-8b23-afab1c1b7e00",
   "metadata": {},
   "outputs": [],
   "source": []
  },
  {
   "cell_type": "code",
   "execution_count": 29,
   "id": "a67d7909-41d7-48f5-832f-6f98b895322d",
   "metadata": {},
   "outputs": [
    {
     "name": "stdout",
     "output_type": "stream",
     "text": [
      "Group reconstructed data has been stored in inversion_fairdp_adult_group_reconstruction.pickle\n"
     ]
    }
   ],
   "source": [
    "\n",
    "filename_all_state_inversion_group = \"inversion_fairdp_adult_group_reconstruction.pickle\"\n",
    "\n",
    "with open(filename_all_state_inversion_group, 'wb') as file:\n",
    "    pickle.dump(final_group_reco, file)\n",
    "\n",
    "print(f\"Group reconstructed data has been stored in {filename_all_state_inversion_group}\")"
   ]
  },
  {
   "cell_type": "code",
   "execution_count": null,
   "id": "4ba313f9-6b5f-46f6-9430-dc5aefe30311",
   "metadata": {},
   "outputs": [],
   "source": []
  },
  {
   "cell_type": "code",
   "execution_count": null,
   "id": "a7832c9f-e8c7-46f9-9938-6c253f7dff74",
   "metadata": {},
   "outputs": [],
   "source": []
  },
  {
   "cell_type": "code",
   "execution_count": 30,
   "id": "671a9531-e185-4b90-bbd6-bd99352d202c",
   "metadata": {},
   "outputs": [],
   "source": [
    "inversion_normal_group = \"inversion_normal_adult_group_reconstruction.pickle\"\n",
    "inversion_dp_group = \"inversion_dp_adult_group_reconstruction.pickle\"\n",
    "inversion_fair_group = \"inversion_fair_adult_group_reconstruction.pickle\"\n",
    "inversion_fairdp_group = \"inversion_fairdp_adult_group_reconstruction.pickle\"\n",
    "\n"
   ]
  },
  {
   "cell_type": "code",
   "execution_count": 31,
   "id": "3f67ad75-7068-4510-bff6-abab82fb4451",
   "metadata": {},
   "outputs": [],
   "source": [
    "\n",
    "\n",
    "\n",
    "with open(inversion_normal_group, 'rb') as file:\n",
    "    inversion_normal_group_reconstruction = pickle.load(file)\n",
    "\n",
    "\n",
    "with open(inversion_dp_group, 'rb') as file:\n",
    "    inversion_dp_group_reconstruction = pickle.load(file)\n",
    "\n",
    " \n",
    "with open(inversion_fair_group, 'rb') as file:\n",
    "    inversion_fair_group_reconstruction = pickle.load(file)\n",
    "\n",
    "\n",
    "   \n",
    "with open(inversion_fairdp_group, 'rb') as file:\n",
    "    inversion_fairdp_group_reconstruction = pickle.load(file)\n",
    "\n",
    "\n"
   ]
  },
  {
   "cell_type": "code",
   "execution_count": 32,
   "id": "d3a625aa-b7e1-4aa3-8f26-f6deb2c2952a",
   "metadata": {},
   "outputs": [],
   "source": [
    "df_inversion_normal_group_reconstruction = pd.DataFrame(inversion_normal_group_reconstruction).T\n",
    "df_inversion_normal_group_reconstruction.index.name = 'State'\n",
    "df_inversion_normal_group_reconstruction.reset_index(inplace=True)\n",
    "\n",
    "df_inversion_dp_group_reconstruction = pd.DataFrame(inversion_dp_group_reconstruction).T\n",
    "df_inversion_dp_group_reconstruction.index.name = 'State'\n",
    "df_inversion_dp_group_reconstruction.reset_index(inplace=True)\n",
    "\n",
    "df_inversion_fair_group_reconstruction = pd.DataFrame(inversion_fair_group_reconstruction).T\n",
    "df_inversion_fair_group_reconstruction.index.name = 'State'\n",
    "df_inversion_fair_group_reconstruction.reset_index(inplace=True)\n",
    "\n",
    "\n",
    "df_inversion_fairdp_group_reconstruction = pd.DataFrame(inversion_fairdp_group_reconstruction).T\n",
    "df_inversion_fairdp_group_reconstruction.index.name = 'State'\n",
    "df_inversion_fairdp_group_reconstruction.reset_index(inplace=True)\n",
    "\n",
    "\n"
   ]
  },
  {
   "cell_type": "code",
   "execution_count": 33,
   "id": "1bed1e24-aa7c-4ceb-8c7c-5cf681937caf",
   "metadata": {},
   "outputs": [
    {
     "data": {
      "text/html": [
       "<div>\n",
       "<style scoped>\n",
       "    .dataframe tbody tr th:only-of-type {\n",
       "        vertical-align: middle;\n",
       "    }\n",
       "\n",
       "    .dataframe tbody tr th {\n",
       "        vertical-align: top;\n",
       "    }\n",
       "\n",
       "    .dataframe thead th {\n",
       "        text-align: right;\n",
       "    }\n",
       "</style>\n",
       "<table border=\"1\" class=\"dataframe\">\n",
       "  <thead>\n",
       "    <tr style=\"text-align: right;\">\n",
       "      <th></th>\n",
       "      <th>State</th>\n",
       "      <th>Male</th>\n",
       "      <th>Female</th>\n",
       "      <th>White</th>\n",
       "      <th>Black</th>\n",
       "    </tr>\n",
       "  </thead>\n",
       "  <tbody>\n",
       "    <tr>\n",
       "      <th>0</th>\n",
       "      <td>0</td>\n",
       "      <td>46.753247</td>\n",
       "      <td>23.809524</td>\n",
       "      <td>45.238095</td>\n",
       "      <td>30.357143</td>\n",
       "    </tr>\n",
       "    <tr>\n",
       "      <th>1</th>\n",
       "      <td>1</td>\n",
       "      <td>47.619048</td>\n",
       "      <td>42.857143</td>\n",
       "      <td>51.020408</td>\n",
       "      <td>17.857143</td>\n",
       "    </tr>\n",
       "  </tbody>\n",
       "</table>\n",
       "</div>"
      ],
      "text/plain": [
       "   State       Male     Female      White      Black\n",
       "0      0  46.753247  23.809524  45.238095  30.357143\n",
       "1      1  47.619048  42.857143  51.020408  17.857143"
      ]
     },
     "execution_count": 33,
     "metadata": {},
     "output_type": "execute_result"
    }
   ],
   "source": [
    "df_inversion_normal_group_reconstruction.head()"
   ]
  },
  {
   "cell_type": "code",
   "execution_count": 34,
   "id": "f6f80f89-39ac-4bf3-8d8e-3630b52a9ff8",
   "metadata": {},
   "outputs": [
    {
     "data": {
      "image/png": "[encoded data removed]",
      "text/plain": [
       "<Figure size 1000x600 with 1 Axes>"
      ]
     },
     "metadata": {},
     "output_type": "display_data"
    }
   ],
   "source": [
    "plt.figure(figsize=(10, 6))\n",
    "df_inversion_normal_group_reconstruction[['Male', 'Female', 'White', 'Black']].boxplot()\n",
    "plt.title(\"Normal traning- Group Reconstruction\")\n",
    "plt.ylabel(\"Reconstruction (%)\")\n",
    "plt.xlabel(\"Groups\")\n",
    "plt.grid(False)\n",
    "plt.show()"
   ]
  },
  {
   "cell_type": "code",
   "execution_count": null,
   "id": "7449cd8a-9025-4f75-907b-4f260be9a444",
   "metadata": {},
   "outputs": [],
   "source": []
  },
  {
   "cell_type": "code",
   "execution_count": 35,
   "id": "35a46cec-8bb5-4669-8f86-9cb3b64da7fd",
   "metadata": {},
   "outputs": [
    {
     "data": {
      "image/png": "[encoded data removed]",
      "text/plain": [
       "<Figure size 1000x600 with 1 Axes>"
      ]
     },
     "metadata": {},
     "output_type": "display_data"
    }
   ],
   "source": [
    "\n",
    "plt.figure(figsize=(10, 6))\n",
    "df_inversion_dp_group_reconstruction[['Male', 'Female', 'White', 'Black']].boxplot()\n",
    "plt.title(\"DP traning- Group Reconstruction\")\n",
    "plt.ylabel(\"Reconstruction (%)\")\n",
    "plt.xlabel(\"Groups\")\n",
    "plt.grid(False)\n",
    "plt.show()"
   ]
  },
  {
   "cell_type": "code",
   "execution_count": null,
   "id": "0cf89208-fc1f-4ead-9f43-6981e5b11663",
   "metadata": {},
   "outputs": [],
   "source": []
  },
  {
   "cell_type": "code",
   "execution_count": 36,
   "id": "718c1743-bea1-43d8-b820-46b52c6d4fb2",
   "metadata": {},
   "outputs": [
    {
     "data": {
      "image/png": "[encoded data removed]",
      "text/plain": [
       "<Figure size 1000x600 with 1 Axes>"
      ]
     },
     "metadata": {},
     "output_type": "display_data"
    }
   ],
   "source": [
    "\n",
    "plt.figure(figsize=(10, 6))\n",
    "df_inversion_fair_group_reconstruction[['Male', 'Female', 'White', 'Black']].boxplot()\n",
    "plt.title(\"Fair traning- Group Reconstruction\")\n",
    "plt.ylabel(\"Reconstruction (%)\")\n",
    "plt.xlabel(\"Groups\")\n",
    "plt.grid(False)\n",
    "plt.show()"
   ]
  },
  {
   "cell_type": "code",
   "execution_count": null,
   "id": "88845d0e-0c14-4c0d-b11f-28d47abeafe5",
   "metadata": {},
   "outputs": [],
   "source": []
  },
  {
   "cell_type": "code",
   "execution_count": 37,
   "id": "4dfc9088-c4aa-4d1a-ad53-ce8fc7b3ee10",
   "metadata": {},
   "outputs": [
    {
     "data": {
      "image/png": "[encoded data removed]",
      "text/plain": [
       "<Figure size 1000x600 with 1 Axes>"
      ]
     },
     "metadata": {},
     "output_type": "display_data"
    }
   ],
   "source": [
    "\n",
    "plt.figure(figsize=(10, 6))\n",
    "df_inversion_fairdp_group_reconstruction[['Male', 'Female', 'White', 'Black']].boxplot()\n",
    "plt.title(\"FairDp training- Group Reconstruction\")\n",
    "plt.ylabel(\"Reconstruction (%)\")\n",
    "plt.xlabel(\"Groups\")\n",
    "plt.grid(False)\n",
    "plt.show()"
   ]
  },
  {
   "cell_type": "code",
   "execution_count": null,
   "id": "ec8bd93f-0da8-450b-82be-d28dd2fdc812",
   "metadata": {},
   "outputs": [],
   "source": []
  }
 ],
 "metadata": {
  "kernelspec": {
   "display_name": "python3.8",
   "language": "python",
   "name": "python3.8"
  },
  "language_info": {
   "codemirror_mode": {
    "name": "ipython",
    "version": 3
   },
   "file_extension": ".py",
   "mimetype": "text/x-python",
   "name": "python",
   "nbconvert_exporter": "python",
   "pygments_lexer": "ipython3",
   "version": "3.8.10"
  }
 },
 "nbformat": 4,
 "nbformat_minor": 5
}
